{
 "cells": [
  {
   "cell_type": "markdown",
   "metadata": {},
   "source": [
    "# Day 10"
   ]
  },
  {
   "cell_type": "markdown",
   "metadata": {},
   "source": [
    "## GENERIC SETUP"
   ]
  },
  {
   "cell_type": "code",
   "execution_count": 19,
   "metadata": {},
   "outputs": [
    {
     "name": "stdout",
     "output_type": "stream",
     "text": [
      "The nb_black extension is already loaded. To reload it, use:\n",
      "  %reload_ext nb_black\n"
     ]
    },
    {
     "data": {
      "application/javascript": [
       "\n",
       "            setTimeout(function() {\n",
       "                var nbb_cell_id = 19;\n",
       "                var nbb_unformatted_code = \"# General imports\\nimport pytest\\nimport ipytest\\nimport time\\nimport functools\\n\\n# Setup ipytest\\nipytest.autoconfig()\\n\\n# Setup nb_black\\n%load_ext nb_black\\n\\n# Decorator to time solutions\\ndef timer(func):\\n    \\\"\\\"\\\"\\n    Wrapper function.\\n    Print the runtime of the decorated function.\\n    \\\"\\\"\\\"\\n\\n    @functools.wraps(func)\\n    def wrapper_timer(*args, **kwargs):\\n        start_time = time.perf_counter()  # 1\\n        value = func(*args, **kwargs)\\n        end_time = time.perf_counter()  # 2\\n        run_time = end_time - start_time  # 3\\n        print(f\\\"Finished {func.__name__!r} in {run_time:.4f} secs\\\")\\n        return value\\n\\n    return wrapper_timer\";\n",
       "                var nbb_formatted_code = \"# General imports\\nimport pytest\\nimport ipytest\\nimport time\\nimport functools\\n\\n# Setup ipytest\\nipytest.autoconfig()\\n\\n# Setup nb_black\\n%load_ext nb_black\\n\\n# Decorator to time solutions\\ndef timer(func):\\n    \\\"\\\"\\\"\\n    Wrapper function.\\n    Print the runtime of the decorated function.\\n    \\\"\\\"\\\"\\n\\n    @functools.wraps(func)\\n    def wrapper_timer(*args, **kwargs):\\n        start_time = time.perf_counter()  # 1\\n        value = func(*args, **kwargs)\\n        end_time = time.perf_counter()  # 2\\n        run_time = end_time - start_time  # 3\\n        print(f\\\"Finished {func.__name__!r} in {run_time:.4f} secs\\\")\\n        return value\\n\\n    return wrapper_timer\";\n",
       "                var nbb_cells = Jupyter.notebook.get_cells();\n",
       "                for (var i = 0; i < nbb_cells.length; ++i) {\n",
       "                    if (nbb_cells[i].input_prompt_number == nbb_cell_id) {\n",
       "                        if (nbb_cells[i].get_text() == nbb_unformatted_code) {\n",
       "                             nbb_cells[i].set_text(nbb_formatted_code);\n",
       "                        }\n",
       "                        break;\n",
       "                    }\n",
       "                }\n",
       "            }, 500);\n",
       "            "
      ],
      "text/plain": [
       "<IPython.core.display.Javascript object>"
      ]
     },
     "metadata": {},
     "output_type": "display_data"
    }
   ],
   "source": [
    "# General imports\n",
    "import pytest\n",
    "import ipytest\n",
    "import time\n",
    "import functools\n",
    "\n",
    "# Setup ipytest\n",
    "ipytest.autoconfig()\n",
    "\n",
    "# Setup nb_black\n",
    "%load_ext nb_black\n",
    "\n",
    "# Decorator to time solutions\n",
    "def timer(func):\n",
    "    \"\"\"\n",
    "    Wrapper function.\n",
    "    Print the runtime of the decorated function.\n",
    "    \"\"\"\n",
    "\n",
    "    @functools.wraps(func)\n",
    "    def wrapper_timer(*args, **kwargs):\n",
    "        start_time = time.perf_counter()  # 1\n",
    "        value = func(*args, **kwargs)\n",
    "        end_time = time.perf_counter()  # 2\n",
    "        run_time = end_time - start_time  # 3\n",
    "        print(f\"Finished {func.__name__!r} in {run_time:.4f} secs\")\n",
    "        return value\n",
    "\n",
    "    return wrapper_timer"
   ]
  },
  {
   "cell_type": "markdown",
   "metadata": {},
   "source": [
    "## SOLUTION SETUP"
   ]
  },
  {
   "cell_type": "code",
   "execution_count": 37,
   "metadata": {},
   "outputs": [
    {
     "data": {
      "application/javascript": [
       "\n",
       "            setTimeout(function() {\n",
       "                var nbb_cell_id = 37;\n",
       "                var nbb_unformatted_code = \"# Solution-specific imports\\nfrom collections import Counter\\nfrom functools import reduce\\nimport operator\";\n",
       "                var nbb_formatted_code = \"# Solution-specific imports\\nfrom collections import Counter\\nfrom functools import reduce\\nimport operator\";\n",
       "                var nbb_cells = Jupyter.notebook.get_cells();\n",
       "                for (var i = 0; i < nbb_cells.length; ++i) {\n",
       "                    if (nbb_cells[i].input_prompt_number == nbb_cell_id) {\n",
       "                        if (nbb_cells[i].get_text() == nbb_unformatted_code) {\n",
       "                             nbb_cells[i].set_text(nbb_formatted_code);\n",
       "                        }\n",
       "                        break;\n",
       "                    }\n",
       "                }\n",
       "            }, 500);\n",
       "            "
      ],
      "text/plain": [
       "<IPython.core.display.Javascript object>"
      ]
     },
     "metadata": {},
     "output_type": "display_data"
    }
   ],
   "source": [
    "# Solution-specific imports\n",
    "from collections import Counter\n",
    "from functools import reduce\n",
    "import operator"
   ]
  },
  {
   "cell_type": "markdown",
   "metadata": {},
   "source": [
    "#### I/O functions"
   ]
  },
  {
   "cell_type": "code",
   "execution_count": 38,
   "metadata": {},
   "outputs": [
    {
     "data": {
      "application/javascript": [
       "\n",
       "            setTimeout(function() {\n",
       "                var nbb_cell_id = 38;\n",
       "                var nbb_unformatted_code = \"# What day do we solve? Used to identify the input datafile, integer value\\nDAY = 10\\n\\n\\ndef get_input():\\n    with open(f\\\"../data/{DAY}.txt\\\", \\\"r\\\") as f:\\n        return split_input(f.read())\\n\\n\\ndef split_input(input_raw):\\n    \\\"\\\"\\\"Strip trailing newline, then split on newline, cast to int\\\"\\\"\\\"\\n    return [int(line.strip()) for line in input_raw.rstrip().split(\\\"\\\\n\\\")]\";\n",
       "                var nbb_formatted_code = \"# What day do we solve? Used to identify the input datafile, integer value\\nDAY = 10\\n\\n\\ndef get_input():\\n    with open(f\\\"../data/{DAY}.txt\\\", \\\"r\\\") as f:\\n        return split_input(f.read())\\n\\n\\ndef split_input(input_raw):\\n    \\\"\\\"\\\"Strip trailing newline, then split on newline, cast to int\\\"\\\"\\\"\\n    return [int(line.strip()) for line in input_raw.rstrip().split(\\\"\\\\n\\\")]\";\n",
       "                var nbb_cells = Jupyter.notebook.get_cells();\n",
       "                for (var i = 0; i < nbb_cells.length; ++i) {\n",
       "                    if (nbb_cells[i].input_prompt_number == nbb_cell_id) {\n",
       "                        if (nbb_cells[i].get_text() == nbb_unformatted_code) {\n",
       "                             nbb_cells[i].set_text(nbb_formatted_code);\n",
       "                        }\n",
       "                        break;\n",
       "                    }\n",
       "                }\n",
       "            }, 500);\n",
       "            "
      ],
      "text/plain": [
       "<IPython.core.display.Javascript object>"
      ]
     },
     "metadata": {},
     "output_type": "display_data"
    }
   ],
   "source": [
    "# What day do we solve? Used to identify the input datafile, integer value\n",
    "DAY = 10\n",
    "\n",
    "\n",
    "def get_input():\n",
    "    with open(f\"../data/{DAY}.txt\", \"r\") as f:\n",
    "        return split_input(f.read())\n",
    "\n",
    "\n",
    "def split_input(input_raw):\n",
    "    \"\"\"Strip trailing newline, then split on newline, cast to int\"\"\"\n",
    "    return [int(line.strip()) for line in input_raw.rstrip().split(\"\\n\")]"
   ]
  },
  {
   "cell_type": "markdown",
   "metadata": {},
   "source": [
    "#### Pytest input data"
   ]
  },
  {
   "cell_type": "code",
   "execution_count": 39,
   "metadata": {},
   "outputs": [
    {
     "data": {
      "application/javascript": [
       "\n",
       "            setTimeout(function() {\n",
       "                var nbb_cell_id = 39;\n",
       "                var nbb_unformatted_code = \"# Sample input\\n@pytest.fixture\\ndef dummy_input_1():\\n    return \\\"\\\"\\\"\\\\\\n16\\n10\\n15\\n5\\n1\\n11\\n7\\n19\\n6\\n12\\n4\\n\\\"\\\"\\\"\\n\\n\\n@pytest.fixture\\ndef dummy_input_2():\\n    return \\\"\\\"\\\"\\\\\\n28\\n33\\n18\\n42\\n31\\n14\\n46\\n20\\n48\\n47\\n24\\n23\\n49\\n45\\n19\\n38\\n39\\n11\\n1\\n32\\n25\\n35\\n8\\n17\\n7\\n9\\n4\\n2\\n34\\n10\\n3\\n\\\"\\\"\\\"\";\n",
       "                var nbb_formatted_code = \"# Sample input\\n@pytest.fixture\\ndef dummy_input_1():\\n    return \\\"\\\"\\\"\\\\\\n16\\n10\\n15\\n5\\n1\\n11\\n7\\n19\\n6\\n12\\n4\\n\\\"\\\"\\\"\\n\\n\\n@pytest.fixture\\ndef dummy_input_2():\\n    return \\\"\\\"\\\"\\\\\\n28\\n33\\n18\\n42\\n31\\n14\\n46\\n20\\n48\\n47\\n24\\n23\\n49\\n45\\n19\\n38\\n39\\n11\\n1\\n32\\n25\\n35\\n8\\n17\\n7\\n9\\n4\\n2\\n34\\n10\\n3\\n\\\"\\\"\\\"\";\n",
       "                var nbb_cells = Jupyter.notebook.get_cells();\n",
       "                for (var i = 0; i < nbb_cells.length; ++i) {\n",
       "                    if (nbb_cells[i].input_prompt_number == nbb_cell_id) {\n",
       "                        if (nbb_cells[i].get_text() == nbb_unformatted_code) {\n",
       "                             nbb_cells[i].set_text(nbb_formatted_code);\n",
       "                        }\n",
       "                        break;\n",
       "                    }\n",
       "                }\n",
       "            }, 500);\n",
       "            "
      ],
      "text/plain": [
       "<IPython.core.display.Javascript object>"
      ]
     },
     "metadata": {},
     "output_type": "display_data"
    }
   ],
   "source": [
    "# Sample input\n",
    "@pytest.fixture\n",
    "def dummy_input_1():\n",
    "    return \"\"\"\\\n",
    "16\n",
    "10\n",
    "15\n",
    "5\n",
    "1\n",
    "11\n",
    "7\n",
    "19\n",
    "6\n",
    "12\n",
    "4\n",
    "\"\"\"\n",
    "\n",
    "\n",
    "@pytest.fixture\n",
    "def dummy_input_2():\n",
    "    return \"\"\"\\\n",
    "28\n",
    "33\n",
    "18\n",
    "42\n",
    "31\n",
    "14\n",
    "46\n",
    "20\n",
    "48\n",
    "47\n",
    "24\n",
    "23\n",
    "49\n",
    "45\n",
    "19\n",
    "38\n",
    "39\n",
    "11\n",
    "1\n",
    "32\n",
    "25\n",
    "35\n",
    "8\n",
    "17\n",
    "7\n",
    "9\n",
    "4\n",
    "2\n",
    "34\n",
    "10\n",
    "3\n",
    "\"\"\""
   ]
  },
  {
   "cell_type": "markdown",
   "metadata": {},
   "source": [
    "## Solution A"
   ]
  },
  {
   "cell_type": "code",
   "execution_count": 47,
   "metadata": {
    "scrolled": true
   },
   "outputs": [
    {
     "data": {
      "application/javascript": [
       "\n",
       "            setTimeout(function() {\n",
       "                var nbb_cell_id = 47;\n",
       "                var nbb_unformatted_code = \"@timer\\ndef solve_A(jolts):\\n    \\\"\\\"\\\"\\n    IMPLEMENT ME\\n    \\\"\\\"\\\"\\n    # Sort input\\n    jolts.sort()\\n\\n    # prepend 0 and append max(input)+3 to sorted input\\n    jolts_full = [0] + jolts + [max(jolts) + 3]\\n\\n    # Calculate the offsets between entries\\n    differences = [\\n        jolts_full[ix + 1] - jolts_full[ix] for ix, jolt in enumerate(jolts_full[:-1])\\n    ]\\n\\n    # Count the occurrences of each offset 1, 2, or 3\\n    diff_count = Counter(differences)\\n\\n    # Multiply the counts\\n    result = reduce(operator.mul, diff_count.values())\\n\\n    # Return result\\n    return result\";\n",
       "                var nbb_formatted_code = \"@timer\\ndef solve_A(jolts):\\n    \\\"\\\"\\\"\\n    IMPLEMENT ME\\n    \\\"\\\"\\\"\\n    # Sort input\\n    jolts.sort()\\n\\n    # prepend 0 and append max(input)+3 to sorted input\\n    jolts_full = [0] + jolts + [max(jolts) + 3]\\n\\n    # Calculate the offsets between entries\\n    differences = [\\n        jolts_full[ix + 1] - jolts_full[ix] for ix, jolt in enumerate(jolts_full[:-1])\\n    ]\\n\\n    # Count the occurrences of each offset 1, 2, or 3\\n    diff_count = Counter(differences)\\n\\n    # Multiply the counts\\n    result = reduce(operator.mul, diff_count.values())\\n\\n    # Return result\\n    return result\";\n",
       "                var nbb_cells = Jupyter.notebook.get_cells();\n",
       "                for (var i = 0; i < nbb_cells.length; ++i) {\n",
       "                    if (nbb_cells[i].input_prompt_number == nbb_cell_id) {\n",
       "                        if (nbb_cells[i].get_text() == nbb_unformatted_code) {\n",
       "                             nbb_cells[i].set_text(nbb_formatted_code);\n",
       "                        }\n",
       "                        break;\n",
       "                    }\n",
       "                }\n",
       "            }, 500);\n",
       "            "
      ],
      "text/plain": [
       "<IPython.core.display.Javascript object>"
      ]
     },
     "metadata": {},
     "output_type": "display_data"
    }
   ],
   "source": [
    "@timer\n",
    "def solve_A(jolts):\n",
    "    \"\"\"\n",
    "    1. Sort input\n",
    "    2. Prepend 0 and append max+3\n",
    "    3. Compute the differences from element i to element i+1\n",
    "    4. Multiply how often each difference (1,2,3) occurs\n",
    "    5. Return that product as result for A\n",
    "    \"\"\"\n",
    "    # Sort input\n",
    "    jolts.sort()\n",
    "\n",
    "    # prepend 0 and append max(input)+3 to sorted input\n",
    "    jolts_full = [0] + jolts + [max(jolts) + 3]\n",
    "\n",
    "    # Calculate the differences between entries\n",
    "    differences = [\n",
    "        jolts_full[ix + 1] - jolts_full[ix] for ix, jolt in enumerate(jolts_full[:-1])\n",
    "    ]\n",
    "\n",
    "    # Count the occurrences of each offset 1, 2, or 3\n",
    "    diff_count = Counter(differences)\n",
    "\n",
    "    # Multiply the counts\n",
    "    result = reduce(operator.mul, diff_count.values())\n",
    "\n",
    "    # Return result\n",
    "    return result"
   ]
  },
  {
   "cell_type": "markdown",
   "metadata": {},
   "source": [
    "#### Tests"
   ]
  },
  {
   "cell_type": "code",
   "execution_count": 48,
   "metadata": {},
   "outputs": [
    {
     "data": {
      "application/javascript": [
       "\n",
       "            setTimeout(function() {\n",
       "                var nbb_cell_id = 48;\n",
       "                var nbb_unformatted_code = \"%%run_pytest[clean] -qq\\n\\ndef test_A_1(dummy_input_1):\\n    assert solve_A(split_input(dummy_input_1)) == 35\\n    \\ndef test_A_2(dummy_input_2):\\n    assert solve_A(split_input(dummy_input_2)) == 220\";\n",
       "                var nbb_formatted_code = \"%%run_pytest[clean] -qq\\n\\ndef test_A_1(dummy_input_1):\\n    assert solve_A(split_input(dummy_input_1)) == 35\\n    \\ndef test_A_2(dummy_input_2):\\n    assert solve_A(split_input(dummy_input_2)) == 220\";\n",
       "                var nbb_cells = Jupyter.notebook.get_cells();\n",
       "                for (var i = 0; i < nbb_cells.length; ++i) {\n",
       "                    if (nbb_cells[i].input_prompt_number == nbb_cell_id) {\n",
       "                        if (nbb_cells[i].get_text() == nbb_unformatted_code) {\n",
       "                             nbb_cells[i].set_text(nbb_formatted_code);\n",
       "                        }\n",
       "                        break;\n",
       "                    }\n",
       "                }\n",
       "            }, 500);\n",
       "            "
      ],
      "text/plain": [
       "<IPython.core.display.Javascript object>"
      ]
     },
     "metadata": {},
     "output_type": "display_data"
    },
    {
     "name": "stdout",
     "output_type": "stream",
     "text": [
      "..                                                                                                                                                                                                                                     [100%]\n"
     ]
    },
    {
     "data": {
      "application/javascript": [
       "\n",
       "            setTimeout(function() {\n",
       "                var nbb_cell_id = 48;\n",
       "                var nbb_unformatted_code = \"%%run_pytest[clean] -qq\\n\\ndef test_A_1(dummy_input_1):\\n    assert solve_A(split_input(dummy_input_1)) == 35\\n    \\ndef test_A_2(dummy_input_2):\\n    assert solve_A(split_input(dummy_input_2)) == 220\";\n",
       "                var nbb_formatted_code = \"%%run_pytest[clean] -qq\\n\\ndef test_A_1(dummy_input_1):\\n    assert solve_A(split_input(dummy_input_1)) == 35\\n    \\ndef test_A_2(dummy_input_2):\\n    assert solve_A(split_input(dummy_input_2)) == 220\";\n",
       "                var nbb_cells = Jupyter.notebook.get_cells();\n",
       "                for (var i = 0; i < nbb_cells.length; ++i) {\n",
       "                    if (nbb_cells[i].input_prompt_number == nbb_cell_id) {\n",
       "                        if (nbb_cells[i].get_text() == nbb_unformatted_code) {\n",
       "                             nbb_cells[i].set_text(nbb_formatted_code);\n",
       "                        }\n",
       "                        break;\n",
       "                    }\n",
       "                }\n",
       "            }, 500);\n",
       "            "
      ],
      "text/plain": [
       "<IPython.core.display.Javascript object>"
      ]
     },
     "metadata": {},
     "output_type": "display_data"
    }
   ],
   "source": [
    "%%run_pytest[clean] -qq\n",
    "\n",
    "def test_A_1(dummy_input_1):\n",
    "    assert solve_A(split_input(dummy_input_1)) == 35\n",
    "    \n",
    "def test_A_2(dummy_input_2):\n",
    "    assert solve_A(split_input(dummy_input_2)) == 220"
   ]
  },
  {
   "cell_type": "markdown",
   "metadata": {},
   "source": [
    "#### OUTPUT"
   ]
  },
  {
   "cell_type": "code",
   "execution_count": 49,
   "metadata": {},
   "outputs": [
    {
     "name": "stdout",
     "output_type": "stream",
     "text": [
      "Finished 'solve_A' in 0.0001 secs\n"
     ]
    },
    {
     "data": {
      "text/plain": [
       "1980"
      ]
     },
     "execution_count": 49,
     "metadata": {},
     "output_type": "execute_result"
    },
    {
     "data": {
      "application/javascript": [
       "\n",
       "            setTimeout(function() {\n",
       "                var nbb_cell_id = 49;\n",
       "                var nbb_unformatted_code = \"solve_A(get_input())\";\n",
       "                var nbb_formatted_code = \"solve_A(get_input())\";\n",
       "                var nbb_cells = Jupyter.notebook.get_cells();\n",
       "                for (var i = 0; i < nbb_cells.length; ++i) {\n",
       "                    if (nbb_cells[i].input_prompt_number == nbb_cell_id) {\n",
       "                        if (nbb_cells[i].get_text() == nbb_unformatted_code) {\n",
       "                             nbb_cells[i].set_text(nbb_formatted_code);\n",
       "                        }\n",
       "                        break;\n",
       "                    }\n",
       "                }\n",
       "            }, 500);\n",
       "            "
      ],
      "text/plain": [
       "<IPython.core.display.Javascript object>"
      ]
     },
     "metadata": {},
     "output_type": "display_data"
    }
   ],
   "source": [
    "solve_A(get_input())"
   ]
  },
  {
   "cell_type": "markdown",
   "metadata": {},
   "source": [
    "## Solution B"
   ]
  },
  {
   "cell_type": "code",
   "execution_count": 86,
   "metadata": {},
   "outputs": [
    {
     "data": {
      "application/javascript": [
       "\n",
       "            setTimeout(function() {\n",
       "                var nbb_cell_id = 86;\n",
       "                var nbb_unformatted_code = \"def calculate_options(sublist):\\n    \\\"\\\"\\\"\\n    Count the valid configurations for the input list.\\n    \\n    Input: list of numbers.\\n    Output: Integer, number of valid configurations of list.\\n    \\\"\\\"\\\"\\n    # If list is length <= 2, only one valid configuration possible\\n    # Because the last element is ALWAYS included and possible\\n    # (because it's necessary for the 3-offset jump in jolts)\\n    if len(sublist) <= 2:\\n        return 1\\n\\n    # If length of list >= 3, for the next *3* numbers (and only if they're valid),\\n    # count the number of valid configurations, and sum the results.\\n    # Return that sum as the number of valid configurations for the sublist\\n    return sum(\\n        [\\n            calculate_options(sublist[ix + 1 :])\\n            for ix, val in enumerate(sublist[1:4])\\n            if (val - sublist[0]) <= 3\\n        ]\\n    )\\n\\n@timer\\ndef solve_B(jolts):\\n    \\\"\\\"\\\"\\n    1. Sort input\\n    2. Prepend 0 and append max+3\\n    3. Compute the differences from element i to element i+1\\n    4. Generate sublists at each difference == 3 index\\n    5. Count the number of valid configurations for each sublist\\n    6. Multiply these possible configurations for each sublist with eachother\\n       to get the possible configurations for the sublists concatenated (= full list)\\n    7. Return the output of that product as result for B\\n    \\n    Input: List of numbers.\\n    Output: Integer.\\n    \\\"\\\"\\\"\\n    # Sort input\\n    jolts.sort()\\n\\n    # prepend 0 and append max(input)+3 to sorted input\\n    jolts_full = [0] + jolts + [max(jolts) + 3]\\n\\n    # Calculate the offsets between entries\\n    differences = [\\n        jolts_full[ix + 1] - jolts_full[ix] for ix, jolt in enumerate(jolts_full[:-1])\\n    ]\\n    \\n    # Initialisation of result calculation\\n    ix_low = 0\\n    result = 1\\n    \\n    # Create sublists (= subproblems) based on offset==3 splits\\n    for ix, val in enumerate(differences):\\n        if val == 3:\\n            result = result * calculate_options(jolts_full[ix_low: ix+1])\\n            ix_low = ix+1\\n            \\n            \\n    return result\";\n",
       "                var nbb_formatted_code = \"def calculate_options(sublist):\\n    \\\"\\\"\\\"\\n    Count the valid configurations for the input list.\\n\\n    Input: list of numbers.\\n    Output: Integer, number of valid configurations of list.\\n    \\\"\\\"\\\"\\n    # If list is length <= 2, only one valid configuration possible\\n    # Because the last element is ALWAYS included and possible\\n    # (because it's necessary for the 3-offset jump in jolts)\\n    if len(sublist) <= 2:\\n        return 1\\n\\n    # If length of list >= 3, for the next *3* numbers (and only if they're valid),\\n    # count the number of valid configurations, and sum the results.\\n    # Return that sum as the number of valid configurations for the sublist\\n    return sum(\\n        [\\n            calculate_options(sublist[ix + 1 :])\\n            for ix, val in enumerate(sublist[1:4])\\n            if (val - sublist[0]) <= 3\\n        ]\\n    )\\n\\n\\n@timer\\ndef solve_B(jolts):\\n    \\\"\\\"\\\"\\n    1. Sort input\\n    2. Prepend 0 and append max+3\\n    3. Compute the differences from element i to element i+1\\n    4. Generate sublists at each difference == 3 index\\n    5. Count the number of valid configurations for each sublist\\n    6. Multiply these possible configurations for each sublist with eachother\\n       to get the possible configurations for the sublists concatenated (= full list)\\n    7. Return the output of that product as result for B\\n\\n    Input: List of numbers.\\n    Output: Integer.\\n    \\\"\\\"\\\"\\n    # Sort input\\n    jolts.sort()\\n\\n    # prepend 0 and append max(input)+3 to sorted input\\n    jolts_full = [0] + jolts + [max(jolts) + 3]\\n\\n    # Calculate the offsets between entries\\n    differences = [\\n        jolts_full[ix + 1] - jolts_full[ix] for ix, jolt in enumerate(jolts_full[:-1])\\n    ]\\n\\n    # Initialisation of result calculation\\n    ix_low = 0\\n    result = 1\\n\\n    # Create sublists (= subproblems) based on offset==3 splits\\n    for ix, val in enumerate(differences):\\n        if val == 3:\\n            result = result * calculate_options(jolts_full[ix_low : ix + 1])\\n            ix_low = ix + 1\\n\\n    return result\";\n",
       "                var nbb_cells = Jupyter.notebook.get_cells();\n",
       "                for (var i = 0; i < nbb_cells.length; ++i) {\n",
       "                    if (nbb_cells[i].input_prompt_number == nbb_cell_id) {\n",
       "                        if (nbb_cells[i].get_text() == nbb_unformatted_code) {\n",
       "                             nbb_cells[i].set_text(nbb_formatted_code);\n",
       "                        }\n",
       "                        break;\n",
       "                    }\n",
       "                }\n",
       "            }, 500);\n",
       "            "
      ],
      "text/plain": [
       "<IPython.core.display.Javascript object>"
      ]
     },
     "metadata": {},
     "output_type": "display_data"
    }
   ],
   "source": [
    "def calculate_options(sublist):\n",
    "    \"\"\"\n",
    "    Count the valid configurations for the input list.\n",
    "    \n",
    "    Input: list of numbers.\n",
    "    Output: Integer, number of valid configurations of list.\n",
    "    \"\"\"\n",
    "    # If list is length <= 2, only one valid configuration possible\n",
    "    # Because the last element is ALWAYS included and possible\n",
    "    # (because it's necessary for the 3-offset jump in jolts)\n",
    "    if len(sublist) <= 2:\n",
    "        return 1\n",
    "\n",
    "    # If length of list >= 3, for the next *3* numbers (and only if they're valid),\n",
    "    # count the number of valid configurations, and sum the results.\n",
    "    # Return that sum as the number of valid configurations for the sublist\n",
    "    return sum(\n",
    "        [\n",
    "            calculate_options(sublist[ix + 1 :])\n",
    "            for ix, val in enumerate(sublist[1:4])\n",
    "            if (val - sublist[0]) <= 3\n",
    "        ]\n",
    "    )\n",
    "\n",
    "@timer\n",
    "def solve_B(jolts):\n",
    "    \"\"\"\n",
    "    1. Sort input\n",
    "    2. Prepend 0 and append max+3\n",
    "    3. Compute the differences from element i to element i+1\n",
    "    4. Generate sublists at each difference == 3 index\n",
    "    5. Count the number of valid configurations for each sublist\n",
    "    6. Multiply these possible configurations for each sublist with eachother\n",
    "       to get the possible configurations for the sublists concatenated (= full list)\n",
    "    7. Return the output of that product as result for B\n",
    "    \n",
    "    Input: List of numbers.\n",
    "    Output: Integer.\n",
    "    \"\"\"\n",
    "    # Sort input\n",
    "    jolts.sort()\n",
    "\n",
    "    # prepend 0 and append max(input)+3 to sorted input\n",
    "    jolts_full = [0] + jolts + [max(jolts) + 3]\n",
    "\n",
    "    # Calculate the differences between entries\n",
    "    differences = [\n",
    "        jolts_full[ix + 1] - jolts_full[ix] for ix, jolt in enumerate(jolts_full[:-1])\n",
    "    ]\n",
    "    \n",
    "    # Initialisation of result calculation\n",
    "    ix_low = 0\n",
    "    result = 1\n",
    "    \n",
    "    # Create sublists (= subproblems) based on offset==3 splits\n",
    "    for ix, val in enumerate(differences):\n",
    "        if val == 3:\n",
    "            result = result * calculate_options(jolts_full[ix_low: ix+1])\n",
    "            ix_low = ix+1\n",
    "            \n",
    "            \n",
    "    return result\n"
   ]
  },
  {
   "cell_type": "markdown",
   "metadata": {},
   "source": [
    "#### Tests"
   ]
  },
  {
   "cell_type": "code",
   "execution_count": 87,
   "metadata": {},
   "outputs": [
    {
     "data": {
      "application/javascript": [
       "\n",
       "            setTimeout(function() {\n",
       "                var nbb_cell_id = 87;\n",
       "                var nbb_unformatted_code = \"%%run_pytest[clean] -qq\\n\\ndef test_B_1(dummy_input_1):\\n    assert solve_B(split_input(dummy_input_1)) == 8\\n    \\ndef test_B_2(dummy_input_2):\\n    assert solve_B(split_input(dummy_input_2)) == 19208\";\n",
       "                var nbb_formatted_code = \"%%run_pytest[clean] -qq\\n\\ndef test_B_1(dummy_input_1):\\n    assert solve_B(split_input(dummy_input_1)) == 8\\n    \\ndef test_B_2(dummy_input_2):\\n    assert solve_B(split_input(dummy_input_2)) == 19208\";\n",
       "                var nbb_cells = Jupyter.notebook.get_cells();\n",
       "                for (var i = 0; i < nbb_cells.length; ++i) {\n",
       "                    if (nbb_cells[i].input_prompt_number == nbb_cell_id) {\n",
       "                        if (nbb_cells[i].get_text() == nbb_unformatted_code) {\n",
       "                             nbb_cells[i].set_text(nbb_formatted_code);\n",
       "                        }\n",
       "                        break;\n",
       "                    }\n",
       "                }\n",
       "            }, 500);\n",
       "            "
      ],
      "text/plain": [
       "<IPython.core.display.Javascript object>"
      ]
     },
     "metadata": {},
     "output_type": "display_data"
    },
    {
     "name": "stdout",
     "output_type": "stream",
     "text": [
      "..                                                                                                                                                                                                                                     [100%]\n"
     ]
    },
    {
     "data": {
      "application/javascript": [
       "\n",
       "            setTimeout(function() {\n",
       "                var nbb_cell_id = 87;\n",
       "                var nbb_unformatted_code = \"%%run_pytest[clean] -qq\\n\\ndef test_B_1(dummy_input_1):\\n    assert solve_B(split_input(dummy_input_1)) == 8\\n    \\ndef test_B_2(dummy_input_2):\\n    assert solve_B(split_input(dummy_input_2)) == 19208\";\n",
       "                var nbb_formatted_code = \"%%run_pytest[clean] -qq\\n\\ndef test_B_1(dummy_input_1):\\n    assert solve_B(split_input(dummy_input_1)) == 8\\n    \\ndef test_B_2(dummy_input_2):\\n    assert solve_B(split_input(dummy_input_2)) == 19208\";\n",
       "                var nbb_cells = Jupyter.notebook.get_cells();\n",
       "                for (var i = 0; i < nbb_cells.length; ++i) {\n",
       "                    if (nbb_cells[i].input_prompt_number == nbb_cell_id) {\n",
       "                        if (nbb_cells[i].get_text() == nbb_unformatted_code) {\n",
       "                             nbb_cells[i].set_text(nbb_formatted_code);\n",
       "                        }\n",
       "                        break;\n",
       "                    }\n",
       "                }\n",
       "            }, 500);\n",
       "            "
      ],
      "text/plain": [
       "<IPython.core.display.Javascript object>"
      ]
     },
     "metadata": {},
     "output_type": "display_data"
    }
   ],
   "source": [
    "%%run_pytest[clean] -qq\n",
    "\n",
    "def test_B_1(dummy_input_1):\n",
    "    assert solve_B(split_input(dummy_input_1)) == 8\n",
    "    \n",
    "def test_B_2(dummy_input_2):\n",
    "    assert solve_B(split_input(dummy_input_2)) == 19208"
   ]
  },
  {
   "cell_type": "markdown",
   "metadata": {},
   "source": [
    "#### OUTPUT"
   ]
  },
  {
   "cell_type": "code",
   "execution_count": 78,
   "metadata": {},
   "outputs": [
    {
     "name": "stdout",
     "output_type": "stream",
     "text": [
      "Finished 'solve_B' in 0.0002 secs\n"
     ]
    },
    {
     "data": {
      "text/plain": [
       "4628074479616"
      ]
     },
     "execution_count": 78,
     "metadata": {},
     "output_type": "execute_result"
    },
    {
     "data": {
      "application/javascript": [
       "\n",
       "            setTimeout(function() {\n",
       "                var nbb_cell_id = 78;\n",
       "                var nbb_unformatted_code = \"solve_B(get_input())\";\n",
       "                var nbb_formatted_code = \"solve_B(get_input())\";\n",
       "                var nbb_cells = Jupyter.notebook.get_cells();\n",
       "                for (var i = 0; i < nbb_cells.length; ++i) {\n",
       "                    if (nbb_cells[i].input_prompt_number == nbb_cell_id) {\n",
       "                        if (nbb_cells[i].get_text() == nbb_unformatted_code) {\n",
       "                             nbb_cells[i].set_text(nbb_formatted_code);\n",
       "                        }\n",
       "                        break;\n",
       "                    }\n",
       "                }\n",
       "            }, 500);\n",
       "            "
      ],
      "text/plain": [
       "<IPython.core.display.Javascript object>"
      ]
     },
     "metadata": {},
     "output_type": "display_data"
    }
   ],
   "source": [
    "solve_B(get_input())"
   ]
  },
  {
   "cell_type": "code",
   "execution_count": null,
   "metadata": {},
   "outputs": [],
   "source": []
  }
 ],
 "metadata": {
  "kernelspec": {
   "display_name": "Python [conda env:aoc20_36] *",
   "language": "python",
   "name": "conda-env-aoc20_36-py"
  },
  "language_info": {
   "codemirror_mode": {
    "name": "ipython",
    "version": 3
   },
   "file_extension": ".py",
   "mimetype": "text/x-python",
   "name": "python",
   "nbconvert_exporter": "python",
   "pygments_lexer": "ipython3",
   "version": "3.6.12"
  }
 },
 "nbformat": 4,
 "nbformat_minor": 4
}
