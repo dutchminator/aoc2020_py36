{
 "cells": [
  {
   "cell_type": "markdown",
   "metadata": {},
   "source": [
    "# Day 2"
   ]
  },
  {
   "cell_type": "markdown",
   "metadata": {},
   "source": [
    "## GENERIC SETUP"
   ]
  },
  {
   "cell_type": "code",
   "execution_count": 1,
   "metadata": {},
   "outputs": [
    {
     "data": {
      "application/javascript": [
       "\n",
       "            setTimeout(function() {\n",
       "                var nbb_cell_id = 1;\n",
       "                var nbb_unformatted_code = \"# General imports\\nimport pytest\\nimport ipytest\\nimport time\\nimport functools\\n\\n# Setup ipytest\\nipytest.autoconfig()\\n\\n# Setup nb_black\\n%load_ext nb_black\\n\\n# Decorator to time solutions\\ndef timer(func):\\n    \\\"\\\"\\\"\\n    Wrapper function.\\n    Print the runtime of the decorated function.\\n    \\\"\\\"\\\"\\n\\n    @functools.wraps(func)\\n    def wrapper_timer(*args, **kwargs):\\n        start_time = time.perf_counter()  # 1\\n        value = func(*args, **kwargs)\\n        end_time = time.perf_counter()  # 2\\n        run_time = end_time - start_time  # 3\\n        print(f\\\"Finished {func.__name__!r} in {run_time:.4f} secs\\\")\\n        return value\\n\\n    return wrapper_timer\";\n",
       "                var nbb_formatted_code = \"# General imports\\nimport pytest\\nimport ipytest\\nimport time\\nimport functools\\n\\n# Setup ipytest\\nipytest.autoconfig()\\n\\n# Setup nb_black\\n%load_ext nb_black\\n\\n# Decorator to time solutions\\ndef timer(func):\\n    \\\"\\\"\\\"\\n    Wrapper function.\\n    Print the runtime of the decorated function.\\n    \\\"\\\"\\\"\\n\\n    @functools.wraps(func)\\n    def wrapper_timer(*args, **kwargs):\\n        start_time = time.perf_counter()  # 1\\n        value = func(*args, **kwargs)\\n        end_time = time.perf_counter()  # 2\\n        run_time = end_time - start_time  # 3\\n        print(f\\\"Finished {func.__name__!r} in {run_time:.4f} secs\\\")\\n        return value\\n\\n    return wrapper_timer\";\n",
       "                var nbb_cells = Jupyter.notebook.get_cells();\n",
       "                for (var i = 0; i < nbb_cells.length; ++i) {\n",
       "                    if (nbb_cells[i].input_prompt_number == nbb_cell_id) {\n",
       "                        if (nbb_cells[i].get_text() == nbb_unformatted_code) {\n",
       "                             nbb_cells[i].set_text(nbb_formatted_code);\n",
       "                        }\n",
       "                        break;\n",
       "                    }\n",
       "                }\n",
       "            }, 500);\n",
       "            "
      ],
      "text/plain": [
       "<IPython.core.display.Javascript object>"
      ]
     },
     "metadata": {},
     "output_type": "display_data"
    }
   ],
   "source": [
    "# General imports\n",
    "import pytest\n",
    "import ipytest\n",
    "import time\n",
    "import functools\n",
    "\n",
    "# Setup ipytest\n",
    "ipytest.autoconfig()\n",
    "\n",
    "# Setup nb_black\n",
    "%load_ext nb_black\n",
    "\n",
    "# Decorator to time solutions\n",
    "def timer(func):\n",
    "    \"\"\"\n",
    "    Wrapper function.\n",
    "    Print the runtime of the decorated function.\n",
    "    \"\"\"\n",
    "\n",
    "    @functools.wraps(func)\n",
    "    def wrapper_timer(*args, **kwargs):\n",
    "        start_time = time.perf_counter()  # 1\n",
    "        value = func(*args, **kwargs)\n",
    "        end_time = time.perf_counter()  # 2\n",
    "        run_time = end_time - start_time  # 3\n",
    "        print(f\"Finished {func.__name__!r} in {run_time:.4f} secs\")\n",
    "        return value\n",
    "\n",
    "    return wrapper_timer"
   ]
  },
  {
   "cell_type": "markdown",
   "metadata": {},
   "source": [
    "## SOLUTION SETUP"
   ]
  },
  {
   "cell_type": "code",
   "execution_count": 2,
   "metadata": {},
   "outputs": [
    {
     "data": {
      "application/javascript": [
       "\n",
       "            setTimeout(function() {\n",
       "                var nbb_cell_id = 2;\n",
       "                var nbb_unformatted_code = \"# Solution-specific imports\\nfrom collections import Counter\\n\\n# What day do we solve? Used to identify the input datafile, integer value\\nDAY = 2\";\n",
       "                var nbb_formatted_code = \"# Solution-specific imports\\nfrom collections import Counter\\n\\n# What day do we solve? Used to identify the input datafile, integer value\\nDAY = 2\";\n",
       "                var nbb_cells = Jupyter.notebook.get_cells();\n",
       "                for (var i = 0; i < nbb_cells.length; ++i) {\n",
       "                    if (nbb_cells[i].input_prompt_number == nbb_cell_id) {\n",
       "                        if (nbb_cells[i].get_text() == nbb_unformatted_code) {\n",
       "                             nbb_cells[i].set_text(nbb_formatted_code);\n",
       "                        }\n",
       "                        break;\n",
       "                    }\n",
       "                }\n",
       "            }, 500);\n",
       "            "
      ],
      "text/plain": [
       "<IPython.core.display.Javascript object>"
      ]
     },
     "metadata": {},
     "output_type": "display_data"
    }
   ],
   "source": [
    "# Solution-specific imports\n",
    "from collections import Counter\n",
    "\n",
    "# What day do we solve? Used to identify the input datafile, integer value\n",
    "DAY = 2"
   ]
  },
  {
   "cell_type": "markdown",
   "metadata": {},
   "source": [
    "#### I/O functions"
   ]
  },
  {
   "cell_type": "code",
   "execution_count": 3,
   "metadata": {},
   "outputs": [
    {
     "data": {
      "application/javascript": [
       "\n",
       "            setTimeout(function() {\n",
       "                var nbb_cell_id = 3;\n",
       "                var nbb_unformatted_code = \"def get_input():\\n    with open(f\\\"../data/{DAY}.txt\\\", \\\"r\\\") as f:\\n        return parse_input(f.readlines())\\n\\n\\ndef parse_input(lines):\\n    # Parsing is puzzle-specific, do nothing here\\n    return lines\";\n",
       "                var nbb_formatted_code = \"def get_input():\\n    with open(f\\\"../data/{DAY}.txt\\\", \\\"r\\\") as f:\\n        return parse_input(f.readlines())\\n\\n\\ndef parse_input(lines):\\n    # Parsing is puzzle-specific, do nothing here\\n    return lines\";\n",
       "                var nbb_cells = Jupyter.notebook.get_cells();\n",
       "                for (var i = 0; i < nbb_cells.length; ++i) {\n",
       "                    if (nbb_cells[i].input_prompt_number == nbb_cell_id) {\n",
       "                        if (nbb_cells[i].get_text() == nbb_unformatted_code) {\n",
       "                             nbb_cells[i].set_text(nbb_formatted_code);\n",
       "                        }\n",
       "                        break;\n",
       "                    }\n",
       "                }\n",
       "            }, 500);\n",
       "            "
      ],
      "text/plain": [
       "<IPython.core.display.Javascript object>"
      ]
     },
     "metadata": {},
     "output_type": "display_data"
    }
   ],
   "source": [
    "def get_input():\n",
    "    with open(f\"../data/{DAY}.txt\", \"r\") as f:\n",
    "        return parse_input(f.readlines())\n",
    "\n",
    "\n",
    "def parse_input(lines):\n",
    "    # Parsing is puzzle-specific, do nothing here\n",
    "    return lines"
   ]
  },
  {
   "cell_type": "markdown",
   "metadata": {},
   "source": [
    "#### Pytest input data"
   ]
  },
  {
   "cell_type": "code",
   "execution_count": 4,
   "metadata": {},
   "outputs": [
    {
     "data": {
      "application/javascript": [
       "\n",
       "            setTimeout(function() {\n",
       "                var nbb_cell_id = 4;\n",
       "                var nbb_unformatted_code = \"# Sample input\\n@pytest.fixture\\ndef dummy_input():\\n    return \\\"\\\"\\\"1-3 a: abcde\\n1-3 b: cdefg\\n2-9 c: ccccccccc\\\"\\\"\\\".split(\\n        \\\"\\\\n\\\"\\n    )\";\n",
       "                var nbb_formatted_code = \"# Sample input\\n@pytest.fixture\\ndef dummy_input():\\n    return \\\"\\\"\\\"1-3 a: abcde\\n1-3 b: cdefg\\n2-9 c: ccccccccc\\\"\\\"\\\".split(\\n        \\\"\\\\n\\\"\\n    )\";\n",
       "                var nbb_cells = Jupyter.notebook.get_cells();\n",
       "                for (var i = 0; i < nbb_cells.length; ++i) {\n",
       "                    if (nbb_cells[i].input_prompt_number == nbb_cell_id) {\n",
       "                        if (nbb_cells[i].get_text() == nbb_unformatted_code) {\n",
       "                             nbb_cells[i].set_text(nbb_formatted_code);\n",
       "                        }\n",
       "                        break;\n",
       "                    }\n",
       "                }\n",
       "            }, 500);\n",
       "            "
      ],
      "text/plain": [
       "<IPython.core.display.Javascript object>"
      ]
     },
     "metadata": {},
     "output_type": "display_data"
    }
   ],
   "source": [
    "# Sample input\n",
    "@pytest.fixture\n",
    "def dummy_input():\n",
    "    return \"\"\"1-3 a: abcde\n",
    "1-3 b: cdefg\n",
    "2-9 c: ccccccccc\"\"\".split(\n",
    "        \"\\n\"\n",
    "    )"
   ]
  },
  {
   "cell_type": "markdown",
   "metadata": {},
   "source": [
    "## Solution A"
   ]
  },
  {
   "cell_type": "code",
   "execution_count": 5,
   "metadata": {
    "scrolled": true
   },
   "outputs": [
    {
     "data": {
      "application/javascript": [
       "\n",
       "            setTimeout(function() {\n",
       "                var nbb_cell_id = 5;\n",
       "                var nbb_unformatted_code = \"def parse_line_A(line):\\n    # Split on whitespace\\n    details = line.strip().split(\\\" \\\")\\n    # Retrieve min and max count\\n    min_count, max_count = map(int, details[0].split(\\\"-\\\"))\\n    # Retrieve character to count\\n    char_to_count = details[1].strip(\\\":\\\")\\n    # Retrieve password to check\\n    password_to_check = details[2]\\n\\n    return min_count, max_count, char_to_count, password_to_check\\n\\n\\ndef validate_password_A(input):\\n    \\\"\\\"\\\"\\n    Run a count on each character in password\\n    If low <= count(x) <= high, return True, else False\\n    If x not in password, return False\\n    \\\"\\\"\\\"\\n    low, high, x, password = input\\n    counter = Counter(password)\\n    if x in counter:\\n        return low <= counter[x] <= high\\n    else:\\n        return False\\n\\n\\n@timer\\ndef solve_A(lines):\\n    \\\"\\\"\\\"\\n    input:\\n     A list of (min, max, char, password) tuples\\n    output:\\n     Count of valid passwords\\n    \\\"\\\"\\\"\\n    # Parse the lines according to puzzle A\\n    parsed_lines = map(parse_line_A, lines)\\n\\n    # Validate and count Trues\\n    return sum(map(validate_password_A, parsed_lines))\";\n",
       "                var nbb_formatted_code = \"def parse_line_A(line):\\n    # Split on whitespace\\n    details = line.strip().split(\\\" \\\")\\n    # Retrieve min and max count\\n    min_count, max_count = map(int, details[0].split(\\\"-\\\"))\\n    # Retrieve character to count\\n    char_to_count = details[1].strip(\\\":\\\")\\n    # Retrieve password to check\\n    password_to_check = details[2]\\n\\n    return min_count, max_count, char_to_count, password_to_check\\n\\n\\ndef validate_password_A(input):\\n    \\\"\\\"\\\"\\n    Run a count on each character in password\\n    If low <= count(x) <= high, return True, else False\\n    If x not in password, return False\\n    \\\"\\\"\\\"\\n    low, high, x, password = input\\n    counter = Counter(password)\\n    if x in counter:\\n        return low <= counter[x] <= high\\n    else:\\n        return False\\n\\n\\n@timer\\ndef solve_A(lines):\\n    \\\"\\\"\\\"\\n    input:\\n     A list of (min, max, char, password) tuples\\n    output:\\n     Count of valid passwords\\n    \\\"\\\"\\\"\\n    # Parse the lines according to puzzle A\\n    parsed_lines = map(parse_line_A, lines)\\n\\n    # Validate and count Trues\\n    return sum(map(validate_password_A, parsed_lines))\";\n",
       "                var nbb_cells = Jupyter.notebook.get_cells();\n",
       "                for (var i = 0; i < nbb_cells.length; ++i) {\n",
       "                    if (nbb_cells[i].input_prompt_number == nbb_cell_id) {\n",
       "                        if (nbb_cells[i].get_text() == nbb_unformatted_code) {\n",
       "                             nbb_cells[i].set_text(nbb_formatted_code);\n",
       "                        }\n",
       "                        break;\n",
       "                    }\n",
       "                }\n",
       "            }, 500);\n",
       "            "
      ],
      "text/plain": [
       "<IPython.core.display.Javascript object>"
      ]
     },
     "metadata": {},
     "output_type": "display_data"
    }
   ],
   "source": [
    "def parse_line_A(line):\n",
    "    # Split on whitespace\n",
    "    details = line.strip().split(\" \")\n",
    "    # Retrieve min and max count\n",
    "    min_count, max_count = map(int, details[0].split(\"-\"))\n",
    "    # Retrieve character to count\n",
    "    char_to_count = details[1].strip(\":\")\n",
    "    # Retrieve password to check\n",
    "    password_to_check = details[2]\n",
    "\n",
    "    return min_count, max_count, char_to_count, password_to_check\n",
    "\n",
    "\n",
    "def validate_password_A(input):\n",
    "    \"\"\"\n",
    "    Run a count on each character in password\n",
    "    If low <= count(x) <= high, return True, else False\n",
    "    If x not in password, return False\n",
    "    \"\"\"\n",
    "    low, high, x, password = input\n",
    "    counter = Counter(password)\n",
    "    if x in counter:\n",
    "        return low <= counter[x] <= high\n",
    "    else:\n",
    "        return False\n",
    "\n",
    "\n",
    "@timer\n",
    "def solve_A(lines):\n",
    "    \"\"\"\n",
    "    input:\n",
    "     A list of (min, max, char, password) tuples\n",
    "    output:\n",
    "     Count of valid passwords\n",
    "    \"\"\"\n",
    "    # Parse the lines according to puzzle A\n",
    "    parsed_lines = map(parse_line_A, lines)\n",
    "\n",
    "    # Validate and count Trues\n",
    "    return sum(map(validate_password_A, parsed_lines))"
   ]
  },
  {
   "cell_type": "markdown",
   "metadata": {},
   "source": [
    "#### Tests"
   ]
  },
  {
   "cell_type": "code",
   "execution_count": 6,
   "metadata": {},
   "outputs": [
    {
     "data": {
      "application/javascript": [
       "\n",
       "            setTimeout(function() {\n",
       "                var nbb_cell_id = 6;\n",
       "                var nbb_unformatted_code = \"%%run_pytest[clean] -qq\\n\\ndef test_a(dummy_input):\\n    assert solve_A(parse_input(dummy_input)) == 2\";\n",
       "                var nbb_formatted_code = \"%%run_pytest[clean] -qq\\n\\ndef test_a(dummy_input):\\n    assert solve_A(parse_input(dummy_input)) == 2\";\n",
       "                var nbb_cells = Jupyter.notebook.get_cells();\n",
       "                for (var i = 0; i < nbb_cells.length; ++i) {\n",
       "                    if (nbb_cells[i].input_prompt_number == nbb_cell_id) {\n",
       "                        if (nbb_cells[i].get_text() == nbb_unformatted_code) {\n",
       "                             nbb_cells[i].set_text(nbb_formatted_code);\n",
       "                        }\n",
       "                        break;\n",
       "                    }\n",
       "                }\n",
       "            }, 500);\n",
       "            "
      ],
      "text/plain": [
       "<IPython.core.display.Javascript object>"
      ]
     },
     "metadata": {},
     "output_type": "display_data"
    },
    {
     "name": "stdout",
     "output_type": "stream",
     "text": [
      ".                                                                                                                                            [100%]\n"
     ]
    },
    {
     "data": {
      "application/javascript": [
       "\n",
       "            setTimeout(function() {\n",
       "                var nbb_cell_id = 6;\n",
       "                var nbb_unformatted_code = \"%%run_pytest[clean] -qq\\n\\ndef test_a(dummy_input):\\n    assert solve_A(parse_input(dummy_input)) == 2\";\n",
       "                var nbb_formatted_code = \"%%run_pytest[clean] -qq\\n\\ndef test_a(dummy_input):\\n    assert solve_A(parse_input(dummy_input)) == 2\";\n",
       "                var nbb_cells = Jupyter.notebook.get_cells();\n",
       "                for (var i = 0; i < nbb_cells.length; ++i) {\n",
       "                    if (nbb_cells[i].input_prompt_number == nbb_cell_id) {\n",
       "                        if (nbb_cells[i].get_text() == nbb_unformatted_code) {\n",
       "                             nbb_cells[i].set_text(nbb_formatted_code);\n",
       "                        }\n",
       "                        break;\n",
       "                    }\n",
       "                }\n",
       "            }, 500);\n",
       "            "
      ],
      "text/plain": [
       "<IPython.core.display.Javascript object>"
      ]
     },
     "metadata": {},
     "output_type": "display_data"
    }
   ],
   "source": [
    "%%run_pytest[clean] -qq\n",
    "\n",
    "def test_a(dummy_input):\n",
    "    assert solve_A(parse_input(dummy_input)) == 2"
   ]
  },
  {
   "cell_type": "markdown",
   "metadata": {},
   "source": [
    "#### OUTPUT"
   ]
  },
  {
   "cell_type": "code",
   "execution_count": 7,
   "metadata": {},
   "outputs": [
    {
     "name": "stdout",
     "output_type": "stream",
     "text": [
      "Finished 'solve_A' in 0.0057 secs\n"
     ]
    },
    {
     "data": {
      "text/plain": [
       "622"
      ]
     },
     "execution_count": 7,
     "metadata": {},
     "output_type": "execute_result"
    },
    {
     "data": {
      "application/javascript": [
       "\n",
       "            setTimeout(function() {\n",
       "                var nbb_cell_id = 7;\n",
       "                var nbb_unformatted_code = \"solve_A(get_input())\";\n",
       "                var nbb_formatted_code = \"solve_A(get_input())\";\n",
       "                var nbb_cells = Jupyter.notebook.get_cells();\n",
       "                for (var i = 0; i < nbb_cells.length; ++i) {\n",
       "                    if (nbb_cells[i].input_prompt_number == nbb_cell_id) {\n",
       "                        if (nbb_cells[i].get_text() == nbb_unformatted_code) {\n",
       "                             nbb_cells[i].set_text(nbb_formatted_code);\n",
       "                        }\n",
       "                        break;\n",
       "                    }\n",
       "                }\n",
       "            }, 500);\n",
       "            "
      ],
      "text/plain": [
       "<IPython.core.display.Javascript object>"
      ]
     },
     "metadata": {},
     "output_type": "display_data"
    }
   ],
   "source": [
    "solve_A(get_input())"
   ]
  },
  {
   "cell_type": "markdown",
   "metadata": {},
   "source": [
    "## Solution B"
   ]
  },
  {
   "cell_type": "code",
   "execution_count": 8,
   "metadata": {},
   "outputs": [
    {
     "data": {
      "application/javascript": [
       "\n",
       "            setTimeout(function() {\n",
       "                var nbb_cell_id = 8;\n",
       "                var nbb_unformatted_code = \"def parse_line_B(line):\\n    # Split on whitespace\\n    details = line.strip().split(\\\" \\\")\\n    # Retrieve min and max count\\n    pos1, pos2 = map(int, details[0].split(\\\"-\\\"))\\n    # Retrieve character to count\\n    char_to_check = details[1].strip(\\\":\\\")\\n    # Retrieve characters to check (note indexes -1, due to Toboggan 1-indexing)\\n    char1 = details[2][pos1-1]\\n    char2 = details[2][pos2-1]\\n\\n    return char_to_check, char1, char2\\n\\n\\ndef validate_password_B(input):\\n    \\\"\\\"\\\"\\n    Validate whether char1 == x XOR char2 == x\\n    \\\"\\\"\\\"\\n    x, char1, char2 = input\\n    return (char1 == x) != (char2 == x)\\n\\n@timer\\ndef solve_B(lines):\\n    \\\"\\\"\\\"\\n    input:\\n     A list of (pos1, pos2, char, password) tuples\\n    output:\\n     Count of valid passwords\\n    \\\"\\\"\\\"\\n    # Parse the lines according to puzzle A\\n    parsed_lines = map(parse_line_B, lines)\\n\\n    # Validate and count Trues\\n    return sum(map(validate_password_B, parsed_lines))\";\n",
       "                var nbb_formatted_code = \"def parse_line_B(line):\\n    # Split on whitespace\\n    details = line.strip().split(\\\" \\\")\\n    # Retrieve min and max count\\n    pos1, pos2 = map(int, details[0].split(\\\"-\\\"))\\n    # Retrieve character to count\\n    char_to_check = details[1].strip(\\\":\\\")\\n    # Retrieve characters to check (note indexes -1, due to Toboggan 1-indexing)\\n    char1 = details[2][pos1 - 1]\\n    char2 = details[2][pos2 - 1]\\n\\n    return char_to_check, char1, char2\\n\\n\\ndef validate_password_B(input):\\n    \\\"\\\"\\\"\\n    Validate whether char1 == x XOR char2 == x\\n    \\\"\\\"\\\"\\n    x, char1, char2 = input\\n    return (char1 == x) != (char2 == x)\\n\\n\\n@timer\\ndef solve_B(lines):\\n    \\\"\\\"\\\"\\n    input:\\n     A list of (pos1, pos2, char, password) tuples\\n    output:\\n     Count of valid passwords\\n    \\\"\\\"\\\"\\n    # Parse the lines according to puzzle A\\n    parsed_lines = map(parse_line_B, lines)\\n\\n    # Validate and count Trues\\n    return sum(map(validate_password_B, parsed_lines))\";\n",
       "                var nbb_cells = Jupyter.notebook.get_cells();\n",
       "                for (var i = 0; i < nbb_cells.length; ++i) {\n",
       "                    if (nbb_cells[i].input_prompt_number == nbb_cell_id) {\n",
       "                        if (nbb_cells[i].get_text() == nbb_unformatted_code) {\n",
       "                             nbb_cells[i].set_text(nbb_formatted_code);\n",
       "                        }\n",
       "                        break;\n",
       "                    }\n",
       "                }\n",
       "            }, 500);\n",
       "            "
      ],
      "text/plain": [
       "<IPython.core.display.Javascript object>"
      ]
     },
     "metadata": {},
     "output_type": "display_data"
    }
   ],
   "source": [
    "def parse_line_B(line):\n",
    "    # Split on whitespace\n",
    "    details = line.strip().split(\" \")\n",
    "    # Retrieve min and max count\n",
    "    pos1, pos2 = map(int, details[0].split(\"-\"))\n",
    "    # Retrieve character to count\n",
    "    char_to_check = details[1].strip(\":\")\n",
    "    # Retrieve characters to check (note indexes -1, due to Toboggan 1-indexing)\n",
    "    char1 = details[2][pos1-1]\n",
    "    char2 = details[2][pos2-1]\n",
    "\n",
    "    return char_to_check, char1, char2\n",
    "\n",
    "\n",
    "def validate_password_B(input):\n",
    "    \"\"\"\n",
    "    Validate whether char1 == x XOR char2 == x\n",
    "    \"\"\"\n",
    "    x, char1, char2 = input\n",
    "    return (char1 == x) != (char2 == x)\n",
    "\n",
    "@timer\n",
    "def solve_B(lines):\n",
    "    \"\"\"\n",
    "    input:\n",
    "     A list of (pos1, pos2, char, password) tuples\n",
    "    output:\n",
    "     Count of valid passwords\n",
    "    \"\"\"\n",
    "    # Parse the lines according to puzzle A\n",
    "    parsed_lines = map(parse_line_B, lines)\n",
    "\n",
    "    # Validate and count Trues\n",
    "    return sum(map(validate_password_B, parsed_lines))\n"
   ]
  },
  {
   "cell_type": "markdown",
   "metadata": {},
   "source": [
    "#### Tests"
   ]
  },
  {
   "cell_type": "code",
   "execution_count": 9,
   "metadata": {},
   "outputs": [
    {
     "data": {
      "application/javascript": [
       "\n",
       "            setTimeout(function() {\n",
       "                var nbb_cell_id = 9;\n",
       "                var nbb_unformatted_code = \"%%run_pytest[clean] -qq\\n\\ndef test_b(dummy_input):\\n    assert solve_B(parse_input(dummy_input)) == 1\";\n",
       "                var nbb_formatted_code = \"%%run_pytest[clean] -qq\\n\\ndef test_b(dummy_input):\\n    assert solve_B(parse_input(dummy_input)) == 1\";\n",
       "                var nbb_cells = Jupyter.notebook.get_cells();\n",
       "                for (var i = 0; i < nbb_cells.length; ++i) {\n",
       "                    if (nbb_cells[i].input_prompt_number == nbb_cell_id) {\n",
       "                        if (nbb_cells[i].get_text() == nbb_unformatted_code) {\n",
       "                             nbb_cells[i].set_text(nbb_formatted_code);\n",
       "                        }\n",
       "                        break;\n",
       "                    }\n",
       "                }\n",
       "            }, 500);\n",
       "            "
      ],
      "text/plain": [
       "<IPython.core.display.Javascript object>"
      ]
     },
     "metadata": {},
     "output_type": "display_data"
    },
    {
     "name": "stdout",
     "output_type": "stream",
     "text": [
      ".                                                                                                                                            [100%]\n"
     ]
    },
    {
     "data": {
      "application/javascript": [
       "\n",
       "            setTimeout(function() {\n",
       "                var nbb_cell_id = 9;\n",
       "                var nbb_unformatted_code = \"%%run_pytest[clean] -qq\\n\\ndef test_b(dummy_input):\\n    assert solve_B(parse_input(dummy_input)) == 1\";\n",
       "                var nbb_formatted_code = \"%%run_pytest[clean] -qq\\n\\ndef test_b(dummy_input):\\n    assert solve_B(parse_input(dummy_input)) == 1\";\n",
       "                var nbb_cells = Jupyter.notebook.get_cells();\n",
       "                for (var i = 0; i < nbb_cells.length; ++i) {\n",
       "                    if (nbb_cells[i].input_prompt_number == nbb_cell_id) {\n",
       "                        if (nbb_cells[i].get_text() == nbb_unformatted_code) {\n",
       "                             nbb_cells[i].set_text(nbb_formatted_code);\n",
       "                        }\n",
       "                        break;\n",
       "                    }\n",
       "                }\n",
       "            }, 500);\n",
       "            "
      ],
      "text/plain": [
       "<IPython.core.display.Javascript object>"
      ]
     },
     "metadata": {},
     "output_type": "display_data"
    }
   ],
   "source": [
    "%%run_pytest[clean] -qq\n",
    "\n",
    "def test_b(dummy_input):\n",
    "    assert solve_B(parse_input(dummy_input)) == 1"
   ]
  },
  {
   "cell_type": "markdown",
   "metadata": {},
   "source": [
    "#### OUTPUT"
   ]
  },
  {
   "cell_type": "code",
   "execution_count": 10,
   "metadata": {},
   "outputs": [
    {
     "name": "stdout",
     "output_type": "stream",
     "text": [
      "Finished 'solve_B' in 0.0013 secs\n"
     ]
    },
    {
     "data": {
      "text/plain": [
       "263"
      ]
     },
     "execution_count": 10,
     "metadata": {},
     "output_type": "execute_result"
    },
    {
     "data": {
      "application/javascript": [
       "\n",
       "            setTimeout(function() {\n",
       "                var nbb_cell_id = 10;\n",
       "                var nbb_unformatted_code = \"solve_B(get_input())\";\n",
       "                var nbb_formatted_code = \"solve_B(get_input())\";\n",
       "                var nbb_cells = Jupyter.notebook.get_cells();\n",
       "                for (var i = 0; i < nbb_cells.length; ++i) {\n",
       "                    if (nbb_cells[i].input_prompt_number == nbb_cell_id) {\n",
       "                        if (nbb_cells[i].get_text() == nbb_unformatted_code) {\n",
       "                             nbb_cells[i].set_text(nbb_formatted_code);\n",
       "                        }\n",
       "                        break;\n",
       "                    }\n",
       "                }\n",
       "            }, 500);\n",
       "            "
      ],
      "text/plain": [
       "<IPython.core.display.Javascript object>"
      ]
     },
     "metadata": {},
     "output_type": "display_data"
    }
   ],
   "source": [
    "solve_B(get_input())"
   ]
  }
 ],
 "metadata": {
  "kernelspec": {
   "display_name": "Python [conda env:aoc20_36] *",
   "language": "python",
   "name": "conda-env-aoc20_36-py"
  },
  "language_info": {
   "codemirror_mode": {
    "name": "ipython",
    "version": 3
   },
   "file_extension": ".py",
   "mimetype": "text/x-python",
   "name": "python",
   "nbconvert_exporter": "python",
   "pygments_lexer": "ipython3",
   "version": "3.6.12"
  }
 },
 "nbformat": 4,
 "nbformat_minor": 4
}
