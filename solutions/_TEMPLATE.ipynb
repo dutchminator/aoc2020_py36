{
 "cells": [
  {
   "cell_type": "markdown",
   "metadata": {},
   "source": [
    "# TEMPLATE\n",
    "Usage: Replace the DAY constant with the day number, and place the {DAY}.txt input file in ../data."
   ]
  },
  {
   "cell_type": "markdown",
   "metadata": {},
   "source": [
    "## GENERIC SETUP"
   ]
  },
  {
   "cell_type": "code",
   "execution_count": null,
   "metadata": {},
   "outputs": [],
   "source": [
    "# General imports\n",
    "import pytest\n",
    "import ipytest\n",
    "import time\n",
    "import functools\n",
    "\n",
    "# Setup ipytest\n",
    "ipytest.autoconfig()\n",
    "\n",
    "# Setup nb_black\n",
    "%load_ext nb_black\n",
    "\n",
    "# Decorator to time solutions\n",
    "def timer(func):\n",
    "    \"\"\"\n",
    "    Wrapper function.\n",
    "    Print the runtime of the decorated function.\n",
    "    \"\"\"\n",
    "\n",
    "    @functools.wraps(func)\n",
    "    def wrapper_timer(*args, **kwargs):\n",
    "        start_time = time.perf_counter()  # 1\n",
    "        value = func(*args, **kwargs)\n",
    "        end_time = time.perf_counter()  # 2\n",
    "        run_time = end_time - start_time  # 3\n",
    "        print(f\"Finished {func.__name__!r} in {run_time:.4f} secs\")\n",
    "        return value\n",
    "\n",
    "    return wrapper_timer"
   ]
  },
  {
   "cell_type": "markdown",
   "metadata": {},
   "source": [
    "## SOLUTION SETUP"
   ]
  },
  {
   "cell_type": "code",
   "execution_count": null,
   "metadata": {},
   "outputs": [],
   "source": [
    "# Solution-specific imports\n",
    "\n",
    "# What day do we solve? Used to identify the input datafile, integer value\n",
    "DAY = \"PLACEHOLDER\""
   ]
  },
  {
   "cell_type": "markdown",
   "metadata": {},
   "source": [
    "#### I/O functions"
   ]
  },
  {
   "cell_type": "code",
   "execution_count": null,
   "metadata": {},
   "outputs": [],
   "source": [
    "def get_input():\n",
    "    with open(f\"../data/{DAY}.txt\", \"r\") as f:\n",
    "        return split_input(f.read())\n",
    "\n",
    "\n",
    "def split_input(input_raw):\n",
    "    \"\"\"Strip trailing newline, then split on newline\"\"\"\n",
    "    return (line.strip() for line in input_raw.rstrip().split(\"\\n\"))"
   ]
  },
  {
   "cell_type": "markdown",
   "metadata": {},
   "source": [
    "#### Pytest input data"
   ]
  },
  {
   "cell_type": "code",
   "execution_count": null,
   "metadata": {},
   "outputs": [],
   "source": [
    "# Sample input\n",
    "@pytest.fixture\n",
    "def dummy_input():\n",
    "    return \"\"\"\\\n",
    "copy\n",
    "the\n",
    "sample\n",
    "input\n",
    "here\n",
    "\"\"\""
   ]
  },
  {
   "cell_type": "markdown",
   "metadata": {},
   "source": [
    "## Solution A"
   ]
  },
  {
   "cell_type": "code",
   "execution_count": null,
   "metadata": {
    "scrolled": true
   },
   "outputs": [],
   "source": [
    "@timer\n",
    "def solve_A(lines):\n",
    "    \"\"\"\n",
    "    IMPLEMENT ME\n",
    "    \"\"\"\n",
    "    return lines"
   ]
  },
  {
   "cell_type": "markdown",
   "metadata": {},
   "source": [
    "#### Tests"
   ]
  },
  {
   "cell_type": "code",
   "execution_count": null,
   "metadata": {},
   "outputs": [],
   "source": [
    "%%run_pytest[clean] -qq\n",
    "\n",
    "def test_A(dummy_input):\n",
    "    assert solve_A(split_input(dummy_input)) == 'PLACEHOLDER OUTPUT'"
   ]
  },
  {
   "cell_type": "markdown",
   "metadata": {},
   "source": [
    "#### OUTPUT"
   ]
  },
  {
   "cell_type": "code",
   "execution_count": null,
   "metadata": {},
   "outputs": [],
   "source": [
    "solve_A(get_input())"
   ]
  },
  {
   "cell_type": "markdown",
   "metadata": {},
   "source": [
    "## Solution B"
   ]
  },
  {
   "cell_type": "code",
   "execution_count": null,
   "metadata": {},
   "outputs": [],
   "source": [
    "@timer\n",
    "def solve_B(lines):\n",
    "    \"\"\"\n",
    "    IMPLEMENT ME\n",
    "    \"\"\"\n",
    "    return lines\n"
   ]
  },
  {
   "cell_type": "markdown",
   "metadata": {},
   "source": [
    "#### Tests"
   ]
  },
  {
   "cell_type": "code",
   "execution_count": null,
   "metadata": {},
   "outputs": [],
   "source": [
    "%%run_pytest[clean] -qq\n",
    "\n",
    "def test_B(dummy_input):\n",
    "    assert solve_B(split_input(dummy_input)) == 'PLACEHOLDER OUTPUT'"
   ]
  },
  {
   "cell_type": "markdown",
   "metadata": {},
   "source": [
    "#### OUTPUT"
   ]
  },
  {
   "cell_type": "code",
   "execution_count": null,
   "metadata": {},
   "outputs": [],
   "source": [
    "solve_B(get_input())"
   ]
  }
 ],
 "metadata": {
  "kernelspec": {
   "display_name": "Python [conda env:aoc20_36] *",
   "language": "python",
   "name": "conda-env-aoc20_36-py"
  },
  "language_info": {
   "codemirror_mode": {
    "name": "ipython",
    "version": 3
   },
   "file_extension": ".py",
   "mimetype": "text/x-python",
   "name": "python",
   "nbconvert_exporter": "python",
   "pygments_lexer": "ipython3",
   "version": "3.6.12"
  }
 },
 "nbformat": 4,
 "nbformat_minor": 4
}
