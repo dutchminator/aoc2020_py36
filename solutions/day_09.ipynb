{
 "cells": [
  {
   "cell_type": "markdown",
   "metadata": {},
   "source": [
    "# Day 9"
   ]
  },
  {
   "cell_type": "markdown",
   "metadata": {},
   "source": [
    "## GENERIC SETUP"
   ]
  },
  {
   "cell_type": "code",
   "execution_count": 1,
   "metadata": {},
   "outputs": [
    {
     "data": {
      "application/javascript": [
       "\n",
       "            setTimeout(function() {\n",
       "                var nbb_cell_id = 1;\n",
       "                var nbb_unformatted_code = \"# General imports\\nimport pytest\\nimport ipytest\\nimport time\\nimport functools\\n\\n# Setup ipytest\\nipytest.autoconfig()\\n\\n# Setup nb_black\\n%load_ext nb_black\\n\\n# Decorator to time solutions\\ndef timer(func):\\n    \\\"\\\"\\\"\\n    Wrapper function.\\n    Print the runtime of the decorated function.\\n    \\\"\\\"\\\"\\n\\n    @functools.wraps(func)\\n    def wrapper_timer(*args, **kwargs):\\n        start_time = time.perf_counter()  # 1\\n        value = func(*args, **kwargs)\\n        end_time = time.perf_counter()  # 2\\n        run_time = end_time - start_time  # 3\\n        print(f\\\"Finished {func.__name__!r} in {run_time:.4f} secs\\\")\\n        return value\\n\\n    return wrapper_timer\";\n",
       "                var nbb_formatted_code = \"# General imports\\nimport pytest\\nimport ipytest\\nimport time\\nimport functools\\n\\n# Setup ipytest\\nipytest.autoconfig()\\n\\n# Setup nb_black\\n%load_ext nb_black\\n\\n# Decorator to time solutions\\ndef timer(func):\\n    \\\"\\\"\\\"\\n    Wrapper function.\\n    Print the runtime of the decorated function.\\n    \\\"\\\"\\\"\\n\\n    @functools.wraps(func)\\n    def wrapper_timer(*args, **kwargs):\\n        start_time = time.perf_counter()  # 1\\n        value = func(*args, **kwargs)\\n        end_time = time.perf_counter()  # 2\\n        run_time = end_time - start_time  # 3\\n        print(f\\\"Finished {func.__name__!r} in {run_time:.4f} secs\\\")\\n        return value\\n\\n    return wrapper_timer\";\n",
       "                var nbb_cells = Jupyter.notebook.get_cells();\n",
       "                for (var i = 0; i < nbb_cells.length; ++i) {\n",
       "                    if (nbb_cells[i].input_prompt_number == nbb_cell_id) {\n",
       "                        if (nbb_cells[i].get_text() == nbb_unformatted_code) {\n",
       "                             nbb_cells[i].set_text(nbb_formatted_code);\n",
       "                        }\n",
       "                        break;\n",
       "                    }\n",
       "                }\n",
       "            }, 500);\n",
       "            "
      ],
      "text/plain": [
       "<IPython.core.display.Javascript object>"
      ]
     },
     "metadata": {},
     "output_type": "display_data"
    }
   ],
   "source": [
    "# General imports\n",
    "import pytest\n",
    "import ipytest\n",
    "import time\n",
    "import functools\n",
    "\n",
    "# Setup ipytest\n",
    "ipytest.autoconfig()\n",
    "\n",
    "# Setup nb_black\n",
    "%load_ext nb_black\n",
    "\n",
    "# Decorator to time solutions\n",
    "def timer(func):\n",
    "    \"\"\"\n",
    "    Wrapper function.\n",
    "    Print the runtime of the decorated function.\n",
    "    \"\"\"\n",
    "\n",
    "    @functools.wraps(func)\n",
    "    def wrapper_timer(*args, **kwargs):\n",
    "        start_time = time.perf_counter()  # 1\n",
    "        value = func(*args, **kwargs)\n",
    "        end_time = time.perf_counter()  # 2\n",
    "        run_time = end_time - start_time  # 3\n",
    "        print(f\"Finished {func.__name__!r} in {run_time:.4f} secs\")\n",
    "        return value\n",
    "\n",
    "    return wrapper_timer"
   ]
  },
  {
   "cell_type": "markdown",
   "metadata": {},
   "source": [
    "## SOLUTION SETUP"
   ]
  },
  {
   "cell_type": "code",
   "execution_count": 12,
   "metadata": {},
   "outputs": [
    {
     "data": {
      "application/javascript": [
       "\n",
       "            setTimeout(function() {\n",
       "                var nbb_cell_id = 12;\n",
       "                var nbb_unformatted_code = \"# Solution-specific imports\\nimport itertools\\n# What day do we solve? Used to identify the input datafile, integer value\\nDAY = 9\";\n",
       "                var nbb_formatted_code = \"# Solution-specific imports\\nimport itertools\\n\\n# What day do we solve? Used to identify the input datafile, integer value\\nDAY = 9\";\n",
       "                var nbb_cells = Jupyter.notebook.get_cells();\n",
       "                for (var i = 0; i < nbb_cells.length; ++i) {\n",
       "                    if (nbb_cells[i].input_prompt_number == nbb_cell_id) {\n",
       "                        if (nbb_cells[i].get_text() == nbb_unformatted_code) {\n",
       "                             nbb_cells[i].set_text(nbb_formatted_code);\n",
       "                        }\n",
       "                        break;\n",
       "                    }\n",
       "                }\n",
       "            }, 500);\n",
       "            "
      ],
      "text/plain": [
       "<IPython.core.display.Javascript object>"
      ]
     },
     "metadata": {},
     "output_type": "display_data"
    }
   ],
   "source": [
    "# Solution-specific imports\n",
    "import itertools\n",
    "\n",
    "# What day do we solve? Used to identify the input datafile, integer value\n",
    "DAY = 9"
   ]
  },
  {
   "cell_type": "markdown",
   "metadata": {},
   "source": [
    "#### I/O functions"
   ]
  },
  {
   "cell_type": "code",
   "execution_count": 13,
   "metadata": {},
   "outputs": [
    {
     "data": {
      "application/javascript": [
       "\n",
       "            setTimeout(function() {\n",
       "                var nbb_cell_id = 13;\n",
       "                var nbb_unformatted_code = \"def get_input():\\n    with open(f\\\"../data/{DAY}.txt\\\", \\\"r\\\") as f:\\n        return split_input(f.read())\\n\\n\\ndef split_input(input_raw):\\n    \\\"\\\"\\\"Strip trailing newline, then split on newline\\\"\\\"\\\"\\n    return [int(line.strip()) for line in input_raw.rstrip().split(\\\"\\\\n\\\")]\";\n",
       "                var nbb_formatted_code = \"def get_input():\\n    with open(f\\\"../data/{DAY}.txt\\\", \\\"r\\\") as f:\\n        return split_input(f.read())\\n\\n\\ndef split_input(input_raw):\\n    \\\"\\\"\\\"Strip trailing newline, then split on newline\\\"\\\"\\\"\\n    return [int(line.strip()) for line in input_raw.rstrip().split(\\\"\\\\n\\\")]\";\n",
       "                var nbb_cells = Jupyter.notebook.get_cells();\n",
       "                for (var i = 0; i < nbb_cells.length; ++i) {\n",
       "                    if (nbb_cells[i].input_prompt_number == nbb_cell_id) {\n",
       "                        if (nbb_cells[i].get_text() == nbb_unformatted_code) {\n",
       "                             nbb_cells[i].set_text(nbb_formatted_code);\n",
       "                        }\n",
       "                        break;\n",
       "                    }\n",
       "                }\n",
       "            }, 500);\n",
       "            "
      ],
      "text/plain": [
       "<IPython.core.display.Javascript object>"
      ]
     },
     "metadata": {},
     "output_type": "display_data"
    }
   ],
   "source": [
    "def get_input():\n",
    "    with open(f\"../data/{DAY}.txt\", \"r\") as f:\n",
    "        return split_input(f.read())\n",
    "\n",
    "\n",
    "def split_input(input_raw):\n",
    "    \"\"\"Strip trailing newline, then split on newline\"\"\"\n",
    "    return [int(line.strip()) for line in input_raw.rstrip().split(\"\\n\")]"
   ]
  },
  {
   "cell_type": "markdown",
   "metadata": {},
   "source": [
    "#### Pytest input data"
   ]
  },
  {
   "cell_type": "code",
   "execution_count": 47,
   "metadata": {},
   "outputs": [
    {
     "data": {
      "application/javascript": [
       "\n",
       "            setTimeout(function() {\n",
       "                var nbb_cell_id = 47;\n",
       "                var nbb_unformatted_code = \"# Sample input\\n@pytest.fixture\\ndef dummy_input_25():\\n    dummy_input = list(range(1, 26))\\n    # Append valid 45 and invalid 65\\n    dummy_input.extend([100])\\n    # Create string, return\\n    return \\\"\\\\n\\\".join(map(str, dummy_input))\\n\\n\\n@pytest.fixture\\ndef dummy_input_5():\\n    return \\\"\\\"\\\"\\\\\\n35\\n20\\n15\\n25\\n47\\n40\\n62\\n55\\n65\\n95\\n102\\n117\\n150\\n182\\n127\\n219\\n299\\n277\\n309\\n576    \\n\\\"\\\"\\\"\";\n",
       "                var nbb_formatted_code = \"# Sample input\\n@pytest.fixture\\ndef dummy_input_25():\\n    dummy_input = list(range(1, 26))\\n    # Append valid 45 and invalid 65\\n    dummy_input.extend([100])\\n    # Create string, return\\n    return \\\"\\\\n\\\".join(map(str, dummy_input))\\n\\n\\n@pytest.fixture\\ndef dummy_input_5():\\n    return \\\"\\\"\\\"\\\\\\n35\\n20\\n15\\n25\\n47\\n40\\n62\\n55\\n65\\n95\\n102\\n117\\n150\\n182\\n127\\n219\\n299\\n277\\n309\\n576    \\n\\\"\\\"\\\"\";\n",
       "                var nbb_cells = Jupyter.notebook.get_cells();\n",
       "                for (var i = 0; i < nbb_cells.length; ++i) {\n",
       "                    if (nbb_cells[i].input_prompt_number == nbb_cell_id) {\n",
       "                        if (nbb_cells[i].get_text() == nbb_unformatted_code) {\n",
       "                             nbb_cells[i].set_text(nbb_formatted_code);\n",
       "                        }\n",
       "                        break;\n",
       "                    }\n",
       "                }\n",
       "            }, 500);\n",
       "            "
      ],
      "text/plain": [
       "<IPython.core.display.Javascript object>"
      ]
     },
     "metadata": {},
     "output_type": "display_data"
    }
   ],
   "source": [
    "# Sample input\n",
    "@pytest.fixture\n",
    "def dummy_input_25():\n",
    "    dummy_input = list(range(1, 26))\n",
    "    # Append valid 45 and invalid 65\n",
    "    dummy_input.extend([100])\n",
    "    # Create string, return\n",
    "    return \"\\n\".join(map(str, dummy_input))\n",
    "\n",
    "\n",
    "@pytest.fixture\n",
    "def dummy_input_5():\n",
    "    return \"\"\"\\\n",
    "35\n",
    "20\n",
    "15\n",
    "25\n",
    "47\n",
    "40\n",
    "62\n",
    "55\n",
    "65\n",
    "95\n",
    "102\n",
    "117\n",
    "150\n",
    "182\n",
    "127\n",
    "219\n",
    "299\n",
    "277\n",
    "309\n",
    "576    \n",
    "\"\"\""
   ]
  },
  {
   "cell_type": "markdown",
   "metadata": {},
   "source": [
    "## Solution A"
   ]
  },
  {
   "cell_type": "code",
   "execution_count": 50,
   "metadata": {
    "scrolled": true
   },
   "outputs": [
    {
     "data": {
      "application/javascript": [
       "\n",
       "            setTimeout(function() {\n",
       "                var nbb_cell_id = 50;\n",
       "                var nbb_unformatted_code = \"def validate_value(target, input):\\n    \\\"\\\"\\\"\\n    Given an input [target] and list of values [input],\\n    find 2 values in [input] that sum up to [target].\\n\\n    Output: True if possible to sum 2 values to target, else False.\\n    \\\"\\\"\\\"\\n    # Generate all possible pairs in input\\n    pairs = itertools.combinations(input, 2)\\n    # Assumption: if a number appears twice in input, the pair may be of the same number\\n\\n    # Return True if any pair sums to target\\n    pairs_valid = [(x + y == target) for x, y in pairs]\\n    return any(pairs_valid)\\n\\n\\n@timer\\ndef solve_A(numbers, preamble_length):\\n    \\\"\\\"\\\"\\n    Loop over all values after the preamble.\\n    If any value fails to validate versus the [preamble_length]\\n    preceeding numbers, return it as outcome.\\n\\n    Input:\\n    * [numbers] a list of input numbers\\n    * [preamble_length] Positive integer denoting preamble length\\n\\n    Output:\\n    * Integer, first value that cannot be validated against preceeding input\\n    \\\"\\\"\\\"\\n\\n    for ix, number in enumerate(numbers[preamble_length:]):\\n        if not validate_value(number, numbers[ix : ix + preamble_length]):\\n            return number\";\n",
       "                var nbb_formatted_code = \"def validate_value(target, input):\\n    \\\"\\\"\\\"\\n    Given an input [target] and list of values [input],\\n    find 2 values in [input] that sum up to [target].\\n\\n    Output: True if possible to sum 2 values to target, else False.\\n    \\\"\\\"\\\"\\n    # Generate all possible pairs in input\\n    pairs = itertools.combinations(input, 2)\\n    # Assumption: if a number appears twice in input, the pair may be of the same number\\n\\n    # Return True if any pair sums to target\\n    pairs_valid = [(x + y == target) for x, y in pairs]\\n    return any(pairs_valid)\\n\\n\\n@timer\\ndef solve_A(numbers, preamble_length):\\n    \\\"\\\"\\\"\\n    Loop over all values after the preamble.\\n    If any value fails to validate versus the [preamble_length]\\n    preceeding numbers, return it as outcome.\\n\\n    Input:\\n    * [numbers] a list of input numbers\\n    * [preamble_length] Positive integer denoting preamble length\\n\\n    Output:\\n    * Integer, first value that cannot be validated against preceeding input\\n    \\\"\\\"\\\"\\n\\n    for ix, number in enumerate(numbers[preamble_length:]):\\n        if not validate_value(number, numbers[ix : ix + preamble_length]):\\n            return number\";\n",
       "                var nbb_cells = Jupyter.notebook.get_cells();\n",
       "                for (var i = 0; i < nbb_cells.length; ++i) {\n",
       "                    if (nbb_cells[i].input_prompt_number == nbb_cell_id) {\n",
       "                        if (nbb_cells[i].get_text() == nbb_unformatted_code) {\n",
       "                             nbb_cells[i].set_text(nbb_formatted_code);\n",
       "                        }\n",
       "                        break;\n",
       "                    }\n",
       "                }\n",
       "            }, 500);\n",
       "            "
      ],
      "text/plain": [
       "<IPython.core.display.Javascript object>"
      ]
     },
     "metadata": {},
     "output_type": "display_data"
    }
   ],
   "source": [
    "def validate_value(target, input):\n",
    "    \"\"\"\n",
    "    Given an input [target] and list of values [input],\n",
    "    find 2 values in [input] that sum up to [target].\n",
    "\n",
    "    Output: True if possible to sum 2 values to target, else False.\n",
    "    \"\"\"\n",
    "    # Generate all possible pairs in input\n",
    "    pairs = itertools.combinations(input, 2)\n",
    "    # Assumption: if a number appears twice in input, the pair may be of the same number\n",
    "\n",
    "    # Return True if any pair sums to target\n",
    "    pairs_valid = [(x + y == target) for x, y in pairs]\n",
    "    return any(pairs_valid)\n",
    "\n",
    "\n",
    "@timer\n",
    "def solve_A(numbers, preamble_length):\n",
    "    \"\"\"\n",
    "    Loop over all values after the preamble.\n",
    "    If any value fails to validate versus the [preamble_length]\n",
    "    preceeding numbers, return it as outcome.\n",
    "\n",
    "    Input:\n",
    "    * [numbers] a list of input numbers\n",
    "    * [preamble_length] Positive integer denoting preamble length\n",
    "\n",
    "    Output:\n",
    "    * Integer, first value that cannot be validated against preceeding input\n",
    "    \"\"\"\n",
    "\n",
    "    for ix, number in enumerate(numbers[preamble_length:]):\n",
    "        if not validate_value(number, numbers[ix : ix + preamble_length]):\n",
    "            return number"
   ]
  },
  {
   "cell_type": "markdown",
   "metadata": {},
   "source": [
    "#### Tests"
   ]
  },
  {
   "cell_type": "code",
   "execution_count": 51,
   "metadata": {},
   "outputs": [
    {
     "data": {
      "application/javascript": [
       "\n",
       "            setTimeout(function() {\n",
       "                var nbb_cell_id = 51;\n",
       "                var nbb_unformatted_code = \"%%run_pytest[clean] -qq\\n\\n# Test the set with preamble 25\\ndef test_A_25(dummy_input_25):\\n    assert solve_A(split_input(dummy_input_25), 25) == 100\\n\\n# Test the set with preamble 5\\ndef test_A_5(dummy_input_5):\\n    assert solve_A(split_input(dummy_input_5), 5) == 127\";\n",
       "                var nbb_formatted_code = \"%%run_pytest[clean] -qq\\n\\n# Test the set with preamble 25\\ndef test_A_25(dummy_input_25):\\n    assert solve_A(split_input(dummy_input_25), 25) == 100\\n\\n# Test the set with preamble 5\\ndef test_A_5(dummy_input_5):\\n    assert solve_A(split_input(dummy_input_5), 5) == 127\";\n",
       "                var nbb_cells = Jupyter.notebook.get_cells();\n",
       "                for (var i = 0; i < nbb_cells.length; ++i) {\n",
       "                    if (nbb_cells[i].input_prompt_number == nbb_cell_id) {\n",
       "                        if (nbb_cells[i].get_text() == nbb_unformatted_code) {\n",
       "                             nbb_cells[i].set_text(nbb_formatted_code);\n",
       "                        }\n",
       "                        break;\n",
       "                    }\n",
       "                }\n",
       "            }, 500);\n",
       "            "
      ],
      "text/plain": [
       "<IPython.core.display.Javascript object>"
      ]
     },
     "metadata": {},
     "output_type": "display_data"
    },
    {
     "name": "stdout",
     "output_type": "stream",
     "text": [
      "..                                                                                                                                                                                                                                     [100%]\n"
     ]
    },
    {
     "data": {
      "application/javascript": [
       "\n",
       "            setTimeout(function() {\n",
       "                var nbb_cell_id = 51;\n",
       "                var nbb_unformatted_code = \"%%run_pytest[clean] -qq\\n\\n# Test the set with preamble 25\\ndef test_A_25(dummy_input_25):\\n    assert solve_A(split_input(dummy_input_25), 25) == 100\\n\\n# Test the set with preamble 5\\ndef test_A_5(dummy_input_5):\\n    assert solve_A(split_input(dummy_input_5), 5) == 127\";\n",
       "                var nbb_formatted_code = \"%%run_pytest[clean] -qq\\n\\n# Test the set with preamble 25\\ndef test_A_25(dummy_input_25):\\n    assert solve_A(split_input(dummy_input_25), 25) == 100\\n\\n# Test the set with preamble 5\\ndef test_A_5(dummy_input_5):\\n    assert solve_A(split_input(dummy_input_5), 5) == 127\";\n",
       "                var nbb_cells = Jupyter.notebook.get_cells();\n",
       "                for (var i = 0; i < nbb_cells.length; ++i) {\n",
       "                    if (nbb_cells[i].input_prompt_number == nbb_cell_id) {\n",
       "                        if (nbb_cells[i].get_text() == nbb_unformatted_code) {\n",
       "                             nbb_cells[i].set_text(nbb_formatted_code);\n",
       "                        }\n",
       "                        break;\n",
       "                    }\n",
       "                }\n",
       "            }, 500);\n",
       "            "
      ],
      "text/plain": [
       "<IPython.core.display.Javascript object>"
      ]
     },
     "metadata": {},
     "output_type": "display_data"
    }
   ],
   "source": [
    "%%run_pytest[clean] -qq\n",
    "\n",
    "# Test the set with preamble 25\n",
    "def test_A_25(dummy_input_25):\n",
    "    assert solve_A(split_input(dummy_input_25), 25) == 100\n",
    "\n",
    "# Test the set with preamble 5\n",
    "def test_A_5(dummy_input_5):\n",
    "    assert solve_A(split_input(dummy_input_5), 5) == 127"
   ]
  },
  {
   "cell_type": "markdown",
   "metadata": {},
   "source": [
    "#### OUTPUT"
   ]
  },
  {
   "cell_type": "code",
   "execution_count": 53,
   "metadata": {},
   "outputs": [
    {
     "name": "stdout",
     "output_type": "stream",
     "text": [
      "Finished 'solve_A' in 0.0153 secs\n"
     ]
    },
    {
     "data": {
      "text/plain": [
       "50047984"
      ]
     },
     "execution_count": 53,
     "metadata": {},
     "output_type": "execute_result"
    },
    {
     "data": {
      "application/javascript": [
       "\n",
       "            setTimeout(function() {\n",
       "                var nbb_cell_id = 53;\n",
       "                var nbb_unformatted_code = \"solve_A(get_input(), 25)\";\n",
       "                var nbb_formatted_code = \"solve_A(get_input(), 25)\";\n",
       "                var nbb_cells = Jupyter.notebook.get_cells();\n",
       "                for (var i = 0; i < nbb_cells.length; ++i) {\n",
       "                    if (nbb_cells[i].input_prompt_number == nbb_cell_id) {\n",
       "                        if (nbb_cells[i].get_text() == nbb_unformatted_code) {\n",
       "                             nbb_cells[i].set_text(nbb_formatted_code);\n",
       "                        }\n",
       "                        break;\n",
       "                    }\n",
       "                }\n",
       "            }, 500);\n",
       "            "
      ],
      "text/plain": [
       "<IPython.core.display.Javascript object>"
      ]
     },
     "metadata": {},
     "output_type": "display_data"
    }
   ],
   "source": [
    "solve_A(get_input(), 25)"
   ]
  },
  {
   "cell_type": "markdown",
   "metadata": {},
   "source": [
    "## Solution B"
   ]
  },
  {
   "cell_type": "code",
   "execution_count": 92,
   "metadata": {},
   "outputs": [
    {
     "data": {
      "application/javascript": [
       "\n",
       "            setTimeout(function() {\n",
       "                var nbb_cell_id = 92;\n",
       "                var nbb_unformatted_code = \"@timer\\ndef solve_B(numbers, preamble_length):\\n    \\\"\\\"\\\"\\n    Solution B relies on the outcome of solve_A, [target].\\n    Find any consecutive series of >=2 numbers in [numbers],\\n    such that the sum of that [series] equals [target].\\n    Then, add the smallest and largest number of [series] together\\n    to get the output.\\n    \\n    The list of [numbers] is NOT necessarily sorted and should not be sorted!\\n    \\n    Input:\\n    * [numbers] a list of input numbers\\n    * [preamble_length] Positive integer denoting preamble length\\n\\n    Output:\\n    * Integer, sum of smallest and largest value in series\\n    \\\"\\\"\\\"\\n    # Get the target value from solve_A\\n    target = solve_A(numbers, preamble_length)\\n    print(f\\\"Target: {target}\\\")\\n    \\n    # Search the consecutive series that sums to target\\n    for ix_min in range(len(numbers)):  \\n        for ix_offset in range(2, len(numbers[ix_min:])):\\n            \\n            # Determine validity of series\\n            series = numbers[ix_min:ix_min+ix_offset]\\n            if sum(series) == target:\\n                return min(series) + max(series)\\n            if sum(series) > target:\\n                break\\n                \\n    return \\\"PLACEHOLDER\\\"\";\n",
       "                var nbb_formatted_code = \"@timer\\ndef solve_B(numbers, preamble_length):\\n    \\\"\\\"\\\"\\n    Solution B relies on the outcome of solve_A, [target].\\n    Find any consecutive series of >=2 numbers in [numbers],\\n    such that the sum of that [series] equals [target].\\n    Then, add the smallest and largest number of [series] together\\n    to get the output.\\n\\n    The list of [numbers] is NOT necessarily sorted and should not be sorted!\\n\\n    Input:\\n    * [numbers] a list of input numbers\\n    * [preamble_length] Positive integer denoting preamble length\\n\\n    Output:\\n    * Integer, sum of smallest and largest value in series\\n    \\\"\\\"\\\"\\n    # Get the target value from solve_A\\n    target = solve_A(numbers, preamble_length)\\n    print(f\\\"Target: {target}\\\")\\n\\n    # Search the consecutive series that sums to target\\n    for ix_min in range(len(numbers)):\\n        for ix_offset in range(2, len(numbers[ix_min:])):\\n\\n            # Determine validity of series\\n            series = numbers[ix_min : ix_min + ix_offset]\\n            if sum(series) == target:\\n                return min(series) + max(series)\\n            if sum(series) > target:\\n                break\\n\\n    return \\\"PLACEHOLDER\\\"\";\n",
       "                var nbb_cells = Jupyter.notebook.get_cells();\n",
       "                for (var i = 0; i < nbb_cells.length; ++i) {\n",
       "                    if (nbb_cells[i].input_prompt_number == nbb_cell_id) {\n",
       "                        if (nbb_cells[i].get_text() == nbb_unformatted_code) {\n",
       "                             nbb_cells[i].set_text(nbb_formatted_code);\n",
       "                        }\n",
       "                        break;\n",
       "                    }\n",
       "                }\n",
       "            }, 500);\n",
       "            "
      ],
      "text/plain": [
       "<IPython.core.display.Javascript object>"
      ]
     },
     "metadata": {},
     "output_type": "display_data"
    }
   ],
   "source": [
    "@timer\n",
    "def solve_B(numbers, preamble_length):\n",
    "    \"\"\"\n",
    "    Solution B relies on the outcome of solve_A, [target].\n",
    "    Find any consecutive series of >=2 numbers in [numbers],\n",
    "    such that the sum of that [series] equals [target].\n",
    "    Then, add the smallest and largest number of [series] together\n",
    "    to get the output.\n",
    "    \n",
    "    The list of [numbers] is NOT necessarily sorted and should not be sorted!\n",
    "    \n",
    "    Input:\n",
    "    * [numbers] a list of input numbers\n",
    "    * [preamble_length] Positive integer denoting preamble length\n",
    "\n",
    "    Output:\n",
    "    * Integer, sum of smallest and largest value in series\n",
    "    \"\"\"\n",
    "    # Get the target value from solve_A\n",
    "    target = solve_A(numbers, preamble_length)\n",
    "    print(f\"Target: {target}\")\n",
    "    \n",
    "    # Search the consecutive series that sums to target\n",
    "    for ix_min in range(len(numbers)):  \n",
    "        for ix_offset in range(2, len(numbers[ix_min:])):\n",
    "            \n",
    "            # Determine validity of series\n",
    "            series = numbers[ix_min:ix_min+ix_offset]\n",
    "            \n",
    "            # Handle output\n",
    "            if sum(series) == target:\n",
    "                return min(series) + max(series)\n",
    "            elif sum(series) > target:\n",
    "                break  # sum > target, stop extending the series\n",
    "            else:\n",
    "                continue\n",
    "                \n",
    "    return \"PLACEHOLDER\"\n"
   ]
  },
  {
   "cell_type": "markdown",
   "metadata": {},
   "source": [
    "#### Tests"
   ]
  },
  {
   "cell_type": "code",
   "execution_count": 93,
   "metadata": {},
   "outputs": [
    {
     "data": {
      "application/javascript": [
       "\n",
       "            setTimeout(function() {\n",
       "                var nbb_cell_id = 93;\n",
       "                var nbb_unformatted_code = \"%%run_pytest[clean] -qq\\n\\ndef test_B_5(dummy_input_5):\\n    assert solve_B(split_input(dummy_input_5), 5) == 62\";\n",
       "                var nbb_formatted_code = \"%%run_pytest[clean] -qq\\n\\ndef test_B_5(dummy_input_5):\\n    assert solve_B(split_input(dummy_input_5), 5) == 62\";\n",
       "                var nbb_cells = Jupyter.notebook.get_cells();\n",
       "                for (var i = 0; i < nbb_cells.length; ++i) {\n",
       "                    if (nbb_cells[i].input_prompt_number == nbb_cell_id) {\n",
       "                        if (nbb_cells[i].get_text() == nbb_unformatted_code) {\n",
       "                             nbb_cells[i].set_text(nbb_formatted_code);\n",
       "                        }\n",
       "                        break;\n",
       "                    }\n",
       "                }\n",
       "            }, 500);\n",
       "            "
      ],
      "text/plain": [
       "<IPython.core.display.Javascript object>"
      ]
     },
     "metadata": {},
     "output_type": "display_data"
    },
    {
     "name": "stdout",
     "output_type": "stream",
     "text": [
      ".                                                                                                                                                                                                                                      [100%]\n"
     ]
    },
    {
     "data": {
      "application/javascript": [
       "\n",
       "            setTimeout(function() {\n",
       "                var nbb_cell_id = 93;\n",
       "                var nbb_unformatted_code = \"%%run_pytest[clean] -qq\\n\\ndef test_B_5(dummy_input_5):\\n    assert solve_B(split_input(dummy_input_5), 5) == 62\";\n",
       "                var nbb_formatted_code = \"%%run_pytest[clean] -qq\\n\\ndef test_B_5(dummy_input_5):\\n    assert solve_B(split_input(dummy_input_5), 5) == 62\";\n",
       "                var nbb_cells = Jupyter.notebook.get_cells();\n",
       "                for (var i = 0; i < nbb_cells.length; ++i) {\n",
       "                    if (nbb_cells[i].input_prompt_number == nbb_cell_id) {\n",
       "                        if (nbb_cells[i].get_text() == nbb_unformatted_code) {\n",
       "                             nbb_cells[i].set_text(nbb_formatted_code);\n",
       "                        }\n",
       "                        break;\n",
       "                    }\n",
       "                }\n",
       "            }, 500);\n",
       "            "
      ],
      "text/plain": [
       "<IPython.core.display.Javascript object>"
      ]
     },
     "metadata": {},
     "output_type": "display_data"
    }
   ],
   "source": [
    "%%run_pytest[clean] -qq\n",
    "\n",
    "def test_B_5(dummy_input_5):\n",
    "    assert solve_B(split_input(dummy_input_5), 5) == 62"
   ]
  },
  {
   "cell_type": "markdown",
   "metadata": {},
   "source": [
    "#### OUTPUT"
   ]
  },
  {
   "cell_type": "code",
   "execution_count": 94,
   "metadata": {},
   "outputs": [
    {
     "name": "stdout",
     "output_type": "stream",
     "text": [
      "Finished 'solve_A' in 0.0164 secs\n",
      "Target: 50047984\n",
      "Finished 'solve_B' in 0.1800 secs\n"
     ]
    },
    {
     "data": {
      "text/plain": [
       "5407707"
      ]
     },
     "execution_count": 94,
     "metadata": {},
     "output_type": "execute_result"
    },
    {
     "data": {
      "application/javascript": [
       "\n",
       "            setTimeout(function() {\n",
       "                var nbb_cell_id = 94;\n",
       "                var nbb_unformatted_code = \"solve_B(get_input(), 25)\";\n",
       "                var nbb_formatted_code = \"solve_B(get_input(), 25)\";\n",
       "                var nbb_cells = Jupyter.notebook.get_cells();\n",
       "                for (var i = 0; i < nbb_cells.length; ++i) {\n",
       "                    if (nbb_cells[i].input_prompt_number == nbb_cell_id) {\n",
       "                        if (nbb_cells[i].get_text() == nbb_unformatted_code) {\n",
       "                             nbb_cells[i].set_text(nbb_formatted_code);\n",
       "                        }\n",
       "                        break;\n",
       "                    }\n",
       "                }\n",
       "            }, 500);\n",
       "            "
      ],
      "text/plain": [
       "<IPython.core.display.Javascript object>"
      ]
     },
     "metadata": {},
     "output_type": "display_data"
    }
   ],
   "source": [
    "solve_B(get_input(), 25)"
   ]
  },
  {
   "cell_type": "code",
   "execution_count": null,
   "metadata": {},
   "outputs": [],
   "source": []
  }
 ],
 "metadata": {
  "kernelspec": {
   "display_name": "Python [conda env:aoc20_36] *",
   "language": "python",
   "name": "conda-env-aoc20_36-py"
  },
  "language_info": {
   "codemirror_mode": {
    "name": "ipython",
    "version": 3
   },
   "file_extension": ".py",
   "mimetype": "text/x-python",
   "name": "python",
   "nbconvert_exporter": "python",
   "pygments_lexer": "ipython3",
   "version": "3.6.12"
  }
 },
 "nbformat": 4,
 "nbformat_minor": 4
}
