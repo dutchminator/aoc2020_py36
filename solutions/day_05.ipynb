{
 "cells": [
  {
   "cell_type": "markdown",
   "metadata": {},
   "source": [
    "# Day 5"
   ]
  },
  {
   "cell_type": "markdown",
   "metadata": {},
   "source": [
    "## GENERIC SETUP"
   ]
  },
  {
   "cell_type": "code",
   "execution_count": 1,
   "metadata": {},
   "outputs": [
    {
     "data": {
      "application/javascript": [
       "\n",
       "            setTimeout(function() {\n",
       "                var nbb_cell_id = 1;\n",
       "                var nbb_unformatted_code = \"# General imports\\nimport pytest\\nimport ipytest\\nimport time\\nimport functools\\n\\n# Setup ipytest\\nipytest.autoconfig()\\n\\n# Setup nb_black\\n%load_ext nb_black\\n\\n# Decorator to time solutions\\ndef timer(func):\\n    \\\"\\\"\\\"\\n    Wrapper function.\\n    Print the runtime of the decorated function.\\n    \\\"\\\"\\\"\\n\\n    @functools.wraps(func)\\n    def wrapper_timer(*args, **kwargs):\\n        start_time = time.perf_counter()  # 1\\n        value = func(*args, **kwargs)\\n        end_time = time.perf_counter()  # 2\\n        run_time = end_time - start_time  # 3\\n        print(f\\\"Finished {func.__name__!r} in {run_time:.4f} secs\\\")\\n        return value\\n\\n    return wrapper_timer\";\n",
       "                var nbb_formatted_code = \"# General imports\\nimport pytest\\nimport ipytest\\nimport time\\nimport functools\\n\\n# Setup ipytest\\nipytest.autoconfig()\\n\\n# Setup nb_black\\n%load_ext nb_black\\n\\n# Decorator to time solutions\\ndef timer(func):\\n    \\\"\\\"\\\"\\n    Wrapper function.\\n    Print the runtime of the decorated function.\\n    \\\"\\\"\\\"\\n\\n    @functools.wraps(func)\\n    def wrapper_timer(*args, **kwargs):\\n        start_time = time.perf_counter()  # 1\\n        value = func(*args, **kwargs)\\n        end_time = time.perf_counter()  # 2\\n        run_time = end_time - start_time  # 3\\n        print(f\\\"Finished {func.__name__!r} in {run_time:.4f} secs\\\")\\n        return value\\n\\n    return wrapper_timer\";\n",
       "                var nbb_cells = Jupyter.notebook.get_cells();\n",
       "                for (var i = 0; i < nbb_cells.length; ++i) {\n",
       "                    if (nbb_cells[i].input_prompt_number == nbb_cell_id) {\n",
       "                        if (nbb_cells[i].get_text() == nbb_unformatted_code) {\n",
       "                             nbb_cells[i].set_text(nbb_formatted_code);\n",
       "                        }\n",
       "                        break;\n",
       "                    }\n",
       "                }\n",
       "            }, 500);\n",
       "            "
      ],
      "text/plain": [
       "<IPython.core.display.Javascript object>"
      ]
     },
     "metadata": {},
     "output_type": "display_data"
    }
   ],
   "source": [
    "# General imports\n",
    "import pytest\n",
    "import ipytest\n",
    "import time\n",
    "import functools\n",
    "\n",
    "# Setup ipytest\n",
    "ipytest.autoconfig()\n",
    "\n",
    "# Setup nb_black\n",
    "%load_ext nb_black\n",
    "\n",
    "# Decorator to time solutions\n",
    "def timer(func):\n",
    "    \"\"\"\n",
    "    Wrapper function.\n",
    "    Print the runtime of the decorated function.\n",
    "    \"\"\"\n",
    "\n",
    "    @functools.wraps(func)\n",
    "    def wrapper_timer(*args, **kwargs):\n",
    "        start_time = time.perf_counter()  # 1\n",
    "        value = func(*args, **kwargs)\n",
    "        end_time = time.perf_counter()  # 2\n",
    "        run_time = end_time - start_time  # 3\n",
    "        print(f\"Finished {func.__name__!r} in {run_time:.4f} secs\")\n",
    "        return value\n",
    "\n",
    "    return wrapper_timer"
   ]
  },
  {
   "cell_type": "markdown",
   "metadata": {},
   "source": [
    "## SOLUTION SETUP"
   ]
  },
  {
   "cell_type": "code",
   "execution_count": 11,
   "metadata": {},
   "outputs": [
    {
     "data": {
      "application/javascript": [
       "\n",
       "            setTimeout(function() {\n",
       "                var nbb_cell_id = 11;\n",
       "                var nbb_unformatted_code = \"# Solution-specific imports\\nimport re\\n# What day do we solve? Used to identify the input datafile, integer value\\nDAY = 5\";\n",
       "                var nbb_formatted_code = \"# Solution-specific imports\\nimport re\\n\\n# What day do we solve? Used to identify the input datafile, integer value\\nDAY = 5\";\n",
       "                var nbb_cells = Jupyter.notebook.get_cells();\n",
       "                for (var i = 0; i < nbb_cells.length; ++i) {\n",
       "                    if (nbb_cells[i].input_prompt_number == nbb_cell_id) {\n",
       "                        if (nbb_cells[i].get_text() == nbb_unformatted_code) {\n",
       "                             nbb_cells[i].set_text(nbb_formatted_code);\n",
       "                        }\n",
       "                        break;\n",
       "                    }\n",
       "                }\n",
       "            }, 500);\n",
       "            "
      ],
      "text/plain": [
       "<IPython.core.display.Javascript object>"
      ]
     },
     "metadata": {},
     "output_type": "display_data"
    }
   ],
   "source": [
    "# Solution-specific imports\n",
    "import re\n",
    "\n",
    "# What day do we solve? Used to identify the input datafile, integer value\n",
    "DAY = 5"
   ]
  },
  {
   "cell_type": "markdown",
   "metadata": {},
   "source": [
    "#### I/O functions"
   ]
  },
  {
   "cell_type": "code",
   "execution_count": 102,
   "metadata": {},
   "outputs": [
    {
     "data": {
      "application/javascript": [
       "\n",
       "            setTimeout(function() {\n",
       "                var nbb_cell_id = 102;\n",
       "                var nbb_unformatted_code = \"def get_input():\\n    with open(f\\\"../data/{DAY}.txt\\\", \\\"r\\\") as f:\\n        return split_input(f.read())\\n\\n\\ndef split_input(input_raw):\\n    \\\"\\\"\\\"Strip trailing newline, then split on newline\\\"\\\"\\\"\\n    return [line.strip() for line in input_raw.rstrip().split(\\\"\\\\n\\\")]\";\n",
       "                var nbb_formatted_code = \"def get_input():\\n    with open(f\\\"../data/{DAY}.txt\\\", \\\"r\\\") as f:\\n        return split_input(f.read())\\n\\n\\ndef split_input(input_raw):\\n    \\\"\\\"\\\"Strip trailing newline, then split on newline\\\"\\\"\\\"\\n    return [line.strip() for line in input_raw.rstrip().split(\\\"\\\\n\\\")]\";\n",
       "                var nbb_cells = Jupyter.notebook.get_cells();\n",
       "                for (var i = 0; i < nbb_cells.length; ++i) {\n",
       "                    if (nbb_cells[i].input_prompt_number == nbb_cell_id) {\n",
       "                        if (nbb_cells[i].get_text() == nbb_unformatted_code) {\n",
       "                             nbb_cells[i].set_text(nbb_formatted_code);\n",
       "                        }\n",
       "                        break;\n",
       "                    }\n",
       "                }\n",
       "            }, 500);\n",
       "            "
      ],
      "text/plain": [
       "<IPython.core.display.Javascript object>"
      ]
     },
     "metadata": {},
     "output_type": "display_data"
    }
   ],
   "source": [
    "def get_input():\n",
    "    with open(f\"../data/{DAY}.txt\", \"r\") as f:\n",
    "        return split_input(f.read())\n",
    "\n",
    "\n",
    "def split_input(input_raw):\n",
    "    \"\"\"Strip trailing newline, then split on newline\"\"\"\n",
    "    return [line.strip() for line in input_raw.rstrip().split(\"\\n\")]"
   ]
  },
  {
   "cell_type": "markdown",
   "metadata": {},
   "source": [
    "#### Pytest input data"
   ]
  },
  {
   "cell_type": "code",
   "execution_count": 109,
   "metadata": {},
   "outputs": [
    {
     "data": {
      "application/javascript": [
       "\n",
       "            setTimeout(function() {\n",
       "                var nbb_cell_id = 109;\n",
       "                var nbb_unformatted_code = \"# Sample input\\n@pytest.fixture\\ndef dummy_input_A():\\n    return \\\"\\\"\\\"\\\\\\nFBFBBFFRLR\\n\\\"\\\"\\\"\\n\\n\\n@pytest.fixture\\ndef dummy_input_B():\\n    # Missing seat FBFBBFFRRL, 358, which should be the answer\\n    return \\\"\\\"\\\"\\\\\\nFBFBBFFRLR\\nFBFBBFFRRR\\n\\\"\\\"\\\"\";\n",
       "                var nbb_formatted_code = \"# Sample input\\n@pytest.fixture\\ndef dummy_input_A():\\n    return \\\"\\\"\\\"\\\\\\nFBFBBFFRLR\\n\\\"\\\"\\\"\\n\\n\\n@pytest.fixture\\ndef dummy_input_B():\\n    # Missing seat FBFBBFFRRL, 358, which should be the answer\\n    return \\\"\\\"\\\"\\\\\\nFBFBBFFRLR\\nFBFBBFFRRR\\n\\\"\\\"\\\"\";\n",
       "                var nbb_cells = Jupyter.notebook.get_cells();\n",
       "                for (var i = 0; i < nbb_cells.length; ++i) {\n",
       "                    if (nbb_cells[i].input_prompt_number == nbb_cell_id) {\n",
       "                        if (nbb_cells[i].get_text() == nbb_unformatted_code) {\n",
       "                             nbb_cells[i].set_text(nbb_formatted_code);\n",
       "                        }\n",
       "                        break;\n",
       "                    }\n",
       "                }\n",
       "            }, 500);\n",
       "            "
      ],
      "text/plain": [
       "<IPython.core.display.Javascript object>"
      ]
     },
     "metadata": {},
     "output_type": "display_data"
    }
   ],
   "source": [
    "# Sample input\n",
    "@pytest.fixture\n",
    "def dummy_input_A():\n",
    "    return \"\"\"\\\n",
    "FBFBBFFRLR\n",
    "\"\"\"\n",
    "\n",
    "\n",
    "@pytest.fixture\n",
    "def dummy_input_B():\n",
    "    # Missing seat FBFBBFFRRL, 358, which should be the answer\n",
    "    return \"\"\"\\\n",
    "FBFBBFFRLR\n",
    "FBFBBFFRRR\n",
    "\"\"\""
   ]
  },
  {
   "cell_type": "markdown",
   "metadata": {},
   "source": [
    "## Solution A"
   ]
  },
  {
   "cell_type": "code",
   "execution_count": 110,
   "metadata": {
    "scrolled": true
   },
   "outputs": [
    {
     "data": {
      "application/javascript": [
       "\n",
       "            setTimeout(function() {\n",
       "                var nbb_cell_id = 110;\n",
       "                var nbb_unformatted_code = \"def determine_seat(input):\\n    \\\"\\\"\\\"\\n    Translate the FBLR instructions to binary 1/0,\\n    and determine the seat column and row accordingly.\\n    Then, calculate seat ID and return.\\n    \\\"\\\"\\\"\\n\\n    def replace_instruction(match):\\n        \\\"\\\"\\\"\\n        Return 0 for F or L, return 1 for B or R.\\n        https://docs.python.org/3/library/re.html#re.sub\\n        \\\"\\\"\\\"\\n        if match.group(0) in [\\\"F\\\", \\\"L\\\"]:\\n            return \\\"0\\\"\\n        else:\\n            return \\\"1\\\"\\n\\n    # Transform instructions to binary\\n    binary_input = re.sub(\\\"[BFLR]\\\", replace_instruction, input)\\n\\n    # Determine the seat ID by translating to integer, and return\\n    return int(binary_input, 2)\\n\\n\\n@timer\\ndef solve_A(lines):\\n    \\\"\\\"\\\"\\n    For each line, determine the seat ID.\\n    Then, take the highest ID in the results.\\n    \\\"\\\"\\\"\\n    # Determine seat ID per boarding pass\\n    seat_ids = map(determine_seat, lines)\\n    # Return highest ID\\n    return max(seat_ids)\";\n",
       "                var nbb_formatted_code = \"def determine_seat(input):\\n    \\\"\\\"\\\"\\n    Translate the FBLR instructions to binary 1/0,\\n    and determine the seat column and row accordingly.\\n    Then, calculate seat ID and return.\\n    \\\"\\\"\\\"\\n\\n    def replace_instruction(match):\\n        \\\"\\\"\\\"\\n        Return 0 for F or L, return 1 for B or R.\\n        https://docs.python.org/3/library/re.html#re.sub\\n        \\\"\\\"\\\"\\n        if match.group(0) in [\\\"F\\\", \\\"L\\\"]:\\n            return \\\"0\\\"\\n        else:\\n            return \\\"1\\\"\\n\\n    # Transform instructions to binary\\n    binary_input = re.sub(\\\"[BFLR]\\\", replace_instruction, input)\\n\\n    # Determine the seat ID by translating to integer, and return\\n    return int(binary_input, 2)\\n\\n\\n@timer\\ndef solve_A(lines):\\n    \\\"\\\"\\\"\\n    For each line, determine the seat ID.\\n    Then, take the highest ID in the results.\\n    \\\"\\\"\\\"\\n    # Determine seat ID per boarding pass\\n    seat_ids = map(determine_seat, lines)\\n    # Return highest ID\\n    return max(seat_ids)\";\n",
       "                var nbb_cells = Jupyter.notebook.get_cells();\n",
       "                for (var i = 0; i < nbb_cells.length; ++i) {\n",
       "                    if (nbb_cells[i].input_prompt_number == nbb_cell_id) {\n",
       "                        if (nbb_cells[i].get_text() == nbb_unformatted_code) {\n",
       "                             nbb_cells[i].set_text(nbb_formatted_code);\n",
       "                        }\n",
       "                        break;\n",
       "                    }\n",
       "                }\n",
       "            }, 500);\n",
       "            "
      ],
      "text/plain": [
       "<IPython.core.display.Javascript object>"
      ]
     },
     "metadata": {},
     "output_type": "display_data"
    }
   ],
   "source": [
    "def determine_seat(input):\n",
    "    \"\"\"\n",
    "    Translate the FBLR instructions to binary 1/0,\n",
    "    and determine the seat column and row accordingly.\n",
    "    Then, calculate seat ID and return.\n",
    "    \"\"\"\n",
    "\n",
    "    def replace_instruction(match):\n",
    "        \"\"\"\n",
    "        Return 0 for F or L, return 1 for B or R.\n",
    "        https://docs.python.org/3/library/re.html#re.sub\n",
    "        \"\"\"\n",
    "        if match.group(0) in [\"F\", \"L\"]:\n",
    "            return \"0\"\n",
    "        else:\n",
    "            return \"1\"\n",
    "\n",
    "    # Transform instructions to binary using regex substitution\n",
    "    binary_input = re.sub(\"[BFLR]\", replace_instruction, input)\n",
    "\n",
    "    # Determine the seat ID by translating to integer, and return\n",
    "    return int(binary_input, 2)\n",
    "\n",
    "\n",
    "@timer\n",
    "def solve_A(lines):\n",
    "    \"\"\"\n",
    "    For each line, determine the seat ID.\n",
    "    Then, take the highest ID in the results.\n",
    "    \"\"\"\n",
    "    # Determine seat ID per boarding pass\n",
    "    seat_ids = map(determine_seat, lines)\n",
    "    # Return highest ID\n",
    "    return max(seat_ids)"
   ]
  },
  {
   "cell_type": "markdown",
   "metadata": {},
   "source": [
    "#### Tests"
   ]
  },
  {
   "cell_type": "code",
   "execution_count": 111,
   "metadata": {},
   "outputs": [
    {
     "data": {
      "application/javascript": [
       "\n",
       "            setTimeout(function() {\n",
       "                var nbb_cell_id = 111;\n",
       "                var nbb_unformatted_code = \"%%run_pytest[clean] -qq\\n\\ndef test_A(dummy_input_A):\\n    assert solve_A(split_input(dummy_input_A)) == 357\";\n",
       "                var nbb_formatted_code = \"%%run_pytest[clean] -qq\\n\\ndef test_A(dummy_input_A):\\n    assert solve_A(split_input(dummy_input_A)) == 357\";\n",
       "                var nbb_cells = Jupyter.notebook.get_cells();\n",
       "                for (var i = 0; i < nbb_cells.length; ++i) {\n",
       "                    if (nbb_cells[i].input_prompt_number == nbb_cell_id) {\n",
       "                        if (nbb_cells[i].get_text() == nbb_unformatted_code) {\n",
       "                             nbb_cells[i].set_text(nbb_formatted_code);\n",
       "                        }\n",
       "                        break;\n",
       "                    }\n",
       "                }\n",
       "            }, 500);\n",
       "            "
      ],
      "text/plain": [
       "<IPython.core.display.Javascript object>"
      ]
     },
     "metadata": {},
     "output_type": "display_data"
    },
    {
     "name": "stdout",
     "output_type": "stream",
     "text": [
      ".                                                                                                                                                                                                                                      [100%]\n"
     ]
    },
    {
     "data": {
      "application/javascript": [
       "\n",
       "            setTimeout(function() {\n",
       "                var nbb_cell_id = 111;\n",
       "                var nbb_unformatted_code = \"%%run_pytest[clean] -qq\\n\\ndef test_A(dummy_input_A):\\n    assert solve_A(split_input(dummy_input_A)) == 357\";\n",
       "                var nbb_formatted_code = \"%%run_pytest[clean] -qq\\n\\ndef test_A(dummy_input_A):\\n    assert solve_A(split_input(dummy_input_A)) == 357\";\n",
       "                var nbb_cells = Jupyter.notebook.get_cells();\n",
       "                for (var i = 0; i < nbb_cells.length; ++i) {\n",
       "                    if (nbb_cells[i].input_prompt_number == nbb_cell_id) {\n",
       "                        if (nbb_cells[i].get_text() == nbb_unformatted_code) {\n",
       "                             nbb_cells[i].set_text(nbb_formatted_code);\n",
       "                        }\n",
       "                        break;\n",
       "                    }\n",
       "                }\n",
       "            }, 500);\n",
       "            "
      ],
      "text/plain": [
       "<IPython.core.display.Javascript object>"
      ]
     },
     "metadata": {},
     "output_type": "display_data"
    }
   ],
   "source": [
    "%%run_pytest[clean] -qq\n",
    "\n",
    "def test_A(dummy_input_A):\n",
    "    assert solve_A(split_input(dummy_input_A)) == 357"
   ]
  },
  {
   "cell_type": "markdown",
   "metadata": {},
   "source": [
    "#### OUTPUT"
   ]
  },
  {
   "cell_type": "code",
   "execution_count": 112,
   "metadata": {},
   "outputs": [
    {
     "name": "stdout",
     "output_type": "stream",
     "text": [
      "Finished 'solve_A' in 0.0051 secs\n"
     ]
    },
    {
     "data": {
      "text/plain": [
       "888"
      ]
     },
     "execution_count": 112,
     "metadata": {},
     "output_type": "execute_result"
    },
    {
     "data": {
      "application/javascript": [
       "\n",
       "            setTimeout(function() {\n",
       "                var nbb_cell_id = 112;\n",
       "                var nbb_unformatted_code = \"solve_A(get_input())\";\n",
       "                var nbb_formatted_code = \"solve_A(get_input())\";\n",
       "                var nbb_cells = Jupyter.notebook.get_cells();\n",
       "                for (var i = 0; i < nbb_cells.length; ++i) {\n",
       "                    if (nbb_cells[i].input_prompt_number == nbb_cell_id) {\n",
       "                        if (nbb_cells[i].get_text() == nbb_unformatted_code) {\n",
       "                             nbb_cells[i].set_text(nbb_formatted_code);\n",
       "                        }\n",
       "                        break;\n",
       "                    }\n",
       "                }\n",
       "            }, 500);\n",
       "            "
      ],
      "text/plain": [
       "<IPython.core.display.Javascript object>"
      ]
     },
     "metadata": {},
     "output_type": "display_data"
    }
   ],
   "source": [
    "solve_A(get_input())"
   ]
  },
  {
   "cell_type": "markdown",
   "metadata": {},
   "source": [
    "## Solution B"
   ]
  },
  {
   "cell_type": "code",
   "execution_count": 123,
   "metadata": {},
   "outputs": [
    {
     "data": {
      "application/javascript": [
       "\n",
       "            setTimeout(function() {\n",
       "                var nbb_cell_id = 123;\n",
       "                var nbb_unformatted_code = \"@timer\\ndef solve_B(lines):\\n    \\\"\\\"\\\"\\n    For each line, determine the seat ID by re-using \\n    determine_seat() from solution A.\\n    \\n    Then, using set difference between all seats and\\n    the calculated seats, determine the open seat.\\n    \\\"\\\"\\\"\\n    # Determine seat ID per boarding pass\\n    seat_ids = list(map(determine_seat, lines))\\n    \\n    # Determine min and max seat IDs\\n    min_seat = min(seat_ids)\\n    max_seat = max(seat_ids)\\n    \\n    # Find the difference between the set of all seats and found seats\\n    open_seat = set(range(min_seat, max_seat)) - set(seat_ids)\\n    \\n    # Get the single element from the set and return\\n    return open_seat.pop()\";\n",
       "                var nbb_formatted_code = \"@timer\\ndef solve_B(lines):\\n    \\\"\\\"\\\"\\n    For each line, determine the seat ID by re-using\\n    determine_seat() from solution A.\\n\\n    Then, using set difference between all seats and\\n    the calculated seats, determine the open seat.\\n    \\\"\\\"\\\"\\n    # Determine seat ID per boarding pass\\n    seat_ids = list(map(determine_seat, lines))\\n\\n    # Determine min and max seat IDs\\n    min_seat = min(seat_ids)\\n    max_seat = max(seat_ids)\\n\\n    # Find the difference between the set of all seats and found seats\\n    open_seat = set(range(min_seat, max_seat)) - set(seat_ids)\\n\\n    # Get the single element from the set and return\\n    return open_seat.pop()\";\n",
       "                var nbb_cells = Jupyter.notebook.get_cells();\n",
       "                for (var i = 0; i < nbb_cells.length; ++i) {\n",
       "                    if (nbb_cells[i].input_prompt_number == nbb_cell_id) {\n",
       "                        if (nbb_cells[i].get_text() == nbb_unformatted_code) {\n",
       "                             nbb_cells[i].set_text(nbb_formatted_code);\n",
       "                        }\n",
       "                        break;\n",
       "                    }\n",
       "                }\n",
       "            }, 500);\n",
       "            "
      ],
      "text/plain": [
       "<IPython.core.display.Javascript object>"
      ]
     },
     "metadata": {},
     "output_type": "display_data"
    }
   ],
   "source": [
    "@timer\n",
    "def solve_B(lines):\n",
    "    \"\"\"\n",
    "    For each line, determine the seat ID by re-using \n",
    "    determine_seat() from solution A.\n",
    "    \n",
    "    Then, using set difference between all seats and\n",
    "    the calculated seats, determine the open seat.\n",
    "    \"\"\"\n",
    "    # Determine seat ID per boarding pass\n",
    "    seat_ids = list(map(determine_seat, lines))\n",
    "    \n",
    "    # Determine min and max seat IDs\n",
    "    min_seat = min(seat_ids)\n",
    "    max_seat = max(seat_ids)\n",
    "    \n",
    "    # Find the difference between the set of all seats and found seats\n",
    "    open_seat = set(range(min_seat, max_seat)) - set(seat_ids)\n",
    "    \n",
    "    # Get the single element from the set and return\n",
    "    return open_seat.pop()\n"
   ]
  },
  {
   "cell_type": "markdown",
   "metadata": {},
   "source": [
    "#### Tests"
   ]
  },
  {
   "cell_type": "code",
   "execution_count": 121,
   "metadata": {},
   "outputs": [
    {
     "data": {
      "application/javascript": [
       "\n",
       "            setTimeout(function() {\n",
       "                var nbb_cell_id = 121;\n",
       "                var nbb_unformatted_code = \"%%run_pytest[clean] -qq\\n\\ndef test_B(dummy_input_B):\\n    assert solve_B(split_input(dummy_input_B)) == 358\";\n",
       "                var nbb_formatted_code = \"%%run_pytest[clean] -qq\\n\\ndef test_B(dummy_input_B):\\n    assert solve_B(split_input(dummy_input_B)) == 358\";\n",
       "                var nbb_cells = Jupyter.notebook.get_cells();\n",
       "                for (var i = 0; i < nbb_cells.length; ++i) {\n",
       "                    if (nbb_cells[i].input_prompt_number == nbb_cell_id) {\n",
       "                        if (nbb_cells[i].get_text() == nbb_unformatted_code) {\n",
       "                             nbb_cells[i].set_text(nbb_formatted_code);\n",
       "                        }\n",
       "                        break;\n",
       "                    }\n",
       "                }\n",
       "            }, 500);\n",
       "            "
      ],
      "text/plain": [
       "<IPython.core.display.Javascript object>"
      ]
     },
     "metadata": {},
     "output_type": "display_data"
    },
    {
     "name": "stdout",
     "output_type": "stream",
     "text": [
      ".                                                                                                                                                                                                                                      [100%]\n"
     ]
    },
    {
     "data": {
      "application/javascript": [
       "\n",
       "            setTimeout(function() {\n",
       "                var nbb_cell_id = 121;\n",
       "                var nbb_unformatted_code = \"%%run_pytest[clean] -qq\\n\\ndef test_B(dummy_input_B):\\n    assert solve_B(split_input(dummy_input_B)) == 358\";\n",
       "                var nbb_formatted_code = \"%%run_pytest[clean] -qq\\n\\ndef test_B(dummy_input_B):\\n    assert solve_B(split_input(dummy_input_B)) == 358\";\n",
       "                var nbb_cells = Jupyter.notebook.get_cells();\n",
       "                for (var i = 0; i < nbb_cells.length; ++i) {\n",
       "                    if (nbb_cells[i].input_prompt_number == nbb_cell_id) {\n",
       "                        if (nbb_cells[i].get_text() == nbb_unformatted_code) {\n",
       "                             nbb_cells[i].set_text(nbb_formatted_code);\n",
       "                        }\n",
       "                        break;\n",
       "                    }\n",
       "                }\n",
       "            }, 500);\n",
       "            "
      ],
      "text/plain": [
       "<IPython.core.display.Javascript object>"
      ]
     },
     "metadata": {},
     "output_type": "display_data"
    }
   ],
   "source": [
    "%%run_pytest[clean] -qq\n",
    "\n",
    "def test_B(dummy_input_B):\n",
    "    assert solve_B(split_input(dummy_input_B)) == 358"
   ]
  },
  {
   "cell_type": "markdown",
   "metadata": {},
   "source": [
    "#### OUTPUT"
   ]
  },
  {
   "cell_type": "code",
   "execution_count": 122,
   "metadata": {},
   "outputs": [
    {
     "name": "stdout",
     "output_type": "stream",
     "text": [
      "Finished 'solve_B' in 0.0052 secs\n"
     ]
    },
    {
     "data": {
      "text/plain": [
       "522"
      ]
     },
     "execution_count": 122,
     "metadata": {},
     "output_type": "execute_result"
    },
    {
     "data": {
      "application/javascript": [
       "\n",
       "            setTimeout(function() {\n",
       "                var nbb_cell_id = 122;\n",
       "                var nbb_unformatted_code = \"solve_B(get_input())\";\n",
       "                var nbb_formatted_code = \"solve_B(get_input())\";\n",
       "                var nbb_cells = Jupyter.notebook.get_cells();\n",
       "                for (var i = 0; i < nbb_cells.length; ++i) {\n",
       "                    if (nbb_cells[i].input_prompt_number == nbb_cell_id) {\n",
       "                        if (nbb_cells[i].get_text() == nbb_unformatted_code) {\n",
       "                             nbb_cells[i].set_text(nbb_formatted_code);\n",
       "                        }\n",
       "                        break;\n",
       "                    }\n",
       "                }\n",
       "            }, 500);\n",
       "            "
      ],
      "text/plain": [
       "<IPython.core.display.Javascript object>"
      ]
     },
     "metadata": {},
     "output_type": "display_data"
    }
   ],
   "source": [
    "solve_B(get_input())"
   ]
  }
 ],
 "metadata": {
  "kernelspec": {
   "display_name": "Python [conda env:aoc20_36] *",
   "language": "python",
   "name": "conda-env-aoc20_36-py"
  },
  "language_info": {
   "codemirror_mode": {
    "name": "ipython",
    "version": 3
   },
   "file_extension": ".py",
   "mimetype": "text/x-python",
   "name": "python",
   "nbconvert_exporter": "python",
   "pygments_lexer": "ipython3",
   "version": "3.6.12"
  }
 },
 "nbformat": 4,
 "nbformat_minor": 4
}
