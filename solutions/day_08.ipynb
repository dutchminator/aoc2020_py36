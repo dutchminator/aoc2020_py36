{
 "cells": [
  {
   "cell_type": "markdown",
   "metadata": {},
   "source": [
    "# Day 8"
   ]
  },
  {
   "cell_type": "markdown",
   "metadata": {},
   "source": [
    "## GENERIC SETUP"
   ]
  },
  {
   "cell_type": "code",
   "execution_count": 1,
   "metadata": {},
   "outputs": [
    {
     "data": {
      "application/javascript": [
       "\n",
       "            setTimeout(function() {\n",
       "                var nbb_cell_id = 1;\n",
       "                var nbb_unformatted_code = \"# General imports\\nimport pytest\\nimport ipytest\\nimport time\\nimport functools\\n\\n# Setup ipytest\\nipytest.autoconfig()\\n\\n# Setup nb_black\\n%load_ext nb_black\\n\\n# Decorator to time solutions\\ndef timer(func):\\n    \\\"\\\"\\\"\\n    Wrapper function.\\n    Print the runtime of the decorated function.\\n    \\\"\\\"\\\"\\n\\n    @functools.wraps(func)\\n    def wrapper_timer(*args, **kwargs):\\n        start_time = time.perf_counter()  # 1\\n        value = func(*args, **kwargs)\\n        end_time = time.perf_counter()  # 2\\n        run_time = end_time - start_time  # 3\\n        print(f\\\"Finished {func.__name__!r} in {run_time:.4f} secs\\\")\\n        return value\\n\\n    return wrapper_timer\";\n",
       "                var nbb_formatted_code = \"# General imports\\nimport pytest\\nimport ipytest\\nimport time\\nimport functools\\n\\n# Setup ipytest\\nipytest.autoconfig()\\n\\n# Setup nb_black\\n%load_ext nb_black\\n\\n# Decorator to time solutions\\ndef timer(func):\\n    \\\"\\\"\\\"\\n    Wrapper function.\\n    Print the runtime of the decorated function.\\n    \\\"\\\"\\\"\\n\\n    @functools.wraps(func)\\n    def wrapper_timer(*args, **kwargs):\\n        start_time = time.perf_counter()  # 1\\n        value = func(*args, **kwargs)\\n        end_time = time.perf_counter()  # 2\\n        run_time = end_time - start_time  # 3\\n        print(f\\\"Finished {func.__name__!r} in {run_time:.4f} secs\\\")\\n        return value\\n\\n    return wrapper_timer\";\n",
       "                var nbb_cells = Jupyter.notebook.get_cells();\n",
       "                for (var i = 0; i < nbb_cells.length; ++i) {\n",
       "                    if (nbb_cells[i].input_prompt_number == nbb_cell_id) {\n",
       "                        if (nbb_cells[i].get_text() == nbb_unformatted_code) {\n",
       "                             nbb_cells[i].set_text(nbb_formatted_code);\n",
       "                        }\n",
       "                        break;\n",
       "                    }\n",
       "                }\n",
       "            }, 500);\n",
       "            "
      ],
      "text/plain": [
       "<IPython.core.display.Javascript object>"
      ]
     },
     "metadata": {},
     "output_type": "display_data"
    }
   ],
   "source": [
    "# General imports\n",
    "import pytest\n",
    "import ipytest\n",
    "import time\n",
    "import functools\n",
    "\n",
    "# Setup ipytest\n",
    "ipytest.autoconfig()\n",
    "\n",
    "# Setup nb_black\n",
    "%load_ext nb_black\n",
    "\n",
    "# Decorator to time solutions\n",
    "def timer(func):\n",
    "    \"\"\"\n",
    "    Wrapper function.\n",
    "    Print the runtime of the decorated function.\n",
    "    \"\"\"\n",
    "\n",
    "    @functools.wraps(func)\n",
    "    def wrapper_timer(*args, **kwargs):\n",
    "        start_time = time.perf_counter()  # 1\n",
    "        value = func(*args, **kwargs)\n",
    "        end_time = time.perf_counter()  # 2\n",
    "        run_time = end_time - start_time  # 3\n",
    "        print(f\"Finished {func.__name__!r} in {run_time:.4f} secs\")\n",
    "        return value\n",
    "\n",
    "    return wrapper_timer"
   ]
  },
  {
   "cell_type": "markdown",
   "metadata": {},
   "source": [
    "## SOLUTION SETUP"
   ]
  },
  {
   "cell_type": "code",
   "execution_count": 5,
   "metadata": {},
   "outputs": [
    {
     "data": {
      "application/javascript": [
       "\n",
       "            setTimeout(function() {\n",
       "                var nbb_cell_id = 5;\n",
       "                var nbb_unformatted_code = \"# Solution-specific imports\\n\\n# What day do we solve? Used to identify the input datafile, integer value\\nDAY = 8\";\n",
       "                var nbb_formatted_code = \"# Solution-specific imports\\n\\n# What day do we solve? Used to identify the input datafile, integer value\\nDAY = 8\";\n",
       "                var nbb_cells = Jupyter.notebook.get_cells();\n",
       "                for (var i = 0; i < nbb_cells.length; ++i) {\n",
       "                    if (nbb_cells[i].input_prompt_number == nbb_cell_id) {\n",
       "                        if (nbb_cells[i].get_text() == nbb_unformatted_code) {\n",
       "                             nbb_cells[i].set_text(nbb_formatted_code);\n",
       "                        }\n",
       "                        break;\n",
       "                    }\n",
       "                }\n",
       "            }, 500);\n",
       "            "
      ],
      "text/plain": [
       "<IPython.core.display.Javascript object>"
      ]
     },
     "metadata": {},
     "output_type": "display_data"
    }
   ],
   "source": [
    "# Solution-specific imports\n",
    "\n",
    "# What day do we solve? Used to identify the input datafile, integer value\n",
    "DAY = 8"
   ]
  },
  {
   "cell_type": "markdown",
   "metadata": {},
   "source": [
    "#### I/O functions"
   ]
  },
  {
   "cell_type": "code",
   "execution_count": 25,
   "metadata": {},
   "outputs": [
    {
     "data": {
      "application/javascript": [
       "\n",
       "            setTimeout(function() {\n",
       "                var nbb_cell_id = 25;\n",
       "                var nbb_unformatted_code = \"def get_input():\\n    with open(f\\\"../data/{DAY}.txt\\\", \\\"r\\\") as f:\\n        return split_input(f.read())\\n\\n\\ndef split_input(input_raw):\\n    \\\"\\\"\\\"Strip trailing newline, then split on newline\\\"\\\"\\\"\\n    return [line.strip() for line in input_raw.rstrip().split(\\\"\\\\n\\\")]\";\n",
       "                var nbb_formatted_code = \"def get_input():\\n    with open(f\\\"../data/{DAY}.txt\\\", \\\"r\\\") as f:\\n        return split_input(f.read())\\n\\n\\ndef split_input(input_raw):\\n    \\\"\\\"\\\"Strip trailing newline, then split on newline\\\"\\\"\\\"\\n    return [line.strip() for line in input_raw.rstrip().split(\\\"\\\\n\\\")]\";\n",
       "                var nbb_cells = Jupyter.notebook.get_cells();\n",
       "                for (var i = 0; i < nbb_cells.length; ++i) {\n",
       "                    if (nbb_cells[i].input_prompt_number == nbb_cell_id) {\n",
       "                        if (nbb_cells[i].get_text() == nbb_unformatted_code) {\n",
       "                             nbb_cells[i].set_text(nbb_formatted_code);\n",
       "                        }\n",
       "                        break;\n",
       "                    }\n",
       "                }\n",
       "            }, 500);\n",
       "            "
      ],
      "text/plain": [
       "<IPython.core.display.Javascript object>"
      ]
     },
     "metadata": {},
     "output_type": "display_data"
    }
   ],
   "source": [
    "def get_input():\n",
    "    with open(f\"../data/{DAY}.txt\", \"r\") as f:\n",
    "        return split_input(f.read())\n",
    "\n",
    "\n",
    "def split_input(input_raw):\n",
    "    \"\"\"Strip trailing newline, then split on newline\"\"\"\n",
    "    return [line.strip() for line in input_raw.rstrip().split(\"\\n\")]"
   ]
  },
  {
   "cell_type": "markdown",
   "metadata": {},
   "source": [
    "#### Pytest input data"
   ]
  },
  {
   "cell_type": "code",
   "execution_count": 26,
   "metadata": {},
   "outputs": [
    {
     "data": {
      "application/javascript": [
       "\n",
       "            setTimeout(function() {\n",
       "                var nbb_cell_id = 26;\n",
       "                var nbb_unformatted_code = \"# Sample input\\n@pytest.fixture\\ndef dummy_input():\\n    return \\\"\\\"\\\"\\\\\\nnop +0\\nacc +1\\njmp +4\\nacc +3\\njmp -3\\nacc -99\\nacc +1\\njmp -4\\nacc +6\\n\\\"\\\"\\\"\";\n",
       "                var nbb_formatted_code = \"# Sample input\\n@pytest.fixture\\ndef dummy_input():\\n    return \\\"\\\"\\\"\\\\\\nnop +0\\nacc +1\\njmp +4\\nacc +3\\njmp -3\\nacc -99\\nacc +1\\njmp -4\\nacc +6\\n\\\"\\\"\\\"\";\n",
       "                var nbb_cells = Jupyter.notebook.get_cells();\n",
       "                for (var i = 0; i < nbb_cells.length; ++i) {\n",
       "                    if (nbb_cells[i].input_prompt_number == nbb_cell_id) {\n",
       "                        if (nbb_cells[i].get_text() == nbb_unformatted_code) {\n",
       "                             nbb_cells[i].set_text(nbb_formatted_code);\n",
       "                        }\n",
       "                        break;\n",
       "                    }\n",
       "                }\n",
       "            }, 500);\n",
       "            "
      ],
      "text/plain": [
       "<IPython.core.display.Javascript object>"
      ]
     },
     "metadata": {},
     "output_type": "display_data"
    }
   ],
   "source": [
    "# Sample input\n",
    "@pytest.fixture\n",
    "def dummy_input():\n",
    "    return \"\"\"\\\n",
    "nop +0\n",
    "acc +1\n",
    "jmp +4\n",
    "acc +3\n",
    "jmp -3\n",
    "acc -99\n",
    "acc +1\n",
    "jmp -4\n",
    "acc +6\n",
    "\"\"\""
   ]
  },
  {
   "cell_type": "markdown",
   "metadata": {},
   "source": [
    "## Solution A"
   ]
  },
  {
   "cell_type": "code",
   "execution_count": 53,
   "metadata": {
    "scrolled": true
   },
   "outputs": [
    {
     "data": {
      "application/javascript": [
       "\n",
       "            setTimeout(function() {\n",
       "                var nbb_cell_id = 53;\n",
       "                var nbb_unformatted_code = \"@timer\\ndef solve_A(lines):\\n    \\\"\\\"\\\"\\n    Continue executing the operations until we encounter a before-seen instruction.\\n    \\\"\\\"\\\"\\n    # Initialisation\\n    acc_val = 0  # accumulator initial value\\n    instr_ix = 0  # initial instruction index\\n\\n    # Generate list of seen instructions as bool\\n    num_instructions = len(lines)\\n    instr_seen = [False for x in range(num_instructions)]\\n\\n    # Keep going, unless we go out of bounds\\n    while True and (instr_ix < num_instructions):\\n        # Break if we've seen this instruction before\\n        if instr_seen[instr_ix]:\\n            break\\n\\n        # Set current line to True in seen instructions\\n        instr_seen[instr_ix] = True\\n\\n        # Perform the operations\\n        operation = lines[instr_ix].split(\\\" \\\")\\n\\n        if operation[0] == \\\"jmp\\\":\\n            instr_ix += int(operation[1])\\n        else:\\n            instr_ix += 1\\n            if operation[0] == \\\"acc\\\":\\n                acc_val += int(operation[1])\\n            elif operation[0] == \\\"nop\\\":\\n                pass  # nop does nothing yet\\n\\n        # END OF WHILE LOOP\\n\\n    # While loop concluded, return acc_val\\n    return acc_val\";\n",
       "                var nbb_formatted_code = \"@timer\\ndef solve_A(lines):\\n    \\\"\\\"\\\"\\n    Continue executing the operations until we encounter a before-seen instruction.\\n    \\\"\\\"\\\"\\n    # Initialisation\\n    acc_val = 0  # accumulator initial value\\n    instr_ix = 0  # initial instruction index\\n\\n    # Generate list of seen instructions as bool\\n    num_instructions = len(lines)\\n    instr_seen = [False for x in range(num_instructions)]\\n\\n    # Keep going, unless we go out of bounds\\n    while True and (instr_ix < num_instructions):\\n        # Break if we've seen this instruction before\\n        if instr_seen[instr_ix]:\\n            break\\n\\n        # Set current line to True in seen instructions\\n        instr_seen[instr_ix] = True\\n\\n        # Perform the operations\\n        operation = lines[instr_ix].split(\\\" \\\")\\n\\n        if operation[0] == \\\"jmp\\\":\\n            instr_ix += int(operation[1])\\n        else:\\n            instr_ix += 1\\n            if operation[0] == \\\"acc\\\":\\n                acc_val += int(operation[1])\\n            elif operation[0] == \\\"nop\\\":\\n                pass  # nop does nothing yet\\n\\n        # END OF WHILE LOOP\\n\\n    # While loop concluded, return acc_val\\n    return acc_val\";\n",
       "                var nbb_cells = Jupyter.notebook.get_cells();\n",
       "                for (var i = 0; i < nbb_cells.length; ++i) {\n",
       "                    if (nbb_cells[i].input_prompt_number == nbb_cell_id) {\n",
       "                        if (nbb_cells[i].get_text() == nbb_unformatted_code) {\n",
       "                             nbb_cells[i].set_text(nbb_formatted_code);\n",
       "                        }\n",
       "                        break;\n",
       "                    }\n",
       "                }\n",
       "            }, 500);\n",
       "            "
      ],
      "text/plain": [
       "<IPython.core.display.Javascript object>"
      ]
     },
     "metadata": {},
     "output_type": "display_data"
    }
   ],
   "source": [
    "@timer\n",
    "def solve_A(lines):\n",
    "    \"\"\"\n",
    "    Continue executing the operations until we encounter a before-seen instruction.\n",
    "    \"\"\"\n",
    "    # Initialisation\n",
    "    acc_val = 0  # accumulator initial value\n",
    "    instr_ix = 0  # initial instruction index\n",
    "\n",
    "    # Generate list of seen instructions as bool\n",
    "    num_instructions = len(lines)\n",
    "    instr_seen = [False for x in range(num_instructions)]\n",
    "\n",
    "    # Keep going, unless we go out of bounds\n",
    "    while True and (instr_ix < num_instructions):\n",
    "        # Break if we've seen this instruction before\n",
    "        if instr_seen[instr_ix]:\n",
    "            break\n",
    "\n",
    "        # Set current line to True in seen instructions\n",
    "        instr_seen[instr_ix] = True\n",
    "\n",
    "        # Perform the operations\n",
    "        operation = lines[instr_ix].split(\" \")\n",
    "\n",
    "        if operation[0] == \"jmp\":\n",
    "            instr_ix += int(operation[1])\n",
    "        else:\n",
    "            instr_ix += 1\n",
    "            if operation[0] == \"acc\":\n",
    "                acc_val += int(operation[1])\n",
    "            elif operation[0] == \"nop\":\n",
    "                pass  # nop does nothing yet\n",
    "\n",
    "        # END OF WHILE LOOP\n",
    "\n",
    "    # While loop concluded, return acc_val\n",
    "    return acc_val"
   ]
  },
  {
   "cell_type": "markdown",
   "metadata": {},
   "source": [
    "#### Tests"
   ]
  },
  {
   "cell_type": "code",
   "execution_count": 54,
   "metadata": {},
   "outputs": [
    {
     "data": {
      "application/javascript": [
       "\n",
       "            setTimeout(function() {\n",
       "                var nbb_cell_id = 54;\n",
       "                var nbb_unformatted_code = \"%%run_pytest[clean] -qq\\n\\ndef test_A(dummy_input):\\n    assert solve_A(split_input(dummy_input)) == 5\";\n",
       "                var nbb_formatted_code = \"%%run_pytest[clean] -qq\\n\\ndef test_A(dummy_input):\\n    assert solve_A(split_input(dummy_input)) == 5\";\n",
       "                var nbb_cells = Jupyter.notebook.get_cells();\n",
       "                for (var i = 0; i < nbb_cells.length; ++i) {\n",
       "                    if (nbb_cells[i].input_prompt_number == nbb_cell_id) {\n",
       "                        if (nbb_cells[i].get_text() == nbb_unformatted_code) {\n",
       "                             nbb_cells[i].set_text(nbb_formatted_code);\n",
       "                        }\n",
       "                        break;\n",
       "                    }\n",
       "                }\n",
       "            }, 500);\n",
       "            "
      ],
      "text/plain": [
       "<IPython.core.display.Javascript object>"
      ]
     },
     "metadata": {},
     "output_type": "display_data"
    },
    {
     "name": "stdout",
     "output_type": "stream",
     "text": [
      ".                                                                                                                                                                                                                                      [100%]\n"
     ]
    },
    {
     "data": {
      "application/javascript": [
       "\n",
       "            setTimeout(function() {\n",
       "                var nbb_cell_id = 54;\n",
       "                var nbb_unformatted_code = \"%%run_pytest[clean] -qq\\n\\ndef test_A(dummy_input):\\n    assert solve_A(split_input(dummy_input)) == 5\";\n",
       "                var nbb_formatted_code = \"%%run_pytest[clean] -qq\\n\\ndef test_A(dummy_input):\\n    assert solve_A(split_input(dummy_input)) == 5\";\n",
       "                var nbb_cells = Jupyter.notebook.get_cells();\n",
       "                for (var i = 0; i < nbb_cells.length; ++i) {\n",
       "                    if (nbb_cells[i].input_prompt_number == nbb_cell_id) {\n",
       "                        if (nbb_cells[i].get_text() == nbb_unformatted_code) {\n",
       "                             nbb_cells[i].set_text(nbb_formatted_code);\n",
       "                        }\n",
       "                        break;\n",
       "                    }\n",
       "                }\n",
       "            }, 500);\n",
       "            "
      ],
      "text/plain": [
       "<IPython.core.display.Javascript object>"
      ]
     },
     "metadata": {},
     "output_type": "display_data"
    }
   ],
   "source": [
    "%%run_pytest[clean] -qq\n",
    "\n",
    "def test_A(dummy_input):\n",
    "    assert solve_A(split_input(dummy_input)) == 5"
   ]
  },
  {
   "cell_type": "markdown",
   "metadata": {},
   "source": [
    "#### OUTPUT"
   ]
  },
  {
   "cell_type": "code",
   "execution_count": 55,
   "metadata": {},
   "outputs": [
    {
     "name": "stdout",
     "output_type": "stream",
     "text": [
      "Finished 'solve_A' in 0.0002 secs\n"
     ]
    },
    {
     "data": {
      "text/plain": [
       "2014"
      ]
     },
     "execution_count": 55,
     "metadata": {},
     "output_type": "execute_result"
    },
    {
     "data": {
      "application/javascript": [
       "\n",
       "            setTimeout(function() {\n",
       "                var nbb_cell_id = 55;\n",
       "                var nbb_unformatted_code = \"solve_A(get_input())\";\n",
       "                var nbb_formatted_code = \"solve_A(get_input())\";\n",
       "                var nbb_cells = Jupyter.notebook.get_cells();\n",
       "                for (var i = 0; i < nbb_cells.length; ++i) {\n",
       "                    if (nbb_cells[i].input_prompt_number == nbb_cell_id) {\n",
       "                        if (nbb_cells[i].get_text() == nbb_unformatted_code) {\n",
       "                             nbb_cells[i].set_text(nbb_formatted_code);\n",
       "                        }\n",
       "                        break;\n",
       "                    }\n",
       "                }\n",
       "            }, 500);\n",
       "            "
      ],
      "text/plain": [
       "<IPython.core.display.Javascript object>"
      ]
     },
     "metadata": {},
     "output_type": "display_data"
    }
   ],
   "source": [
    "solve_A(get_input())"
   ]
  },
  {
   "cell_type": "markdown",
   "metadata": {},
   "source": [
    "## Solution B"
   ]
  },
  {
   "cell_type": "code",
   "execution_count": 70,
   "metadata": {},
   "outputs": [
    {
     "data": {
      "application/javascript": [
       "\n",
       "            setTimeout(function() {\n",
       "                var nbb_cell_id = 70;\n",
       "                var nbb_unformatted_code = \"def run_code(lines):\\n    \\\"\\\"\\\"\\n    Continue executing the operations until we encounter a before-seen instruction.\\n    Minor extension of solve_A: adds loop_flag to output.\\n    \\n    Returns: tuple of (accumulator value, boolean indicator of bootloop)\\n    \\\"\\\"\\\"\\n    # Initialisation\\n    acc_val = 0  # accumulator initial value\\n    instr_ix = 0  # initial instruction index\\n    loop_flag = False\\n\\n    # Generate list of seen instructions as bool\\n    num_instructions = len(lines)\\n    instr_seen = [False for x in range(num_instructions)]\\n\\n    # Keep going, unless we go out of bounds\\n    while True and (instr_ix < num_instructions):\\n        # Break if we've seen this instruction before\\n        if instr_seen[instr_ix]:\\n            loop_flag = True\\n            break\\n\\n        # Set current line to True in seen instructions\\n        instr_seen[instr_ix] = True\\n\\n        # Perform the operations\\n        operation = lines[instr_ix].split(\\\" \\\")\\n\\n        if operation[0] == \\\"jmp\\\":\\n            instr_ix += int(operation[1])\\n        else:\\n            instr_ix += 1\\n            if operation[0] == \\\"acc\\\":\\n                acc_val += int(operation[1])\\n            elif operation[0] == \\\"nop\\\":\\n                pass  # nop does nothing yet\\n\\n        # END OF WHILE LOOP\\n\\n    # While loop has concluded: return acc_val and loop_flag\\n    return acc_val, loop_flag\\n\\n@timer\\ndef solve_B(lines):\\n    \\\"\\\"\\\"\\n    Loop over the lines, replacing nop with jmp and vice versa.\\n    If we find a solution that doesn't loop, break from for-loop\\n    and return the acc_val\\n    \\\"\\\"\\\"\\n    # Keep a copy of original input, initialise return val\\n    original_lines = lines.copy()\\n    acc_val = \\\"INIT\\\"\\n    \\n    for ix, line in enumerate(lines):\\n        operation = line.split(\\\" \\\")\\n        \\n        # Replace nop with jmp if value != 0\\n        if operation[0] == \\\"nop\\\" and operation[1] not in [\\\"+0\\\", \\\"-0\\\"]:\\n            lines[ix] = line.replace(\\\"nop\\\", \\\"jmp\\\")\\n            \\n        # OR: replace jmp with nop\\n        elif operation[0] == \\\"jmp\\\":\\n            lines[ix] = line.replace(\\\"jmp\\\", \\\"nop\\\")\\n            \\n        # OR: don't change the line, go to next iteration of for-loop\\n        else:\\n            continue\\n            \\n        # Test the program for correct execution\\n        acc_val_experiment, loop_flag = run_code(lines)\\n        \\n        # If not bootloop: We're done! break out of for-loop and return acc_val\\n        if not loop_flag:\\n            acc_val = acc_val_experiment\\n            break    \\n        # If bootloop: restore code, continue to next line experiment\\n        else:\\n            lines = original_lines.copy()\\n            acc_val\\n            \\n    return acc_val\";\n",
       "                var nbb_formatted_code = \"def run_code(lines):\\n    \\\"\\\"\\\"\\n    Continue executing the operations until we encounter a before-seen instruction.\\n    Minor extension of solve_A: adds loop_flag to output.\\n\\n    Returns: tuple of (accumulator value, boolean indicator of bootloop)\\n    \\\"\\\"\\\"\\n    # Initialisation\\n    acc_val = 0  # accumulator initial value\\n    instr_ix = 0  # initial instruction index\\n    loop_flag = False\\n\\n    # Generate list of seen instructions as bool\\n    num_instructions = len(lines)\\n    instr_seen = [False for x in range(num_instructions)]\\n\\n    # Keep going, unless we go out of bounds\\n    while True and (instr_ix < num_instructions):\\n        # Break if we've seen this instruction before\\n        if instr_seen[instr_ix]:\\n            loop_flag = True\\n            break\\n\\n        # Set current line to True in seen instructions\\n        instr_seen[instr_ix] = True\\n\\n        # Perform the operations\\n        operation = lines[instr_ix].split(\\\" \\\")\\n\\n        if operation[0] == \\\"jmp\\\":\\n            instr_ix += int(operation[1])\\n        else:\\n            instr_ix += 1\\n            if operation[0] == \\\"acc\\\":\\n                acc_val += int(operation[1])\\n            elif operation[0] == \\\"nop\\\":\\n                pass  # nop does nothing yet\\n\\n        # END OF WHILE LOOP\\n\\n    # While loop has concluded: return acc_val and loop_flag\\n    return acc_val, loop_flag\\n\\n\\n@timer\\ndef solve_B(lines):\\n    \\\"\\\"\\\"\\n    Loop over the lines, replacing nop with jmp and vice versa.\\n    If we find a solution that doesn't loop, break from for-loop\\n    and return the acc_val\\n    \\\"\\\"\\\"\\n    # Keep a copy of original input, initialise return val\\n    original_lines = lines.copy()\\n    acc_val = \\\"INIT\\\"\\n\\n    for ix, line in enumerate(lines):\\n        operation = line.split(\\\" \\\")\\n\\n        # Replace nop with jmp if value != 0\\n        if operation[0] == \\\"nop\\\" and operation[1] not in [\\\"+0\\\", \\\"-0\\\"]:\\n            lines[ix] = line.replace(\\\"nop\\\", \\\"jmp\\\")\\n\\n        # OR: replace jmp with nop\\n        elif operation[0] == \\\"jmp\\\":\\n            lines[ix] = line.replace(\\\"jmp\\\", \\\"nop\\\")\\n\\n        # OR: don't change the line, go to next iteration of for-loop\\n        else:\\n            continue\\n\\n        # Test the program for correct execution\\n        acc_val_experiment, loop_flag = run_code(lines)\\n\\n        # If not bootloop: We're done! break out of for-loop and return acc_val\\n        if not loop_flag:\\n            acc_val = acc_val_experiment\\n            break\\n        # If bootloop: restore code, continue to next line experiment\\n        else:\\n            lines = original_lines.copy()\\n            acc_val\\n\\n    return acc_val\";\n",
       "                var nbb_cells = Jupyter.notebook.get_cells();\n",
       "                for (var i = 0; i < nbb_cells.length; ++i) {\n",
       "                    if (nbb_cells[i].input_prompt_number == nbb_cell_id) {\n",
       "                        if (nbb_cells[i].get_text() == nbb_unformatted_code) {\n",
       "                             nbb_cells[i].set_text(nbb_formatted_code);\n",
       "                        }\n",
       "                        break;\n",
       "                    }\n",
       "                }\n",
       "            }, 500);\n",
       "            "
      ],
      "text/plain": [
       "<IPython.core.display.Javascript object>"
      ]
     },
     "metadata": {},
     "output_type": "display_data"
    }
   ],
   "source": [
    "def run_code(lines):\n",
    "    \"\"\"\n",
    "    Continue executing the operations until we encounter a before-seen instruction.\n",
    "    Minor extension of solve_A: adds loop_flag to output.\n",
    "    \n",
    "    Returns: tuple of (accumulator value, boolean indicator of bootloop)\n",
    "    \"\"\"\n",
    "    # Initialisation\n",
    "    acc_val = 0  # accumulator initial value\n",
    "    instr_ix = 0  # initial instruction index\n",
    "    loop_flag = False\n",
    "\n",
    "    # Generate list of seen instructions as bool\n",
    "    num_instructions = len(lines)\n",
    "    instr_seen = [False for x in range(num_instructions)]\n",
    "\n",
    "    # Keep going, unless we go out of bounds\n",
    "    while True and (instr_ix < num_instructions):\n",
    "        # Break if we've seen this instruction before\n",
    "        if instr_seen[instr_ix]:\n",
    "            loop_flag = True\n",
    "            break\n",
    "\n",
    "        # Set current line to True in seen instructions\n",
    "        instr_seen[instr_ix] = True\n",
    "\n",
    "        # Perform the operations\n",
    "        operation = lines[instr_ix].split(\" \")\n",
    "\n",
    "        if operation[0] == \"jmp\":\n",
    "            instr_ix += int(operation[1])\n",
    "        else:\n",
    "            instr_ix += 1\n",
    "            if operation[0] == \"acc\":\n",
    "                acc_val += int(operation[1])\n",
    "            elif operation[0] == \"nop\":\n",
    "                pass  # nop does nothing yet\n",
    "\n",
    "        # END OF WHILE LOOP\n",
    "\n",
    "    # While loop has concluded: return acc_val and loop_flag\n",
    "    return acc_val, loop_flag\n",
    "\n",
    "@timer\n",
    "def solve_B(lines):\n",
    "    \"\"\"\n",
    "    Loop over the lines, replacing nop with jmp and vice versa.\n",
    "    If we find a solution that doesn't loop, break from for-loop\n",
    "    and return the acc_val\n",
    "    \"\"\"\n",
    "    # Keep a copy of original input, initialise return val\n",
    "    original_lines = lines.copy()\n",
    "    acc_val = \"INIT\"\n",
    "    \n",
    "    for ix, line in enumerate(lines):\n",
    "        operation = line.split(\" \")\n",
    "        \n",
    "        # Replace nop with jmp if value != 0\n",
    "        if operation[0] == \"nop\" and operation[1] not in [\"+0\", \"-0\"]:\n",
    "            lines[ix] = line.replace(\"nop\", \"jmp\")\n",
    "            \n",
    "        # OR: replace jmp with nop\n",
    "        elif operation[0] == \"jmp\":\n",
    "            lines[ix] = line.replace(\"jmp\", \"nop\")\n",
    "            \n",
    "        # OR: don't change the line, go to next iteration of for-loop\n",
    "        else:\n",
    "            continue\n",
    "            \n",
    "        # Test the program for correct execution\n",
    "        acc_val_experiment, loop_flag = run_code(lines)\n",
    "        \n",
    "        # If not bootloop: We're done! break out of for-loop and return acc_val\n",
    "        if not loop_flag:\n",
    "            acc_val = acc_val_experiment\n",
    "            break    \n",
    "        # If bootloop: restore code, continue to next line experiment\n",
    "        else:\n",
    "            lines = original_lines.copy()\n",
    "            acc_val\n",
    "            \n",
    "    return acc_val\n"
   ]
  },
  {
   "cell_type": "markdown",
   "metadata": {},
   "source": [
    "#### Tests"
   ]
  },
  {
   "cell_type": "code",
   "execution_count": 71,
   "metadata": {},
   "outputs": [
    {
     "data": {
      "application/javascript": [
       "\n",
       "            setTimeout(function() {\n",
       "                var nbb_cell_id = 71;\n",
       "                var nbb_unformatted_code = \"%%run_pytest[clean] -qq\\n\\ndef test_B(dummy_input):\\n    assert solve_B(split_input(dummy_input)) == 8\";\n",
       "                var nbb_formatted_code = \"%%run_pytest[clean] -qq\\n\\ndef test_B(dummy_input):\\n    assert solve_B(split_input(dummy_input)) == 8\";\n",
       "                var nbb_cells = Jupyter.notebook.get_cells();\n",
       "                for (var i = 0; i < nbb_cells.length; ++i) {\n",
       "                    if (nbb_cells[i].input_prompt_number == nbb_cell_id) {\n",
       "                        if (nbb_cells[i].get_text() == nbb_unformatted_code) {\n",
       "                             nbb_cells[i].set_text(nbb_formatted_code);\n",
       "                        }\n",
       "                        break;\n",
       "                    }\n",
       "                }\n",
       "            }, 500);\n",
       "            "
      ],
      "text/plain": [
       "<IPython.core.display.Javascript object>"
      ]
     },
     "metadata": {},
     "output_type": "display_data"
    },
    {
     "name": "stdout",
     "output_type": "stream",
     "text": [
      ".                                                                                                                                                                                                                                      [100%]\n"
     ]
    },
    {
     "data": {
      "application/javascript": [
       "\n",
       "            setTimeout(function() {\n",
       "                var nbb_cell_id = 71;\n",
       "                var nbb_unformatted_code = \"%%run_pytest[clean] -qq\\n\\ndef test_B(dummy_input):\\n    assert solve_B(split_input(dummy_input)) == 8\";\n",
       "                var nbb_formatted_code = \"%%run_pytest[clean] -qq\\n\\ndef test_B(dummy_input):\\n    assert solve_B(split_input(dummy_input)) == 8\";\n",
       "                var nbb_cells = Jupyter.notebook.get_cells();\n",
       "                for (var i = 0; i < nbb_cells.length; ++i) {\n",
       "                    if (nbb_cells[i].input_prompt_number == nbb_cell_id) {\n",
       "                        if (nbb_cells[i].get_text() == nbb_unformatted_code) {\n",
       "                             nbb_cells[i].set_text(nbb_formatted_code);\n",
       "                        }\n",
       "                        break;\n",
       "                    }\n",
       "                }\n",
       "            }, 500);\n",
       "            "
      ],
      "text/plain": [
       "<IPython.core.display.Javascript object>"
      ]
     },
     "metadata": {},
     "output_type": "display_data"
    }
   ],
   "source": [
    "%%run_pytest[clean] -qq\n",
    "\n",
    "def test_B(dummy_input):\n",
    "    assert solve_B(split_input(dummy_input)) == 8"
   ]
  },
  {
   "cell_type": "markdown",
   "metadata": {},
   "source": [
    "#### OUTPUT"
   ]
  },
  {
   "cell_type": "code",
   "execution_count": 72,
   "metadata": {},
   "outputs": [
    {
     "name": "stdout",
     "output_type": "stream",
     "text": [
      "Finished 'solve_B' in 0.0222 secs\n"
     ]
    },
    {
     "data": {
      "text/plain": [
       "2251"
      ]
     },
     "execution_count": 72,
     "metadata": {},
     "output_type": "execute_result"
    },
    {
     "data": {
      "application/javascript": [
       "\n",
       "            setTimeout(function() {\n",
       "                var nbb_cell_id = 72;\n",
       "                var nbb_unformatted_code = \"solve_B(get_input())\";\n",
       "                var nbb_formatted_code = \"solve_B(get_input())\";\n",
       "                var nbb_cells = Jupyter.notebook.get_cells();\n",
       "                for (var i = 0; i < nbb_cells.length; ++i) {\n",
       "                    if (nbb_cells[i].input_prompt_number == nbb_cell_id) {\n",
       "                        if (nbb_cells[i].get_text() == nbb_unformatted_code) {\n",
       "                             nbb_cells[i].set_text(nbb_formatted_code);\n",
       "                        }\n",
       "                        break;\n",
       "                    }\n",
       "                }\n",
       "            }, 500);\n",
       "            "
      ],
      "text/plain": [
       "<IPython.core.display.Javascript object>"
      ]
     },
     "metadata": {},
     "output_type": "display_data"
    }
   ],
   "source": [
    "solve_B(get_input())"
   ]
  }
 ],
 "metadata": {
  "kernelspec": {
   "display_name": "Python [conda env:aoc20_36] *",
   "language": "python",
   "name": "conda-env-aoc20_36-py"
  },
  "language_info": {
   "codemirror_mode": {
    "name": "ipython",
    "version": 3
   },
   "file_extension": ".py",
   "mimetype": "text/x-python",
   "name": "python",
   "nbconvert_exporter": "python",
   "pygments_lexer": "ipython3",
   "version": "3.6.12"
  }
 },
 "nbformat": 4,
 "nbformat_minor": 4
}
