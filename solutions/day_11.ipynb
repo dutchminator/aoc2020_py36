{
 "cells": [
  {
   "cell_type": "markdown",
   "metadata": {},
   "source": [
    "# Day 11\n",
    "practicing with OOP instead of hacky"
   ]
  },
  {
   "cell_type": "markdown",
   "metadata": {},
   "source": [
    "## GENERIC SETUP"
   ]
  },
  {
   "cell_type": "code",
   "execution_count": 1,
   "metadata": {},
   "outputs": [
    {
     "data": {
      "application/javascript": [
       "\n",
       "            setTimeout(function() {\n",
       "                var nbb_cell_id = 1;\n",
       "                var nbb_unformatted_code = \"# General imports\\nimport pytest\\nimport ipytest\\nimport time\\nimport functools\\n\\n# Setup ipytest\\nipytest.autoconfig()\\n\\n# Setup nb_black\\n%load_ext nb_black\\n\\n# Decorator to time solutions\\ndef timer(func):\\n    \\\"\\\"\\\"\\n    Wrapper function.\\n    Print the runtime of the decorated function.\\n    \\\"\\\"\\\"\\n\\n    @functools.wraps(func)\\n    def wrapper_timer(*args, **kwargs):\\n        start_time = time.perf_counter()  # 1\\n        value = func(*args, **kwargs)\\n        end_time = time.perf_counter()  # 2\\n        run_time = end_time - start_time  # 3\\n        print(f\\\"Finished {func.__name__!r} in {run_time:.4f} secs\\\")\\n        return value\\n\\n    return wrapper_timer\";\n",
       "                var nbb_formatted_code = \"# General imports\\nimport pytest\\nimport ipytest\\nimport time\\nimport functools\\n\\n# Setup ipytest\\nipytest.autoconfig()\\n\\n# Setup nb_black\\n%load_ext nb_black\\n\\n# Decorator to time solutions\\ndef timer(func):\\n    \\\"\\\"\\\"\\n    Wrapper function.\\n    Print the runtime of the decorated function.\\n    \\\"\\\"\\\"\\n\\n    @functools.wraps(func)\\n    def wrapper_timer(*args, **kwargs):\\n        start_time = time.perf_counter()  # 1\\n        value = func(*args, **kwargs)\\n        end_time = time.perf_counter()  # 2\\n        run_time = end_time - start_time  # 3\\n        print(f\\\"Finished {func.__name__!r} in {run_time:.4f} secs\\\")\\n        return value\\n\\n    return wrapper_timer\";\n",
       "                var nbb_cells = Jupyter.notebook.get_cells();\n",
       "                for (var i = 0; i < nbb_cells.length; ++i) {\n",
       "                    if (nbb_cells[i].input_prompt_number == nbb_cell_id) {\n",
       "                        if (nbb_cells[i].get_text() == nbb_unformatted_code) {\n",
       "                             nbb_cells[i].set_text(nbb_formatted_code);\n",
       "                        }\n",
       "                        break;\n",
       "                    }\n",
       "                }\n",
       "            }, 500);\n",
       "            "
      ],
      "text/plain": [
       "<IPython.core.display.Javascript object>"
      ]
     },
     "metadata": {},
     "output_type": "display_data"
    }
   ],
   "source": [
    "# General imports\n",
    "import pytest\n",
    "import ipytest\n",
    "import time\n",
    "import functools\n",
    "\n",
    "# Setup ipytest\n",
    "ipytest.autoconfig()\n",
    "\n",
    "# Setup nb_black\n",
    "%load_ext nb_black\n",
    "\n",
    "# Decorator to time solutions\n",
    "def timer(func):\n",
    "    \"\"\"\n",
    "    Wrapper function.\n",
    "    Print the runtime of the decorated function.\n",
    "    \"\"\"\n",
    "\n",
    "    @functools.wraps(func)\n",
    "    def wrapper_timer(*args, **kwargs):\n",
    "        start_time = time.perf_counter()  # 1\n",
    "        value = func(*args, **kwargs)\n",
    "        end_time = time.perf_counter()  # 2\n",
    "        run_time = end_time - start_time  # 3\n",
    "        print(f\"Finished {func.__name__!r} in {run_time:.4f} secs\")\n",
    "        return value\n",
    "\n",
    "    return wrapper_timer"
   ]
  },
  {
   "cell_type": "markdown",
   "metadata": {},
   "source": [
    "## SOLUTION SETUP"
   ]
  },
  {
   "cell_type": "markdown",
   "metadata": {},
   "source": [
    "#### I/O functions"
   ]
  },
  {
   "cell_type": "code",
   "execution_count": 2,
   "metadata": {},
   "outputs": [
    {
     "data": {
      "application/javascript": [
       "\n",
       "            setTimeout(function() {\n",
       "                var nbb_cell_id = 2;\n",
       "                var nbb_unformatted_code = \"# What day do we solve? Used to identify the input datafile, integer value\\nDAY = 11\\n\\n\\ndef get_input():\\n    with open(f\\\"../data/{DAY}.txt\\\", \\\"r\\\") as f:\\n        return split_input(f.read())\\n\\n\\ndef split_input(input_raw):\\n    \\\"\\\"\\\"Strip trailing newline, then split on newline\\\"\\\"\\\"\\n    return [line.strip() for line in input_raw.rstrip().split(\\\"\\\\n\\\")]\";\n",
       "                var nbb_formatted_code = \"# What day do we solve? Used to identify the input datafile, integer value\\nDAY = 11\\n\\n\\ndef get_input():\\n    with open(f\\\"../data/{DAY}.txt\\\", \\\"r\\\") as f:\\n        return split_input(f.read())\\n\\n\\ndef split_input(input_raw):\\n    \\\"\\\"\\\"Strip trailing newline, then split on newline\\\"\\\"\\\"\\n    return [line.strip() for line in input_raw.rstrip().split(\\\"\\\\n\\\")]\";\n",
       "                var nbb_cells = Jupyter.notebook.get_cells();\n",
       "                for (var i = 0; i < nbb_cells.length; ++i) {\n",
       "                    if (nbb_cells[i].input_prompt_number == nbb_cell_id) {\n",
       "                        if (nbb_cells[i].get_text() == nbb_unformatted_code) {\n",
       "                             nbb_cells[i].set_text(nbb_formatted_code);\n",
       "                        }\n",
       "                        break;\n",
       "                    }\n",
       "                }\n",
       "            }, 500);\n",
       "            "
      ],
      "text/plain": [
       "<IPython.core.display.Javascript object>"
      ]
     },
     "metadata": {},
     "output_type": "display_data"
    }
   ],
   "source": [
    "# What day do we solve? Used to identify the input datafile, integer value\n",
    "DAY = 11\n",
    "\n",
    "\n",
    "def get_input():\n",
    "    with open(f\"../data/{DAY}.txt\", \"r\") as f:\n",
    "        return split_input(f.read())\n",
    "\n",
    "\n",
    "def split_input(input_raw):\n",
    "    \"\"\"Strip trailing newline, then split on newline\"\"\"\n",
    "    return [line.strip() for line in input_raw.rstrip().split(\"\\n\")]"
   ]
  },
  {
   "cell_type": "markdown",
   "metadata": {},
   "source": [
    "#### Pytest input data"
   ]
  },
  {
   "cell_type": "code",
   "execution_count": 3,
   "metadata": {},
   "outputs": [
    {
     "data": {
      "application/javascript": [
       "\n",
       "            setTimeout(function() {\n",
       "                var nbb_cell_id = 3;\n",
       "                var nbb_unformatted_code = \"# Sample input\\nSTR_SAMPLE = \\\"\\\"\\\"\\\\\\nL.LL.LL.LL\\nLLLLLLL.LL\\nL.L.L..L..\\nLLLL.LL.LL\\nL.LL.LL.LL\\nL.LLLLL.LL\\n..L.L.....\\nLLLLLLLLLL\\nL.LLLLLL.L\\nL.LLLLL.LL\\n\\\"\\\"\\\"\\n\\n\\n@pytest.fixture\\ndef dummy_input():\\n    return STR_SAMPLE\";\n",
       "                var nbb_formatted_code = \"# Sample input\\nSTR_SAMPLE = \\\"\\\"\\\"\\\\\\nL.LL.LL.LL\\nLLLLLLL.LL\\nL.L.L..L..\\nLLLL.LL.LL\\nL.LL.LL.LL\\nL.LLLLL.LL\\n..L.L.....\\nLLLLLLLLLL\\nL.LLLLLL.L\\nL.LLLLL.LL\\n\\\"\\\"\\\"\\n\\n\\n@pytest.fixture\\ndef dummy_input():\\n    return STR_SAMPLE\";\n",
       "                var nbb_cells = Jupyter.notebook.get_cells();\n",
       "                for (var i = 0; i < nbb_cells.length; ++i) {\n",
       "                    if (nbb_cells[i].input_prompt_number == nbb_cell_id) {\n",
       "                        if (nbb_cells[i].get_text() == nbb_unformatted_code) {\n",
       "                             nbb_cells[i].set_text(nbb_formatted_code);\n",
       "                        }\n",
       "                        break;\n",
       "                    }\n",
       "                }\n",
       "            }, 500);\n",
       "            "
      ],
      "text/plain": [
       "<IPython.core.display.Javascript object>"
      ]
     },
     "metadata": {},
     "output_type": "display_data"
    }
   ],
   "source": [
    "# Sample input\n",
    "STR_SAMPLE = \"\"\"\\\n",
    "L.LL.LL.LL\n",
    "LLLLLLL.LL\n",
    "L.L.L..L..\n",
    "LLLL.LL.LL\n",
    "L.LL.LL.LL\n",
    "L.LLLLL.LL\n",
    "..L.L.....\n",
    "LLLLLLLLLL\n",
    "L.LLLLLL.L\n",
    "L.LLLLL.LL\n",
    "\"\"\"\n",
    "\n",
    "\n",
    "@pytest.fixture\n",
    "def dummy_input():\n",
    "    return STR_SAMPLE"
   ]
  },
  {
   "cell_type": "markdown",
   "metadata": {},
   "source": [
    "## Solution A"
   ]
  },
  {
   "cell_type": "code",
   "execution_count": 4,
   "metadata": {},
   "outputs": [
    {
     "data": {
      "application/javascript": [
       "\n",
       "            setTimeout(function() {\n",
       "                var nbb_cell_id = 4;\n",
       "                var nbb_unformatted_code = \"class Position:\\n    \\\"\\\"\\\"\\n    Class represents a single position in the waiting area.\\n    Can be floor, occupied or empty.\\n    \\\"\\\"\\\"\\n\\n    status_dict = {\\\"#\\\": True, \\\"L\\\": False, \\\".\\\": False}\\n\\n    def __init__(self, status_code):\\n        \\\"\\\"\\\"Constructor. Requires a status code string as input\\\"\\\"\\\"\\n        self.status_code = status_code\\n        self.occupied = status_code == \\\"#\\\"\\n        self.seat = status_code in (\\\"#\\\", \\\"L\\\")\\n\\n    def flip_seat(self):\\n        if self.occupied:\\n            self.occupied = False\\n            self.status_code = \\\"L\\\"\\n        else:\\n            self.occupied = True\\n            self.status_code = \\\"#\\\"\\n\\n    # Auxiliary functions for operator/print functionality\\n\\n    def __add__(self, other):\\n        \\\"\\\"\\\"\\n        Override default add operator (+) functionality\\n        to count occupied positions\\n        \\\"\\\"\\\"\\n        if isinstance(other, Position):\\n            return int(self.occupied) + int(other.occupied)\\n        else:\\n            return int(self.occupied) + int(other)\\n\\n    def __radd__(self, other):\\n        \\\"\\\"\\\"\\n        Necessary if summing over Seats in a list, base case tries to add self to 0.\\n        http://www.marinamele.com/2014/04/modifying-add-method-of-python-class.html\\n        \\\"\\\"\\\"\\n        if other == 0:\\n            return self\\n        else:\\n            return self.__add__(other)\\n\\n    def __repr__(self):\\n        return self.status_code\";\n",
       "                var nbb_formatted_code = \"class Position:\\n    \\\"\\\"\\\"\\n    Class represents a single position in the waiting area.\\n    Can be floor, occupied or empty.\\n    \\\"\\\"\\\"\\n\\n    status_dict = {\\\"#\\\": True, \\\"L\\\": False, \\\".\\\": False}\\n\\n    def __init__(self, status_code):\\n        \\\"\\\"\\\"Constructor. Requires a status code string as input\\\"\\\"\\\"\\n        self.status_code = status_code\\n        self.occupied = status_code == \\\"#\\\"\\n        self.seat = status_code in (\\\"#\\\", \\\"L\\\")\\n\\n    def flip_seat(self):\\n        if self.occupied:\\n            self.occupied = False\\n            self.status_code = \\\"L\\\"\\n        else:\\n            self.occupied = True\\n            self.status_code = \\\"#\\\"\\n\\n    # Auxiliary functions for operator/print functionality\\n\\n    def __add__(self, other):\\n        \\\"\\\"\\\"\\n        Override default add operator (+) functionality\\n        to count occupied positions\\n        \\\"\\\"\\\"\\n        if isinstance(other, Position):\\n            return int(self.occupied) + int(other.occupied)\\n        else:\\n            return int(self.occupied) + int(other)\\n\\n    def __radd__(self, other):\\n        \\\"\\\"\\\"\\n        Necessary if summing over Seats in a list, base case tries to add self to 0.\\n        http://www.marinamele.com/2014/04/modifying-add-method-of-python-class.html\\n        \\\"\\\"\\\"\\n        if other == 0:\\n            return self\\n        else:\\n            return self.__add__(other)\\n\\n    def __repr__(self):\\n        return self.status_code\";\n",
       "                var nbb_cells = Jupyter.notebook.get_cells();\n",
       "                for (var i = 0; i < nbb_cells.length; ++i) {\n",
       "                    if (nbb_cells[i].input_prompt_number == nbb_cell_id) {\n",
       "                        if (nbb_cells[i].get_text() == nbb_unformatted_code) {\n",
       "                             nbb_cells[i].set_text(nbb_formatted_code);\n",
       "                        }\n",
       "                        break;\n",
       "                    }\n",
       "                }\n",
       "            }, 500);\n",
       "            "
      ],
      "text/plain": [
       "<IPython.core.display.Javascript object>"
      ]
     },
     "metadata": {},
     "output_type": "display_data"
    }
   ],
   "source": [
    "class Position:\n",
    "    \"\"\"\n",
    "    Class represents a single position in the waiting area.\n",
    "    Can be floor, occupied or empty.\n",
    "    \"\"\"\n",
    "\n",
    "    status_dict = {\"#\": True, \"L\": False, \".\": False}\n",
    "\n",
    "    def __init__(self, status_code):\n",
    "        \"\"\"Constructor. Requires a status code string as input\"\"\"\n",
    "        self.status_code = status_code\n",
    "        self.occupied = status_code == \"#\"\n",
    "        self.seat = status_code in (\"#\", \"L\")\n",
    "\n",
    "    def flip_seat(self):\n",
    "        if self.occupied:\n",
    "            self.occupied = False\n",
    "            self.status_code = \"L\"\n",
    "        else:\n",
    "            self.occupied = True\n",
    "            self.status_code = \"#\"\n",
    "\n",
    "    # Auxiliary functions for operator/print functionality\n",
    "\n",
    "    def __add__(self, other):\n",
    "        \"\"\"\n",
    "        Override default add operator (+) functionality\n",
    "        to count occupied positions\n",
    "        \"\"\"\n",
    "        if isinstance(other, Position):\n",
    "            return int(self.occupied) + int(other.occupied)\n",
    "        else:\n",
    "            return int(self.occupied) + int(other)\n",
    "\n",
    "    def __radd__(self, other):\n",
    "        \"\"\"\n",
    "        Necessary if summing over Seats in a list, base case tries to add self to 0.\n",
    "        http://www.marinamele.com/2014/04/modifying-add-method-of-python-class.html\n",
    "        \"\"\"\n",
    "        if other == 0:\n",
    "            return self\n",
    "        else:\n",
    "            return self.__add__(other)\n",
    "\n",
    "    def __repr__(self):\n",
    "        return self.status_code"
   ]
  },
  {
   "cell_type": "code",
   "execution_count": 19,
   "metadata": {},
   "outputs": [
    {
     "data": {
      "application/javascript": [
       "\n",
       "            setTimeout(function() {\n",
       "                var nbb_cell_id = 19;\n",
       "                var nbb_unformatted_code = \"class WaitingArea:\\n    \\\"\\\"\\\"\\n    Class represents a waiting area, consisting of a floorplan (grid)\\n    of seats (#/L) and empty spaces (.).\\n    A seat can be occupied (#) or unoccupied (L).\\n\\n    Provides functionality to load a grid from an input string, and\\n    can calculate a full round of seating/leaving logic on the grid.\\n    \\\"\\\"\\\"\\n\\n    def __init__(self):\\n        \\\"\\\"\\\"constructor, initialisation of local variables\\\"\\\"\\\"\\n        self.grid = None\\n        self.grid_height = 0\\n        self.grid_width = 0\\n        self.visible_seats_dict = {}\\n\\n    def load_string(self, input_lines):\\n        \\\"\\\"\\\"Generates the seating grid from input string\\\"\\\"\\\"\\n        # Get the dimensions of the grid from input\\n        height = len(input_lines)\\n        width = len(input_lines[0])\\n\\n        # Set the dimensions for the grid, including bounding dummies\\n        self.height = height\\n        self.width = width\\n        self.grid_height = height + 2\\n        self.grid_width = width + 2\\n\\n        # Initialize the grid height\\n        new_grid = [None] * self.grid_height\\n        # Fill the first and last row with dummies\\n        new_grid[0] = [Position(\\\".\\\") for _ in range(self.grid_width)]\\n        new_grid[-1] = [Position(\\\".\\\") for _ in range(self.grid_width)]\\n\\n        # fill the other rows\\n        for ix, line in enumerate(input_lines):\\n            ext_line = \\\".\\\" + line + \\\".\\\"\\n            new_grid[ix + 1] = [Position(input) for input in ext_line]\\n\\n        # Store the grid\\n        self.grid = new_grid\\n\\n        # Store input for unknown reasons\\n        self.source_string = input_lines\\n\\n        print(\\\"[WaitingArea] Grid created from input\\\")\\n\\n        # Return self\\n        return self\\n\\n    def get_surrounding(self, seat_row, seat_col):\\n        \\\"\\\"\\\"\\n        Returns a list of the surrounding positions, excl. itself.\\n        Input coordinates do NOT take the dummy rows/cols into account.\\n        \\\"\\\"\\\"\\n        row_ixs = range(seat_row, seat_row + 3)\\n        col_ixs = range(seat_col, seat_col + 3)\\n\\n        surrounding_seats = [\\n            self.grid[row][col]\\n            for row in row_ixs\\n            for col in col_ixs\\n            if not (row == seat_row + 1 and col == seat_col + 1)\\n        ]\\n        return surrounding_seats\\n\\n    def count_surrounding(self, seat_row, seat_col):\\n        \\\"\\\"\\\"\\n        Count the occupied seats surrounding a position.\\n        Input arguments do NOT take into account the dummy rows.\\n        \\\"\\\"\\\"\\n        surrounding_seats = self.get_surrounding(seat_row, seat_col)\\n        num_occupied = sum(surrounding_seats)\\n        return num_occupied\\n\\n    def get_grid_as_string(self):\\n        \\\"\\\"\\\"Generates a single string representing the seating configuration\\\"\\\"\\\"\\n        return \\\"\\\".join(\\n            [\\n                pos.status_code\\n                for row in range(self.grid_height)\\n                for pos in self.grid[row]\\n            ]\\n        )\\n\\n    # Part B\\n    def get_visible_list(self, seat_row, seat_col):\\n        \\\"\\\"\\\"\\n        Returns a list of coordinates of visible seats\\n        for a specific position in the grid.\\n\\n        Input row/col take dummy rows into account (1-indexed).\\n        \\\"\\\"\\\"\\n        # Determine the directions we can look at\\n        # direction = (delta row, delta col)\\n        directions = [\\n            (-1, -1),\\n            (-1, 0),\\n            (-1, 1),\\n            (0, -1),\\n            (0, 1),\\n            (1, -1),\\n            (1, 0),\\n            (1, 1),\\n        ]\\n\\n        # Initialise list of visible positions\\n        visible_positions = []\\n        for (drow, dcol) in directions:\\n            row, col = (seat_row + drow, seat_col + dcol)\\n            # While we haven't found a visible seat and are not out of bounds,\\n            # Keep searching in the direction. If a seat found, add to visible-list\\n            while (1 <= row <= self.grid_height - 1) and (\\n                1 <= col <= self.grid_width - 1\\n            ):\\n                if self.grid[row][col].seat:\\n                    visible_positions.append((row, col))\\n                    break\\n                row, col = (row + drow, col + dcol)\\n\\n        # Now visible_positions is populated with (row, col) coordinates\\n        return visible_positions\\n\\n    def populate_visible_seats(self):\\n        \\\"\\\"\\\"\\n        Pre-populate the visible_seats data for each seat\\n        \\\"\\\"\\\"\\n        for row in range(1, self.height + 1):\\n            for col in range(1, self.width + 1):\\n                if self.grid[row][col].seat:\\n                    self.visible_seats_dict[(row, col)] = self.get_visible_list(\\n                        row, col\\n                    )\\n        print(\\\"[WaitingArea] Visible seats pre-populated\\\")\\n        return self\\n\\n    # Auxiliary functions for the waiting area\\n    def __repr__(self):\\n        return str(self.grid)\";\n",
       "                var nbb_formatted_code = \"class WaitingArea:\\n    \\\"\\\"\\\"\\n    Class represents a waiting area, consisting of a floorplan (grid)\\n    of seats (#/L) and empty spaces (.).\\n    A seat can be occupied (#) or unoccupied (L).\\n\\n    Provides functionality to load a grid from an input string, and\\n    can calculate a full round of seating/leaving logic on the grid.\\n    \\\"\\\"\\\"\\n\\n    def __init__(self):\\n        \\\"\\\"\\\"constructor, initialisation of local variables\\\"\\\"\\\"\\n        self.grid = None\\n        self.grid_height = 0\\n        self.grid_width = 0\\n        self.visible_seats_dict = {}\\n\\n    def load_string(self, input_lines):\\n        \\\"\\\"\\\"Generates the seating grid from input string\\\"\\\"\\\"\\n        # Get the dimensions of the grid from input\\n        height = len(input_lines)\\n        width = len(input_lines[0])\\n\\n        # Set the dimensions for the grid, including bounding dummies\\n        self.height = height\\n        self.width = width\\n        self.grid_height = height + 2\\n        self.grid_width = width + 2\\n\\n        # Initialize the grid height\\n        new_grid = [None] * self.grid_height\\n        # Fill the first and last row with dummies\\n        new_grid[0] = [Position(\\\".\\\") for _ in range(self.grid_width)]\\n        new_grid[-1] = [Position(\\\".\\\") for _ in range(self.grid_width)]\\n\\n        # fill the other rows\\n        for ix, line in enumerate(input_lines):\\n            ext_line = \\\".\\\" + line + \\\".\\\"\\n            new_grid[ix + 1] = [Position(input) for input in ext_line]\\n\\n        # Store the grid\\n        self.grid = new_grid\\n\\n        # Store input for unknown reasons\\n        self.source_string = input_lines\\n\\n        print(\\\"[WaitingArea] Grid created from input\\\")\\n\\n        # Return self\\n        return self\\n\\n    def get_surrounding(self, seat_row, seat_col):\\n        \\\"\\\"\\\"\\n        Returns a list of the surrounding positions, excl. itself.\\n        Input coordinates do NOT take the dummy rows/cols into account.\\n        \\\"\\\"\\\"\\n        row_ixs = range(seat_row, seat_row + 3)\\n        col_ixs = range(seat_col, seat_col + 3)\\n\\n        surrounding_seats = [\\n            self.grid[row][col]\\n            for row in row_ixs\\n            for col in col_ixs\\n            if not (row == seat_row + 1 and col == seat_col + 1)\\n        ]\\n        return surrounding_seats\\n\\n    def count_surrounding(self, seat_row, seat_col):\\n        \\\"\\\"\\\"\\n        Count the occupied seats surrounding a position.\\n        Input arguments do NOT take into account the dummy rows.\\n        \\\"\\\"\\\"\\n        surrounding_seats = self.get_surrounding(seat_row, seat_col)\\n        num_occupied = sum(surrounding_seats)\\n        return num_occupied\\n\\n    def get_grid_as_string(self):\\n        \\\"\\\"\\\"Generates a single string representing the seating configuration\\\"\\\"\\\"\\n        return \\\"\\\".join(\\n            [\\n                pos.status_code\\n                for row in range(self.grid_height)\\n                for pos in self.grid[row]\\n            ]\\n        )\\n\\n    # Part B\\n    def get_visible_list(self, seat_row, seat_col):\\n        \\\"\\\"\\\"\\n        Returns a list of coordinates of visible seats\\n        for a specific position in the grid.\\n\\n        Input row/col take dummy rows into account (1-indexed).\\n        \\\"\\\"\\\"\\n        # Determine the directions we can look at\\n        # direction = (delta row, delta col)\\n        directions = [\\n            (-1, -1),\\n            (-1, 0),\\n            (-1, 1),\\n            (0, -1),\\n            (0, 1),\\n            (1, -1),\\n            (1, 0),\\n            (1, 1),\\n        ]\\n\\n        # Initialise list of visible positions\\n        visible_positions = []\\n        for (drow, dcol) in directions:\\n            row, col = (seat_row + drow, seat_col + dcol)\\n            # While we haven't found a visible seat and are not out of bounds,\\n            # Keep searching in the direction. If a seat found, add to visible-list\\n            while (1 <= row <= self.grid_height - 1) and (\\n                1 <= col <= self.grid_width - 1\\n            ):\\n                if self.grid[row][col].seat:\\n                    visible_positions.append((row, col))\\n                    break\\n                row, col = (row + drow, col + dcol)\\n\\n        # Now visible_positions is populated with (row, col) coordinates\\n        return visible_positions\\n\\n    def populate_visible_seats(self):\\n        \\\"\\\"\\\"\\n        Pre-populate the visible_seats data for each seat\\n        \\\"\\\"\\\"\\n        for row in range(1, self.height + 1):\\n            for col in range(1, self.width + 1):\\n                if self.grid[row][col].seat:\\n                    self.visible_seats_dict[(row, col)] = self.get_visible_list(\\n                        row, col\\n                    )\\n        print(\\\"[WaitingArea] Visible seats pre-populated\\\")\\n        return self\\n\\n    # Auxiliary functions for the waiting area\\n    def __repr__(self):\\n        return str(self.grid)\";\n",
       "                var nbb_cells = Jupyter.notebook.get_cells();\n",
       "                for (var i = 0; i < nbb_cells.length; ++i) {\n",
       "                    if (nbb_cells[i].input_prompt_number == nbb_cell_id) {\n",
       "                        if (nbb_cells[i].get_text() == nbb_unformatted_code) {\n",
       "                             nbb_cells[i].set_text(nbb_formatted_code);\n",
       "                        }\n",
       "                        break;\n",
       "                    }\n",
       "                }\n",
       "            }, 500);\n",
       "            "
      ],
      "text/plain": [
       "<IPython.core.display.Javascript object>"
      ]
     },
     "metadata": {},
     "output_type": "display_data"
    }
   ],
   "source": [
    "class WaitingArea:\n",
    "    \"\"\"\n",
    "    Class represents a waiting area, consisting of a floorplan (grid)\n",
    "    of seats (#/L) and empty spaces (.).\n",
    "    A seat can be occupied (#) or unoccupied (L).\n",
    "\n",
    "    Provides functionality to load a grid from an input string, and can support\n",
    "    calculations on the grid by providing numbers of seats or lists of seats.\n",
    "    \n",
    "    Waiting Area comparisons can be done by representing the seating allocation as string,\n",
    "    using the get_grid_as_string() function.\n",
    "    \"\"\"\n",
    "\n",
    "    def __init__(self):\n",
    "        \"\"\"constructor, initialisation of local variables\"\"\"\n",
    "        self.grid = None\n",
    "        self.grid_height = 0\n",
    "        self.grid_width = 0\n",
    "        self.visible_seats_dict = {}  # PART B\n",
    "\n",
    "    def load_string(self, input_lines):\n",
    "        \"\"\"Generates the seating grid from input string\"\"\"\n",
    "        # Get the dimensions of the grid from input\n",
    "        height = len(input_lines)\n",
    "        width = len(input_lines[0])\n",
    "\n",
    "        # Set the dimensions for the grid, including bounding dummies\n",
    "        self.height = height\n",
    "        self.width = width\n",
    "        self.grid_height = height + 2\n",
    "        self.grid_width = width + 2\n",
    "\n",
    "        # Initialize the grid height\n",
    "        new_grid = [None] * self.grid_height\n",
    "        # Fill the first and last row with dummies\n",
    "        new_grid[0] = [Position(\".\") for _ in range(self.grid_width)]\n",
    "        new_grid[-1] = [Position(\".\") for _ in range(self.grid_width)]\n",
    "\n",
    "        # fill the other rows\n",
    "        for ix, line in enumerate(input_lines):\n",
    "            ext_line = \".\" + line + \".\"\n",
    "            new_grid[ix + 1] = [Position(input) for input in ext_line]\n",
    "\n",
    "        # Store the grid\n",
    "        self.grid = new_grid\n",
    "\n",
    "        # Store input for unknown reasons\n",
    "        self.source_string = input_lines\n",
    "\n",
    "        print(\"[WaitingArea] Grid created from input\")\n",
    "\n",
    "        # Return self\n",
    "        return self\n",
    "\n",
    "    def get_surrounding(self, seat_row, seat_col):\n",
    "        \"\"\"\n",
    "        Returns a list of the surrounding positions, excl. itself.\n",
    "        Input coordinates do NOT take the dummy rows/cols into account.\n",
    "        \"\"\"\n",
    "        row_ixs = range(seat_row, seat_row + 3)\n",
    "        col_ixs = range(seat_col, seat_col + 3)\n",
    "\n",
    "        surrounding_seats = [\n",
    "            self.grid[row][col]\n",
    "            for row in row_ixs\n",
    "            for col in col_ixs\n",
    "            if not (row == seat_row + 1 and col == seat_col + 1)\n",
    "        ]\n",
    "        return surrounding_seats\n",
    "\n",
    "    def count_surrounding(self, seat_row, seat_col):\n",
    "        \"\"\"\n",
    "        Count the occupied seats surrounding a position.\n",
    "        Input arguments do NOT take into account the dummy rows.\n",
    "        \"\"\"\n",
    "        surrounding_seats = self.get_surrounding(seat_row, seat_col)\n",
    "        num_occupied = sum(surrounding_seats)\n",
    "        return num_occupied\n",
    "\n",
    "    def get_grid_as_string(self):\n",
    "        \"\"\"Generates a single string representing the seating configuration\"\"\"\n",
    "        return \"\".join(\n",
    "            [\n",
    "                pos.status_code\n",
    "                for row in range(self.grid_height)\n",
    "                for pos in self.grid[row]\n",
    "            ]\n",
    "        )\n",
    "\n",
    "    # Part B\n",
    "    def get_visible_list(self, seat_row, seat_col):\n",
    "        \"\"\"\n",
    "        Returns a list of coordinates of visible seats\n",
    "        for a specific position in the grid.\n",
    "\n",
    "        Input row/col take dummy rows into account (1-indexed).\n",
    "        \"\"\"\n",
    "        # Determine the directions we can look at\n",
    "        # direction = (delta row, delta col)\n",
    "        directions = [\n",
    "            (-1, -1),\n",
    "            (-1, 0),\n",
    "            (-1, 1),\n",
    "            (0, -1),\n",
    "            (0, 1),\n",
    "            (1, -1),\n",
    "            (1, 0),\n",
    "            (1, 1),\n",
    "        ]\n",
    "\n",
    "        # Initialise list of visible positions\n",
    "        visible_positions = []\n",
    "        for (drow, dcol) in directions:\n",
    "            row, col = (seat_row + drow, seat_col + dcol)\n",
    "            # While we haven't found a visible seat and are not out of bounds,\n",
    "            # Keep searching in the direction. If a seat found, add to visible-list\n",
    "            while (1 <= row <= self.grid_height - 1) and (\n",
    "                1 <= col <= self.grid_width - 1\n",
    "            ):\n",
    "                if self.grid[row][col].seat:\n",
    "                    visible_positions.append((row, col))\n",
    "                    break\n",
    "                row, col = (row + drow, col + dcol)\n",
    "\n",
    "        # Now visible_positions is populated with (row, col) coordinates\n",
    "        return visible_positions\n",
    "\n",
    "    def populate_visible_seats(self):\n",
    "        \"\"\"\n",
    "        Pre-populate the visible_seats list of seats for each seat\n",
    "        \"\"\"\n",
    "        for row in range(1, self.height + 1):\n",
    "            for col in range(1, self.width + 1):\n",
    "                if self.grid[row][col].seat:\n",
    "                    self.visible_seats_dict[(row, col)] = self.get_visible_list(\n",
    "                        row, col\n",
    "                    )\n",
    "        print(\"[WaitingArea] Visible seats pre-populated\")\n",
    "        return self\n",
    "\n",
    "    # Auxiliary functions for the waiting area\n",
    "    def __repr__(self):\n",
    "        return str(self.grid)"
   ]
  },
  {
   "cell_type": "code",
   "execution_count": 6,
   "metadata": {
    "scrolled": true
   },
   "outputs": [
    {
     "data": {
      "application/javascript": [
       "\n",
       "            setTimeout(function() {\n",
       "                var nbb_cell_id = 6;\n",
       "                var nbb_unformatted_code = \"import copy\\n\\n\\ndef calculate_seating_round_A(waiting_area):\\n    \\\"\\\"\\\"\\n    Given a waiting area, calculate a new seating allocation\\n    according to the problem A model.\\n    If a seat is empty (L) and there are no occupied seats adjacent to it,\\n        the seat becomes occupied.\\n    If a seat is occupied (#) and four or more seats adjacent to it are also occupied,\\n        the seat becomes empty.\\n    Otherwise,\\n        the seat's state does not change.\\n    \\\"\\\"\\\"\\n    # Make our changes to new_grid\\n    new_grid = copy.deepcopy(waiting_area.grid)\\n\\n    def determine_flip(waiting_area, new_grid, row, col):\\n        # Get the seat and number of surrounding occupied seats\\n        num_surr = waiting_area.count_surrounding(row, col)\\n        seat = waiting_area.grid[row + 1][col + 1]\\n\\n        # Determine new state in new_grid\\n        if seat.occupied and num_surr >= 4:\\n            new_grid[row + 1][col + 1].flip_seat()\\n        elif not seat.occupied and num_surr == 0:\\n            new_grid[row + 1][col + 1].flip_seat()\\n\\n    # Loop over the seats in the waiting area\\n    [\\n        determine_flip(waiting_area, new_grid, row, col)\\n        for row in range(0, waiting_area.height)\\n        for col in range(0, waiting_area.width)\\n        if waiting_area.grid[row + 1][col + 1].seat\\n    ]\\n\\n    # new_grid now contains the new seating arrangement\\n    # Update the waiting area's grid to the new grid\\n    waiting_area.grid = new_grid\\n\\n    return waiting_area\\n\\n\\n@timer\\ndef solve_A(lines):\\n    \\\"\\\"\\\"\\n    Initialise a waiting area from input,\\n    loop until equilibrium according to A,\\n    count #'s\\n    \\\"\\\"\\\"\\n    # Initialize waiting area and loop variables\\n    waiting_area = WaitingArea().load_string(lines)\\n    new_seating = \\\"INITIALISATION\\\"\\n    old_seating = \\\"\\\"\\n    seat_round = 0\\n\\n    # Repeat until equilibrium is found\\n\\n    while old_seating != new_seating:\\n        seat_round += 1\\n        old_seating = new_seating\\n        calculate_seating_round_A(waiting_area)\\n        new_seating = waiting_area.get_grid_as_string()\\n\\n    # Return the number of # in new_seating\\n    print(f\\\"Finished with {seat_round} rounds.\\\")\\n    return new_seating.count(\\\"#\\\")\";\n",
       "                var nbb_formatted_code = \"import copy\\n\\n\\ndef calculate_seating_round_A(waiting_area):\\n    \\\"\\\"\\\"\\n    Given a waiting area, calculate a new seating allocation\\n    according to the problem A model.\\n    If a seat is empty (L) and there are no occupied seats adjacent to it,\\n        the seat becomes occupied.\\n    If a seat is occupied (#) and four or more seats adjacent to it are also occupied,\\n        the seat becomes empty.\\n    Otherwise,\\n        the seat's state does not change.\\n    \\\"\\\"\\\"\\n    # Make our changes to new_grid\\n    new_grid = copy.deepcopy(waiting_area.grid)\\n\\n    def determine_flip(waiting_area, new_grid, row, col):\\n        # Get the seat and number of surrounding occupied seats\\n        num_surr = waiting_area.count_surrounding(row, col)\\n        seat = waiting_area.grid[row + 1][col + 1]\\n\\n        # Determine new state in new_grid\\n        if seat.occupied and num_surr >= 4:\\n            new_grid[row + 1][col + 1].flip_seat()\\n        elif not seat.occupied and num_surr == 0:\\n            new_grid[row + 1][col + 1].flip_seat()\\n\\n    # Loop over the seats in the waiting area\\n    [\\n        determine_flip(waiting_area, new_grid, row, col)\\n        for row in range(0, waiting_area.height)\\n        for col in range(0, waiting_area.width)\\n        if waiting_area.grid[row + 1][col + 1].seat\\n    ]\\n\\n    # new_grid now contains the new seating arrangement\\n    # Update the waiting area's grid to the new grid\\n    waiting_area.grid = new_grid\\n\\n    return waiting_area\\n\\n\\n@timer\\ndef solve_A(lines):\\n    \\\"\\\"\\\"\\n    Initialise a waiting area from input,\\n    loop until equilibrium according to A,\\n    count #'s\\n    \\\"\\\"\\\"\\n    # Initialize waiting area and loop variables\\n    waiting_area = WaitingArea().load_string(lines)\\n    new_seating = \\\"INITIALISATION\\\"\\n    old_seating = \\\"\\\"\\n    seat_round = 0\\n\\n    # Repeat until equilibrium is found\\n\\n    while old_seating != new_seating:\\n        seat_round += 1\\n        old_seating = new_seating\\n        calculate_seating_round_A(waiting_area)\\n        new_seating = waiting_area.get_grid_as_string()\\n\\n    # Return the number of # in new_seating\\n    print(f\\\"Finished with {seat_round} rounds.\\\")\\n    return new_seating.count(\\\"#\\\")\";\n",
       "                var nbb_cells = Jupyter.notebook.get_cells();\n",
       "                for (var i = 0; i < nbb_cells.length; ++i) {\n",
       "                    if (nbb_cells[i].input_prompt_number == nbb_cell_id) {\n",
       "                        if (nbb_cells[i].get_text() == nbb_unformatted_code) {\n",
       "                             nbb_cells[i].set_text(nbb_formatted_code);\n",
       "                        }\n",
       "                        break;\n",
       "                    }\n",
       "                }\n",
       "            }, 500);\n",
       "            "
      ],
      "text/plain": [
       "<IPython.core.display.Javascript object>"
      ]
     },
     "metadata": {},
     "output_type": "display_data"
    }
   ],
   "source": [
    "import copy\n",
    "\n",
    "\n",
    "def calculate_seating_round_A(waiting_area):\n",
    "    \"\"\"\n",
    "    Given a waiting area, calculate a new seating allocation\n",
    "    according to the problem A model.\n",
    "    If a seat is empty (L) and there are no occupied seats adjacent to it,\n",
    "        the seat becomes occupied.\n",
    "    If a seat is occupied (#) and four or more seats adjacent to it are also occupied,\n",
    "        the seat becomes empty.\n",
    "    Otherwise,\n",
    "        the seat's state does not change.\n",
    "    \"\"\"\n",
    "    # Make our changes to new_grid\n",
    "    new_grid = copy.deepcopy(waiting_area.grid)\n",
    "\n",
    "    def determine_flip(waiting_area, new_grid, row, col):\n",
    "        # Get the seat and number of surrounding occupied seats\n",
    "        num_surr = waiting_area.count_surrounding(row, col)\n",
    "        seat = waiting_area.grid[row + 1][col + 1]\n",
    "\n",
    "        # Determine new state in new_grid\n",
    "        if seat.occupied and num_surr >= 4:\n",
    "            new_grid[row + 1][col + 1].flip_seat()\n",
    "        elif not seat.occupied and num_surr == 0:\n",
    "            new_grid[row + 1][col + 1].flip_seat()\n",
    "\n",
    "    # Loop over the seats in the waiting area\n",
    "    [\n",
    "        determine_flip(waiting_area, new_grid, row, col)\n",
    "        for row in range(0, waiting_area.height)\n",
    "        for col in range(0, waiting_area.width)\n",
    "        if waiting_area.grid[row + 1][col + 1].seat\n",
    "    ]\n",
    "\n",
    "    # new_grid now contains the new seating arrangement\n",
    "    # Update the waiting area's grid to the new grid\n",
    "    waiting_area.grid = new_grid\n",
    "\n",
    "    return waiting_area\n",
    "\n",
    "\n",
    "@timer\n",
    "def solve_A(lines):\n",
    "    \"\"\"\n",
    "    Initialise a waiting area from input,\n",
    "    loop until equilibrium according to A,\n",
    "    count #'s\n",
    "    \"\"\"\n",
    "    # Initialize waiting area and loop variables\n",
    "    waiting_area = WaitingArea().load_string(lines)\n",
    "    new_seating = \"INITIALISATION\"\n",
    "    old_seating = \"\"\n",
    "    seat_round = 0\n",
    "\n",
    "    # Repeat until equilibrium is found\n",
    "\n",
    "    while old_seating != new_seating:\n",
    "        seat_round += 1\n",
    "        old_seating = new_seating\n",
    "        calculate_seating_round_A(waiting_area)\n",
    "        new_seating = waiting_area.get_grid_as_string()\n",
    "\n",
    "    # Return the number of # in new_seating\n",
    "    print(f\"Finished with {seat_round} rounds.\")\n",
    "    return new_seating.count(\"#\")"
   ]
  },
  {
   "cell_type": "markdown",
   "metadata": {},
   "source": [
    "#### Tests"
   ]
  },
  {
   "cell_type": "code",
   "execution_count": null,
   "metadata": {},
   "outputs": [],
   "source": [
    "%%run_pytest[clean] -qq\n",
    "\n",
    "def test_A(dummy_input):\n",
    "    assert solve_A(split_input(dummy_input)) == 37"
   ]
  },
  {
   "cell_type": "markdown",
   "metadata": {},
   "source": [
    "#### OUTPUT"
   ]
  },
  {
   "cell_type": "code",
   "execution_count": null,
   "metadata": {
    "scrolled": true
   },
   "outputs": [],
   "source": [
    "solve_A(get_input())"
   ]
  },
  {
   "cell_type": "markdown",
   "metadata": {},
   "source": [
    "## Solution B"
   ]
  },
  {
   "cell_type": "code",
   "execution_count": 22,
   "metadata": {},
   "outputs": [
    {
     "data": {
      "application/javascript": [
       "\n",
       "            setTimeout(function() {\n",
       "                var nbb_cell_id = 22;\n",
       "                var nbb_unformatted_code = \"def calculate_seating_round_B(waiting_area):\\n    \\\"\\\"\\\"\\n    Given a waiting area, calculate a new seating allocation\\n    according to the problem B model.\\n    If a seat is empty (L) and there are no occupied seats visible to it,\\n        the seat becomes occupied.\\n    If a seat is occupied (#) and five (5) or more seats visible to it are also occupied,\\n        the seat becomes empty.\\n    Otherwise,\\n        the seat's state does not change.\\n    \\\"\\\"\\\"\\n    # Make our changes to new_grid\\n    new_grid = copy.deepcopy(waiting_area.grid)\\n\\n    def determine_flip(area, new_grid, row, col):\\n        # Get the seat and number of surrounding occupied seats\\n        seat = area.grid[row + 1][col + 1]\\n        visible_occupied = sum(\\n            [\\n                area.grid[r][c].occupied\\n                for r, c in area.visible_seats_dict[(row + 1, col + 1)]\\n            ]\\n        )\\n\\n        # Determine new state in new_grid\\n        if seat.occupied and visible_occupied >= 5:\\n            new_grid[row + 1][col + 1].flip_seat()\\n        elif not seat.occupied and visible_occupied == 0:\\n            new_grid[row + 1][col + 1].flip_seat()\\n\\n    # Loop over the seats in the waiting area\\n    [\\n        determine_flip(waiting_area, new_grid, row, col)\\n        for row in range(0, waiting_area.height)\\n        for col in range(0, waiting_area.width)\\n        if waiting_area.grid[row + 1][col + 1].seat\\n    ]\\n\\n    # new_grid now contains the new seating arrangement\\n    # Update the waiting area's grid to the new grid\\n    waiting_area.grid = new_grid\\n\\n    return waiting_area\\n\\n\\n@timer\\ndef solve_B(lines):\\n    \\\"\\\"\\\"\\n    Initialise a waiting area from input,\\n    loop until equilibrium according to B,\\n    count #'s\\n    \\\"\\\"\\\"\\n    # Initialize waiting area and loop variables\\n    waiting_area = WaitingArea().load_string(lines)\\n\\n    # Initialize for each seat the list of visible seats\\n    waiting_area.populate_visible_seats()\\n\\n    # Initialize the variables for the seating loop\\n    new_seating = \\\"INITIALISATION\\\"\\n    old_seating = \\\"\\\"\\n    seat_round = 0\\n\\n    # Repeat until equilibrium is found\\n    while old_seating != new_seating:\\n        seat_round += 1\\n        old_seating = new_seating\\n        calculate_seating_round_B(waiting_area)\\n        new_seating = waiting_area.get_grid_as_string()\\n\\n    # Return the number of # in new_seating\\n    print(f\\\"Finished with {seat_round} rounds.\\\")\\n    return new_seating.count(\\\"#\\\")\";\n",
       "                var nbb_formatted_code = \"def calculate_seating_round_B(waiting_area):\\n    \\\"\\\"\\\"\\n    Given a waiting area, calculate a new seating allocation\\n    according to the problem B model.\\n    If a seat is empty (L) and there are no occupied seats visible to it,\\n        the seat becomes occupied.\\n    If a seat is occupied (#) and five (5) or more seats visible to it are also occupied,\\n        the seat becomes empty.\\n    Otherwise,\\n        the seat's state does not change.\\n    \\\"\\\"\\\"\\n    # Make our changes to new_grid\\n    new_grid = copy.deepcopy(waiting_area.grid)\\n\\n    def determine_flip(area, new_grid, row, col):\\n        # Get the seat and number of surrounding occupied seats\\n        seat = area.grid[row + 1][col + 1]\\n        visible_occupied = sum(\\n            [\\n                area.grid[r][c].occupied\\n                for r, c in area.visible_seats_dict[(row + 1, col + 1)]\\n            ]\\n        )\\n\\n        # Determine new state in new_grid\\n        if seat.occupied and visible_occupied >= 5:\\n            new_grid[row + 1][col + 1].flip_seat()\\n        elif not seat.occupied and visible_occupied == 0:\\n            new_grid[row + 1][col + 1].flip_seat()\\n\\n    # Loop over the seats in the waiting area\\n    [\\n        determine_flip(waiting_area, new_grid, row, col)\\n        for row in range(0, waiting_area.height)\\n        for col in range(0, waiting_area.width)\\n        if waiting_area.grid[row + 1][col + 1].seat\\n    ]\\n\\n    # new_grid now contains the new seating arrangement\\n    # Update the waiting area's grid to the new grid\\n    waiting_area.grid = new_grid\\n\\n    return waiting_area\\n\\n\\n@timer\\ndef solve_B(lines):\\n    \\\"\\\"\\\"\\n    Initialise a waiting area from input,\\n    loop until equilibrium according to B,\\n    count #'s\\n    \\\"\\\"\\\"\\n    # Initialize waiting area and loop variables\\n    waiting_area = WaitingArea().load_string(lines)\\n\\n    # Initialize for each seat the list of visible seats\\n    waiting_area.populate_visible_seats()\\n\\n    # Initialize the variables for the seating loop\\n    new_seating = \\\"INITIALISATION\\\"\\n    old_seating = \\\"\\\"\\n    seat_round = 0\\n\\n    # Repeat until equilibrium is found\\n    while old_seating != new_seating:\\n        seat_round += 1\\n        old_seating = new_seating\\n        calculate_seating_round_B(waiting_area)\\n        new_seating = waiting_area.get_grid_as_string()\\n\\n    # Return the number of # in new_seating\\n    print(f\\\"Finished with {seat_round} rounds.\\\")\\n    return new_seating.count(\\\"#\\\")\";\n",
       "                var nbb_cells = Jupyter.notebook.get_cells();\n",
       "                for (var i = 0; i < nbb_cells.length; ++i) {\n",
       "                    if (nbb_cells[i].input_prompt_number == nbb_cell_id) {\n",
       "                        if (nbb_cells[i].get_text() == nbb_unformatted_code) {\n",
       "                             nbb_cells[i].set_text(nbb_formatted_code);\n",
       "                        }\n",
       "                        break;\n",
       "                    }\n",
       "                }\n",
       "            }, 500);\n",
       "            "
      ],
      "text/plain": [
       "<IPython.core.display.Javascript object>"
      ]
     },
     "metadata": {},
     "output_type": "display_data"
    }
   ],
   "source": [
    "def calculate_seating_round_B(waiting_area):\n",
    "    \"\"\"\n",
    "    Given a waiting area, calculate a new seating allocation\n",
    "    according to the problem B model.\n",
    "    If a seat is empty (L) and there are no occupied seats visible to it,\n",
    "        the seat becomes occupied.\n",
    "    If a seat is occupied (#) and five (5) or more seats visible to it are also occupied,\n",
    "        the seat becomes empty.\n",
    "    Otherwise,\n",
    "        the seat's state does not change.\n",
    "    \"\"\"\n",
    "    # Make our changes to new_grid\n",
    "    new_grid = copy.deepcopy(waiting_area.grid)\n",
    "\n",
    "    def determine_flip(area, new_grid, row, col):\n",
    "        # Get the seat and number of surrounding occupied seats\n",
    "        seat = area.grid[row + 1][col + 1]\n",
    "        visible_occupied = sum(\n",
    "            [\n",
    "                area.grid[r][c].occupied\n",
    "                for r, c in area.visible_seats_dict[(row + 1, col + 1)]\n",
    "            ]\n",
    "        )\n",
    "\n",
    "        # Determine new state in new_grid\n",
    "        if seat.occupied and visible_occupied >= 5:\n",
    "            new_grid[row + 1][col + 1].flip_seat()\n",
    "        elif not seat.occupied and visible_occupied == 0:\n",
    "            new_grid[row + 1][col + 1].flip_seat()\n",
    "\n",
    "    # Loop over the seats in the waiting area\n",
    "    [\n",
    "        determine_flip(waiting_area, new_grid, row, col)\n",
    "        for row in range(0, waiting_area.height)\n",
    "        for col in range(0, waiting_area.width)\n",
    "        if waiting_area.grid[row + 1][col + 1].seat\n",
    "    ]\n",
    "\n",
    "    # new_grid now contains the new seating arrangement\n",
    "    # Update the waiting area's grid to the new grid\n",
    "    waiting_area.grid = new_grid\n",
    "\n",
    "    return waiting_area\n",
    "\n",
    "\n",
    "@timer\n",
    "def solve_B(lines):\n",
    "    \"\"\"\n",
    "    Initialise a waiting area from input,\n",
    "    loop until equilibrium according to B,\n",
    "    count #'s\n",
    "    \"\"\"\n",
    "    # Initialize waiting area and loop variables\n",
    "    waiting_area = WaitingArea().load_string(lines)\n",
    "\n",
    "    # Initialize for each seat the list of visible seats\n",
    "    waiting_area.populate_visible_seats()\n",
    "\n",
    "    # Initialize the variables for the seating loop\n",
    "    new_seating = \"INITIALISATION\"\n",
    "    old_seating = \"\"\n",
    "    seat_round = 0\n",
    "\n",
    "    # Repeat until equilibrium is found\n",
    "    while old_seating != new_seating:\n",
    "        seat_round += 1\n",
    "        old_seating = new_seating\n",
    "        calculate_seating_round_B(waiting_area)\n",
    "        new_seating = waiting_area.get_grid_as_string()\n",
    "\n",
    "    # Return the number of # in new_seating\n",
    "    print(f\"Finished with {seat_round} rounds.\")\n",
    "    return new_seating.count(\"#\")"
   ]
  },
  {
   "cell_type": "markdown",
   "metadata": {},
   "source": [
    "#### Tests"
   ]
  },
  {
   "cell_type": "code",
   "execution_count": 17,
   "metadata": {
    "scrolled": true
   },
   "outputs": [
    {
     "data": {
      "application/javascript": [
       "\n",
       "            setTimeout(function() {\n",
       "                var nbb_cell_id = 17;\n",
       "                var nbb_unformatted_code = \"%%run_pytest[clean] -qq\\n\\ndef test_B(dummy_input):\\n    assert solve_B(split_input(dummy_input)) == 26\";\n",
       "                var nbb_formatted_code = \"%%run_pytest[clean] -qq\\n\\ndef test_B(dummy_input):\\n    assert solve_B(split_input(dummy_input)) == 26\";\n",
       "                var nbb_cells = Jupyter.notebook.get_cells();\n",
       "                for (var i = 0; i < nbb_cells.length; ++i) {\n",
       "                    if (nbb_cells[i].input_prompt_number == nbb_cell_id) {\n",
       "                        if (nbb_cells[i].get_text() == nbb_unformatted_code) {\n",
       "                             nbb_cells[i].set_text(nbb_formatted_code);\n",
       "                        }\n",
       "                        break;\n",
       "                    }\n",
       "                }\n",
       "            }, 500);\n",
       "            "
      ],
      "text/plain": [
       "<IPython.core.display.Javascript object>"
      ]
     },
     "metadata": {},
     "output_type": "display_data"
    },
    {
     "name": "stdout",
     "output_type": "stream",
     "text": [
      ".                                                                                                             [100%]\n"
     ]
    },
    {
     "data": {
      "application/javascript": [
       "\n",
       "            setTimeout(function() {\n",
       "                var nbb_cell_id = 17;\n",
       "                var nbb_unformatted_code = \"%%run_pytest[clean] -qq\\n\\ndef test_B(dummy_input):\\n    assert solve_B(split_input(dummy_input)) == 26\";\n",
       "                var nbb_formatted_code = \"%%run_pytest[clean] -qq\\n\\ndef test_B(dummy_input):\\n    assert solve_B(split_input(dummy_input)) == 26\";\n",
       "                var nbb_cells = Jupyter.notebook.get_cells();\n",
       "                for (var i = 0; i < nbb_cells.length; ++i) {\n",
       "                    if (nbb_cells[i].input_prompt_number == nbb_cell_id) {\n",
       "                        if (nbb_cells[i].get_text() == nbb_unformatted_code) {\n",
       "                             nbb_cells[i].set_text(nbb_formatted_code);\n",
       "                        }\n",
       "                        break;\n",
       "                    }\n",
       "                }\n",
       "            }, 500);\n",
       "            "
      ],
      "text/plain": [
       "<IPython.core.display.Javascript object>"
      ]
     },
     "metadata": {},
     "output_type": "display_data"
    }
   ],
   "source": [
    "%%run_pytest[clean] -qq\n",
    "\n",
    "def test_B(dummy_input):\n",
    "    assert solve_B(split_input(dummy_input)) == 26"
   ]
  },
  {
   "cell_type": "markdown",
   "metadata": {},
   "source": [
    "#### OUTPUT"
   ]
  },
  {
   "cell_type": "code",
   "execution_count": 23,
   "metadata": {},
   "outputs": [
    {
     "name": "stdout",
     "output_type": "stream",
     "text": [
      "[WaitingArea] Grid created from input\n",
      "[WaitingArea] Visible seats pre-populated\n",
      "Finished with 91 rounds.\n",
      "Finished 'solve_B' in 10.0660 secs\n"
     ]
    },
    {
     "data": {
      "text/plain": [
       "2285"
      ]
     },
     "execution_count": 23,
     "metadata": {},
     "output_type": "execute_result"
    },
    {
     "data": {
      "application/javascript": [
       "\n",
       "            setTimeout(function() {\n",
       "                var nbb_cell_id = 23;\n",
       "                var nbb_unformatted_code = \"solve_B(get_input())\";\n",
       "                var nbb_formatted_code = \"solve_B(get_input())\";\n",
       "                var nbb_cells = Jupyter.notebook.get_cells();\n",
       "                for (var i = 0; i < nbb_cells.length; ++i) {\n",
       "                    if (nbb_cells[i].input_prompt_number == nbb_cell_id) {\n",
       "                        if (nbb_cells[i].get_text() == nbb_unformatted_code) {\n",
       "                             nbb_cells[i].set_text(nbb_formatted_code);\n",
       "                        }\n",
       "                        break;\n",
       "                    }\n",
       "                }\n",
       "            }, 500);\n",
       "            "
      ],
      "text/plain": [
       "<IPython.core.display.Javascript object>"
      ]
     },
     "metadata": {},
     "output_type": "display_data"
    }
   ],
   "source": [
    "solve_B(get_input())"
   ]
  },
  {
   "cell_type": "markdown",
   "metadata": {},
   "source": [
    "# DEBUG B"
   ]
  },
  {
   "cell_type": "code",
   "execution_count": 20,
   "metadata": {},
   "outputs": [
    {
     "name": "stdout",
     "output_type": "stream",
     "text": [
      "[WaitingArea] Grid created from input\n",
      "[WaitingArea] Visible seats pre-populated\n"
     ]
    },
    {
     "data": {
      "text/plain": [
       "{(1, 1): [(1, 3), (2, 1), (2, 2)],\n",
       " (1, 3): [(1, 1), (1, 4), (2, 2), (2, 3), (2, 4)],\n",
       " (1, 4): [(1, 3), (1, 6), (2, 3), (2, 4), (2, 5)],\n",
       " (1, 6): [(1, 4), (1, 7), (2, 5), (2, 6), (2, 7)],\n",
       " (1, 7): [(1, 6), (1, 9), (2, 6), (2, 7), (4, 10)],\n",
       " (1, 9): [(1, 7), (1, 10), (4, 6), (2, 9), (2, 10)],\n",
       " (1, 10): [(1, 9), (2, 9), (2, 10)],\n",
       " (2, 1): [(1, 1), (2, 2), (3, 1), (4, 3)],\n",
       " (2, 2): [(1, 1), (1, 3), (2, 1), (2, 3), (3, 1), (4, 2), (3, 3)],\n",
       " (2, 3): [(1, 3), (1, 4), (2, 2), (2, 4), (4, 1), (3, 3), (5, 6)],\n",
       " (2, 4): [(1, 3), (1, 4), (2, 3), (2, 5), (3, 3), (4, 4), (3, 5)],\n",
       " (2, 5): [(1, 4), (1, 6), (2, 4), (2, 6), (4, 3), (3, 5), (4, 7)],\n",
       " (2, 6): [(1, 6), (1, 7), (2, 5), (2, 7), (3, 5), (4, 6), (5, 9)],\n",
       " (2, 7): [(1, 6), (1, 7), (2, 6), (2, 9), (5, 4), (4, 7), (3, 8)],\n",
       " (2, 9): [(1, 9), (1, 10), (2, 7), (2, 10), (3, 8), (4, 9)],\n",
       " (2, 10): [(1, 9), (1, 10), (2, 9), (5, 7), (4, 10)],\n",
       " (3, 1): [(2, 1), (2, 2), (3, 3), (4, 1), (4, 2)],\n",
       " (3, 3): [(2, 2), (2, 3), (2, 4), (3, 1), (3, 5), (4, 2), (4, 3), (4, 4)],\n",
       " (3, 5): [(2, 4), (2, 5), (2, 6), (3, 3), (3, 8), (4, 4), (6, 5), (4, 6)],\n",
       " (3, 8): [(2, 7), (2, 9), (3, 5), (4, 7), (8, 8), (4, 9)],\n",
       " (4, 1): [(3, 1), (2, 3), (4, 2), (5, 1), (6, 3)],\n",
       " (4, 2): [(3, 1), (2, 2), (3, 3), (4, 1), (4, 3), (5, 1), (8, 2), (5, 3)],\n",
       " (4, 3): [(2, 1), (3, 3), (2, 5), (4, 2), (4, 4), (6, 1), (5, 3), (5, 4)],\n",
       " (4, 4): [(3, 3), (2, 4), (3, 5), (4, 3), (4, 6), (5, 3), (5, 4), (6, 6)],\n",
       " (4, 6): [(3, 5), (2, 6), (1, 9), (4, 4), (4, 7), (6, 4), (5, 6), (5, 7)],\n",
       " (4, 7): [(2, 5), (2, 7), (3, 8), (4, 6), (4, 9), (5, 6), (5, 7), (6, 9)],\n",
       " (4, 9): [(3, 8), (2, 9), (4, 7), (4, 10), (6, 7), (5, 9), (5, 10)],\n",
       " (4, 10): [(1, 7), (2, 10), (4, 9), (5, 9), (5, 10)],\n",
       " (5, 1): [(4, 1), (4, 2), (5, 3), (6, 1), (7, 3)],\n",
       " (5, 3): [(4, 2), (4, 3), (4, 4), (5, 1), (5, 4), (6, 3), (6, 4)],\n",
       " (5, 4): [(4, 3), (4, 4), (2, 7), (5, 3), (5, 6), (6, 3), (6, 4), (6, 5)],\n",
       " (5, 6): [(2, 3), (4, 6), (4, 7), (5, 4), (5, 7), (6, 5), (6, 6), (6, 7)],\n",
       " (5, 7): [(4, 6), (4, 7), (2, 10), (5, 6), (5, 9), (6, 6), (6, 7), (8, 10)],\n",
       " (5, 9): [(2, 6), (4, 9), (4, 10), (5, 7), (5, 10), (8, 6), (6, 9), (6, 10)],\n",
       " (5, 10): [(4, 9), (4, 10), (5, 9), (6, 9), (6, 10)],\n",
       " (6, 1): [(5, 1), (4, 3), (6, 3), (8, 1), (8, 3)],\n",
       " (6, 3): [(4, 1), (5, 3), (5, 4), (6, 1), (6, 4), (8, 1), (7, 3), (8, 5)],\n",
       " (6, 4): [(5, 3), (5, 4), (4, 6), (6, 3), (6, 5), (7, 3), (8, 4), (7, 5)],\n",
       " (6, 5): [(5, 4), (3, 5), (5, 6), (6, 4), (6, 6), (8, 3), (7, 5), (8, 7)],\n",
       " (6, 6): [(4, 4), (5, 6), (5, 7), (6, 5), (6, 7), (7, 5), (8, 6), (8, 8)],\n",
       " (6, 7): [(5, 6), (5, 7), (4, 9), (6, 6), (6, 9), (8, 5), (8, 7), (8, 9)],\n",
       " (6, 9): [(4, 7), (5, 9), (5, 10), (6, 7), (6, 10), (8, 7), (8, 9)],\n",
       " (6, 10): [(5, 9), (5, 10), (6, 9), (8, 8), (8, 10)],\n",
       " (7, 3): [(5, 1), (6, 3), (6, 4), (7, 5), (8, 2), (8, 3), (8, 4)],\n",
       " (7, 5): [(6, 4), (6, 5), (6, 6), (7, 3), (8, 4), (8, 5), (8, 6)],\n",
       " (8, 1): [(6, 1), (6, 3), (8, 2), (9, 1), (10, 3)],\n",
       " (8, 2): [(4, 2), (7, 3), (8, 1), (8, 3), (9, 1), (9, 3)],\n",
       " (8, 3): [(6, 1), (7, 3), (6, 5), (8, 2), (8, 4), (10, 1), (9, 3), (9, 4)],\n",
       " (8, 4): [(7, 3), (6, 4), (7, 5), (8, 3), (8, 5), (9, 3), (9, 4), (9, 5)],\n",
       " (8, 5): [(6, 3), (7, 5), (6, 7), (8, 4), (8, 6), (9, 4), (9, 5), (9, 6)],\n",
       " (8, 6): [(7, 5), (6, 6), (5, 9), (8, 5), (8, 7), (9, 5), (9, 6), (9, 7)],\n",
       " (8, 7): [(6, 5), (6, 7), (6, 9), (8, 6), (8, 8), (9, 6), (9, 7), (9, 8)],\n",
       " (8, 8): [(6, 6), (3, 8), (6, 10), (8, 7), (8, 9), (9, 7), (9, 8), (10, 10)],\n",
       " (8, 9): [(6, 7), (6, 9), (8, 8), (8, 10), (9, 8), (10, 9), (9, 10)],\n",
       " (8, 10): [(5, 7), (6, 10), (8, 9), (9, 10)],\n",
       " (9, 1): [(8, 1), (8, 2), (9, 3), (10, 1)],\n",
       " (9, 3): [(8, 2), (8, 3), (8, 4), (9, 1), (9, 4), (10, 3), (10, 4)],\n",
       " (9, 4): [(8, 3), (8, 4), (8, 5), (9, 3), (9, 5), (10, 3), (10, 4), (10, 5)],\n",
       " (9, 5): [(8, 4), (8, 5), (8, 6), (9, 4), (9, 6), (10, 4), (10, 5), (10, 6)],\n",
       " (9, 6): [(8, 5), (8, 6), (8, 7), (9, 5), (9, 7), (10, 5), (10, 6), (10, 7)],\n",
       " (9, 7): [(8, 6), (8, 7), (8, 8), (9, 6), (9, 8), (10, 6), (10, 7)],\n",
       " (9, 8): [(8, 7), (8, 8), (8, 9), (9, 7), (9, 10), (10, 7), (10, 9)],\n",
       " (9, 10): [(8, 9), (8, 10), (9, 8), (10, 9), (10, 10)],\n",
       " (10, 1): [(9, 1), (8, 3), (10, 3)],\n",
       " (10, 3): [(8, 1), (9, 3), (9, 4), (10, 1), (10, 4)],\n",
       " (10, 4): [(9, 3), (9, 4), (9, 5), (10, 3), (10, 5)],\n",
       " (10, 5): [(9, 4), (9, 5), (9, 6), (10, 4), (10, 6)],\n",
       " (10, 6): [(9, 5), (9, 6), (9, 7), (10, 5), (10, 7)],\n",
       " (10, 7): [(9, 6), (9, 7), (9, 8), (10, 6), (10, 9)],\n",
       " (10, 9): [(9, 8), (8, 9), (9, 10), (10, 7), (10, 10)],\n",
       " (10, 10): [(8, 8), (9, 10), (10, 9)]}"
      ]
     },
     "execution_count": 20,
     "metadata": {},
     "output_type": "execute_result"
    },
    {
     "data": {
      "application/javascript": [
       "\n",
       "            setTimeout(function() {\n",
       "                var nbb_cell_id = 20;\n",
       "                var nbb_unformatted_code = \"testwa = WaitingArea().load_string(split_input(STR_SAMPLE)).populate_visible_seats()\\ntestwa.visible_seats_dict\";\n",
       "                var nbb_formatted_code = \"testwa = WaitingArea().load_string(split_input(STR_SAMPLE)).populate_visible_seats()\\ntestwa.visible_seats_dict\";\n",
       "                var nbb_cells = Jupyter.notebook.get_cells();\n",
       "                for (var i = 0; i < nbb_cells.length; ++i) {\n",
       "                    if (nbb_cells[i].input_prompt_number == nbb_cell_id) {\n",
       "                        if (nbb_cells[i].get_text() == nbb_unformatted_code) {\n",
       "                             nbb_cells[i].set_text(nbb_formatted_code);\n",
       "                        }\n",
       "                        break;\n",
       "                    }\n",
       "                }\n",
       "            }, 500);\n",
       "            "
      ],
      "text/plain": [
       "<IPython.core.display.Javascript object>"
      ]
     },
     "metadata": {},
     "output_type": "display_data"
    }
   ],
   "source": [
    "testwa = WaitingArea().load_string(split_input(STR_SAMPLE)).populate_visible_seats()\n",
    "testwa.visible_seats_dict"
   ]
  },
  {
   "cell_type": "code",
   "execution_count": null,
   "metadata": {},
   "outputs": [],
   "source": []
  }
 ],
 "metadata": {
  "kernelspec": {
   "display_name": "Python [conda env:aoc20_36]",
   "language": "python",
   "name": "conda-env-aoc20_36-py"
  },
  "language_info": {
   "codemirror_mode": {
    "name": "ipython",
    "version": 3
   },
   "file_extension": ".py",
   "mimetype": "text/x-python",
   "name": "python",
   "nbconvert_exporter": "python",
   "pygments_lexer": "ipython3",
   "version": "3.6.12"
  }
 },
 "nbformat": 4,
 "nbformat_minor": 4
}
