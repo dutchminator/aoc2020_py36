{
 "cells": [
  {
   "cell_type": "markdown",
   "metadata": {},
   "source": [
    "# DAY 1"
   ]
  },
  {
   "cell_type": "markdown",
   "metadata": {},
   "source": [
    "## GENERIC SETUP"
   ]
  },
  {
   "cell_type": "code",
   "execution_count": 86,
   "metadata": {},
   "outputs": [
    {
     "name": "stdout",
     "output_type": "stream",
     "text": [
      "The nb_black extension is already loaded. To reload it, use:\n",
      "  %reload_ext nb_black\n"
     ]
    },
    {
     "data": {
      "application/javascript": [
       "\n",
       "            setTimeout(function() {\n",
       "                var nbb_cell_id = 86;\n",
       "                var nbb_unformatted_code = \"# General imports\\nimport pytest\\nimport ipytest\\nimport time\\n\\n# Setup ipytest\\nipytest.autoconfig()\\n\\n# Setup nb_black\\n%load_ext nb_black\\n\\n# Decorator to time solutions\\ndef timer(func):\\n    \\\"\\\"\\\"\\n    Wrapper function.\\n    Print the runtime of the decorated function.\\n    \\\"\\\"\\\"\\n\\n    @functools.wraps(func)\\n    def wrapper_timer(*args, **kwargs):\\n        start_time = time.perf_counter()  # 1\\n        value = func(*args, **kwargs)\\n        end_time = time.perf_counter()  # 2\\n        run_time = end_time - start_time  # 3\\n        print(f\\\"Finished {func.__name__!r} in {run_time:.4f} secs\\\")\\n        return value\\n\\n    return wrapper_timer\";\n",
       "                var nbb_formatted_code = \"# General imports\\nimport pytest\\nimport ipytest\\nimport time\\n\\n# Setup ipytest\\nipytest.autoconfig()\\n\\n# Setup nb_black\\n%load_ext nb_black\\n\\n# Decorator to time solutions\\ndef timer(func):\\n    \\\"\\\"\\\"\\n    Wrapper function.\\n    Print the runtime of the decorated function.\\n    \\\"\\\"\\\"\\n\\n    @functools.wraps(func)\\n    def wrapper_timer(*args, **kwargs):\\n        start_time = time.perf_counter()  # 1\\n        value = func(*args, **kwargs)\\n        end_time = time.perf_counter()  # 2\\n        run_time = end_time - start_time  # 3\\n        print(f\\\"Finished {func.__name__!r} in {run_time:.4f} secs\\\")\\n        return value\\n\\n    return wrapper_timer\";\n",
       "                var nbb_cells = Jupyter.notebook.get_cells();\n",
       "                for (var i = 0; i < nbb_cells.length; ++i) {\n",
       "                    if (nbb_cells[i].input_prompt_number == nbb_cell_id) {\n",
       "                        if (nbb_cells[i].get_text() == nbb_unformatted_code) {\n",
       "                             nbb_cells[i].set_text(nbb_formatted_code);\n",
       "                        }\n",
       "                        break;\n",
       "                    }\n",
       "                }\n",
       "            }, 500);\n",
       "            "
      ],
      "text/plain": [
       "<IPython.core.display.Javascript object>"
      ]
     },
     "metadata": {},
     "output_type": "display_data"
    }
   ],
   "source": [
    "# General imports\n",
    "import pytest\n",
    "import ipytest\n",
    "import time\n",
    "\n",
    "# Setup ipytest\n",
    "ipytest.autoconfig()\n",
    "\n",
    "# Setup nb_black\n",
    "%load_ext nb_black\n",
    "\n",
    "# Decorator to time solutions\n",
    "def timer(func):\n",
    "    \"\"\"\n",
    "    Wrapper function.\n",
    "    Print the runtime of the decorated function.\n",
    "    \"\"\"\n",
    "\n",
    "    @functools.wraps(func)\n",
    "    def wrapper_timer(*args, **kwargs):\n",
    "        start_time = time.perf_counter()  # 1\n",
    "        value = func(*args, **kwargs)\n",
    "        end_time = time.perf_counter()  # 2\n",
    "        run_time = end_time - start_time  # 3\n",
    "        print(f\"Finished {func.__name__!r} in {run_time:.4f} secs\")\n",
    "        return value\n",
    "\n",
    "    return wrapper_timer"
   ]
  },
  {
   "cell_type": "markdown",
   "metadata": {},
   "source": [
    "## SOLUTION SETUP"
   ]
  },
  {
   "cell_type": "code",
   "execution_count": 87,
   "metadata": {},
   "outputs": [
    {
     "data": {
      "application/javascript": [
       "\n",
       "            setTimeout(function() {\n",
       "                var nbb_cell_id = 87;\n",
       "                var nbb_unformatted_code = \"# Solution-specific imports\\nfrom itertools import combinations\\nimport functools\\nimport operator\\n\\n# What day do we solve? Used to identify the input datafile\\nDAY = 1\";\n",
       "                var nbb_formatted_code = \"# Solution-specific imports\\nfrom itertools import combinations\\nimport functools\\nimport operator\\n\\n# What day do we solve? Used to identify the input datafile\\nDAY = 1\";\n",
       "                var nbb_cells = Jupyter.notebook.get_cells();\n",
       "                for (var i = 0; i < nbb_cells.length; ++i) {\n",
       "                    if (nbb_cells[i].input_prompt_number == nbb_cell_id) {\n",
       "                        if (nbb_cells[i].get_text() == nbb_unformatted_code) {\n",
       "                             nbb_cells[i].set_text(nbb_formatted_code);\n",
       "                        }\n",
       "                        break;\n",
       "                    }\n",
       "                }\n",
       "            }, 500);\n",
       "            "
      ],
      "text/plain": [
       "<IPython.core.display.Javascript object>"
      ]
     },
     "metadata": {},
     "output_type": "display_data"
    }
   ],
   "source": [
    "# Solution-specific imports\n",
    "from itertools import combinations\n",
    "import functools\n",
    "import operator\n",
    "\n",
    "# What day do we solve? Used to identify the input datafile\n",
    "DAY = 1"
   ]
  },
  {
   "cell_type": "markdown",
   "metadata": {},
   "source": [
    "#### I/O functions"
   ]
  },
  {
   "cell_type": "code",
   "execution_count": 88,
   "metadata": {},
   "outputs": [
    {
     "data": {
      "application/javascript": [
       "\n",
       "            setTimeout(function() {\n",
       "                var nbb_cell_id = 88;\n",
       "                var nbb_unformatted_code = \"def get_input():\\n    with open(f\\\"../data/{DAY}.txt\\\", \\\"r\\\") as f:\\n        return parse_input(f.readlines())\\n\\n\\ndef parse_input(lines):\\n    return list(map(int, lines))\";\n",
       "                var nbb_formatted_code = \"def get_input():\\n    with open(f\\\"../data/{DAY}.txt\\\", \\\"r\\\") as f:\\n        return parse_input(f.readlines())\\n\\n\\ndef parse_input(lines):\\n    return list(map(int, lines))\";\n",
       "                var nbb_cells = Jupyter.notebook.get_cells();\n",
       "                for (var i = 0; i < nbb_cells.length; ++i) {\n",
       "                    if (nbb_cells[i].input_prompt_number == nbb_cell_id) {\n",
       "                        if (nbb_cells[i].get_text() == nbb_unformatted_code) {\n",
       "                             nbb_cells[i].set_text(nbb_formatted_code);\n",
       "                        }\n",
       "                        break;\n",
       "                    }\n",
       "                }\n",
       "            }, 500);\n",
       "            "
      ],
      "text/plain": [
       "<IPython.core.display.Javascript object>"
      ]
     },
     "metadata": {},
     "output_type": "display_data"
    }
   ],
   "source": [
    "def get_input():\n",
    "    with open(f\"../data/{DAY}.txt\", \"r\") as f:\n",
    "        return parse_input(f.readlines())\n",
    "\n",
    "\n",
    "def parse_input(lines):\n",
    "    return list(map(int, lines))"
   ]
  },
  {
   "cell_type": "markdown",
   "metadata": {},
   "source": [
    "#### Pytest setup"
   ]
  },
  {
   "cell_type": "code",
   "execution_count": 89,
   "metadata": {},
   "outputs": [
    {
     "data": {
      "application/javascript": [
       "\n",
       "            setTimeout(function() {\n",
       "                var nbb_cell_id = 89;\n",
       "                var nbb_unformatted_code = \"# Sample input\\n@pytest.fixture\\ndef dummy_input():\\n    return \\\"\\\"\\\"1721\\n979\\n366\\n299\\n675\\n1456\\\"\\\"\\\".split(\\n        \\\"\\\\n\\\"\\n    )\";\n",
       "                var nbb_formatted_code = \"# Sample input\\n@pytest.fixture\\ndef dummy_input():\\n    return \\\"\\\"\\\"1721\\n979\\n366\\n299\\n675\\n1456\\\"\\\"\\\".split(\\n        \\\"\\\\n\\\"\\n    )\";\n",
       "                var nbb_cells = Jupyter.notebook.get_cells();\n",
       "                for (var i = 0; i < nbb_cells.length; ++i) {\n",
       "                    if (nbb_cells[i].input_prompt_number == nbb_cell_id) {\n",
       "                        if (nbb_cells[i].get_text() == nbb_unformatted_code) {\n",
       "                             nbb_cells[i].set_text(nbb_formatted_code);\n",
       "                        }\n",
       "                        break;\n",
       "                    }\n",
       "                }\n",
       "            }, 500);\n",
       "            "
      ],
      "text/plain": [
       "<IPython.core.display.Javascript object>"
      ]
     },
     "metadata": {},
     "output_type": "display_data"
    }
   ],
   "source": [
    "# Sample input\n",
    "@pytest.fixture\n",
    "def dummy_input():\n",
    "    return \"\"\"1721\n",
    "979\n",
    "366\n",
    "299\n",
    "675\n",
    "1456\"\"\".split(\n",
    "        \"\\n\"\n",
    "    )"
   ]
  },
  {
   "cell_type": "markdown",
   "metadata": {},
   "source": [
    "## Solution a"
   ]
  },
  {
   "cell_type": "code",
   "execution_count": 95,
   "metadata": {},
   "outputs": [
    {
     "data": {
      "application/javascript": [
       "\n",
       "            setTimeout(function() {\n",
       "                var nbb_cell_id = 95;\n",
       "                var nbb_unformatted_code = \"@timer\\ndef solve_a_nonlinear(lines):\\n    \\\"\\\"\\\"\\n    O(n log n) solution\\n    \\\"\\\"\\\"\\n    for ix, number1 in enumerate(lines):\\n        for number2 in lines[ix + 1 :]:\\n            if number1 + number2 == 2020:\\n                return number1 * number2\\n\\n\\n# --- Alternative solution\\n\\n\\n@timer\\ndef solve_a_linear(lines):\\n    \\\"\\\"\\\"\\n    O(n) solution\\n\\n    Assumption: Numbers in input are strictly smaller than 2020\\n    Otherwise finding the max element of input is also O(n), that wouldn't\\n    invalidate the complexity of the solution.\\n    \\\"\\\"\\\"\\n    # Initialise\\n    bool_list = [False for _ in range(2020)]\\n\\n    # First loop O(n) over all numbers\\n    for number in lines:\\n        bool_list[number] = True\\n\\n    # Second loop O(n) over all numbers\\n    for number in lines:\\n        if bool_list[2020 - number] and number != 1010:\\n            return number * (2020 - number)\\n        elif number == 1010 and not wait_double:\\n            wait_double = True\\n        elif number == 1010 and wait_double:\\n            return 1010 * 1010\";\n",
       "                var nbb_formatted_code = \"@timer\\ndef solve_a_nonlinear(lines):\\n    \\\"\\\"\\\"\\n    O(n log n) solution\\n    \\\"\\\"\\\"\\n    for ix, number1 in enumerate(lines):\\n        for number2 in lines[ix + 1 :]:\\n            if number1 + number2 == 2020:\\n                return number1 * number2\\n\\n\\n# --- Alternative solution\\n\\n\\n@timer\\ndef solve_a_linear(lines):\\n    \\\"\\\"\\\"\\n    O(n) solution\\n\\n    Assumption: Numbers in input are strictly smaller than 2020\\n    Otherwise finding the max element of input is also O(n), that wouldn't\\n    invalidate the complexity of the solution.\\n    \\\"\\\"\\\"\\n    # Initialise\\n    bool_list = [False for _ in range(2020)]\\n\\n    # First loop O(n) over all numbers\\n    for number in lines:\\n        bool_list[number] = True\\n\\n    # Second loop O(n) over all numbers\\n    for number in lines:\\n        if bool_list[2020 - number] and number != 1010:\\n            return number * (2020 - number)\\n        elif number == 1010 and not wait_double:\\n            wait_double = True\\n        elif number == 1010 and wait_double:\\n            return 1010 * 1010\";\n",
       "                var nbb_cells = Jupyter.notebook.get_cells();\n",
       "                for (var i = 0; i < nbb_cells.length; ++i) {\n",
       "                    if (nbb_cells[i].input_prompt_number == nbb_cell_id) {\n",
       "                        if (nbb_cells[i].get_text() == nbb_unformatted_code) {\n",
       "                             nbb_cells[i].set_text(nbb_formatted_code);\n",
       "                        }\n",
       "                        break;\n",
       "                    }\n",
       "                }\n",
       "            }, 500);\n",
       "            "
      ],
      "text/plain": [
       "<IPython.core.display.Javascript object>"
      ]
     },
     "metadata": {},
     "output_type": "display_data"
    }
   ],
   "source": [
    "@timer\n",
    "def solve_a_nonlinear(lines):\n",
    "    \"\"\"\n",
    "    O(n log n) solution\n",
    "    \"\"\"\n",
    "    for ix, number1 in enumerate(lines):\n",
    "        for number2 in lines[ix + 1 :]:\n",
    "            if number1 + number2 == 2020:\n",
    "                return number1 * number2\n",
    "\n",
    "\n",
    "# --- Alternative solution\n",
    "\n",
    "\n",
    "@timer\n",
    "def solve_a_linear(lines):\n",
    "    \"\"\"\n",
    "    O(n) solution\n",
    "\n",
    "    Assumption: Numbers in input are strictly smaller than 2020\n",
    "    Otherwise finding the max element of input is also O(n), that wouldn't\n",
    "    invalidate the complexity of the solution.\n",
    "    \"\"\"\n",
    "    # Initialise\n",
    "    bool_list = [False for _ in range(2020)]\n",
    "\n",
    "    # First loop O(n) over all numbers\n",
    "    for number in lines:\n",
    "        bool_list[number] = True\n",
    "\n",
    "    # Second loop O(n) over all numbers\n",
    "    for number in lines:\n",
    "        if bool_list[2020 - number] and number != 1010:\n",
    "            return number * (2020 - number)\n",
    "        elif number == 1010 and not wait_double:\n",
    "            wait_double = True\n",
    "        elif number == 1010 and wait_double:\n",
    "            return 1010 * 1010"
   ]
  },
  {
   "cell_type": "markdown",
   "metadata": {},
   "source": [
    "#### Tests"
   ]
  },
  {
   "cell_type": "code",
   "execution_count": 91,
   "metadata": {},
   "outputs": [
    {
     "data": {
      "application/javascript": [
       "\n",
       "            setTimeout(function() {\n",
       "                var nbb_cell_id = 91;\n",
       "                var nbb_unformatted_code = \"%%run_pytest[clean] -qq\\n\\ndef test_a(dummy_input):\\n    assert solve_a(parse_input(dummy_input)) == 514579\\n    \\ndef test_a_linear(dummy_input):\\n    assert solve_a_linear(parse_input(dummy_input)) == 514579\";\n",
       "                var nbb_formatted_code = \"%%run_pytest[clean] -qq\\n\\ndef test_a(dummy_input):\\n    assert solve_a(parse_input(dummy_input)) == 514579\\n    \\ndef test_a_linear(dummy_input):\\n    assert solve_a_linear(parse_input(dummy_input)) == 514579\";\n",
       "                var nbb_cells = Jupyter.notebook.get_cells();\n",
       "                for (var i = 0; i < nbb_cells.length; ++i) {\n",
       "                    if (nbb_cells[i].input_prompt_number == nbb_cell_id) {\n",
       "                        if (nbb_cells[i].get_text() == nbb_unformatted_code) {\n",
       "                             nbb_cells[i].set_text(nbb_formatted_code);\n",
       "                        }\n",
       "                        break;\n",
       "                    }\n",
       "                }\n",
       "            }, 500);\n",
       "            "
      ],
      "text/plain": [
       "<IPython.core.display.Javascript object>"
      ]
     },
     "metadata": {},
     "output_type": "display_data"
    },
    {
     "name": "stdout",
     "output_type": "stream",
     "text": [
      "..                                                                                                                                           [100%]\n"
     ]
    },
    {
     "data": {
      "application/javascript": [
       "\n",
       "            setTimeout(function() {\n",
       "                var nbb_cell_id = 91;\n",
       "                var nbb_unformatted_code = \"%%run_pytest[clean] -qq\\n\\ndef test_a(dummy_input):\\n    assert solve_a(parse_input(dummy_input)) == 514579\\n    \\ndef test_a_linear(dummy_input):\\n    assert solve_a_linear(parse_input(dummy_input)) == 514579\";\n",
       "                var nbb_formatted_code = \"%%run_pytest[clean] -qq\\n\\ndef test_a(dummy_input):\\n    assert solve_a(parse_input(dummy_input)) == 514579\\n    \\ndef test_a_linear(dummy_input):\\n    assert solve_a_linear(parse_input(dummy_input)) == 514579\";\n",
       "                var nbb_cells = Jupyter.notebook.get_cells();\n",
       "                for (var i = 0; i < nbb_cells.length; ++i) {\n",
       "                    if (nbb_cells[i].input_prompt_number == nbb_cell_id) {\n",
       "                        if (nbb_cells[i].get_text() == nbb_unformatted_code) {\n",
       "                             nbb_cells[i].set_text(nbb_formatted_code);\n",
       "                        }\n",
       "                        break;\n",
       "                    }\n",
       "                }\n",
       "            }, 500);\n",
       "            "
      ],
      "text/plain": [
       "<IPython.core.display.Javascript object>"
      ]
     },
     "metadata": {},
     "output_type": "display_data"
    }
   ],
   "source": [
    "%%run_pytest[clean] -qq\n",
    "\n",
    "def test_a_nonlinear(dummy_input):\n",
    "    assert solve_a_nonlinear(parse_input(dummy_input)) == 514579\n",
    "    \n",
    "def test_a_linear(dummy_input):\n",
    "    assert solve_a_linear(parse_input(dummy_input)) == 514579"
   ]
  },
  {
   "cell_type": "markdown",
   "metadata": {},
   "source": [
    "#### OUTPUT"
   ]
  },
  {
   "cell_type": "code",
   "execution_count": 93,
   "metadata": {},
   "outputs": [
    {
     "name": "stdout",
     "output_type": "stream",
     "text": [
      "Finished 'solve_a' in 0.0012 secs\n"
     ]
    },
    {
     "data": {
      "text/plain": [
       "1014171"
      ]
     },
     "execution_count": 93,
     "metadata": {},
     "output_type": "execute_result"
    },
    {
     "data": {
      "application/javascript": [
       "\n",
       "            setTimeout(function() {\n",
       "                var nbb_cell_id = 93;\n",
       "                var nbb_unformatted_code = \"solve_a(get_input())\";\n",
       "                var nbb_formatted_code = \"solve_a(get_input())\";\n",
       "                var nbb_cells = Jupyter.notebook.get_cells();\n",
       "                for (var i = 0; i < nbb_cells.length; ++i) {\n",
       "                    if (nbb_cells[i].input_prompt_number == nbb_cell_id) {\n",
       "                        if (nbb_cells[i].get_text() == nbb_unformatted_code) {\n",
       "                             nbb_cells[i].set_text(nbb_formatted_code);\n",
       "                        }\n",
       "                        break;\n",
       "                    }\n",
       "                }\n",
       "            }, 500);\n",
       "            "
      ],
      "text/plain": [
       "<IPython.core.display.Javascript object>"
      ]
     },
     "metadata": {},
     "output_type": "display_data"
    }
   ],
   "source": [
    "solve_a_nonlinear(get_input())"
   ]
  },
  {
   "cell_type": "code",
   "execution_count": 92,
   "metadata": {},
   "outputs": [
    {
     "name": "stdout",
     "output_type": "stream",
     "text": [
      "Finished 'solve_a_linear' in 0.0001 secs\n"
     ]
    },
    {
     "data": {
      "text/plain": [
       "1014171"
      ]
     },
     "execution_count": 92,
     "metadata": {},
     "output_type": "execute_result"
    },
    {
     "data": {
      "application/javascript": [
       "\n",
       "            setTimeout(function() {\n",
       "                var nbb_cell_id = 92;\n",
       "                var nbb_unformatted_code = \"solve_a_linear(get_input())\";\n",
       "                var nbb_formatted_code = \"solve_a_linear(get_input())\";\n",
       "                var nbb_cells = Jupyter.notebook.get_cells();\n",
       "                for (var i = 0; i < nbb_cells.length; ++i) {\n",
       "                    if (nbb_cells[i].input_prompt_number == nbb_cell_id) {\n",
       "                        if (nbb_cells[i].get_text() == nbb_unformatted_code) {\n",
       "                             nbb_cells[i].set_text(nbb_formatted_code);\n",
       "                        }\n",
       "                        break;\n",
       "                    }\n",
       "                }\n",
       "            }, 500);\n",
       "            "
      ],
      "text/plain": [
       "<IPython.core.display.Javascript object>"
      ]
     },
     "metadata": {},
     "output_type": "display_data"
    }
   ],
   "source": [
    "solve_a_linear(get_input())"
   ]
  },
  {
   "cell_type": "markdown",
   "metadata": {},
   "source": [
    "## Solution B"
   ]
  },
  {
   "cell_type": "code",
   "execution_count": 101,
   "metadata": {},
   "outputs": [
    {
     "data": {
      "application/javascript": [
       "\n",
       "            setTimeout(function() {\n",
       "                var nbb_cell_id = 101;\n",
       "                var nbb_unformatted_code = \"@timer\\ndef solve_b_bruteforce(lines):\\n    \\\"\\\"\\\"\\n    O(n^3) brute-force solution to B.\\n    \\\"\\\"\\\"\\n    # Generate all combinations of 3 numbers\\n    combs = combinations(lines, 3)\\n\\n    # Check each combination\\n    for comb in combs:\\n        if sum(comb) == 2020:\\n            # Return the product of the elements in the combination\\n            return functools.reduce(operator.mul, comb)\\n\\n\\n# -- Alternative solution\\n\\n@timer\\ndef solve_b(lines):\\n    \\\"\\\"\\\"\\n    O(n^2) solution\\n\\n    Extension of the linear solution for A.\\n    Basically, perform solution A for every number in the list.\\n\\n    Assumption: Numbers in input are strictly smaller than 2020\\n    Otherwise finding the max element of input is also O(n), that wouldn't\\n    invalidate the complexity of the solution.\\n    \\n    Assumption: No duplicate numbers\\n    \\\"\\\"\\\"\\n\\n    # Loop O(n) over all numbers\\n    for ix1, number1 in enumerate(lines):\\n        \\n        # Initialise\\n        bool_list = [False for _ in range(2020)]\\n\\n        # loop O(n) over all numbers\\n        for number2 in lines[ix1+1:]:\\n            bool_list[number2] = True\\n\\n        # Again loop O(n) over all numbers\\n        for number3 in lines[ix1 + 1 :]:\\n            # if matched and index not negative\\n            if bool_list[2020 - number1 - number3] and 2020 - number1 - number3 >= 0:\\n                # Return the product of the 3 numbers\\n                return number1 * (2020 - number1 - number3) * number3\";\n",
       "                var nbb_formatted_code = \"@timer\\ndef solve_b_bruteforce(lines):\\n    \\\"\\\"\\\"\\n    O(n^3) brute-force solution to B.\\n    \\\"\\\"\\\"\\n    # Generate all combinations of 3 numbers\\n    combs = combinations(lines, 3)\\n\\n    # Check each combination\\n    for comb in combs:\\n        if sum(comb) == 2020:\\n            # Return the product of the elements in the combination\\n            return functools.reduce(operator.mul, comb)\\n\\n\\n# -- Alternative solution\\n\\n\\n@timer\\ndef solve_b(lines):\\n    \\\"\\\"\\\"\\n    O(n^2) solution\\n\\n    Extension of the linear solution for A.\\n    Basically, perform solution A for every number in the list.\\n\\n    Assumption: Numbers in input are strictly smaller than 2020\\n    Otherwise finding the max element of input is also O(n), that wouldn't\\n    invalidate the complexity of the solution.\\n\\n    Assumption: No duplicate numbers\\n    \\\"\\\"\\\"\\n\\n    # Loop O(n) over all numbers\\n    for ix1, number1 in enumerate(lines):\\n\\n        # Initialise\\n        bool_list = [False for _ in range(2020)]\\n\\n        # loop O(n) over all numbers\\n        for number2 in lines[ix1 + 1 :]:\\n            bool_list[number2] = True\\n\\n        # Again loop O(n) over all numbers\\n        for number3 in lines[ix1 + 1 :]:\\n            # if matched and index not negative\\n            if bool_list[2020 - number1 - number3] and 2020 - number1 - number3 >= 0:\\n                # Return the product of the 3 numbers\\n                return number1 * (2020 - number1 - number3) * number3\";\n",
       "                var nbb_cells = Jupyter.notebook.get_cells();\n",
       "                for (var i = 0; i < nbb_cells.length; ++i) {\n",
       "                    if (nbb_cells[i].input_prompt_number == nbb_cell_id) {\n",
       "                        if (nbb_cells[i].get_text() == nbb_unformatted_code) {\n",
       "                             nbb_cells[i].set_text(nbb_formatted_code);\n",
       "                        }\n",
       "                        break;\n",
       "                    }\n",
       "                }\n",
       "            }, 500);\n",
       "            "
      ],
      "text/plain": [
       "<IPython.core.display.Javascript object>"
      ]
     },
     "metadata": {},
     "output_type": "display_data"
    }
   ],
   "source": [
    "@timer\n",
    "def solve_b_bruteforce(lines):\n",
    "    \"\"\"\n",
    "    O(n^3) brute-force solution to B.\n",
    "    \"\"\"\n",
    "    # Generate all combinations of 3 numbers\n",
    "    combs = combinations(lines, 3)\n",
    "\n",
    "    # Check each combination\n",
    "    for comb in combs:\n",
    "        if sum(comb) == 2020:\n",
    "            # Return the product of the elements in the combination\n",
    "            return functools.reduce(operator.mul, comb)\n",
    "\n",
    "\n",
    "# -- Alternative solution\n",
    "\n",
    "@timer\n",
    "def solve_b(lines):\n",
    "    \"\"\"\n",
    "    O(n^2) solution\n",
    "\n",
    "    Extension of the linear solution for A.\n",
    "    Basically, perform solution A for every number in the list.\n",
    "\n",
    "    Assumption: Numbers in input are strictly smaller than 2020\n",
    "    Otherwise finding the max element of input is also O(n), that wouldn't\n",
    "    invalidate the complexity of the solution.\n",
    "    \n",
    "    Assumption: No duplicate numbers\n",
    "    \"\"\"\n",
    "\n",
    "    # Loop O(n) over all numbers\n",
    "    for ix1, number1 in enumerate(lines):\n",
    "        \n",
    "        # Initialise\n",
    "        bool_list = [False for _ in range(2020)]\n",
    "\n",
    "        # loop O(n) over all numbers\n",
    "        for number2 in lines[ix1+1:]:\n",
    "            bool_list[number2] = True\n",
    "\n",
    "        # Again loop O(n) over all numbers\n",
    "        for number3 in lines[ix1 + 1 :]:\n",
    "            # if matched and index not negative\n",
    "            if bool_list[2020 - number1 - number3] and 2020 - number1 - number3 >= 0:\n",
    "                # Return the product of the 3 numbers\n",
    "                return number1 * (2020 - number1 - number3) * number3\n"
   ]
  },
  {
   "cell_type": "markdown",
   "metadata": {},
   "source": [
    "#### Tests"
   ]
  },
  {
   "cell_type": "code",
   "execution_count": 102,
   "metadata": {},
   "outputs": [
    {
     "data": {
      "application/javascript": [
       "\n",
       "            setTimeout(function() {\n",
       "                var nbb_cell_id = 102;\n",
       "                var nbb_unformatted_code = \"%%run_pytest[clean] -qq\\n\\ndef test_b(dummy_input):\\n    assert solve_b(parse_input(dummy_input)) == 241861950\\n    \\ndef test_b_bruteforce(dummy_input):\\n    assert solve_b_bruteforce(parse_input(dummy_input)) == 241861950\";\n",
       "                var nbb_formatted_code = \"%%run_pytest[clean] -qq\\n\\ndef test_b(dummy_input):\\n    assert solve_b(parse_input(dummy_input)) == 241861950\\n    \\ndef test_b_bruteforce(dummy_input):\\n    assert solve_b_bruteforce(parse_input(dummy_input)) == 241861950\";\n",
       "                var nbb_cells = Jupyter.notebook.get_cells();\n",
       "                for (var i = 0; i < nbb_cells.length; ++i) {\n",
       "                    if (nbb_cells[i].input_prompt_number == nbb_cell_id) {\n",
       "                        if (nbb_cells[i].get_text() == nbb_unformatted_code) {\n",
       "                             nbb_cells[i].set_text(nbb_formatted_code);\n",
       "                        }\n",
       "                        break;\n",
       "                    }\n",
       "                }\n",
       "            }, 500);\n",
       "            "
      ],
      "text/plain": [
       "<IPython.core.display.Javascript object>"
      ]
     },
     "metadata": {},
     "output_type": "display_data"
    },
    {
     "name": "stdout",
     "output_type": "stream",
     "text": [
      "..                                                                                                                                           [100%]\n"
     ]
    },
    {
     "data": {
      "application/javascript": [
       "\n",
       "            setTimeout(function() {\n",
       "                var nbb_cell_id = 102;\n",
       "                var nbb_unformatted_code = \"%%run_pytest[clean] -qq\\n\\ndef test_b(dummy_input):\\n    assert solve_b(parse_input(dummy_input)) == 241861950\\n    \\ndef test_b_bruteforce(dummy_input):\\n    assert solve_b_bruteforce(parse_input(dummy_input)) == 241861950\";\n",
       "                var nbb_formatted_code = \"%%run_pytest[clean] -qq\\n\\ndef test_b(dummy_input):\\n    assert solve_b(parse_input(dummy_input)) == 241861950\\n    \\ndef test_b_bruteforce(dummy_input):\\n    assert solve_b_bruteforce(parse_input(dummy_input)) == 241861950\";\n",
       "                var nbb_cells = Jupyter.notebook.get_cells();\n",
       "                for (var i = 0; i < nbb_cells.length; ++i) {\n",
       "                    if (nbb_cells[i].input_prompt_number == nbb_cell_id) {\n",
       "                        if (nbb_cells[i].get_text() == nbb_unformatted_code) {\n",
       "                             nbb_cells[i].set_text(nbb_formatted_code);\n",
       "                        }\n",
       "                        break;\n",
       "                    }\n",
       "                }\n",
       "            }, 500);\n",
       "            "
      ],
      "text/plain": [
       "<IPython.core.display.Javascript object>"
      ]
     },
     "metadata": {},
     "output_type": "display_data"
    }
   ],
   "source": [
    "%%run_pytest[clean] -qq\n",
    "\n",
    "def test_b(dummy_input):\n",
    "    assert solve_b(parse_input(dummy_input)) == 241861950\n",
    "    \n",
    "def test_b_bruteforce(dummy_input):\n",
    "    assert solve_b_bruteforce(parse_input(dummy_input)) == 241861950"
   ]
  },
  {
   "cell_type": "markdown",
   "metadata": {},
   "source": [
    "#### OUTPUT"
   ]
  },
  {
   "cell_type": "code",
   "execution_count": 103,
   "metadata": {},
   "outputs": [
    {
     "name": "stdout",
     "output_type": "stream",
     "text": [
      "Finished 'solve_b_bruteforce' in 0.1800 secs\n"
     ]
    },
    {
     "data": {
      "text/plain": [
       "46584630"
      ]
     },
     "execution_count": 103,
     "metadata": {},
     "output_type": "execute_result"
    },
    {
     "data": {
      "application/javascript": [
       "\n",
       "            setTimeout(function() {\n",
       "                var nbb_cell_id = 103;\n",
       "                var nbb_unformatted_code = \"solve_b_bruteforce(get_input())\";\n",
       "                var nbb_formatted_code = \"solve_b_bruteforce(get_input())\";\n",
       "                var nbb_cells = Jupyter.notebook.get_cells();\n",
       "                for (var i = 0; i < nbb_cells.length; ++i) {\n",
       "                    if (nbb_cells[i].input_prompt_number == nbb_cell_id) {\n",
       "                        if (nbb_cells[i].get_text() == nbb_unformatted_code) {\n",
       "                             nbb_cells[i].set_text(nbb_formatted_code);\n",
       "                        }\n",
       "                        break;\n",
       "                    }\n",
       "                }\n",
       "            }, 500);\n",
       "            "
      ],
      "text/plain": [
       "<IPython.core.display.Javascript object>"
      ]
     },
     "metadata": {},
     "output_type": "display_data"
    }
   ],
   "source": [
    "solve_b_bruteforce(get_input())"
   ]
  },
  {
   "cell_type": "code",
   "execution_count": 104,
   "metadata": {
    "scrolled": true
   },
   "outputs": [
    {
     "name": "stdout",
     "output_type": "stream",
     "text": [
      "Finished 'solve_b' in 0.0113 secs\n"
     ]
    },
    {
     "data": {
      "text/plain": [
       "46584630"
      ]
     },
     "execution_count": 104,
     "metadata": {},
     "output_type": "execute_result"
    },
    {
     "data": {
      "application/javascript": [
       "\n",
       "            setTimeout(function() {\n",
       "                var nbb_cell_id = 104;\n",
       "                var nbb_unformatted_code = \"solve_b(get_input())\";\n",
       "                var nbb_formatted_code = \"solve_b(get_input())\";\n",
       "                var nbb_cells = Jupyter.notebook.get_cells();\n",
       "                for (var i = 0; i < nbb_cells.length; ++i) {\n",
       "                    if (nbb_cells[i].input_prompt_number == nbb_cell_id) {\n",
       "                        if (nbb_cells[i].get_text() == nbb_unformatted_code) {\n",
       "                             nbb_cells[i].set_text(nbb_formatted_code);\n",
       "                        }\n",
       "                        break;\n",
       "                    }\n",
       "                }\n",
       "            }, 500);\n",
       "            "
      ],
      "text/plain": [
       "<IPython.core.display.Javascript object>"
      ]
     },
     "metadata": {},
     "output_type": "display_data"
    }
   ],
   "source": [
    "solve_b(get_input())"
   ]
  }
 ],
 "metadata": {
  "kernelspec": {
   "display_name": "Python [conda env:aoc20_36] *",
   "language": "python",
   "name": "conda-env-aoc20_36-py"
  },
  "language_info": {
   "codemirror_mode": {
    "name": "ipython",
    "version": 3
   },
   "file_extension": ".py",
   "mimetype": "text/x-python",
   "name": "python",
   "nbconvert_exporter": "python",
   "pygments_lexer": "ipython3",
   "version": "3.6.12"
  }
 },
 "nbformat": 4,
 "nbformat_minor": 4
}
