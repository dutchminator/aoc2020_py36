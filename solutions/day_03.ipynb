{
 "cells": [
  {
   "cell_type": "markdown",
   "metadata": {},
   "source": [
    "# Day 3"
   ]
  },
  {
   "cell_type": "markdown",
   "metadata": {},
   "source": [
    "## GENERIC SETUP"
   ]
  },
  {
   "cell_type": "code",
   "execution_count": 1,
   "metadata": {},
   "outputs": [
    {
     "data": {
      "application/javascript": [
       "\n",
       "            setTimeout(function() {\n",
       "                var nbb_cell_id = 1;\n",
       "                var nbb_unformatted_code = \"# General imports\\nimport pytest\\nimport ipytest\\nimport time\\nimport functools\\n\\n# Setup ipytest\\nipytest.autoconfig()\\n\\n# Setup nb_black\\n%load_ext nb_black\\n\\n# Decorator to time solutions\\ndef timer(func):\\n    \\\"\\\"\\\"\\n    Wrapper function.\\n    Print the runtime of the decorated function.\\n    \\\"\\\"\\\"\\n\\n    @functools.wraps(func)\\n    def wrapper_timer(*args, **kwargs):\\n        start_time = time.perf_counter()  # 1\\n        value = func(*args, **kwargs)\\n        end_time = time.perf_counter()  # 2\\n        run_time = end_time - start_time  # 3\\n        print(f\\\"Finished {func.__name__!r} in {run_time:.6f} secs\\\")\\n        return value\\n\\n    return wrapper_timer\";\n",
       "                var nbb_formatted_code = \"# General imports\\nimport pytest\\nimport ipytest\\nimport time\\nimport functools\\n\\n# Setup ipytest\\nipytest.autoconfig()\\n\\n# Setup nb_black\\n%load_ext nb_black\\n\\n# Decorator to time solutions\\ndef timer(func):\\n    \\\"\\\"\\\"\\n    Wrapper function.\\n    Print the runtime of the decorated function.\\n    \\\"\\\"\\\"\\n\\n    @functools.wraps(func)\\n    def wrapper_timer(*args, **kwargs):\\n        start_time = time.perf_counter()  # 1\\n        value = func(*args, **kwargs)\\n        end_time = time.perf_counter()  # 2\\n        run_time = end_time - start_time  # 3\\n        print(f\\\"Finished {func.__name__!r} in {run_time:.6f} secs\\\")\\n        return value\\n\\n    return wrapper_timer\";\n",
       "                var nbb_cells = Jupyter.notebook.get_cells();\n",
       "                for (var i = 0; i < nbb_cells.length; ++i) {\n",
       "                    if (nbb_cells[i].input_prompt_number == nbb_cell_id) {\n",
       "                        if (nbb_cells[i].get_text() == nbb_unformatted_code) {\n",
       "                             nbb_cells[i].set_text(nbb_formatted_code);\n",
       "                        }\n",
       "                        break;\n",
       "                    }\n",
       "                }\n",
       "            }, 500);\n",
       "            "
      ],
      "text/plain": [
       "<IPython.core.display.Javascript object>"
      ]
     },
     "metadata": {},
     "output_type": "display_data"
    }
   ],
   "source": [
    "# General imports\n",
    "import pytest\n",
    "import ipytest\n",
    "import time\n",
    "import functools\n",
    "\n",
    "# Setup ipytest\n",
    "ipytest.autoconfig()\n",
    "\n",
    "# Setup nb_black\n",
    "%load_ext nb_black\n",
    "\n",
    "# Decorator to time solutions\n",
    "def timer(func):\n",
    "    \"\"\"\n",
    "    Wrapper function.\n",
    "    Print the runtime of the decorated function.\n",
    "    \"\"\"\n",
    "\n",
    "    @functools.wraps(func)\n",
    "    def wrapper_timer(*args, **kwargs):\n",
    "        start_time = time.perf_counter()  # 1\n",
    "        value = func(*args, **kwargs)\n",
    "        end_time = time.perf_counter()  # 2\n",
    "        run_time = end_time - start_time  # 3\n",
    "        print(f\"Finished {func.__name__!r} in {run_time:.6f} secs\")\n",
    "        return value\n",
    "\n",
    "    return wrapper_timer"
   ]
  },
  {
   "cell_type": "markdown",
   "metadata": {},
   "source": [
    "## SOLUTION SETUP"
   ]
  },
  {
   "cell_type": "code",
   "execution_count": 18,
   "metadata": {},
   "outputs": [
    {
     "data": {
      "application/javascript": [
       "\n",
       "            setTimeout(function() {\n",
       "                var nbb_cell_id = 18;\n",
       "                var nbb_unformatted_code = \"# Solution-specific imports\\nfrom operator import mul\\nfrom functools import reduce\\n\\n# What day do we solve? Used to identify the input datafile, integer value\\nDAY = 3\";\n",
       "                var nbb_formatted_code = \"# Solution-specific imports\\nfrom operator import mul\\nfrom functools import reduce\\n\\n# What day do we solve? Used to identify the input datafile, integer value\\nDAY = 3\";\n",
       "                var nbb_cells = Jupyter.notebook.get_cells();\n",
       "                for (var i = 0; i < nbb_cells.length; ++i) {\n",
       "                    if (nbb_cells[i].input_prompt_number == nbb_cell_id) {\n",
       "                        if (nbb_cells[i].get_text() == nbb_unformatted_code) {\n",
       "                             nbb_cells[i].set_text(nbb_formatted_code);\n",
       "                        }\n",
       "                        break;\n",
       "                    }\n",
       "                }\n",
       "            }, 500);\n",
       "            "
      ],
      "text/plain": [
       "<IPython.core.display.Javascript object>"
      ]
     },
     "metadata": {},
     "output_type": "display_data"
    }
   ],
   "source": [
    "# Solution-specific imports\n",
    "from operator import mul\n",
    "from functools import reduce\n",
    "\n",
    "# What day do we solve? Used to identify the input datafile, integer value\n",
    "DAY = 3"
   ]
  },
  {
   "cell_type": "markdown",
   "metadata": {},
   "source": [
    "#### I/O functions"
   ]
  },
  {
   "cell_type": "code",
   "execution_count": 3,
   "metadata": {},
   "outputs": [
    {
     "data": {
      "application/javascript": [
       "\n",
       "            setTimeout(function() {\n",
       "                var nbb_cell_id = 3;\n",
       "                var nbb_unformatted_code = \"def get_input():\\n    with open(f\\\"../data/{DAY}.txt\\\", \\\"r\\\") as f:\\n        return parse_input(f.readlines())\\n\\n\\ndef parse_input(lines):\\n    # IMPLEMENT ME\\n    return list(map(str.strip, lines))\";\n",
       "                var nbb_formatted_code = \"def get_input():\\n    with open(f\\\"../data/{DAY}.txt\\\", \\\"r\\\") as f:\\n        return parse_input(f.readlines())\\n\\n\\ndef parse_input(lines):\\n    # IMPLEMENT ME\\n    return list(map(str.strip, lines))\";\n",
       "                var nbb_cells = Jupyter.notebook.get_cells();\n",
       "                for (var i = 0; i < nbb_cells.length; ++i) {\n",
       "                    if (nbb_cells[i].input_prompt_number == nbb_cell_id) {\n",
       "                        if (nbb_cells[i].get_text() == nbb_unformatted_code) {\n",
       "                             nbb_cells[i].set_text(nbb_formatted_code);\n",
       "                        }\n",
       "                        break;\n",
       "                    }\n",
       "                }\n",
       "            }, 500);\n",
       "            "
      ],
      "text/plain": [
       "<IPython.core.display.Javascript object>"
      ]
     },
     "metadata": {},
     "output_type": "display_data"
    }
   ],
   "source": [
    "def get_input():\n",
    "    with open(f\"../data/{DAY}.txt\", \"r\") as f:\n",
    "        return parse_input(f.readlines())\n",
    "\n",
    "\n",
    "def parse_input(lines):\n",
    "    # IMPLEMENT ME\n",
    "    return list(map(str.strip, lines))"
   ]
  },
  {
   "cell_type": "markdown",
   "metadata": {},
   "source": [
    "#### Pytest input data"
   ]
  },
  {
   "cell_type": "code",
   "execution_count": 4,
   "metadata": {},
   "outputs": [
    {
     "data": {
      "application/javascript": [
       "\n",
       "            setTimeout(function() {\n",
       "                var nbb_cell_id = 4;\n",
       "                var nbb_unformatted_code = \"# Sample input\\n@pytest.fixture\\ndef dummy_input():\\n    return \\\"\\\"\\\"..##.......\\n#...#...#..\\n.#....#..#.\\n..#.#...#.#\\n.#...##..#.\\n..#.##.....\\n.#.#.#....#\\n.#........#\\n#.##...#...\\n#...##....#\\n.#..#...#.#\\\"\\\"\\\".split(\\n        \\\"\\\\n\\\"\\n    )\";\n",
       "                var nbb_formatted_code = \"# Sample input\\n@pytest.fixture\\ndef dummy_input():\\n    return \\\"\\\"\\\"..##.......\\n#...#...#..\\n.#....#..#.\\n..#.#...#.#\\n.#...##..#.\\n..#.##.....\\n.#.#.#....#\\n.#........#\\n#.##...#...\\n#...##....#\\n.#..#...#.#\\\"\\\"\\\".split(\\n        \\\"\\\\n\\\"\\n    )\";\n",
       "                var nbb_cells = Jupyter.notebook.get_cells();\n",
       "                for (var i = 0; i < nbb_cells.length; ++i) {\n",
       "                    if (nbb_cells[i].input_prompt_number == nbb_cell_id) {\n",
       "                        if (nbb_cells[i].get_text() == nbb_unformatted_code) {\n",
       "                             nbb_cells[i].set_text(nbb_formatted_code);\n",
       "                        }\n",
       "                        break;\n",
       "                    }\n",
       "                }\n",
       "            }, 500);\n",
       "            "
      ],
      "text/plain": [
       "<IPython.core.display.Javascript object>"
      ]
     },
     "metadata": {},
     "output_type": "display_data"
    }
   ],
   "source": [
    "# Sample input\n",
    "@pytest.fixture\n",
    "def dummy_input():\n",
    "    return \"\"\"..##.......\n",
    "#...#...#..\n",
    ".#....#..#.\n",
    "..#.#...#.#\n",
    ".#...##..#.\n",
    "..#.##.....\n",
    ".#.#.#....#\n",
    ".#........#\n",
    "#.##...#...\n",
    "#...##....#\n",
    ".#..#...#.#\"\"\".split(\n",
    "        \"\\n\"\n",
    "    )"
   ]
  },
  {
   "cell_type": "markdown",
   "metadata": {},
   "source": [
    "## Solution A"
   ]
  },
  {
   "cell_type": "code",
   "execution_count": 5,
   "metadata": {
    "scrolled": true
   },
   "outputs": [
    {
     "data": {
      "application/javascript": [
       "\n",
       "            setTimeout(function() {\n",
       "                var nbb_cell_id = 5;\n",
       "                var nbb_unformatted_code = \"@timer\\ndef solve_A(lines):\\n    \\\"\\\"\\\"\\n    Iterate over the lines, moving right 3 spots modulo line-length every line.\\n    Count the number of occurrences of 3 along the way.\\n    \\\"\\\"\\\"\\n    pos = 0\\n    num_trees = 0\\n    # Traverse the path, exclude first line as we start there on pos 0.\\n    for line in lines[1:]:\\n        pos = (pos + 3) % len(line)\\n        num_trees += line[pos] == \\\"#\\\"\\n    return num_trees\\n\\n\\n@timer\\ndef solve_A_oneliner(lines):\\n    \\\"\\\"\\\"\\n    One-liner solution to A.\\n    \\\"\\\"\\\"\\n    return sum(line[3 * ix % len(line)] == \\\"#\\\" for ix, line in enumerate(lines))\";\n",
       "                var nbb_formatted_code = \"@timer\\ndef solve_A(lines):\\n    \\\"\\\"\\\"\\n    Iterate over the lines, moving right 3 spots modulo line-length every line.\\n    Count the number of occurrences of 3 along the way.\\n    \\\"\\\"\\\"\\n    pos = 0\\n    num_trees = 0\\n    # Traverse the path, exclude first line as we start there on pos 0.\\n    for line in lines[1:]:\\n        pos = (pos + 3) % len(line)\\n        num_trees += line[pos] == \\\"#\\\"\\n    return num_trees\\n\\n\\n@timer\\ndef solve_A_oneliner(lines):\\n    \\\"\\\"\\\"\\n    One-liner solution to A.\\n    \\\"\\\"\\\"\\n    return sum(line[3 * ix % len(line)] == \\\"#\\\" for ix, line in enumerate(lines))\";\n",
       "                var nbb_cells = Jupyter.notebook.get_cells();\n",
       "                for (var i = 0; i < nbb_cells.length; ++i) {\n",
       "                    if (nbb_cells[i].input_prompt_number == nbb_cell_id) {\n",
       "                        if (nbb_cells[i].get_text() == nbb_unformatted_code) {\n",
       "                             nbb_cells[i].set_text(nbb_formatted_code);\n",
       "                        }\n",
       "                        break;\n",
       "                    }\n",
       "                }\n",
       "            }, 500);\n",
       "            "
      ],
      "text/plain": [
       "<IPython.core.display.Javascript object>"
      ]
     },
     "metadata": {},
     "output_type": "display_data"
    }
   ],
   "source": [
    "@timer\n",
    "def solve_A(lines):\n",
    "    \"\"\"\n",
    "    Iterate over the lines, moving right 3 spots modulo line-length every line.\n",
    "    Count the number of occurrences of 3 along the way.\n",
    "    \"\"\"\n",
    "    pos = 0\n",
    "    num_trees = 0\n",
    "    # Traverse the path, exclude first line as we start there on pos 0.\n",
    "    for line in lines[1:]:\n",
    "        pos = (pos + 3) % len(line)\n",
    "        num_trees += line[pos] == \"#\"\n",
    "    return num_trees\n",
    "\n",
    "\n",
    "@timer\n",
    "def solve_A_oneliner(lines):\n",
    "    \"\"\"\n",
    "    One-liner solution to A.\n",
    "    \"\"\"\n",
    "    return sum(line[3 * ix % len(line)] == \"#\" for ix, line in enumerate(lines))"
   ]
  },
  {
   "cell_type": "markdown",
   "metadata": {},
   "source": [
    "#### Tests"
   ]
  },
  {
   "cell_type": "code",
   "execution_count": 9,
   "metadata": {},
   "outputs": [
    {
     "data": {
      "application/javascript": [
       "\n",
       "            setTimeout(function() {\n",
       "                var nbb_cell_id = 9;\n",
       "                var nbb_unformatted_code = \"%%run_pytest[clean] -qq\\n\\ndef test_A(dummy_input):\\n    assert solve_A(parse_input(dummy_input)) == 7\\n    \\ndef test_A_oneliner(dummy_input):\\n    assert solve_A_oneliner(parse_input(dummy_input)) == 7\";\n",
       "                var nbb_formatted_code = \"%%run_pytest[clean] -qq\\n\\ndef test_A(dummy_input):\\n    assert solve_A(parse_input(dummy_input)) == 7\\n    \\ndef test_A_oneliner(dummy_input):\\n    assert solve_A_oneliner(parse_input(dummy_input)) == 7\";\n",
       "                var nbb_cells = Jupyter.notebook.get_cells();\n",
       "                for (var i = 0; i < nbb_cells.length; ++i) {\n",
       "                    if (nbb_cells[i].input_prompt_number == nbb_cell_id) {\n",
       "                        if (nbb_cells[i].get_text() == nbb_unformatted_code) {\n",
       "                             nbb_cells[i].set_text(nbb_formatted_code);\n",
       "                        }\n",
       "                        break;\n",
       "                    }\n",
       "                }\n",
       "            }, 500);\n",
       "            "
      ],
      "text/plain": [
       "<IPython.core.display.Javascript object>"
      ]
     },
     "metadata": {},
     "output_type": "display_data"
    },
    {
     "name": "stdout",
     "output_type": "stream",
     "text": [
      "..                                                                                                                 [100%]\n"
     ]
    },
    {
     "data": {
      "application/javascript": [
       "\n",
       "            setTimeout(function() {\n",
       "                var nbb_cell_id = 9;\n",
       "                var nbb_unformatted_code = \"%%run_pytest[clean] -qq\\n\\ndef test_A(dummy_input):\\n    assert solve_A(parse_input(dummy_input)) == 7\\n    \\ndef test_A_oneliner(dummy_input):\\n    assert solve_A_oneliner(parse_input(dummy_input)) == 7\";\n",
       "                var nbb_formatted_code = \"%%run_pytest[clean] -qq\\n\\ndef test_A(dummy_input):\\n    assert solve_A(parse_input(dummy_input)) == 7\\n    \\ndef test_A_oneliner(dummy_input):\\n    assert solve_A_oneliner(parse_input(dummy_input)) == 7\";\n",
       "                var nbb_cells = Jupyter.notebook.get_cells();\n",
       "                for (var i = 0; i < nbb_cells.length; ++i) {\n",
       "                    if (nbb_cells[i].input_prompt_number == nbb_cell_id) {\n",
       "                        if (nbb_cells[i].get_text() == nbb_unformatted_code) {\n",
       "                             nbb_cells[i].set_text(nbb_formatted_code);\n",
       "                        }\n",
       "                        break;\n",
       "                    }\n",
       "                }\n",
       "            }, 500);\n",
       "            "
      ],
      "text/plain": [
       "<IPython.core.display.Javascript object>"
      ]
     },
     "metadata": {},
     "output_type": "display_data"
    }
   ],
   "source": [
    "%%run_pytest[clean] -qq\n",
    "\n",
    "def test_A(dummy_input):\n",
    "    assert solve_A(parse_input(dummy_input)) == 7\n",
    "    \n",
    "def test_A_oneliner(dummy_input):\n",
    "    assert solve_A_oneliner(parse_input(dummy_input)) == 7"
   ]
  },
  {
   "cell_type": "markdown",
   "metadata": {},
   "source": [
    "#### OUTPUT"
   ]
  },
  {
   "cell_type": "code",
   "execution_count": 13,
   "metadata": {},
   "outputs": [
    {
     "name": "stdout",
     "output_type": "stream",
     "text": [
      "Finished 'solve_A' in 0.000056 secs\n",
      "Finished 'solve_A_oneliner' in 0.000073 secs\n"
     ]
    },
    {
     "data": {
      "text/plain": [
       "173"
      ]
     },
     "execution_count": 13,
     "metadata": {},
     "output_type": "execute_result"
    },
    {
     "data": {
      "application/javascript": [
       "\n",
       "            setTimeout(function() {\n",
       "                var nbb_cell_id = 13;\n",
       "                var nbb_unformatted_code = \"solve_A(get_input())\\nsolve_A_oneliner(get_input())\";\n",
       "                var nbb_formatted_code = \"solve_A(get_input())\\nsolve_A_oneliner(get_input())\";\n",
       "                var nbb_cells = Jupyter.notebook.get_cells();\n",
       "                for (var i = 0; i < nbb_cells.length; ++i) {\n",
       "                    if (nbb_cells[i].input_prompt_number == nbb_cell_id) {\n",
       "                        if (nbb_cells[i].get_text() == nbb_unformatted_code) {\n",
       "                             nbb_cells[i].set_text(nbb_formatted_code);\n",
       "                        }\n",
       "                        break;\n",
       "                    }\n",
       "                }\n",
       "            }, 500);\n",
       "            "
      ],
      "text/plain": [
       "<IPython.core.display.Javascript object>"
      ]
     },
     "metadata": {},
     "output_type": "display_data"
    }
   ],
   "source": [
    "solve_A(get_input())\n",
    "solve_A_oneliner(get_input())"
   ]
  },
  {
   "cell_type": "markdown",
   "metadata": {},
   "source": [
    "## Solution B"
   ]
  },
  {
   "cell_type": "code",
   "execution_count": 43,
   "metadata": {},
   "outputs": [
    {
     "data": {
      "application/javascript": [
       "\n",
       "            setTimeout(function() {\n",
       "                var nbb_cell_id = 43;\n",
       "                var nbb_unformatted_code = \"@timer\\ndef solve_B(lines):\\n    \\\"\\\"\\\"\\n    Actual \\\"traversal\\\" using the moveset provided.\\n    \\\"\\\"\\\"\\n    \\n    def traverse_slope(lines, direction):\\n        \\\"\\\"\\\"\\n        Traverse the slope defined by [lines], going a specific\\n        number of steps [down] and [right] each iteration,\\n        until we have reached the bottom of the slope.\\n        \\\"\\\"\\\"\\n        # initialisation\\n        pos = [0,0]\\n        num_trees = 0\\n        slope_width = len(lines[0])\\n        slope_height = len(lines)\\n        \\n        # Traverse slope until bottom reached\\n        while pos[0] < slope_height:\\n            # Check if current position is a tree\\n            num_trees += lines[pos[0]][pos[1]] == '#'\\n            # Move to next position\\n            pos = [old+move for old, move in zip(pos, direction)]\\n            # Correct for slope width to repeat the pattern\\n            pos[1] = pos[1] % slope_width\\n            \\n        return num_trees\\n    \\n    # The options we are considering\\n    # [steps down, steps right]\\n    options = [\\n        [1,1],\\n        [1,3],\\n        [1,5],\\n        [1,7],\\n        [2,1],\\n    ]\\n    \\n    # Collect results for each option, calculate product of results\\n    results = [traverse_slope(lines, option) for option in options]\\n    results_product = reduce(mul, results)\\n    # print(results)\\n    return results_product\";\n",
       "                var nbb_formatted_code = \"@timer\\ndef solve_B(lines):\\n    \\\"\\\"\\\"\\n    Actual \\\"traversal\\\" using the moveset provided.\\n    \\\"\\\"\\\"\\n\\n    def traverse_slope(lines, direction):\\n        \\\"\\\"\\\"\\n        Traverse the slope defined by [lines], going a specific\\n        number of steps [down] and [right] each iteration,\\n        until we have reached the bottom of the slope.\\n        \\\"\\\"\\\"\\n        # initialisation\\n        pos = [0, 0]\\n        num_trees = 0\\n        slope_width = len(lines[0])\\n        slope_height = len(lines)\\n\\n        # Traverse slope until bottom reached\\n        while pos[0] < slope_height:\\n            # Check if current position is a tree\\n            num_trees += lines[pos[0]][pos[1]] == \\\"#\\\"\\n            # Move to next position\\n            pos = [old + move for old, move in zip(pos, direction)]\\n            # Correct for slope width to repeat the pattern\\n            pos[1] = pos[1] % slope_width\\n\\n        return num_trees\\n\\n    # The options we are considering\\n    # [steps down, steps right]\\n    options = [\\n        [1, 1],\\n        [1, 3],\\n        [1, 5],\\n        [1, 7],\\n        [2, 1],\\n    ]\\n\\n    # Collect results for each option, calculate product of results\\n    results = [traverse_slope(lines, option) for option in options]\\n    results_product = reduce(mul, results)\\n    # print(results)\\n    return results_product\";\n",
       "                var nbb_cells = Jupyter.notebook.get_cells();\n",
       "                for (var i = 0; i < nbb_cells.length; ++i) {\n",
       "                    if (nbb_cells[i].input_prompt_number == nbb_cell_id) {\n",
       "                        if (nbb_cells[i].get_text() == nbb_unformatted_code) {\n",
       "                             nbb_cells[i].set_text(nbb_formatted_code);\n",
       "                        }\n",
       "                        break;\n",
       "                    }\n",
       "                }\n",
       "            }, 500);\n",
       "            "
      ],
      "text/plain": [
       "<IPython.core.display.Javascript object>"
      ]
     },
     "metadata": {},
     "output_type": "display_data"
    }
   ],
   "source": [
    "@timer\n",
    "def solve_B(lines):\n",
    "    \"\"\"\n",
    "    Actual \"traversal\" using the moveset provided.\n",
    "    \"\"\"\n",
    "    \n",
    "    def traverse_slope(lines, direction):\n",
    "        \"\"\"\n",
    "        Traverse the slope defined by [lines], going a specific\n",
    "        number of steps [down] and [right] each iteration,\n",
    "        until we have reached the bottom of the slope.\n",
    "        \"\"\"\n",
    "        # initialisation\n",
    "        pos = [0,0]\n",
    "        num_trees = 0\n",
    "        slope_width = len(lines[0])\n",
    "        slope_height = len(lines)\n",
    "        \n",
    "        # Traverse slope until bottom reached\n",
    "        while pos[0] < slope_height:\n",
    "            # Check if current position is a tree\n",
    "            num_trees += lines[pos[0]][pos[1]] == '#'\n",
    "            # Move to next position\n",
    "            pos = [old+move for old, move in zip(pos, direction)]\n",
    "            # Correct for slope width to repeat the pattern\n",
    "            pos[1] = pos[1] % slope_width\n",
    "            \n",
    "        return num_trees\n",
    "    \n",
    "    # The options we are considering\n",
    "    # [steps down, steps right]\n",
    "    options = [\n",
    "        [1,1],\n",
    "        [1,3],\n",
    "        [1,5],\n",
    "        [1,7],\n",
    "        [2,1],\n",
    "    ]\n",
    "    \n",
    "    # Collect results for each option, calculate product of results\n",
    "    results = [traverse_slope(lines, option) for option in options]\n",
    "    results_product = reduce(mul, results)\n",
    "    # print(results)\n",
    "    return results_product\n"
   ]
  },
  {
   "cell_type": "markdown",
   "metadata": {},
   "source": [
    "#### Tests"
   ]
  },
  {
   "cell_type": "code",
   "execution_count": 44,
   "metadata": {},
   "outputs": [
    {
     "data": {
      "application/javascript": [
       "\n",
       "            setTimeout(function() {\n",
       "                var nbb_cell_id = 44;\n",
       "                var nbb_unformatted_code = \"%%run_pytest[clean] -qq\\n\\ndef test_B(dummy_input):\\n    assert solve_B(parse_input(dummy_input)) == 336\";\n",
       "                var nbb_formatted_code = \"%%run_pytest[clean] -qq\\n\\ndef test_B(dummy_input):\\n    assert solve_B(parse_input(dummy_input)) == 336\";\n",
       "                var nbb_cells = Jupyter.notebook.get_cells();\n",
       "                for (var i = 0; i < nbb_cells.length; ++i) {\n",
       "                    if (nbb_cells[i].input_prompt_number == nbb_cell_id) {\n",
       "                        if (nbb_cells[i].get_text() == nbb_unformatted_code) {\n",
       "                             nbb_cells[i].set_text(nbb_formatted_code);\n",
       "                        }\n",
       "                        break;\n",
       "                    }\n",
       "                }\n",
       "            }, 500);\n",
       "            "
      ],
      "text/plain": [
       "<IPython.core.display.Javascript object>"
      ]
     },
     "metadata": {},
     "output_type": "display_data"
    },
    {
     "name": "stdout",
     "output_type": "stream",
     "text": [
      ".                                                                                                                  [100%]\n"
     ]
    },
    {
     "data": {
      "application/javascript": [
       "\n",
       "            setTimeout(function() {\n",
       "                var nbb_cell_id = 44;\n",
       "                var nbb_unformatted_code = \"%%run_pytest[clean] -qq\\n\\ndef test_B(dummy_input):\\n    assert solve_B(parse_input(dummy_input)) == 336\";\n",
       "                var nbb_formatted_code = \"%%run_pytest[clean] -qq\\n\\ndef test_B(dummy_input):\\n    assert solve_B(parse_input(dummy_input)) == 336\";\n",
       "                var nbb_cells = Jupyter.notebook.get_cells();\n",
       "                for (var i = 0; i < nbb_cells.length; ++i) {\n",
       "                    if (nbb_cells[i].input_prompt_number == nbb_cell_id) {\n",
       "                        if (nbb_cells[i].get_text() == nbb_unformatted_code) {\n",
       "                             nbb_cells[i].set_text(nbb_formatted_code);\n",
       "                        }\n",
       "                        break;\n",
       "                    }\n",
       "                }\n",
       "            }, 500);\n",
       "            "
      ],
      "text/plain": [
       "<IPython.core.display.Javascript object>"
      ]
     },
     "metadata": {},
     "output_type": "display_data"
    }
   ],
   "source": [
    "%%run_pytest[clean] -qq\n",
    "\n",
    "def test_B(dummy_input):\n",
    "    assert solve_B(parse_input(dummy_input)) == 336"
   ]
  },
  {
   "cell_type": "markdown",
   "metadata": {},
   "source": [
    "#### OUTPUT"
   ]
  },
  {
   "cell_type": "code",
   "execution_count": 45,
   "metadata": {},
   "outputs": [
    {
     "name": "stdout",
     "output_type": "stream",
     "text": [
      "Finished 'solve_B' in 0.001421 secs\n"
     ]
    },
    {
     "data": {
      "text/plain": [
       "4385176320"
      ]
     },
     "execution_count": 45,
     "metadata": {},
     "output_type": "execute_result"
    },
    {
     "data": {
      "application/javascript": [
       "\n",
       "            setTimeout(function() {\n",
       "                var nbb_cell_id = 45;\n",
       "                var nbb_unformatted_code = \"solve_B(get_input())\";\n",
       "                var nbb_formatted_code = \"solve_B(get_input())\";\n",
       "                var nbb_cells = Jupyter.notebook.get_cells();\n",
       "                for (var i = 0; i < nbb_cells.length; ++i) {\n",
       "                    if (nbb_cells[i].input_prompt_number == nbb_cell_id) {\n",
       "                        if (nbb_cells[i].get_text() == nbb_unformatted_code) {\n",
       "                             nbb_cells[i].set_text(nbb_formatted_code);\n",
       "                        }\n",
       "                        break;\n",
       "                    }\n",
       "                }\n",
       "            }, 500);\n",
       "            "
      ],
      "text/plain": [
       "<IPython.core.display.Javascript object>"
      ]
     },
     "metadata": {},
     "output_type": "display_data"
    }
   ],
   "source": [
    "solve_B(get_input())"
   ]
  }
 ],
 "metadata": {
  "kernelspec": {
   "display_name": "Python [conda env:aoc20_36] *",
   "language": "python",
   "name": "conda-env-aoc20_36-py"
  },
  "language_info": {
   "codemirror_mode": {
    "name": "ipython",
    "version": 3
   },
   "file_extension": ".py",
   "mimetype": "text/x-python",
   "name": "python",
   "nbconvert_exporter": "python",
   "pygments_lexer": "ipython3",
   "version": "3.6.12"
  }
 },
 "nbformat": 4,
 "nbformat_minor": 4
}
