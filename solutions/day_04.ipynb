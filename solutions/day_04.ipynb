{
 "cells": [
  {
   "cell_type": "markdown",
   "metadata": {},
   "source": [
    "# Day 4"
   ]
  },
  {
   "cell_type": "markdown",
   "metadata": {},
   "source": [
    "## GENERIC SETUP"
   ]
  },
  {
   "cell_type": "code",
   "execution_count": 5,
   "metadata": {},
   "outputs": [
    {
     "name": "stdout",
     "output_type": "stream",
     "text": [
      "The nb_black extension is already loaded. To reload it, use:\n",
      "  %reload_ext nb_black\n"
     ]
    },
    {
     "data": {
      "application/javascript": [
       "\n",
       "            setTimeout(function() {\n",
       "                var nbb_cell_id = 5;\n",
       "                var nbb_unformatted_code = \"# General imports\\nimport pytest\\nimport ipytest\\nimport time\\nimport functools\\n\\n# Setup ipytest\\nipytest.autoconfig()\\n\\n# Setup nb_black\\n%load_ext nb_black\\n\\n# Decorator to time solutions\\ndef timer(func):\\n    \\\"\\\"\\\"\\n    Wrapper function.\\n    Print the runtime of the decorated function.\\n    \\\"\\\"\\\"\\n\\n    @functools.wraps(func)\\n    def wrapper_timer(*args, **kwargs):\\n        start_time = time.perf_counter()  # 1\\n        value = func(*args, **kwargs)\\n        end_time = time.perf_counter()  # 2\\n        run_time = end_time - start_time  # 3\\n        print(f\\\"Finished {func.__name__!r} in {run_time:.4f} secs\\\")\\n        return value\\n\\n    return wrapper_timer\";\n",
       "                var nbb_formatted_code = \"# General imports\\nimport pytest\\nimport ipytest\\nimport time\\nimport functools\\n\\n# Setup ipytest\\nipytest.autoconfig()\\n\\n# Setup nb_black\\n%load_ext nb_black\\n\\n# Decorator to time solutions\\ndef timer(func):\\n    \\\"\\\"\\\"\\n    Wrapper function.\\n    Print the runtime of the decorated function.\\n    \\\"\\\"\\\"\\n\\n    @functools.wraps(func)\\n    def wrapper_timer(*args, **kwargs):\\n        start_time = time.perf_counter()  # 1\\n        value = func(*args, **kwargs)\\n        end_time = time.perf_counter()  # 2\\n        run_time = end_time - start_time  # 3\\n        print(f\\\"Finished {func.__name__!r} in {run_time:.4f} secs\\\")\\n        return value\\n\\n    return wrapper_timer\";\n",
       "                var nbb_cells = Jupyter.notebook.get_cells();\n",
       "                for (var i = 0; i < nbb_cells.length; ++i) {\n",
       "                    if (nbb_cells[i].input_prompt_number == nbb_cell_id) {\n",
       "                        if (nbb_cells[i].get_text() == nbb_unformatted_code) {\n",
       "                             nbb_cells[i].set_text(nbb_formatted_code);\n",
       "                        }\n",
       "                        break;\n",
       "                    }\n",
       "                }\n",
       "            }, 500);\n",
       "            "
      ],
      "text/plain": [
       "<IPython.core.display.Javascript object>"
      ]
     },
     "metadata": {},
     "output_type": "display_data"
    }
   ],
   "source": [
    "# General imports\n",
    "import pytest\n",
    "import ipytest\n",
    "import time\n",
    "import functools\n",
    "\n",
    "# Setup ipytest\n",
    "ipytest.autoconfig()\n",
    "\n",
    "# Setup nb_black\n",
    "%load_ext nb_black\n",
    "\n",
    "# Decorator to time solutions\n",
    "def timer(func):\n",
    "    \"\"\"\n",
    "    Wrapper function.\n",
    "    Print the runtime of the decorated function.\n",
    "    \"\"\"\n",
    "\n",
    "    @functools.wraps(func)\n",
    "    def wrapper_timer(*args, **kwargs):\n",
    "        start_time = time.perf_counter()  # 1\n",
    "        value = func(*args, **kwargs)\n",
    "        end_time = time.perf_counter()  # 2\n",
    "        run_time = end_time - start_time  # 3\n",
    "        print(f\"Finished {func.__name__!r} in {run_time:.4f} secs\")\n",
    "        return value\n",
    "\n",
    "    return wrapper_timer"
   ]
  },
  {
   "cell_type": "markdown",
   "metadata": {},
   "source": [
    "## SOLUTION SETUP"
   ]
  },
  {
   "cell_type": "code",
   "execution_count": 11,
   "metadata": {},
   "outputs": [
    {
     "data": {
      "application/javascript": [
       "\n",
       "            setTimeout(function() {\n",
       "                var nbb_cell_id = 11;\n",
       "                var nbb_unformatted_code = \"# Solution-specific imports\\nimport re\\n\\n# What day do we solve? Used to identify the input datafile, integer value\\nDAY = 4\";\n",
       "                var nbb_formatted_code = \"# Solution-specific imports\\nimport re\\n\\n# What day do we solve? Used to identify the input datafile, integer value\\nDAY = 4\";\n",
       "                var nbb_cells = Jupyter.notebook.get_cells();\n",
       "                for (var i = 0; i < nbb_cells.length; ++i) {\n",
       "                    if (nbb_cells[i].input_prompt_number == nbb_cell_id) {\n",
       "                        if (nbb_cells[i].get_text() == nbb_unformatted_code) {\n",
       "                             nbb_cells[i].set_text(nbb_formatted_code);\n",
       "                        }\n",
       "                        break;\n",
       "                    }\n",
       "                }\n",
       "            }, 500);\n",
       "            "
      ],
      "text/plain": [
       "<IPython.core.display.Javascript object>"
      ]
     },
     "metadata": {},
     "output_type": "display_data"
    }
   ],
   "source": [
    "# Solution-specific imports\n",
    "import re\n",
    "\n",
    "# What day do we solve? Used to identify the input datafile, integer value\n",
    "DAY = 4"
   ]
  },
  {
   "cell_type": "markdown",
   "metadata": {},
   "source": [
    "#### I/O functions"
   ]
  },
  {
   "cell_type": "code",
   "execution_count": 7,
   "metadata": {},
   "outputs": [
    {
     "data": {
      "application/javascript": [
       "\n",
       "            setTimeout(function() {\n",
       "                var nbb_cell_id = 7;\n",
       "                var nbb_unformatted_code = \"def get_input():\\n    with open(f\\\"../data/{DAY}.txt\\\", \\\"r\\\") as f:\\n        return split_input(f.read())\\n\\n\\ndef split_input(input_raw):\\n    # Split on double newlines\\n    return list(map(str.strip, input_raw.split(\\\"\\\\n\\\\n\\\")))\";\n",
       "                var nbb_formatted_code = \"def get_input():\\n    with open(f\\\"../data/{DAY}.txt\\\", \\\"r\\\") as f:\\n        return split_input(f.read())\\n\\n\\ndef split_input(input_raw):\\n    # Split on double newlines\\n    return list(map(str.strip, input_raw.split(\\\"\\\\n\\\\n\\\")))\";\n",
       "                var nbb_cells = Jupyter.notebook.get_cells();\n",
       "                for (var i = 0; i < nbb_cells.length; ++i) {\n",
       "                    if (nbb_cells[i].input_prompt_number == nbb_cell_id) {\n",
       "                        if (nbb_cells[i].get_text() == nbb_unformatted_code) {\n",
       "                             nbb_cells[i].set_text(nbb_formatted_code);\n",
       "                        }\n",
       "                        break;\n",
       "                    }\n",
       "                }\n",
       "            }, 500);\n",
       "            "
      ],
      "text/plain": [
       "<IPython.core.display.Javascript object>"
      ]
     },
     "metadata": {},
     "output_type": "display_data"
    }
   ],
   "source": [
    "def get_input():\n",
    "    with open(f\"../data/{DAY}.txt\", \"r\") as f:\n",
    "        return split_input(f.read())\n",
    "\n",
    "\n",
    "def split_input(input_raw):\n",
    "    # Split on double newlines\n",
    "    return list(map(str.strip, input_raw.split(\"\\n\\n\")))"
   ]
  },
  {
   "cell_type": "markdown",
   "metadata": {},
   "source": [
    "#### Pytest input data"
   ]
  },
  {
   "cell_type": "code",
   "execution_count": 84,
   "metadata": {},
   "outputs": [
    {
     "data": {
      "application/javascript": [
       "\n",
       "            setTimeout(function() {\n",
       "                var nbb_cell_id = 84;\n",
       "                var nbb_unformatted_code = \"# Sample input\\n@pytest.fixture\\ndef dummy_input():\\n    return \\\"\\\"\\\"\\\\\\necl:gry pid:860033327 eyr:2020 hcl:#fffffd\\nbyr:1937 iyr:2017 cid:147 hgt:183cm\\n\\niyr:2013 ecl:amb cid:350 eyr:2023 pid:028048884\\nhcl:#cfa07d byr:1929\\n\\nhcl:#ae17e1 iyr:2013\\neyr:2024\\necl:brn pid:760753108 byr:1931\\nhgt:179cm\\n\\nhcl:#cfa07d eyr:2025 pid:166559648\\niyr:2011 ecl:brn hgt:59in\\\"\\\"\\\"\\n\\n@pytest.fixture\\ndef invalid_passports_B():\\n    return \\\"\\\"\\\"\\\\\\neyr:1972 cid:100\\nhcl:#18171d ecl:amb hgt:170 pid:186cm iyr:2018 byr:1926\\n\\niyr:2019\\nhcl:#602927 eyr:1967 hgt:170cm\\necl:grn pid:012533040 byr:1946\\n\\nhcl:dab227 iyr:2012\\necl:brn hgt:182cm pid:021572410 eyr:2020 byr:1992 cid:277\\n\\nhgt:59cm ecl:zzz\\neyr:2038 hcl:74454a iyr:2023\\npid:3556412378 byr:2007\\\"\\\"\\\"\\n\\n@pytest.fixture\\ndef valid_passports_B():\\n    return \\\"\\\"\\\"\\\\\\npid:087499704 hgt:74in ecl:grn iyr:2012 eyr:2030 byr:1980\\nhcl:#623a2f\\n\\neyr:2029 ecl:blu cid:129 byr:1989\\niyr:2014 pid:896056539 hcl:#a97842 hgt:165cm\\n\\nhcl:#888785\\nhgt:164cm byr:2001 iyr:2015 cid:88\\npid:545766238 ecl:hzl\\neyr:2022\\n\\niyr:2010 hgt:158cm hcl:#b6652a ecl:blu byr:1944 eyr:2021 pid:093154719\\\"\\\"\\\"\";\n",
       "                var nbb_formatted_code = \"# Sample input\\n@pytest.fixture\\ndef dummy_input():\\n    return \\\"\\\"\\\"\\\\\\necl:gry pid:860033327 eyr:2020 hcl:#fffffd\\nbyr:1937 iyr:2017 cid:147 hgt:183cm\\n\\niyr:2013 ecl:amb cid:350 eyr:2023 pid:028048884\\nhcl:#cfa07d byr:1929\\n\\nhcl:#ae17e1 iyr:2013\\neyr:2024\\necl:brn pid:760753108 byr:1931\\nhgt:179cm\\n\\nhcl:#cfa07d eyr:2025 pid:166559648\\niyr:2011 ecl:brn hgt:59in\\\"\\\"\\\"\\n\\n\\n@pytest.fixture\\ndef invalid_passports_B():\\n    return \\\"\\\"\\\"\\\\\\neyr:1972 cid:100\\nhcl:#18171d ecl:amb hgt:170 pid:186cm iyr:2018 byr:1926\\n\\niyr:2019\\nhcl:#602927 eyr:1967 hgt:170cm\\necl:grn pid:012533040 byr:1946\\n\\nhcl:dab227 iyr:2012\\necl:brn hgt:182cm pid:021572410 eyr:2020 byr:1992 cid:277\\n\\nhgt:59cm ecl:zzz\\neyr:2038 hcl:74454a iyr:2023\\npid:3556412378 byr:2007\\\"\\\"\\\"\\n\\n\\n@pytest.fixture\\ndef valid_passports_B():\\n    return \\\"\\\"\\\"\\\\\\npid:087499704 hgt:74in ecl:grn iyr:2012 eyr:2030 byr:1980\\nhcl:#623a2f\\n\\neyr:2029 ecl:blu cid:129 byr:1989\\niyr:2014 pid:896056539 hcl:#a97842 hgt:165cm\\n\\nhcl:#888785\\nhgt:164cm byr:2001 iyr:2015 cid:88\\npid:545766238 ecl:hzl\\neyr:2022\\n\\niyr:2010 hgt:158cm hcl:#b6652a ecl:blu byr:1944 eyr:2021 pid:093154719\\\"\\\"\\\"\";\n",
       "                var nbb_cells = Jupyter.notebook.get_cells();\n",
       "                for (var i = 0; i < nbb_cells.length; ++i) {\n",
       "                    if (nbb_cells[i].input_prompt_number == nbb_cell_id) {\n",
       "                        if (nbb_cells[i].get_text() == nbb_unformatted_code) {\n",
       "                             nbb_cells[i].set_text(nbb_formatted_code);\n",
       "                        }\n",
       "                        break;\n",
       "                    }\n",
       "                }\n",
       "            }, 500);\n",
       "            "
      ],
      "text/plain": [
       "<IPython.core.display.Javascript object>"
      ]
     },
     "metadata": {},
     "output_type": "display_data"
    }
   ],
   "source": [
    "# Sample input\n",
    "@pytest.fixture\n",
    "def dummy_input_A():\n",
    "    return \"\"\"\\\n",
    "ecl:gry pid:860033327 eyr:2020 hcl:#fffffd\n",
    "byr:1937 iyr:2017 cid:147 hgt:183cm\n",
    "\n",
    "iyr:2013 ecl:amb cid:350 eyr:2023 pid:028048884\n",
    "hcl:#cfa07d byr:1929\n",
    "\n",
    "hcl:#ae17e1 iyr:2013\n",
    "eyr:2024\n",
    "ecl:brn pid:760753108 byr:1931\n",
    "hgt:179cm\n",
    "\n",
    "hcl:#cfa07d eyr:2025 pid:166559648\n",
    "iyr:2011 ecl:brn hgt:59in\"\"\"\n",
    "\n",
    "\n",
    "@pytest.fixture\n",
    "def invalid_passports_B():\n",
    "    return \"\"\"\\\n",
    "eyr:1972 cid:100\n",
    "hcl:#18171d ecl:amb hgt:170 pid:186cm iyr:2018 byr:1926\n",
    "\n",
    "iyr:2019\n",
    "hcl:#602927 eyr:1967 hgt:170cm\n",
    "ecl:grn pid:012533040 byr:1946\n",
    "\n",
    "hcl:dab227 iyr:2012\n",
    "ecl:brn hgt:182cm pid:021572410 eyr:2020 byr:1992 cid:277\n",
    "\n",
    "hgt:59cm ecl:zzz\n",
    "eyr:2038 hcl:74454a iyr:2023\n",
    "pid:3556412378 byr:2007\"\"\"\n",
    "\n",
    "\n",
    "@pytest.fixture\n",
    "def valid_passports_B():\n",
    "    return \"\"\"\\\n",
    "pid:087499704 hgt:74in ecl:grn iyr:2012 eyr:2030 byr:1980\n",
    "hcl:#623a2f\n",
    "\n",
    "eyr:2029 ecl:blu cid:129 byr:1989\n",
    "iyr:2014 pid:896056539 hcl:#a97842 hgt:165cm\n",
    "\n",
    "hcl:#888785\n",
    "hgt:164cm byr:2001 iyr:2015 cid:88\n",
    "pid:545766238 ecl:hzl\n",
    "eyr:2022\n",
    "\n",
    "iyr:2010 hgt:158cm hcl:#b6652a ecl:blu byr:1944 eyr:2021 pid:093154719\"\"\""
   ]
  },
  {
   "cell_type": "markdown",
   "metadata": {},
   "source": [
    "## Solution A"
   ]
  },
  {
   "cell_type": "code",
   "execution_count": 69,
   "metadata": {
    "scrolled": true
   },
   "outputs": [
    {
     "data": {
      "application/javascript": [
       "\n",
       "            setTimeout(function() {\n",
       "                var nbb_cell_id = 69;\n",
       "                var nbb_unformatted_code = \"def create_passport(raw_passport):\\n    \\\"\\\"\\\"\\n    Creates a proper passport dict from\\n    a list of raw k/v-pair strings.\\n    \\\"\\\"\\\"\\n    passport = {\\n        str(raw_pair.split(\\\":\\\")[0]): str(raw_pair.split(\\\":\\\")[1])\\n        for raw_pair in raw_passport\\n    }\\n    return passport\\n\\n\\ndef validate_passport_A(passport):\\n    \\\"\\\"\\\"\\n    If at least one of the required fields is not\\n    a key in the dictionary, return False, else True\\n    \\\"\\\"\\\"\\n    req_fields = [\\n        \\\"byr\\\",\\n        \\\"iyr\\\",\\n        \\\"eyr\\\",\\n        \\\"hgt\\\",\\n        \\\"hcl\\\",\\n        \\\"ecl\\\",\\n        \\\"pid\\\",\\n    ]\\n    \\n    return all(field in passport for field in req_fields)\\n\\n\\n@timer\\ndef solve_A(input):\\n    \\\"\\\"\\\"\\n    IMPLEMENT ME\\n    \\\"\\\"\\\"\\n    # 1. Split each input into k/v pairs on whitespace or newline.\\n    # Define once, use often for efficiency.\\n    split_pattern = re.compile(\\\"[\\\\s\\\\n]+\\\")\\n    # Apply to each raw passport in input\\n    input_split = map(split_pattern.split, input)\\n\\n    # 2. Create passports\\n    passports = map(create_passport, input_split)\\n\\n    # 3. Check each passport for required fields\\n    req_fields = [\\n        \\\"byr\\\",\\n        \\\"iyr\\\",\\n        \\\"eyr\\\",\\n        \\\"hgt\\\",\\n        \\\"hcl\\\",\\n        \\\"ecl\\\",\\n        \\\"pid\\\",\\n    ]\\n    valid_checks = map(validate_passport_A, passports)\\n\\n    # Return the number of valid checks\\n    return sum(valid_checks)\";\n",
       "                var nbb_formatted_code = \"def create_passport(raw_passport):\\n    \\\"\\\"\\\"\\n    Creates a proper passport dict from\\n    a list of raw k/v-pair strings.\\n    \\\"\\\"\\\"\\n    passport = {\\n        str(raw_pair.split(\\\":\\\")[0]): str(raw_pair.split(\\\":\\\")[1])\\n        for raw_pair in raw_passport\\n    }\\n    return passport\\n\\n\\ndef validate_passport_A(passport):\\n    \\\"\\\"\\\"\\n    If at least one of the required fields is not\\n    a key in the dictionary, return False, else True\\n    \\\"\\\"\\\"\\n    req_fields = [\\n        \\\"byr\\\",\\n        \\\"iyr\\\",\\n        \\\"eyr\\\",\\n        \\\"hgt\\\",\\n        \\\"hcl\\\",\\n        \\\"ecl\\\",\\n        \\\"pid\\\",\\n    ]\\n\\n    return all(field in passport for field in req_fields)\\n\\n\\n@timer\\ndef solve_A(input):\\n    \\\"\\\"\\\"\\n    IMPLEMENT ME\\n    \\\"\\\"\\\"\\n    # 1. Split each input into k/v pairs on whitespace or newline.\\n    # Define once, use often for efficiency.\\n    split_pattern = re.compile(\\\"[\\\\s\\\\n]+\\\")\\n    # Apply to each raw passport in input\\n    input_split = map(split_pattern.split, input)\\n\\n    # 2. Create passports\\n    passports = map(create_passport, input_split)\\n\\n    # 3. Check each passport for required fields\\n    req_fields = [\\n        \\\"byr\\\",\\n        \\\"iyr\\\",\\n        \\\"eyr\\\",\\n        \\\"hgt\\\",\\n        \\\"hcl\\\",\\n        \\\"ecl\\\",\\n        \\\"pid\\\",\\n    ]\\n    valid_checks = map(validate_passport_A, passports)\\n\\n    # Return the number of valid checks\\n    return sum(valid_checks)\";\n",
       "                var nbb_cells = Jupyter.notebook.get_cells();\n",
       "                for (var i = 0; i < nbb_cells.length; ++i) {\n",
       "                    if (nbb_cells[i].input_prompt_number == nbb_cell_id) {\n",
       "                        if (nbb_cells[i].get_text() == nbb_unformatted_code) {\n",
       "                             nbb_cells[i].set_text(nbb_formatted_code);\n",
       "                        }\n",
       "                        break;\n",
       "                    }\n",
       "                }\n",
       "            }, 500);\n",
       "            "
      ],
      "text/plain": [
       "<IPython.core.display.Javascript object>"
      ]
     },
     "metadata": {},
     "output_type": "display_data"
    }
   ],
   "source": [
    "def create_passport(raw_passport):\n",
    "    \"\"\"\n",
    "    Creates a proper passport dict from\n",
    "    a list of raw k/v-pair strings.\n",
    "    \"\"\"\n",
    "    passport = {\n",
    "        str(raw_pair.split(\":\")[0]): str(raw_pair.split(\":\")[1])\n",
    "        for raw_pair in raw_passport\n",
    "    }\n",
    "    return passport\n",
    "\n",
    "\n",
    "def validate_passport_A(passport):\n",
    "    \"\"\"\n",
    "    If at least one of the required fields is not\n",
    "    a key in the dictionary, return False, else True\n",
    "    \"\"\"\n",
    "    req_fields = [\n",
    "        \"byr\",\n",
    "        \"iyr\",\n",
    "        \"eyr\",\n",
    "        \"hgt\",\n",
    "        \"hcl\",\n",
    "        \"ecl\",\n",
    "        \"pid\",\n",
    "    ]\n",
    "\n",
    "    return all(field in passport for field in req_fields)\n",
    "\n",
    "\n",
    "@timer\n",
    "def solve_A(input):\n",
    "    \"\"\"\n",
    "    IMPLEMENT ME\n",
    "    \"\"\"\n",
    "    # 1. Split each input into k/v pairs on whitespace or newline.\n",
    "    # Define once, use often for efficiency.\n",
    "    split_pattern = re.compile(\"[\\s\\n]+\")\n",
    "    # Apply to each raw passport in input\n",
    "    input_split = map(split_pattern.split, input)\n",
    "\n",
    "    # 2. Create passports\n",
    "    passports = map(create_passport, input_split)\n",
    "\n",
    "    # 3. Check each passport for required fields\n",
    "    req_fields = [\n",
    "        \"byr\",\n",
    "        \"iyr\",\n",
    "        \"eyr\",\n",
    "        \"hgt\",\n",
    "        \"hcl\",\n",
    "        \"ecl\",\n",
    "        \"pid\",\n",
    "    ]\n",
    "    valid_checks = map(validate_passport_A, passports)\n",
    "\n",
    "    # Return the number of valid checks\n",
    "    return sum(valid_checks)"
   ]
  },
  {
   "cell_type": "markdown",
   "metadata": {},
   "source": [
    "#### Tests"
   ]
  },
  {
   "cell_type": "code",
   "execution_count": 70,
   "metadata": {},
   "outputs": [
    {
     "data": {
      "application/javascript": [
       "\n",
       "            setTimeout(function() {\n",
       "                var nbb_cell_id = 70;\n",
       "                var nbb_unformatted_code = \"%%run_pytest[clean] -qq\\n\\ndef test_A(dummy_input):\\n    assert solve_A(split_input(dummy_input)) == 2\";\n",
       "                var nbb_formatted_code = \"%%run_pytest[clean] -qq\\n\\ndef test_A(dummy_input):\\n    assert solve_A(split_input(dummy_input)) == 2\";\n",
       "                var nbb_cells = Jupyter.notebook.get_cells();\n",
       "                for (var i = 0; i < nbb_cells.length; ++i) {\n",
       "                    if (nbb_cells[i].input_prompt_number == nbb_cell_id) {\n",
       "                        if (nbb_cells[i].get_text() == nbb_unformatted_code) {\n",
       "                             nbb_cells[i].set_text(nbb_formatted_code);\n",
       "                        }\n",
       "                        break;\n",
       "                    }\n",
       "                }\n",
       "            }, 500);\n",
       "            "
      ],
      "text/plain": [
       "<IPython.core.display.Javascript object>"
      ]
     },
     "metadata": {},
     "output_type": "display_data"
    },
    {
     "name": "stdout",
     "output_type": "stream",
     "text": [
      ".                                                                                                                                                                                                                                      [100%]\n"
     ]
    },
    {
     "data": {
      "application/javascript": [
       "\n",
       "            setTimeout(function() {\n",
       "                var nbb_cell_id = 70;\n",
       "                var nbb_unformatted_code = \"%%run_pytest[clean] -qq\\n\\ndef test_A(dummy_input):\\n    assert solve_A(split_input(dummy_input)) == 2\";\n",
       "                var nbb_formatted_code = \"%%run_pytest[clean] -qq\\n\\ndef test_A(dummy_input):\\n    assert solve_A(split_input(dummy_input)) == 2\";\n",
       "                var nbb_cells = Jupyter.notebook.get_cells();\n",
       "                for (var i = 0; i < nbb_cells.length; ++i) {\n",
       "                    if (nbb_cells[i].input_prompt_number == nbb_cell_id) {\n",
       "                        if (nbb_cells[i].get_text() == nbb_unformatted_code) {\n",
       "                             nbb_cells[i].set_text(nbb_formatted_code);\n",
       "                        }\n",
       "                        break;\n",
       "                    }\n",
       "                }\n",
       "            }, 500);\n",
       "            "
      ],
      "text/plain": [
       "<IPython.core.display.Javascript object>"
      ]
     },
     "metadata": {},
     "output_type": "display_data"
    }
   ],
   "source": [
    "%%run_pytest[clean] -qq\n",
    "\n",
    "def test_A(dummy_input_A):\n",
    "    assert solve_A(split_input(dummy_input_A)) == 2"
   ]
  },
  {
   "cell_type": "markdown",
   "metadata": {},
   "source": [
    "#### OUTPUT"
   ]
  },
  {
   "cell_type": "code",
   "execution_count": 71,
   "metadata": {},
   "outputs": [
    {
     "name": "stdout",
     "output_type": "stream",
     "text": [
      "Finished 'solve_A' in 0.0027 secs\n"
     ]
    },
    {
     "data": {
      "text/plain": [
       "219"
      ]
     },
     "execution_count": 71,
     "metadata": {},
     "output_type": "execute_result"
    },
    {
     "data": {
      "application/javascript": [
       "\n",
       "            setTimeout(function() {\n",
       "                var nbb_cell_id = 71;\n",
       "                var nbb_unformatted_code = \"solve_A(get_input())\";\n",
       "                var nbb_formatted_code = \"solve_A(get_input())\";\n",
       "                var nbb_cells = Jupyter.notebook.get_cells();\n",
       "                for (var i = 0; i < nbb_cells.length; ++i) {\n",
       "                    if (nbb_cells[i].input_prompt_number == nbb_cell_id) {\n",
       "                        if (nbb_cells[i].get_text() == nbb_unformatted_code) {\n",
       "                             nbb_cells[i].set_text(nbb_formatted_code);\n",
       "                        }\n",
       "                        break;\n",
       "                    }\n",
       "                }\n",
       "            }, 500);\n",
       "            "
      ],
      "text/plain": [
       "<IPython.core.display.Javascript object>"
      ]
     },
     "metadata": {},
     "output_type": "display_data"
    }
   ],
   "source": [
    "solve_A(get_input())"
   ]
  },
  {
   "cell_type": "markdown",
   "metadata": {},
   "source": [
    "## Solution B"
   ]
  },
  {
   "cell_type": "code",
   "execution_count": 103,
   "metadata": {},
   "outputs": [
    {
     "data": {
      "application/javascript": [
       "\n",
       "            setTimeout(function() {\n",
       "                var nbb_cell_id = 103;\n",
       "                var nbb_unformatted_code = \"def validate_numeric(value, criteria):\\n    \\\"\\\"\\\"\\n    Validates [value] to:\\n    [min_value]<=[value]<=[max_value]\\n    and to have a positive regex match to [match_pattern]\\n    \\\"\\\"\\\"\\n    pattern, min_val, max_val = criteria\\n\\n    if pattern.match(value):\\n        return min_val <= int(value) <= max_val\\n    else:\\n        return False\\n\\n\\ndef validate_height(value, criteria):\\n    pattern, min_cm, max_cm, min_in, max_in = criteria\\n\\n    numeric_value = int(re.sub(\\\"\\\\D\\\", \\\"\\\", value))\\n    if \\\"cm\\\" in value:\\n        if pattern.match(value):\\n            return min_cm <= numeric_value <= max_cm\\n    elif \\\"in\\\" in value:\\n        if pattern.match(value):\\n            return min_in <= numeric_value <= max_in\\n    else:\\n        # Unknown measurement or faulty formatting\\n        return False\\n\\n\\ndef validate_pattern(value, pattern):\\n    if pattern.match(value):\\n        return True\\n    else:\\n        return False\\n\\n\\ndef validate_passport_B(passport, req_fields, val_funcs, val_criteria):\\n    \\\"\\\"\\\"\\n    If at least one of the required fields is not\\n    a key in the dictionary, return False.\\n\\n    If at least one of the fields fails validation,\\n    return False.\\n    \\\"\\\"\\\"\\n    # 1. Check required fields\\n    all_fields_present = all(field in passport for field in req_fields)\\n    if not all_fields_present:\\n        return False\\n\\n    # 2. If all fields present, check their value for validity\\n    checks = [\\n        val_funcs[k](v, val_criteria[k]) for k, v in passport.items() if k in req_fields\\n    ]\\n\\n    # 3. If all checks pass, return True, else False\\n    return all(checks)\\n\\n\\n@timer\\ndef solve_B(input):\\n    \\\"\\\"\\\"\\n    IMPLEMENT ME\\n    \\\"\\\"\\\"\\n    # 0. Prepare validation functions and criteria once for re-use\\n    validation_criteria = {\\n        \\\"byr\\\": [re.compile(\\\"\\\\d{4}\\\"), 1920, 2002],\\n        \\\"iyr\\\": [re.compile(\\\"\\\\d{4}\\\"), 2010, 2020],\\n        \\\"eyr\\\": [re.compile(\\\"\\\\d{4}\\\"), 2020, 2030],\\n        \\\"hgt\\\": [re.compile(\\\"\\\\d+(cm|in)\\\"), 150, 193, 59, 76],\\n        \\\"hcl\\\": re.compile(\\\"#[0-9a-f]{6}\\\"),\\n        \\\"ecl\\\": re.compile(\\\"(amb|blu|brn|gry|grn|hzl|oth)\\\"),\\n        \\\"pid\\\": re.compile(\\\"^\\\\d{9}$\\\"),\\n    }\\n\\n    validation_functions = {\\n        \\\"byr\\\": validate_numeric,\\n        \\\"iyr\\\": validate_numeric,\\n        \\\"eyr\\\": validate_numeric,\\n        \\\"hgt\\\": validate_height,\\n        \\\"hcl\\\": validate_pattern,\\n        \\\"ecl\\\": validate_pattern,\\n        \\\"pid\\\": validate_pattern,\\n    }\\n\\n    req_fields = [\\n        \\\"byr\\\",\\n        \\\"iyr\\\",\\n        \\\"eyr\\\",\\n        \\\"hgt\\\",\\n        \\\"hcl\\\",\\n        \\\"ecl\\\",\\n        \\\"pid\\\",\\n    ]\\n\\n    # 1. Split each input into k/v pairs on whitespace or newline.\\n    # Define once, use often for efficiency.\\n    split_pattern = re.compile(\\\"[\\\\s\\\\n]+\\\")\\n    # Apply to each raw passport in input\\n    input_split = map(split_pattern.split, input)\\n\\n    # 2. Create passports\\n    passports = map(create_passport, input_split)\\n\\n    # 3. Check each passport for validity using the criteria dicts\\n    valid_checks = [\\n        validate_passport_B(\\n            passport, req_fields, validation_functions, validation_criteria\\n        )\\n        for passport in passports\\n    ]\\n\\n    # Return the number of valid checks\\n    return sum(valid_checks)\";\n",
       "                var nbb_formatted_code = \"def validate_numeric(value, criteria):\\n    \\\"\\\"\\\"\\n    Validates [value] to:\\n    [min_value]<=[value]<=[max_value]\\n    and to have a positive regex match to [match_pattern]\\n    \\\"\\\"\\\"\\n    pattern, min_val, max_val = criteria\\n\\n    if pattern.match(value):\\n        return min_val <= int(value) <= max_val\\n    else:\\n        return False\\n\\n\\ndef validate_height(value, criteria):\\n    pattern, min_cm, max_cm, min_in, max_in = criteria\\n\\n    numeric_value = int(re.sub(\\\"\\\\D\\\", \\\"\\\", value))\\n    if \\\"cm\\\" in value:\\n        if pattern.match(value):\\n            return min_cm <= numeric_value <= max_cm\\n    elif \\\"in\\\" in value:\\n        if pattern.match(value):\\n            return min_in <= numeric_value <= max_in\\n    else:\\n        # Unknown measurement or faulty formatting\\n        return False\\n\\n\\ndef validate_pattern(value, pattern):\\n    if pattern.match(value):\\n        return True\\n    else:\\n        return False\\n\\n\\ndef validate_passport_B(passport, req_fields, val_funcs, val_criteria):\\n    \\\"\\\"\\\"\\n    If at least one of the required fields is not\\n    a key in the dictionary, return False.\\n\\n    If at least one of the fields fails validation,\\n    return False.\\n    \\\"\\\"\\\"\\n    # 1. Check required fields\\n    all_fields_present = all(field in passport for field in req_fields)\\n    if not all_fields_present:\\n        return False\\n\\n    # 2. If all fields present, check their value for validity\\n    checks = [\\n        val_funcs[k](v, val_criteria[k]) for k, v in passport.items() if k in req_fields\\n    ]\\n\\n    # 3. If all checks pass, return True, else False\\n    return all(checks)\\n\\n\\n@timer\\ndef solve_B(input):\\n    \\\"\\\"\\\"\\n    IMPLEMENT ME\\n    \\\"\\\"\\\"\\n    # 0. Prepare validation functions and criteria once for re-use\\n    validation_criteria = {\\n        \\\"byr\\\": [re.compile(\\\"\\\\d{4}\\\"), 1920, 2002],\\n        \\\"iyr\\\": [re.compile(\\\"\\\\d{4}\\\"), 2010, 2020],\\n        \\\"eyr\\\": [re.compile(\\\"\\\\d{4}\\\"), 2020, 2030],\\n        \\\"hgt\\\": [re.compile(\\\"\\\\d+(cm|in)\\\"), 150, 193, 59, 76],\\n        \\\"hcl\\\": re.compile(\\\"#[0-9a-f]{6}\\\"),\\n        \\\"ecl\\\": re.compile(\\\"(amb|blu|brn|gry|grn|hzl|oth)\\\"),\\n        \\\"pid\\\": re.compile(\\\"^\\\\d{9}$\\\"),\\n    }\\n\\n    validation_functions = {\\n        \\\"byr\\\": validate_numeric,\\n        \\\"iyr\\\": validate_numeric,\\n        \\\"eyr\\\": validate_numeric,\\n        \\\"hgt\\\": validate_height,\\n        \\\"hcl\\\": validate_pattern,\\n        \\\"ecl\\\": validate_pattern,\\n        \\\"pid\\\": validate_pattern,\\n    }\\n\\n    req_fields = [\\n        \\\"byr\\\",\\n        \\\"iyr\\\",\\n        \\\"eyr\\\",\\n        \\\"hgt\\\",\\n        \\\"hcl\\\",\\n        \\\"ecl\\\",\\n        \\\"pid\\\",\\n    ]\\n\\n    # 1. Split each input into k/v pairs on whitespace or newline.\\n    # Define once, use often for efficiency.\\n    split_pattern = re.compile(\\\"[\\\\s\\\\n]+\\\")\\n    # Apply to each raw passport in input\\n    input_split = map(split_pattern.split, input)\\n\\n    # 2. Create passports\\n    passports = map(create_passport, input_split)\\n\\n    # 3. Check each passport for validity using the criteria dicts\\n    valid_checks = [\\n        validate_passport_B(\\n            passport, req_fields, validation_functions, validation_criteria\\n        )\\n        for passport in passports\\n    ]\\n\\n    # Return the number of valid checks\\n    return sum(valid_checks)\";\n",
       "                var nbb_cells = Jupyter.notebook.get_cells();\n",
       "                for (var i = 0; i < nbb_cells.length; ++i) {\n",
       "                    if (nbb_cells[i].input_prompt_number == nbb_cell_id) {\n",
       "                        if (nbb_cells[i].get_text() == nbb_unformatted_code) {\n",
       "                             nbb_cells[i].set_text(nbb_formatted_code);\n",
       "                        }\n",
       "                        break;\n",
       "                    }\n",
       "                }\n",
       "            }, 500);\n",
       "            "
      ],
      "text/plain": [
       "<IPython.core.display.Javascript object>"
      ]
     },
     "metadata": {},
     "output_type": "display_data"
    }
   ],
   "source": [
    "def validate_numeric(value, criteria):\n",
    "    \"\"\"\n",
    "    Validates [value] to:\n",
    "    [min_value]<=[value]<=[max_value]\n",
    "    and to have a positive regex match to [match_pattern]\n",
    "    \"\"\"\n",
    "    pattern, min_val, max_val = criteria\n",
    "\n",
    "    if pattern.match(value):\n",
    "        return min_val <= int(value) <= max_val\n",
    "    else:\n",
    "        return False\n",
    "\n",
    "\n",
    "def validate_height(value, criteria):\n",
    "    \"\"\"\n",
    "    Validates [value] to:\n",
    "    [min_value]<=[value]<=[max_value]\n",
    "    and to have a positive regex match to [match_pattern]\n",
    "    with varying min and max values for cm and inches\n",
    "    \"\"\"\n",
    "    pattern, min_cm, max_cm, min_in, max_in = criteria\n",
    "\n",
    "    numeric_value = int(re.sub(\"\\D\", \"\", value))\n",
    "    if \"cm\" in value:\n",
    "        if pattern.match(value):\n",
    "            return min_cm <= numeric_value <= max_cm\n",
    "    elif \"in\" in value:\n",
    "        if pattern.match(value):\n",
    "            return min_in <= numeric_value <= max_in\n",
    "    else:\n",
    "        # Unknown measurement or faulty formatting\n",
    "        return False\n",
    "\n",
    "\n",
    "def validate_pattern(value, pattern):\n",
    "    \"\"\"\n",
    "    Validates [value] to:\n",
    "    Have a positive regex match to [match_pattern]\n",
    "    \"\"\"\n",
    "    if pattern.match(value):\n",
    "        return True\n",
    "    else:\n",
    "        return False\n",
    "\n",
    "\n",
    "def validate_passport_B(passport, req_fields, val_funcs, val_criteria):\n",
    "    \"\"\"\n",
    "    If at least one of the required fields is not\n",
    "    a key in the dictionary, return False.\n",
    "\n",
    "    If at least one of the fields fails validation,\n",
    "    return False.\n",
    "    \"\"\"\n",
    "    # 1. Check required fields\n",
    "    all_fields_present = all(field in passport for field in req_fields)\n",
    "    if not all_fields_present:\n",
    "        return False\n",
    "\n",
    "    # 2. If all fields present, check their value for validity\n",
    "    checks = [\n",
    "        val_funcs[k](v, val_criteria[k]) for k, v in passport.items() if k in req_fields\n",
    "    ]\n",
    "\n",
    "    # 3. If all checks pass, return True, else False\n",
    "    return all(checks)\n",
    "\n",
    "\n",
    "@timer\n",
    "def solve_B(input):\n",
    "    \"\"\"\n",
    "    Transform raw input (split to raw passports) to passport dicts,\n",
    "    run the validity check on each passport,\n",
    "    and count the number of fully valid passports.\n",
    "    \"\"\"\n",
    "    # 0. Prepare validation functions and criteria once for re-use\n",
    "    validation_criteria = {\n",
    "        \"byr\": [re.compile(\"\\d{4}\"), 1920, 2002],\n",
    "        \"iyr\": [re.compile(\"\\d{4}\"), 2010, 2020],\n",
    "        \"eyr\": [re.compile(\"\\d{4}\"), 2020, 2030],\n",
    "        \"hgt\": [re.compile(\"\\d+(cm|in)\"), 150, 193, 59, 76],\n",
    "        \"hcl\": re.compile(\"#[0-9a-f]{6}\"),\n",
    "        \"ecl\": re.compile(\"(amb|blu|brn|gry|grn|hzl|oth)\"),\n",
    "        \"pid\": re.compile(\"^\\d{9}$\"),\n",
    "    }\n",
    "\n",
    "    validation_functions = {\n",
    "        \"byr\": validate_numeric,\n",
    "        \"iyr\": validate_numeric,\n",
    "        \"eyr\": validate_numeric,\n",
    "        \"hgt\": validate_height,\n",
    "        \"hcl\": validate_pattern,\n",
    "        \"ecl\": validate_pattern,\n",
    "        \"pid\": validate_pattern,\n",
    "    }\n",
    "\n",
    "    req_fields = [\n",
    "        \"byr\",\n",
    "        \"iyr\",\n",
    "        \"eyr\",\n",
    "        \"hgt\",\n",
    "        \"hcl\",\n",
    "        \"ecl\",\n",
    "        \"pid\",\n",
    "    ]\n",
    "\n",
    "    # 1. Split each input into k/v pairs on whitespace or newline.\n",
    "    # Define once, use often for efficiency.\n",
    "    split_pattern = re.compile(\"[\\s\\n]+\")\n",
    "    # Apply to each raw passport in input\n",
    "    input_split = map(split_pattern.split, input)\n",
    "\n",
    "    # 2. Create passports\n",
    "    passports = map(create_passport, input_split)\n",
    "\n",
    "    # 3. Check each passport for validity using the criteria dicts\n",
    "    valid_checks = [\n",
    "        validate_passport_B(\n",
    "            passport, req_fields, validation_functions, validation_criteria\n",
    "        )\n",
    "        for passport in passports\n",
    "    ]\n",
    "\n",
    "    # Return the number of valid checks\n",
    "    return sum(valid_checks)"
   ]
  },
  {
   "cell_type": "markdown",
   "metadata": {},
   "source": [
    "#### Tests"
   ]
  },
  {
   "cell_type": "code",
   "execution_count": 104,
   "metadata": {},
   "outputs": [
    {
     "data": {
      "application/javascript": [
       "\n",
       "            setTimeout(function() {\n",
       "                var nbb_cell_id = 104;\n",
       "                var nbb_unformatted_code = \"%%run_pytest[clean] -qq\\n\\n@pytest.mark.parametrize(\\\"test_value, expected\\\", [\\n    (\\\"2002\\\", True),\\n    (\\\"2003\\\", False),\\n    (\\\"42\\\", False),\\n])\\ndef test_validate_numeric(test_value, expected):\\n    criteria = [re.compile(\\\"\\\\d{4}\\\"), 1920, 2002]\\n    assert validate_numeric(test_value, criteria) == expected\\n\\n\\n@pytest.mark.parametrize(\\\"test_value, expected\\\", [\\n    (\\\"60in\\\", True),\\n    (\\\"190cm\\\", True),\\n    (\\\"190in\\\", False),\\n    (\\\"190\\\", False),\\n])\\ndef test_validate_height(test_value, expected):\\n    criteria = [re.compile(\\\"\\\\d+(cm|in)\\\"), 150, 193, 59, 76]\\n    assert validate_height(test_value, criteria) == expected\\n\\n\\n@pytest.mark.parametrize(\\\"test_value, criteria, expected\\\", [\\n    # Hair colours hcl\\n    (\\\"#123abz\\\", re.compile(\\\"#[0-9a-f]{6}\\\"), False),\\n    (\\\"#123abc\\\", re.compile(\\\"#[0-9a-f]{6}\\\"), True),\\n    (\\\"123abc\\\", re.compile(\\\"#[0-9a-f]{6}\\\"), False),\\n    # Eye colour ecl\\n    (\\\"brn\\\", re.compile(\\\"(amb|blu|brn|gry|grn|hzl|oth)\\\"), True),\\n    (\\\"wat\\\", re.compile(\\\"(amb|blu|brn|gry|grn|hzl|oth)\\\"), False),\\n    # Passport ID pid\\n    (\\\"000000001\\\", re.compile(\\\"^\\\\d{9}$\\\"), True),\\n    (\\\"0123456789\\\", re.compile(\\\"^\\\\d{9}$\\\"), False),\\n])\\ndef test_validate_pattern(test_value, criteria, expected):\\n    assert validate_pattern(test_value, criteria) == expected\\n\\n\\ndef test_B(dummy_input):\\n    assert solve_B(split_input(dummy_input)) == 2\\n\\n\\ndef test_B_all_invalid(invalid_passports_B):\\n    assert solve_B(split_input(invalid_passports_B)) == 0\\n    \\n\\ndef test_B_all_valid(valid_passports_B):\\n    assert solve_B(split_input(valid_passports_B)) == 4\";\n",
       "                var nbb_formatted_code = \"%%run_pytest[clean] -qq\\n\\n@pytest.mark.parametrize(\\\"test_value, expected\\\", [\\n    (\\\"2002\\\", True),\\n    (\\\"2003\\\", False),\\n    (\\\"42\\\", False),\\n])\\ndef test_validate_numeric(test_value, expected):\\n    criteria = [re.compile(\\\"\\\\d{4}\\\"), 1920, 2002]\\n    assert validate_numeric(test_value, criteria) == expected\\n\\n\\n@pytest.mark.parametrize(\\\"test_value, expected\\\", [\\n    (\\\"60in\\\", True),\\n    (\\\"190cm\\\", True),\\n    (\\\"190in\\\", False),\\n    (\\\"190\\\", False),\\n])\\ndef test_validate_height(test_value, expected):\\n    criteria = [re.compile(\\\"\\\\d+(cm|in)\\\"), 150, 193, 59, 76]\\n    assert validate_height(test_value, criteria) == expected\\n\\n\\n@pytest.mark.parametrize(\\\"test_value, criteria, expected\\\", [\\n    # Hair colours hcl\\n    (\\\"#123abz\\\", re.compile(\\\"#[0-9a-f]{6}\\\"), False),\\n    (\\\"#123abc\\\", re.compile(\\\"#[0-9a-f]{6}\\\"), True),\\n    (\\\"123abc\\\", re.compile(\\\"#[0-9a-f]{6}\\\"), False),\\n    # Eye colour ecl\\n    (\\\"brn\\\", re.compile(\\\"(amb|blu|brn|gry|grn|hzl|oth)\\\"), True),\\n    (\\\"wat\\\", re.compile(\\\"(amb|blu|brn|gry|grn|hzl|oth)\\\"), False),\\n    # Passport ID pid\\n    (\\\"000000001\\\", re.compile(\\\"^\\\\d{9}$\\\"), True),\\n    (\\\"0123456789\\\", re.compile(\\\"^\\\\d{9}$\\\"), False),\\n])\\ndef test_validate_pattern(test_value, criteria, expected):\\n    assert validate_pattern(test_value, criteria) == expected\\n\\n\\ndef test_B(dummy_input):\\n    assert solve_B(split_input(dummy_input)) == 2\\n\\n\\ndef test_B_all_invalid(invalid_passports_B):\\n    assert solve_B(split_input(invalid_passports_B)) == 0\\n    \\n\\ndef test_B_all_valid(valid_passports_B):\\n    assert solve_B(split_input(valid_passports_B)) == 4\";\n",
       "                var nbb_cells = Jupyter.notebook.get_cells();\n",
       "                for (var i = 0; i < nbb_cells.length; ++i) {\n",
       "                    if (nbb_cells[i].input_prompt_number == nbb_cell_id) {\n",
       "                        if (nbb_cells[i].get_text() == nbb_unformatted_code) {\n",
       "                             nbb_cells[i].set_text(nbb_formatted_code);\n",
       "                        }\n",
       "                        break;\n",
       "                    }\n",
       "                }\n",
       "            }, 500);\n",
       "            "
      ],
      "text/plain": [
       "<IPython.core.display.Javascript object>"
      ]
     },
     "metadata": {},
     "output_type": "display_data"
    },
    {
     "name": "stdout",
     "output_type": "stream",
     "text": [
      ".................                                                                                                                                                                                                                      [100%]\n"
     ]
    },
    {
     "data": {
      "application/javascript": [
       "\n",
       "            setTimeout(function() {\n",
       "                var nbb_cell_id = 104;\n",
       "                var nbb_unformatted_code = \"%%run_pytest[clean] -qq\\n\\n@pytest.mark.parametrize(\\\"test_value, expected\\\", [\\n    (\\\"2002\\\", True),\\n    (\\\"2003\\\", False),\\n    (\\\"42\\\", False),\\n])\\ndef test_validate_numeric(test_value, expected):\\n    criteria = [re.compile(\\\"\\\\d{4}\\\"), 1920, 2002]\\n    assert validate_numeric(test_value, criteria) == expected\\n\\n\\n@pytest.mark.parametrize(\\\"test_value, expected\\\", [\\n    (\\\"60in\\\", True),\\n    (\\\"190cm\\\", True),\\n    (\\\"190in\\\", False),\\n    (\\\"190\\\", False),\\n])\\ndef test_validate_height(test_value, expected):\\n    criteria = [re.compile(\\\"\\\\d+(cm|in)\\\"), 150, 193, 59, 76]\\n    assert validate_height(test_value, criteria) == expected\\n\\n\\n@pytest.mark.parametrize(\\\"test_value, criteria, expected\\\", [\\n    # Hair colours hcl\\n    (\\\"#123abz\\\", re.compile(\\\"#[0-9a-f]{6}\\\"), False),\\n    (\\\"#123abc\\\", re.compile(\\\"#[0-9a-f]{6}\\\"), True),\\n    (\\\"123abc\\\", re.compile(\\\"#[0-9a-f]{6}\\\"), False),\\n    # Eye colour ecl\\n    (\\\"brn\\\", re.compile(\\\"(amb|blu|brn|gry|grn|hzl|oth)\\\"), True),\\n    (\\\"wat\\\", re.compile(\\\"(amb|blu|brn|gry|grn|hzl|oth)\\\"), False),\\n    # Passport ID pid\\n    (\\\"000000001\\\", re.compile(\\\"^\\\\d{9}$\\\"), True),\\n    (\\\"0123456789\\\", re.compile(\\\"^\\\\d{9}$\\\"), False),\\n])\\ndef test_validate_pattern(test_value, criteria, expected):\\n    assert validate_pattern(test_value, criteria) == expected\\n\\n\\ndef test_B(dummy_input):\\n    assert solve_B(split_input(dummy_input)) == 2\\n\\n\\ndef test_B_all_invalid(invalid_passports_B):\\n    assert solve_B(split_input(invalid_passports_B)) == 0\\n    \\n\\ndef test_B_all_valid(valid_passports_B):\\n    assert solve_B(split_input(valid_passports_B)) == 4\";\n",
       "                var nbb_formatted_code = \"%%run_pytest[clean] -qq\\n\\n@pytest.mark.parametrize(\\\"test_value, expected\\\", [\\n    (\\\"2002\\\", True),\\n    (\\\"2003\\\", False),\\n    (\\\"42\\\", False),\\n])\\ndef test_validate_numeric(test_value, expected):\\n    criteria = [re.compile(\\\"\\\\d{4}\\\"), 1920, 2002]\\n    assert validate_numeric(test_value, criteria) == expected\\n\\n\\n@pytest.mark.parametrize(\\\"test_value, expected\\\", [\\n    (\\\"60in\\\", True),\\n    (\\\"190cm\\\", True),\\n    (\\\"190in\\\", False),\\n    (\\\"190\\\", False),\\n])\\ndef test_validate_height(test_value, expected):\\n    criteria = [re.compile(\\\"\\\\d+(cm|in)\\\"), 150, 193, 59, 76]\\n    assert validate_height(test_value, criteria) == expected\\n\\n\\n@pytest.mark.parametrize(\\\"test_value, criteria, expected\\\", [\\n    # Hair colours hcl\\n    (\\\"#123abz\\\", re.compile(\\\"#[0-9a-f]{6}\\\"), False),\\n    (\\\"#123abc\\\", re.compile(\\\"#[0-9a-f]{6}\\\"), True),\\n    (\\\"123abc\\\", re.compile(\\\"#[0-9a-f]{6}\\\"), False),\\n    # Eye colour ecl\\n    (\\\"brn\\\", re.compile(\\\"(amb|blu|brn|gry|grn|hzl|oth)\\\"), True),\\n    (\\\"wat\\\", re.compile(\\\"(amb|blu|brn|gry|grn|hzl|oth)\\\"), False),\\n    # Passport ID pid\\n    (\\\"000000001\\\", re.compile(\\\"^\\\\d{9}$\\\"), True),\\n    (\\\"0123456789\\\", re.compile(\\\"^\\\\d{9}$\\\"), False),\\n])\\ndef test_validate_pattern(test_value, criteria, expected):\\n    assert validate_pattern(test_value, criteria) == expected\\n\\n\\ndef test_B(dummy_input):\\n    assert solve_B(split_input(dummy_input)) == 2\\n\\n\\ndef test_B_all_invalid(invalid_passports_B):\\n    assert solve_B(split_input(invalid_passports_B)) == 0\\n    \\n\\ndef test_B_all_valid(valid_passports_B):\\n    assert solve_B(split_input(valid_passports_B)) == 4\";\n",
       "                var nbb_cells = Jupyter.notebook.get_cells();\n",
       "                for (var i = 0; i < nbb_cells.length; ++i) {\n",
       "                    if (nbb_cells[i].input_prompt_number == nbb_cell_id) {\n",
       "                        if (nbb_cells[i].get_text() == nbb_unformatted_code) {\n",
       "                             nbb_cells[i].set_text(nbb_formatted_code);\n",
       "                        }\n",
       "                        break;\n",
       "                    }\n",
       "                }\n",
       "            }, 500);\n",
       "            "
      ],
      "text/plain": [
       "<IPython.core.display.Javascript object>"
      ]
     },
     "metadata": {},
     "output_type": "display_data"
    }
   ],
   "source": [
    "%%run_pytest[clean] -qq\n",
    "\n",
    "@pytest.mark.parametrize(\"test_value, expected\", [\n",
    "    (\"2002\", True),\n",
    "    (\"2003\", False),\n",
    "    (\"42\", False),\n",
    "])\n",
    "def test_validate_numeric(test_value, expected):\n",
    "    criteria = [re.compile(\"\\d{4}\"), 1920, 2002]\n",
    "    assert validate_numeric(test_value, criteria) == expected\n",
    "\n",
    "\n",
    "@pytest.mark.parametrize(\"test_value, expected\", [\n",
    "    (\"60in\", True),\n",
    "    (\"190cm\", True),\n",
    "    (\"190in\", False),\n",
    "    (\"190\", False),\n",
    "])\n",
    "def test_validate_height(test_value, expected):\n",
    "    criteria = [re.compile(\"\\d+(cm|in)\"), 150, 193, 59, 76]\n",
    "    assert validate_height(test_value, criteria) == expected\n",
    "\n",
    "\n",
    "@pytest.mark.parametrize(\"test_value, criteria, expected\", [\n",
    "    # Hair colours hcl\n",
    "    (\"#123abz\", re.compile(\"#[0-9a-f]{6}\"), False),\n",
    "    (\"#123abc\", re.compile(\"#[0-9a-f]{6}\"), True),\n",
    "    (\"123abc\", re.compile(\"#[0-9a-f]{6}\"), False),\n",
    "    # Eye colour ecl\n",
    "    (\"brn\", re.compile(\"(amb|blu|brn|gry|grn|hzl|oth)\"), True),\n",
    "    (\"wat\", re.compile(\"(amb|blu|brn|gry|grn|hzl|oth)\"), False),\n",
    "    # Passport ID pid\n",
    "    (\"000000001\", re.compile(\"^\\d{9}$\"), True),\n",
    "    (\"0123456789\", re.compile(\"^\\d{9}$\"), False),\n",
    "])\n",
    "def test_validate_pattern(test_value, criteria, expected):\n",
    "    assert validate_pattern(test_value, criteria) == expected\n",
    "\n",
    "\n",
    "def test_B(dummy_input):\n",
    "    assert solve_B(split_input(dummy_input)) == 2\n",
    "\n",
    "\n",
    "def test_B_all_invalid(invalid_passports_B):\n",
    "    assert solve_B(split_input(invalid_passports_B)) == 0\n",
    "    \n",
    "\n",
    "def test_B_all_valid(valid_passports_B):\n",
    "    assert solve_B(split_input(valid_passports_B)) == 4"
   ]
  },
  {
   "cell_type": "markdown",
   "metadata": {},
   "source": [
    "#### OUTPUT"
   ]
  },
  {
   "cell_type": "code",
   "execution_count": 105,
   "metadata": {},
   "outputs": [
    {
     "name": "stdout",
     "output_type": "stream",
     "text": [
      "Finished 'solve_B' in 0.0079 secs\n"
     ]
    },
    {
     "data": {
      "text/plain": [
       "127"
      ]
     },
     "execution_count": 105,
     "metadata": {},
     "output_type": "execute_result"
    },
    {
     "data": {
      "application/javascript": [
       "\n",
       "            setTimeout(function() {\n",
       "                var nbb_cell_id = 105;\n",
       "                var nbb_unformatted_code = \"solve_B(get_input())\";\n",
       "                var nbb_formatted_code = \"solve_B(get_input())\";\n",
       "                var nbb_cells = Jupyter.notebook.get_cells();\n",
       "                for (var i = 0; i < nbb_cells.length; ++i) {\n",
       "                    if (nbb_cells[i].input_prompt_number == nbb_cell_id) {\n",
       "                        if (nbb_cells[i].get_text() == nbb_unformatted_code) {\n",
       "                             nbb_cells[i].set_text(nbb_formatted_code);\n",
       "                        }\n",
       "                        break;\n",
       "                    }\n",
       "                }\n",
       "            }, 500);\n",
       "            "
      ],
      "text/plain": [
       "<IPython.core.display.Javascript object>"
      ]
     },
     "metadata": {},
     "output_type": "display_data"
    }
   ],
   "source": [
    "solve_B(get_input())"
   ]
  },
  {
   "cell_type": "code",
   "execution_count": null,
   "metadata": {},
   "outputs": [],
   "source": []
  }
 ],
 "metadata": {
  "kernelspec": {
   "display_name": "Python [conda env:aoc20_36] *",
   "language": "python",
   "name": "conda-env-aoc20_36-py"
  },
  "language_info": {
   "codemirror_mode": {
    "name": "ipython",
    "version": 3
   },
   "file_extension": ".py",
   "mimetype": "text/x-python",
   "name": "python",
   "nbconvert_exporter": "python",
   "pygments_lexer": "ipython3",
   "version": "3.6.12"
  }
 },
 "nbformat": 4,
 "nbformat_minor": 4
}
