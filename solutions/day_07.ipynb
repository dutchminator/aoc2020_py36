{
 "cells": [
  {
   "cell_type": "markdown",
   "metadata": {},
   "source": [
    "# Day 7"
   ]
  },
  {
   "cell_type": "markdown",
   "metadata": {},
   "source": [
    "## GENERIC SETUP"
   ]
  },
  {
   "cell_type": "code",
   "execution_count": 1,
   "metadata": {},
   "outputs": [
    {
     "data": {
      "application/javascript": [
       "\n",
       "            setTimeout(function() {\n",
       "                var nbb_cell_id = 1;\n",
       "                var nbb_unformatted_code = \"# General imports\\nimport pytest\\nimport ipytest\\nimport time\\nimport functools\\n\\n# Setup ipytest\\nipytest.autoconfig()\\n\\n# Setup nb_black\\n%load_ext nb_black\\n\\n# Decorator to time solutions\\ndef timer(func):\\n    \\\"\\\"\\\"\\n    Wrapper function.\\n    Print the runtime of the decorated function.\\n    \\\"\\\"\\\"\\n\\n    @functools.wraps(func)\\n    def wrapper_timer(*args, **kwargs):\\n        start_time = time.perf_counter()  # 1\\n        value = func(*args, **kwargs)\\n        end_time = time.perf_counter()  # 2\\n        run_time = end_time - start_time  # 3\\n        print(f\\\"Finished {func.__name__!r} in {run_time:.4f} secs\\\")\\n        return value\\n\\n    return wrapper_timer\";\n",
       "                var nbb_formatted_code = \"# General imports\\nimport pytest\\nimport ipytest\\nimport time\\nimport functools\\n\\n# Setup ipytest\\nipytest.autoconfig()\\n\\n# Setup nb_black\\n%load_ext nb_black\\n\\n# Decorator to time solutions\\ndef timer(func):\\n    \\\"\\\"\\\"\\n    Wrapper function.\\n    Print the runtime of the decorated function.\\n    \\\"\\\"\\\"\\n\\n    @functools.wraps(func)\\n    def wrapper_timer(*args, **kwargs):\\n        start_time = time.perf_counter()  # 1\\n        value = func(*args, **kwargs)\\n        end_time = time.perf_counter()  # 2\\n        run_time = end_time - start_time  # 3\\n        print(f\\\"Finished {func.__name__!r} in {run_time:.4f} secs\\\")\\n        return value\\n\\n    return wrapper_timer\";\n",
       "                var nbb_cells = Jupyter.notebook.get_cells();\n",
       "                for (var i = 0; i < nbb_cells.length; ++i) {\n",
       "                    if (nbb_cells[i].input_prompt_number == nbb_cell_id) {\n",
       "                        if (nbb_cells[i].get_text() == nbb_unformatted_code) {\n",
       "                             nbb_cells[i].set_text(nbb_formatted_code);\n",
       "                        }\n",
       "                        break;\n",
       "                    }\n",
       "                }\n",
       "            }, 500);\n",
       "            "
      ],
      "text/plain": [
       "<IPython.core.display.Javascript object>"
      ]
     },
     "metadata": {},
     "output_type": "display_data"
    }
   ],
   "source": [
    "# General imports\n",
    "import pytest\n",
    "import ipytest\n",
    "import time\n",
    "import functools\n",
    "\n",
    "# Setup ipytest\n",
    "ipytest.autoconfig()\n",
    "\n",
    "# Setup nb_black\n",
    "%load_ext nb_black\n",
    "\n",
    "# Decorator to time solutions\n",
    "def timer(func):\n",
    "    \"\"\"\n",
    "    Wrapper function.\n",
    "    Print the runtime of the decorated function.\n",
    "    \"\"\"\n",
    "\n",
    "    @functools.wraps(func)\n",
    "    def wrapper_timer(*args, **kwargs):\n",
    "        start_time = time.perf_counter()  # 1\n",
    "        value = func(*args, **kwargs)\n",
    "        end_time = time.perf_counter()  # 2\n",
    "        run_time = end_time - start_time  # 3\n",
    "        print(f\"Finished {func.__name__!r} in {run_time:.4f} secs\")\n",
    "        return value\n",
    "\n",
    "    return wrapper_timer"
   ]
  },
  {
   "cell_type": "markdown",
   "metadata": {},
   "source": [
    "## SOLUTION SETUP"
   ]
  },
  {
   "cell_type": "code",
   "execution_count": 2,
   "metadata": {},
   "outputs": [
    {
     "data": {
      "application/javascript": [
       "\n",
       "            setTimeout(function() {\n",
       "                var nbb_cell_id = 2;\n",
       "                var nbb_unformatted_code = \"# Solution-specific imports\\nimport re\\n\\n# What day do we solve? Used to identify the input datafile, integer value\\nDAY = 7\";\n",
       "                var nbb_formatted_code = \"# Solution-specific imports\\nimport re\\n\\n# What day do we solve? Used to identify the input datafile, integer value\\nDAY = 7\";\n",
       "                var nbb_cells = Jupyter.notebook.get_cells();\n",
       "                for (var i = 0; i < nbb_cells.length; ++i) {\n",
       "                    if (nbb_cells[i].input_prompt_number == nbb_cell_id) {\n",
       "                        if (nbb_cells[i].get_text() == nbb_unformatted_code) {\n",
       "                             nbb_cells[i].set_text(nbb_formatted_code);\n",
       "                        }\n",
       "                        break;\n",
       "                    }\n",
       "                }\n",
       "            }, 500);\n",
       "            "
      ],
      "text/plain": [
       "<IPython.core.display.Javascript object>"
      ]
     },
     "metadata": {},
     "output_type": "display_data"
    }
   ],
   "source": [
    "# Solution-specific imports\n",
    "import re\n",
    "\n",
    "# What day do we solve? Used to identify the input datafile, integer value\n",
    "DAY = 7"
   ]
  },
  {
   "cell_type": "markdown",
   "metadata": {},
   "source": [
    "#### I/O functions"
   ]
  },
  {
   "cell_type": "code",
   "execution_count": 3,
   "metadata": {},
   "outputs": [
    {
     "data": {
      "application/javascript": [
       "\n",
       "            setTimeout(function() {\n",
       "                var nbb_cell_id = 3;\n",
       "                var nbb_unformatted_code = \"def get_input():\\n    with open(f\\\"../data/{DAY}.txt\\\", \\\"r\\\") as f:\\n        return split_input(f.read())\\n\\n\\ndef split_input(input_raw):\\n    \\\"\\\"\\\"Strip trailing newline, then split on newline\\\"\\\"\\\"\\n    return (line.strip() for line in input_raw.rstrip().split(\\\"\\\\n\\\"))\";\n",
       "                var nbb_formatted_code = \"def get_input():\\n    with open(f\\\"../data/{DAY}.txt\\\", \\\"r\\\") as f:\\n        return split_input(f.read())\\n\\n\\ndef split_input(input_raw):\\n    \\\"\\\"\\\"Strip trailing newline, then split on newline\\\"\\\"\\\"\\n    return (line.strip() for line in input_raw.rstrip().split(\\\"\\\\n\\\"))\";\n",
       "                var nbb_cells = Jupyter.notebook.get_cells();\n",
       "                for (var i = 0; i < nbb_cells.length; ++i) {\n",
       "                    if (nbb_cells[i].input_prompt_number == nbb_cell_id) {\n",
       "                        if (nbb_cells[i].get_text() == nbb_unformatted_code) {\n",
       "                             nbb_cells[i].set_text(nbb_formatted_code);\n",
       "                        }\n",
       "                        break;\n",
       "                    }\n",
       "                }\n",
       "            }, 500);\n",
       "            "
      ],
      "text/plain": [
       "<IPython.core.display.Javascript object>"
      ]
     },
     "metadata": {},
     "output_type": "display_data"
    }
   ],
   "source": [
    "def get_input():\n",
    "    with open(f\"../data/{DAY}.txt\", \"r\") as f:\n",
    "        return split_input(f.read())\n",
    "\n",
    "\n",
    "def split_input(input_raw):\n",
    "    \"\"\"Strip trailing newline, then split on newline\"\"\"\n",
    "    return (line.strip() for line in input_raw.rstrip().split(\"\\n\"))"
   ]
  },
  {
   "cell_type": "markdown",
   "metadata": {},
   "source": [
    "#### Pytest input data"
   ]
  },
  {
   "cell_type": "code",
   "execution_count": 4,
   "metadata": {},
   "outputs": [
    {
     "data": {
      "application/javascript": [
       "\n",
       "            setTimeout(function() {\n",
       "                var nbb_cell_id = 4;\n",
       "                var nbb_unformatted_code = \"# Sample input\\n@pytest.fixture\\ndef dummy_input():\\n    return \\\"\\\"\\\"\\\\\\nlight red bags contain 1 bright white bag, 2 muted yellow bags.\\ndark orange bags contain 3 bright white bags, 4 muted yellow bags.\\nbright white bags contain 1 shiny gold bag.\\nmuted yellow bags contain 2 shiny gold bags, 9 faded blue bags.\\nshiny gold bags contain 1 dark olive bag, 2 vibrant plum bags.\\ndark olive bags contain 3 faded blue bags, 4 dotted black bags.\\nvibrant plum bags contain 5 faded blue bags, 6 dotted black bags.\\nfaded blue bags contain no other bags.\\ndotted black bags contain no other bags.\\n\\\"\\\"\\\"\";\n",
       "                var nbb_formatted_code = \"# Sample input\\n@pytest.fixture\\ndef dummy_input():\\n    return \\\"\\\"\\\"\\\\\\nlight red bags contain 1 bright white bag, 2 muted yellow bags.\\ndark orange bags contain 3 bright white bags, 4 muted yellow bags.\\nbright white bags contain 1 shiny gold bag.\\nmuted yellow bags contain 2 shiny gold bags, 9 faded blue bags.\\nshiny gold bags contain 1 dark olive bag, 2 vibrant plum bags.\\ndark olive bags contain 3 faded blue bags, 4 dotted black bags.\\nvibrant plum bags contain 5 faded blue bags, 6 dotted black bags.\\nfaded blue bags contain no other bags.\\ndotted black bags contain no other bags.\\n\\\"\\\"\\\"\";\n",
       "                var nbb_cells = Jupyter.notebook.get_cells();\n",
       "                for (var i = 0; i < nbb_cells.length; ++i) {\n",
       "                    if (nbb_cells[i].input_prompt_number == nbb_cell_id) {\n",
       "                        if (nbb_cells[i].get_text() == nbb_unformatted_code) {\n",
       "                             nbb_cells[i].set_text(nbb_formatted_code);\n",
       "                        }\n",
       "                        break;\n",
       "                    }\n",
       "                }\n",
       "            }, 500);\n",
       "            "
      ],
      "text/plain": [
       "<IPython.core.display.Javascript object>"
      ]
     },
     "metadata": {},
     "output_type": "display_data"
    }
   ],
   "source": [
    "# Sample input\n",
    "@pytest.fixture\n",
    "def dummy_input():\n",
    "    return \"\"\"\\\n",
    "light red bags contain 1 bright white bag, 2 muted yellow bags.\n",
    "dark orange bags contain 3 bright white bags, 4 muted yellow bags.\n",
    "bright white bags contain 1 shiny gold bag.\n",
    "muted yellow bags contain 2 shiny gold bags, 9 faded blue bags.\n",
    "shiny gold bags contain 1 dark olive bag, 2 vibrant plum bags.\n",
    "dark olive bags contain 3 faded blue bags, 4 dotted black bags.\n",
    "vibrant plum bags contain 5 faded blue bags, 6 dotted black bags.\n",
    "faded blue bags contain no other bags.\n",
    "dotted black bags contain no other bags.\n",
    "\"\"\""
   ]
  },
  {
   "cell_type": "markdown",
   "metadata": {},
   "source": [
    "## Solution A"
   ]
  },
  {
   "cell_type": "code",
   "execution_count": 5,
   "metadata": {
    "scrolled": true
   },
   "outputs": [
    {
     "data": {
      "application/javascript": [
       "\n",
       "            setTimeout(function() {\n",
       "                var nbb_cell_id = 5;\n",
       "                var nbb_unformatted_code = \"def parse_bag(line):\\n    \\\"\\\"\\\"\\n    Read a single line, extracting the colour and allowed contents.\\n    Returns a tuple of (colour, allowed content dict)\\n    \\\"\\\"\\\"\\n    # 1. Retrieve the colour\\n    bag_colour = re.match(\\\"^\\\\w+ \\\\w+\\\", line).group(0)\\n\\n    # 2. Split the bag contents into strings\\n    bag_content_raw = re.findall(\\\"\\\\d+ \\\\w+ \\\\w+\\\", line)\\n\\n    # 3. Parse each entry, add to bag_content list\\n    bag_content = (\\n        []\\n    )  # Alternative: dictionary from content colour to number of that colour\\n    for item in bag_content_raw:\\n        # Add the colour to the list of bag_content colours\\n        # Ignore the number of bags for now\\n        bag_content.append(re.match(\\\"\\\\d+ (\\\\w+ \\\\w+)\\\", item).group(1))\\n\\n    return bag_colour, bag_content\\n\\n\\ndef search_gold(bags, colour):\\n    # If found\\n    if \\\"shiny gold\\\" in bags[colour]:\\n        return True\\n    # If empty\\n    elif len(bags[colour]) < 1:\\n        return False\\n    # Search deeper, return True if any contained bag returned True\\n    else:\\n        return any([search_gold(bags, x) for x in bags[colour]])\\n\\n\\n@timer\\ndef solve_A(lines):\\n    \\\"\\\"\\\"\\n    1. Parse each line to get colour and [contents],\\n    2. turn into a dict\\n    3. For key in dict (except shiny gold itself), search gold recursively\\n    4. Return number of bags containing gold\\n    \\\"\\\"\\\"\\n    # 1. Generate a list of (colour, content) tuples for each line\\n    parsed_lines = [parse_bag(line) for line in lines]\\n    # 2. Create a dictionary from the list\\n    bags_dict = dict((k, v) for k, v in parsed_lines)\\n\\n    # 3. Now, for each key in bags_dict, check for shiny gold is possible\\n    gold_inside = [\\n        search_gold(bags_dict, colour)\\n        for colour in bags_dict.keys()\\n        if colour != \\\"shiny gold\\\"\\n    ]\\n    # 4. Return the number of bag colours than can contain gold\\n    return sum(gold_inside)\";\n",
       "                var nbb_formatted_code = \"def parse_bag(line):\\n    \\\"\\\"\\\"\\n    Read a single line, extracting the colour and allowed contents.\\n    Returns a tuple of (colour, allowed content dict)\\n    \\\"\\\"\\\"\\n    # 1. Retrieve the colour\\n    bag_colour = re.match(\\\"^\\\\w+ \\\\w+\\\", line).group(0)\\n\\n    # 2. Split the bag contents into strings\\n    bag_content_raw = re.findall(\\\"\\\\d+ \\\\w+ \\\\w+\\\", line)\\n\\n    # 3. Parse each entry, add to bag_content list\\n    bag_content = (\\n        []\\n    )  # Alternative: dictionary from content colour to number of that colour\\n    for item in bag_content_raw:\\n        # Add the colour to the list of bag_content colours\\n        # Ignore the number of bags for now\\n        bag_content.append(re.match(\\\"\\\\d+ (\\\\w+ \\\\w+)\\\", item).group(1))\\n\\n    return bag_colour, bag_content\\n\\n\\ndef search_gold(bags, colour):\\n    # If found\\n    if \\\"shiny gold\\\" in bags[colour]:\\n        return True\\n    # If empty\\n    elif len(bags[colour]) < 1:\\n        return False\\n    # Search deeper, return True if any contained bag returned True\\n    else:\\n        return any([search_gold(bags, x) for x in bags[colour]])\\n\\n\\n@timer\\ndef solve_A(lines):\\n    \\\"\\\"\\\"\\n    1. Parse each line to get colour and [contents],\\n    2. turn into a dict\\n    3. For key in dict (except shiny gold itself), search gold recursively\\n    4. Return number of bags containing gold\\n    \\\"\\\"\\\"\\n    # 1. Generate a list of (colour, content) tuples for each line\\n    parsed_lines = [parse_bag(line) for line in lines]\\n    # 2. Create a dictionary from the list\\n    bags_dict = dict((k, v) for k, v in parsed_lines)\\n\\n    # 3. Now, for each key in bags_dict, check for shiny gold is possible\\n    gold_inside = [\\n        search_gold(bags_dict, colour)\\n        for colour in bags_dict.keys()\\n        if colour != \\\"shiny gold\\\"\\n    ]\\n    # 4. Return the number of bag colours than can contain gold\\n    return sum(gold_inside)\";\n",
       "                var nbb_cells = Jupyter.notebook.get_cells();\n",
       "                for (var i = 0; i < nbb_cells.length; ++i) {\n",
       "                    if (nbb_cells[i].input_prompt_number == nbb_cell_id) {\n",
       "                        if (nbb_cells[i].get_text() == nbb_unformatted_code) {\n",
       "                             nbb_cells[i].set_text(nbb_formatted_code);\n",
       "                        }\n",
       "                        break;\n",
       "                    }\n",
       "                }\n",
       "            }, 500);\n",
       "            "
      ],
      "text/plain": [
       "<IPython.core.display.Javascript object>"
      ]
     },
     "metadata": {},
     "output_type": "display_data"
    }
   ],
   "source": [
    "def parse_bag(line):\n",
    "    \"\"\"\n",
    "    Read a single line, extracting the colour and allowed contents.\n",
    "    Returns a tuple of (colour, allowed content dict)\n",
    "    \"\"\"\n",
    "    # 1. Retrieve the colour\n",
    "    bag_colour = re.match(\"^\\w+ \\w+\", line).group(0)\n",
    "\n",
    "    # 2. Split the bag contents into strings\n",
    "    bag_content_raw = re.findall(\"\\d+ \\w+ \\w+\", line)\n",
    "\n",
    "    # 3. Parse each entry, add to bag_content list\n",
    "    bag_content = (\n",
    "        []\n",
    "    )  # Alternative: dictionary from content colour to number of that colour\n",
    "    for item in bag_content_raw:\n",
    "        # Add the colour to the list of bag_content colours\n",
    "        # Ignore the number of bags for now\n",
    "        bag_content.append(re.match(\"\\d+ (\\w+ \\w+)\", item).group(1))\n",
    "\n",
    "    return bag_colour, bag_content\n",
    "\n",
    "\n",
    "def search_gold(bags, colour):\n",
    "    # If found\n",
    "    if \"shiny gold\" in bags[colour]:\n",
    "        return True\n",
    "    # If empty\n",
    "    elif len(bags[colour]) < 1:\n",
    "        return False\n",
    "    # Search deeper, return True if any contained bag returned True\n",
    "    else:\n",
    "        return any([search_gold(bags, x) for x in bags[colour]])\n",
    "\n",
    "\n",
    "@timer\n",
    "def solve_A(lines):\n",
    "    \"\"\"\n",
    "    1. Parse each line to get colour and [contents],\n",
    "    2. turn into a dict\n",
    "    3. For key in dict (except shiny gold itself), search gold recursively\n",
    "    4. Return number of bags containing gold\n",
    "    \"\"\"\n",
    "    # 1. Generate a list of (colour, content) tuples for each line\n",
    "    parsed_lines = [parse_bag(line) for line in lines]\n",
    "    # 2. Create a dictionary from the list\n",
    "    bags_dict = dict((k, v) for k, v in parsed_lines)\n",
    "\n",
    "    # 3. Now, for each key in bags_dict, check for shiny gold is possible\n",
    "    gold_inside = [\n",
    "        search_gold(bags_dict, colour)\n",
    "        for colour in bags_dict.keys()\n",
    "        if colour != \"shiny gold\"\n",
    "    ]\n",
    "    # 4. Return the number of bag colours than can contain gold\n",
    "    return sum(gold_inside)"
   ]
  },
  {
   "cell_type": "markdown",
   "metadata": {},
   "source": [
    "#### Tests"
   ]
  },
  {
   "cell_type": "code",
   "execution_count": 6,
   "metadata": {},
   "outputs": [
    {
     "data": {
      "application/javascript": [
       "\n",
       "            setTimeout(function() {\n",
       "                var nbb_cell_id = 6;\n",
       "                var nbb_unformatted_code = \"%%run_pytest[clean] -qq\\n\\ndef test_A(dummy_input):\\n    assert solve_A(split_input(dummy_input)) == 4\";\n",
       "                var nbb_formatted_code = \"%%run_pytest[clean] -qq\\n\\ndef test_A(dummy_input):\\n    assert solve_A(split_input(dummy_input)) == 4\";\n",
       "                var nbb_cells = Jupyter.notebook.get_cells();\n",
       "                for (var i = 0; i < nbb_cells.length; ++i) {\n",
       "                    if (nbb_cells[i].input_prompt_number == nbb_cell_id) {\n",
       "                        if (nbb_cells[i].get_text() == nbb_unformatted_code) {\n",
       "                             nbb_cells[i].set_text(nbb_formatted_code);\n",
       "                        }\n",
       "                        break;\n",
       "                    }\n",
       "                }\n",
       "            }, 500);\n",
       "            "
      ],
      "text/plain": [
       "<IPython.core.display.Javascript object>"
      ]
     },
     "metadata": {},
     "output_type": "display_data"
    },
    {
     "name": "stdout",
     "output_type": "stream",
     "text": [
      ".                                                                                                                                                                                                                                      [100%]\n"
     ]
    },
    {
     "data": {
      "application/javascript": [
       "\n",
       "            setTimeout(function() {\n",
       "                var nbb_cell_id = 6;\n",
       "                var nbb_unformatted_code = \"%%run_pytest[clean] -qq\\n\\ndef test_A(dummy_input):\\n    assert solve_A(split_input(dummy_input)) == 4\";\n",
       "                var nbb_formatted_code = \"%%run_pytest[clean] -qq\\n\\ndef test_A(dummy_input):\\n    assert solve_A(split_input(dummy_input)) == 4\";\n",
       "                var nbb_cells = Jupyter.notebook.get_cells();\n",
       "                for (var i = 0; i < nbb_cells.length; ++i) {\n",
       "                    if (nbb_cells[i].input_prompt_number == nbb_cell_id) {\n",
       "                        if (nbb_cells[i].get_text() == nbb_unformatted_code) {\n",
       "                             nbb_cells[i].set_text(nbb_formatted_code);\n",
       "                        }\n",
       "                        break;\n",
       "                    }\n",
       "                }\n",
       "            }, 500);\n",
       "            "
      ],
      "text/plain": [
       "<IPython.core.display.Javascript object>"
      ]
     },
     "metadata": {},
     "output_type": "display_data"
    }
   ],
   "source": [
    "%%run_pytest[clean] -qq\n",
    "\n",
    "def test_A(dummy_input):\n",
    "    assert solve_A(split_input(dummy_input)) == 4"
   ]
  },
  {
   "cell_type": "markdown",
   "metadata": {},
   "source": [
    "#### OUTPUT"
   ]
  },
  {
   "cell_type": "code",
   "execution_count": 7,
   "metadata": {},
   "outputs": [
    {
     "name": "stdout",
     "output_type": "stream",
     "text": [
      "Finished 'solve_A' in 0.1230 secs\n"
     ]
    },
    {
     "data": {
      "text/plain": [
       "370"
      ]
     },
     "execution_count": 7,
     "metadata": {},
     "output_type": "execute_result"
    },
    {
     "data": {
      "application/javascript": [
       "\n",
       "            setTimeout(function() {\n",
       "                var nbb_cell_id = 7;\n",
       "                var nbb_unformatted_code = \"solve_A(get_input())\";\n",
       "                var nbb_formatted_code = \"solve_A(get_input())\";\n",
       "                var nbb_cells = Jupyter.notebook.get_cells();\n",
       "                for (var i = 0; i < nbb_cells.length; ++i) {\n",
       "                    if (nbb_cells[i].input_prompt_number == nbb_cell_id) {\n",
       "                        if (nbb_cells[i].get_text() == nbb_unformatted_code) {\n",
       "                             nbb_cells[i].set_text(nbb_formatted_code);\n",
       "                        }\n",
       "                        break;\n",
       "                    }\n",
       "                }\n",
       "            }, 500);\n",
       "            "
      ],
      "text/plain": [
       "<IPython.core.display.Javascript object>"
      ]
     },
     "metadata": {},
     "output_type": "display_data"
    }
   ],
   "source": [
    "solve_A(get_input())"
   ]
  },
  {
   "cell_type": "markdown",
   "metadata": {},
   "source": [
    "## Solution B"
   ]
  },
  {
   "cell_type": "code",
   "execution_count": 8,
   "metadata": {},
   "outputs": [
    {
     "data": {
      "application/javascript": [
       "\n",
       "            setTimeout(function() {\n",
       "                var nbb_cell_id = 8;\n",
       "                var nbb_unformatted_code = \"def parse_bag_B(line):\\n    \\\"\\\"\\\"\\n    Read a single line, extracting the colour and allowed contents.\\n\\n    Returns a tuple of (colour, allowed content dict)\\n    \\\"\\\"\\\"\\n    # 1. Retrieve the colour\\n    bag_colour = re.match(\\\"^\\\\w+ \\\\w+\\\", line).group(0)\\n\\n    # 2. Split the bag contents into strings\\n    bag_content_raw = re.findall(\\\"\\\\d+ \\\\w+ \\\\w+\\\", line)\\n\\n    # 3. Parse each entry, add to bag_content list\\n    bag_content = {}\\n    # For each item in contents_raw\\n    for item in bag_content_raw:\\n        # Get the colour and number of bags\\n        bag_content[re.match(\\\"\\\\d+ (\\\\w+ \\\\w+)\\\", item).group(1)] = int(item.split(\\\" \\\")[0])\\n\\n    return bag_colour, bag_content\\n\\n\\ndef count_bags(bags, colour):\\n    \\\"\\\"\\\"Count the number of bags inside bag of colour [colour]\\\"\\\"\\\"\\n    if bags[colour] == {}:\\n        return 0\\n    # How many bags are contained directly\\n    bags_inside = sum(bags[colour].values())\\n    # How many bags are contained recursively\\n    bags_recursively = [num * count_bags(bags, bag) for bag, num in bags[colour].items()]\\n    # Return the sum of recursively found bags plus bags directly inside\\n    return sum(bags_recursively) + bags_inside\\n    \\n\\n@timer\\ndef solve_B(lines):\\n    \\\"\\\"\\\"\\n    1. Parse each line to get colour and {content: number} dict,\\n    2. turn into a dict of bags and content dicts\\n    3. For shiny gold, count contained bags recursively\\n    4. Return number of bags inside of shiny gold\\n    \\\"\\\"\\\"\\n    # 1. Generate a list of (colour, content) tuples for each line\\n    parsed_lines = [parse_bag_B(line) for line in lines]\\n    # 2. Create a dictionary from the list\\n    bags_dict = dict((k, v) for k, v in parsed_lines)\\n    \\n    # 3. Count contained bags recursively in 'shiny gold'\\n    bags_in_shiny_gold = count_bags(bags_dict, 'shiny gold')\\n    \\n    return bags_in_shiny_gold    \";\n",
       "                var nbb_formatted_code = \"def parse_bag_B(line):\\n    \\\"\\\"\\\"\\n    Read a single line, extracting the colour and allowed contents.\\n\\n    Returns a tuple of (colour, allowed content dict)\\n    \\\"\\\"\\\"\\n    # 1. Retrieve the colour\\n    bag_colour = re.match(\\\"^\\\\w+ \\\\w+\\\", line).group(0)\\n\\n    # 2. Split the bag contents into strings\\n    bag_content_raw = re.findall(\\\"\\\\d+ \\\\w+ \\\\w+\\\", line)\\n\\n    # 3. Parse each entry, add to bag_content list\\n    bag_content = {}\\n    # For each item in contents_raw\\n    for item in bag_content_raw:\\n        # Get the colour and number of bags\\n        bag_content[re.match(\\\"\\\\d+ (\\\\w+ \\\\w+)\\\", item).group(1)] = int(item.split(\\\" \\\")[0])\\n\\n    return bag_colour, bag_content\\n\\n\\ndef count_bags(bags, colour):\\n    \\\"\\\"\\\"Count the number of bags inside bag of colour [colour]\\\"\\\"\\\"\\n    if bags[colour] == {}:\\n        return 0\\n    # How many bags are contained directly\\n    bags_inside = sum(bags[colour].values())\\n    # How many bags are contained recursively\\n    bags_recursively = [\\n        num * count_bags(bags, bag) for bag, num in bags[colour].items()\\n    ]\\n    # Return the sum of recursively found bags plus bags directly inside\\n    return sum(bags_recursively) + bags_inside\\n\\n\\n@timer\\ndef solve_B(lines):\\n    \\\"\\\"\\\"\\n    1. Parse each line to get colour and {content: number} dict,\\n    2. turn into a dict of bags and content dicts\\n    3. For shiny gold, count contained bags recursively\\n    4. Return number of bags inside of shiny gold\\n    \\\"\\\"\\\"\\n    # 1. Generate a list of (colour, content) tuples for each line\\n    parsed_lines = [parse_bag_B(line) for line in lines]\\n    # 2. Create a dictionary from the list\\n    bags_dict = dict((k, v) for k, v in parsed_lines)\\n\\n    # 3. Count contained bags recursively in 'shiny gold'\\n    bags_in_shiny_gold = count_bags(bags_dict, \\\"shiny gold\\\")\\n\\n    return bags_in_shiny_gold\";\n",
       "                var nbb_cells = Jupyter.notebook.get_cells();\n",
       "                for (var i = 0; i < nbb_cells.length; ++i) {\n",
       "                    if (nbb_cells[i].input_prompt_number == nbb_cell_id) {\n",
       "                        if (nbb_cells[i].get_text() == nbb_unformatted_code) {\n",
       "                             nbb_cells[i].set_text(nbb_formatted_code);\n",
       "                        }\n",
       "                        break;\n",
       "                    }\n",
       "                }\n",
       "            }, 500);\n",
       "            "
      ],
      "text/plain": [
       "<IPython.core.display.Javascript object>"
      ]
     },
     "metadata": {},
     "output_type": "display_data"
    }
   ],
   "source": [
    "def parse_bag_B(line):\n",
    "    \"\"\"\n",
    "    Read a single line, extracting the colour and allowed contents.\n",
    "\n",
    "    Returns a tuple of (colour, allowed content dict)\n",
    "    \"\"\"\n",
    "    # 1. Retrieve the colour\n",
    "    bag_colour = re.match(\"^\\w+ \\w+\", line).group(0)\n",
    "\n",
    "    # 2. Split the bag contents into strings\n",
    "    bag_content_raw = re.findall(\"\\d+ \\w+ \\w+\", line)\n",
    "\n",
    "    # 3. Parse each entry, add to bag_content list\n",
    "    bag_content = {}\n",
    "    # For each item in contents_raw\n",
    "    for item in bag_content_raw:\n",
    "        # Get the colour and number of bags\n",
    "        bag_content[re.match(\"\\d+ (\\w+ \\w+)\", item).group(1)] = int(item.split(\" \")[0])\n",
    "\n",
    "    return bag_colour, bag_content\n",
    "\n",
    "\n",
    "def count_bags(bags, colour):\n",
    "    \"\"\"Count the number of bags inside bag of colour [colour]\"\"\"\n",
    "    if bags[colour] == {}:\n",
    "        return 0\n",
    "    # How many bags are contained directly\n",
    "    bags_inside = sum(bags[colour].values())\n",
    "    # How many bags are contained recursively\n",
    "    bags_recursively = [\n",
    "        num * count_bags(bags, bag) for bag, num in bags[colour].items()\n",
    "    ]\n",
    "    # Return the sum of recursively found bags plus bags directly inside\n",
    "    return sum(bags_recursively) + bags_inside\n",
    "\n",
    "\n",
    "@timer\n",
    "def solve_B(lines):\n",
    "    \"\"\"\n",
    "    1. Parse each line to get colour and {content: number} dict,\n",
    "    2. turn into a dict of bags and content dicts\n",
    "    3. For shiny gold, count contained bags recursively\n",
    "    4. Return number of bags inside of shiny gold\n",
    "    \"\"\"\n",
    "    # 1. Generate a list of (colour, content) tuples for each line\n",
    "    parsed_lines = [parse_bag_B(line) for line in lines]\n",
    "    # 2. Create a dictionary from the list\n",
    "    bags_dict = dict((k, v) for k, v in parsed_lines)\n",
    "\n",
    "    # 3. Count contained bags recursively in 'shiny gold'\n",
    "    bags_in_shiny_gold = count_bags(bags_dict, \"shiny gold\")\n",
    "\n",
    "    return bags_in_shiny_gold"
   ]
  },
  {
   "cell_type": "markdown",
   "metadata": {},
   "source": [
    "#### Tests"
   ]
  },
  {
   "cell_type": "code",
   "execution_count": 9,
   "metadata": {},
   "outputs": [
    {
     "data": {
      "application/javascript": [
       "\n",
       "            setTimeout(function() {\n",
       "                var nbb_cell_id = 9;\n",
       "                var nbb_unformatted_code = \"%%run_pytest[clean] -qq\\n\\ndef test_B(dummy_input):\\n    assert solve_B(split_input(dummy_input)) == 32\";\n",
       "                var nbb_formatted_code = \"%%run_pytest[clean] -qq\\n\\ndef test_B(dummy_input):\\n    assert solve_B(split_input(dummy_input)) == 32\";\n",
       "                var nbb_cells = Jupyter.notebook.get_cells();\n",
       "                for (var i = 0; i < nbb_cells.length; ++i) {\n",
       "                    if (nbb_cells[i].input_prompt_number == nbb_cell_id) {\n",
       "                        if (nbb_cells[i].get_text() == nbb_unformatted_code) {\n",
       "                             nbb_cells[i].set_text(nbb_formatted_code);\n",
       "                        }\n",
       "                        break;\n",
       "                    }\n",
       "                }\n",
       "            }, 500);\n",
       "            "
      ],
      "text/plain": [
       "<IPython.core.display.Javascript object>"
      ]
     },
     "metadata": {},
     "output_type": "display_data"
    },
    {
     "name": "stdout",
     "output_type": "stream",
     "text": [
      ".                                                                                                                                                                                                                                      [100%]\n"
     ]
    },
    {
     "data": {
      "application/javascript": [
       "\n",
       "            setTimeout(function() {\n",
       "                var nbb_cell_id = 9;\n",
       "                var nbb_unformatted_code = \"%%run_pytest[clean] -qq\\n\\ndef test_B(dummy_input):\\n    assert solve_B(split_input(dummy_input)) == 32\";\n",
       "                var nbb_formatted_code = \"%%run_pytest[clean] -qq\\n\\ndef test_B(dummy_input):\\n    assert solve_B(split_input(dummy_input)) == 32\";\n",
       "                var nbb_cells = Jupyter.notebook.get_cells();\n",
       "                for (var i = 0; i < nbb_cells.length; ++i) {\n",
       "                    if (nbb_cells[i].input_prompt_number == nbb_cell_id) {\n",
       "                        if (nbb_cells[i].get_text() == nbb_unformatted_code) {\n",
       "                             nbb_cells[i].set_text(nbb_formatted_code);\n",
       "                        }\n",
       "                        break;\n",
       "                    }\n",
       "                }\n",
       "            }, 500);\n",
       "            "
      ],
      "text/plain": [
       "<IPython.core.display.Javascript object>"
      ]
     },
     "metadata": {},
     "output_type": "display_data"
    }
   ],
   "source": [
    "%%run_pytest[clean] -qq\n",
    "\n",
    "def test_B(dummy_input):\n",
    "    assert solve_B(split_input(dummy_input)) == 32"
   ]
  },
  {
   "cell_type": "markdown",
   "metadata": {},
   "source": [
    "#### OUTPUT"
   ]
  },
  {
   "cell_type": "code",
   "execution_count": 10,
   "metadata": {},
   "outputs": [
    {
     "name": "stdout",
     "output_type": "stream",
     "text": [
      "Finished 'solve_B' in 0.0051 secs\n"
     ]
    },
    {
     "data": {
      "text/plain": [
       "29547"
      ]
     },
     "execution_count": 10,
     "metadata": {},
     "output_type": "execute_result"
    },
    {
     "data": {
      "application/javascript": [
       "\n",
       "            setTimeout(function() {\n",
       "                var nbb_cell_id = 10;\n",
       "                var nbb_unformatted_code = \"solve_B(get_input())\";\n",
       "                var nbb_formatted_code = \"solve_B(get_input())\";\n",
       "                var nbb_cells = Jupyter.notebook.get_cells();\n",
       "                for (var i = 0; i < nbb_cells.length; ++i) {\n",
       "                    if (nbb_cells[i].input_prompt_number == nbb_cell_id) {\n",
       "                        if (nbb_cells[i].get_text() == nbb_unformatted_code) {\n",
       "                             nbb_cells[i].set_text(nbb_formatted_code);\n",
       "                        }\n",
       "                        break;\n",
       "                    }\n",
       "                }\n",
       "            }, 500);\n",
       "            "
      ],
      "text/plain": [
       "<IPython.core.display.Javascript object>"
      ]
     },
     "metadata": {},
     "output_type": "display_data"
    }
   ],
   "source": [
    "solve_B(get_input())"
   ]
  },
  {
   "cell_type": "code",
   "execution_count": null,
   "metadata": {},
   "outputs": [],
   "source": []
  }
 ],
 "metadata": {
  "kernelspec": {
   "display_name": "Python [conda env:aoc20_36] *",
   "language": "python",
   "name": "conda-env-aoc20_36-py"
  },
  "language_info": {
   "codemirror_mode": {
    "name": "ipython",
    "version": 3
   },
   "file_extension": ".py",
   "mimetype": "text/x-python",
   "name": "python",
   "nbconvert_exporter": "python",
   "pygments_lexer": "ipython3",
   "version": "3.6.12"
  }
 },
 "nbformat": 4,
 "nbformat_minor": 4
}
