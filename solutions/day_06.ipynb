{
 "cells": [
  {
   "cell_type": "markdown",
   "metadata": {},
   "source": [
    "# Day 6"
   ]
  },
  {
   "cell_type": "markdown",
   "metadata": {},
   "source": [
    "## GENERIC SETUP"
   ]
  },
  {
   "cell_type": "code",
   "execution_count": 1,
   "metadata": {},
   "outputs": [
    {
     "data": {
      "application/javascript": [
       "\n",
       "            setTimeout(function() {\n",
       "                var nbb_cell_id = 1;\n",
       "                var nbb_unformatted_code = \"# General imports\\nimport pytest\\nimport ipytest\\nimport time\\nimport functools\\n\\n# Setup ipytest\\nipytest.autoconfig()\\n\\n# Setup nb_black\\n%load_ext nb_black\\n\\n# Decorator to time solutions\\ndef timer(func):\\n    \\\"\\\"\\\"\\n    Wrapper function.\\n    Print the runtime of the decorated function.\\n    \\\"\\\"\\\"\\n\\n    @functools.wraps(func)\\n    def wrapper_timer(*args, **kwargs):\\n        start_time = time.perf_counter()  # 1\\n        value = func(*args, **kwargs)\\n        end_time = time.perf_counter()  # 2\\n        run_time = end_time - start_time  # 3\\n        print(f\\\"Finished {func.__name__!r} in {run_time:.4f} secs\\\")\\n        return value\\n\\n    return wrapper_timer\";\n",
       "                var nbb_formatted_code = \"# General imports\\nimport pytest\\nimport ipytest\\nimport time\\nimport functools\\n\\n# Setup ipytest\\nipytest.autoconfig()\\n\\n# Setup nb_black\\n%load_ext nb_black\\n\\n# Decorator to time solutions\\ndef timer(func):\\n    \\\"\\\"\\\"\\n    Wrapper function.\\n    Print the runtime of the decorated function.\\n    \\\"\\\"\\\"\\n\\n    @functools.wraps(func)\\n    def wrapper_timer(*args, **kwargs):\\n        start_time = time.perf_counter()  # 1\\n        value = func(*args, **kwargs)\\n        end_time = time.perf_counter()  # 2\\n        run_time = end_time - start_time  # 3\\n        print(f\\\"Finished {func.__name__!r} in {run_time:.4f} secs\\\")\\n        return value\\n\\n    return wrapper_timer\";\n",
       "                var nbb_cells = Jupyter.notebook.get_cells();\n",
       "                for (var i = 0; i < nbb_cells.length; ++i) {\n",
       "                    if (nbb_cells[i].input_prompt_number == nbb_cell_id) {\n",
       "                        if (nbb_cells[i].get_text() == nbb_unformatted_code) {\n",
       "                             nbb_cells[i].set_text(nbb_formatted_code);\n",
       "                        }\n",
       "                        break;\n",
       "                    }\n",
       "                }\n",
       "            }, 500);\n",
       "            "
      ],
      "text/plain": [
       "<IPython.core.display.Javascript object>"
      ]
     },
     "metadata": {},
     "output_type": "display_data"
    }
   ],
   "source": [
    "# General imports\n",
    "import pytest\n",
    "import ipytest\n",
    "import time\n",
    "import functools\n",
    "\n",
    "# Setup ipytest\n",
    "ipytest.autoconfig()\n",
    "\n",
    "# Setup nb_black\n",
    "%load_ext nb_black\n",
    "\n",
    "# Decorator to time solutions\n",
    "def timer(func):\n",
    "    \"\"\"\n",
    "    Wrapper function.\n",
    "    Print the runtime of the decorated function.\n",
    "    \"\"\"\n",
    "\n",
    "    @functools.wraps(func)\n",
    "    def wrapper_timer(*args, **kwargs):\n",
    "        start_time = time.perf_counter()  # 1\n",
    "        value = func(*args, **kwargs)\n",
    "        end_time = time.perf_counter()  # 2\n",
    "        run_time = end_time - start_time  # 3\n",
    "        print(f\"Finished {func.__name__!r} in {run_time:.4f} secs\")\n",
    "        return value\n",
    "\n",
    "    return wrapper_timer"
   ]
  },
  {
   "cell_type": "markdown",
   "metadata": {},
   "source": [
    "## SOLUTION SETUP"
   ]
  },
  {
   "cell_type": "code",
   "execution_count": 32,
   "metadata": {},
   "outputs": [
    {
     "data": {
      "application/javascript": [
       "\n",
       "            setTimeout(function() {\n",
       "                var nbb_cell_id = 32;\n",
       "                var nbb_unformatted_code = \"# Solution-specific imports\\nimport re\\nfrom functools import reduce\\n\\n# What day do we solve? Used to identify the input datafile, integer value\\nDAY = 6\";\n",
       "                var nbb_formatted_code = \"# Solution-specific imports\\nimport re\\nfrom functools import reduce\\n\\n# What day do we solve? Used to identify the input datafile, integer value\\nDAY = 6\";\n",
       "                var nbb_cells = Jupyter.notebook.get_cells();\n",
       "                for (var i = 0; i < nbb_cells.length; ++i) {\n",
       "                    if (nbb_cells[i].input_prompt_number == nbb_cell_id) {\n",
       "                        if (nbb_cells[i].get_text() == nbb_unformatted_code) {\n",
       "                             nbb_cells[i].set_text(nbb_formatted_code);\n",
       "                        }\n",
       "                        break;\n",
       "                    }\n",
       "                }\n",
       "            }, 500);\n",
       "            "
      ],
      "text/plain": [
       "<IPython.core.display.Javascript object>"
      ]
     },
     "metadata": {},
     "output_type": "display_data"
    }
   ],
   "source": [
    "# Solution-specific imports\n",
    "import re\n",
    "from functools import reduce\n",
    "\n",
    "# What day do we solve? Used to identify the input datafile, integer value\n",
    "DAY = 6"
   ]
  },
  {
   "cell_type": "markdown",
   "metadata": {},
   "source": [
    "#### I/O functions"
   ]
  },
  {
   "cell_type": "code",
   "execution_count": 3,
   "metadata": {},
   "outputs": [
    {
     "data": {
      "application/javascript": [
       "\n",
       "            setTimeout(function() {\n",
       "                var nbb_cell_id = 3;\n",
       "                var nbb_unformatted_code = \"def get_input():\\n    with open(f\\\"../data/{DAY}.txt\\\", \\\"r\\\") as f:\\n        return split_input(f.read())\\n\\n\\ndef split_input(input_raw):\\n    \\\"\\\"\\\"\\n    Strip trailing newline,\\n    then split on double newline to separate groups of travelers\\n    \\\"\\\"\\\"\\n    return (line.strip() for line in input_raw.rstrip().split(\\\"\\\\n\\\\n\\\"))\";\n",
       "                var nbb_formatted_code = \"def get_input():\\n    with open(f\\\"../data/{DAY}.txt\\\", \\\"r\\\") as f:\\n        return split_input(f.read())\\n\\n\\ndef split_input(input_raw):\\n    \\\"\\\"\\\"\\n    Strip trailing newline,\\n    then split on double newline to separate groups of travelers\\n    \\\"\\\"\\\"\\n    return (line.strip() for line in input_raw.rstrip().split(\\\"\\\\n\\\\n\\\"))\";\n",
       "                var nbb_cells = Jupyter.notebook.get_cells();\n",
       "                for (var i = 0; i < nbb_cells.length; ++i) {\n",
       "                    if (nbb_cells[i].input_prompt_number == nbb_cell_id) {\n",
       "                        if (nbb_cells[i].get_text() == nbb_unformatted_code) {\n",
       "                             nbb_cells[i].set_text(nbb_formatted_code);\n",
       "                        }\n",
       "                        break;\n",
       "                    }\n",
       "                }\n",
       "            }, 500);\n",
       "            "
      ],
      "text/plain": [
       "<IPython.core.display.Javascript object>"
      ]
     },
     "metadata": {},
     "output_type": "display_data"
    }
   ],
   "source": [
    "def get_input():\n",
    "    with open(f\"../data/{DAY}.txt\", \"r\") as f:\n",
    "        return split_input(f.read())\n",
    "\n",
    "\n",
    "def split_input(input_raw):\n",
    "    \"\"\"\n",
    "    Strip trailing newline,\n",
    "    then split on double newline to separate groups of travelers\n",
    "    \"\"\"\n",
    "    return (line.strip() for line in input_raw.rstrip().split(\"\\n\\n\"))"
   ]
  },
  {
   "cell_type": "markdown",
   "metadata": {},
   "source": [
    "#### Pytest input data"
   ]
  },
  {
   "cell_type": "code",
   "execution_count": 4,
   "metadata": {},
   "outputs": [
    {
     "data": {
      "application/javascript": [
       "\n",
       "            setTimeout(function() {\n",
       "                var nbb_cell_id = 4;\n",
       "                var nbb_unformatted_code = \"# Sample input\\n@pytest.fixture\\ndef dummy_input():\\n    return \\\"\\\"\\\"\\\\\\nabc\\n\\na\\nb\\nc\\n\\nab\\nac\\n\\na\\na\\na\\na\\n\\nb\\n\\\"\\\"\\\"\";\n",
       "                var nbb_formatted_code = \"# Sample input\\n@pytest.fixture\\ndef dummy_input():\\n    return \\\"\\\"\\\"\\\\\\nabc\\n\\na\\nb\\nc\\n\\nab\\nac\\n\\na\\na\\na\\na\\n\\nb\\n\\\"\\\"\\\"\";\n",
       "                var nbb_cells = Jupyter.notebook.get_cells();\n",
       "                for (var i = 0; i < nbb_cells.length; ++i) {\n",
       "                    if (nbb_cells[i].input_prompt_number == nbb_cell_id) {\n",
       "                        if (nbb_cells[i].get_text() == nbb_unformatted_code) {\n",
       "                             nbb_cells[i].set_text(nbb_formatted_code);\n",
       "                        }\n",
       "                        break;\n",
       "                    }\n",
       "                }\n",
       "            }, 500);\n",
       "            "
      ],
      "text/plain": [
       "<IPython.core.display.Javascript object>"
      ]
     },
     "metadata": {},
     "output_type": "display_data"
    }
   ],
   "source": [
    "# Sample input\n",
    "@pytest.fixture\n",
    "def dummy_input():\n",
    "    return \"\"\"\\\n",
    "abc\n",
    "\n",
    "a\n",
    "b\n",
    "c\n",
    "\n",
    "ab\n",
    "ac\n",
    "\n",
    "a\n",
    "a\n",
    "a\n",
    "a\n",
    "\n",
    "b\n",
    "\"\"\""
   ]
  },
  {
   "cell_type": "markdown",
   "metadata": {},
   "source": [
    "## Solution A"
   ]
  },
  {
   "cell_type": "code",
   "execution_count": 28,
   "metadata": {
    "scrolled": true
   },
   "outputs": [
    {
     "data": {
      "application/javascript": [
       "\n",
       "            setTimeout(function() {\n",
       "                var nbb_cell_id = 28;\n",
       "                var nbb_unformatted_code = \"def count_any(group):\\n    \\\"\\\"\\\"\\n    Per group, get the number of unique characters excl. whitespace\\n    \\\"\\\"\\\"\\n    # remove whitespace and newlines\\n    cleaned_group = re.sub(\\\"[^\\\\w]\\\", \\\"\\\", group)\\n    # generate a set of characters in cleaned_group\\n    unique_group = set(char for char in cleaned_group)\\n    # Return number of unique questions in group\\n    return len(unique_group)\\n\\n\\n@timer\\ndef solve_A(groups):\\n    \\\"\\\"\\\"\\n    IMPLEMENT ME\\n    \\\"\\\"\\\"\\n    unique_per_group = map(count_any, groups)\\n    return sum(unique_per_group)\";\n",
       "                var nbb_formatted_code = \"def count_any(group):\\n    \\\"\\\"\\\"\\n    Per group, get the number of unique characters excl. whitespace\\n    \\\"\\\"\\\"\\n    # remove whitespace and newlines\\n    cleaned_group = re.sub(\\\"[^\\\\w]\\\", \\\"\\\", group)\\n    # generate a set of characters in cleaned_group\\n    unique_group = set(char for char in cleaned_group)\\n    # Return number of unique questions in group\\n    return len(unique_group)\\n\\n\\n@timer\\ndef solve_A(groups):\\n    \\\"\\\"\\\"\\n    IMPLEMENT ME\\n    \\\"\\\"\\\"\\n    unique_per_group = map(count_any, groups)\\n    return sum(unique_per_group)\";\n",
       "                var nbb_cells = Jupyter.notebook.get_cells();\n",
       "                for (var i = 0; i < nbb_cells.length; ++i) {\n",
       "                    if (nbb_cells[i].input_prompt_number == nbb_cell_id) {\n",
       "                        if (nbb_cells[i].get_text() == nbb_unformatted_code) {\n",
       "                             nbb_cells[i].set_text(nbb_formatted_code);\n",
       "                        }\n",
       "                        break;\n",
       "                    }\n",
       "                }\n",
       "            }, 500);\n",
       "            "
      ],
      "text/plain": [
       "<IPython.core.display.Javascript object>"
      ]
     },
     "metadata": {},
     "output_type": "display_data"
    }
   ],
   "source": [
    "def count_any(group):\n",
    "    \"\"\"\n",
    "    Per group:\n",
    "    1. Get the characters characters excl. whitespace using regex\n",
    "    2. Generate a set of the individual characters within the group\n",
    "    \n",
    "    Output: Length of the set of individual characters\n",
    "    \"\"\"\n",
    "    # remove whitespace and newlines\n",
    "    cleaned_group = re.sub(\"[^\\w]\", \"\", group)\n",
    "    # generate a set of characters in cleaned_group\n",
    "    unique_group = set(char for char in cleaned_group)\n",
    "    # Return number of unique questions in group\n",
    "    return len(unique_group)\n",
    "\n",
    "\n",
    "@timer\n",
    "def solve_A(groups):\n",
    "    \"\"\"\n",
    "    Input: a list of groups' responses\n",
    "    1. Determine the number of questions provided by anyone in the group\n",
    "    \n",
    "    Output: Sum the list of number of questions\n",
    "    \"\"\"\n",
    "    unique_per_group = map(count_any, groups)\n",
    "    return sum(unique_per_group)"
   ]
  },
  {
   "cell_type": "markdown",
   "metadata": {},
   "source": [
    "#### Tests"
   ]
  },
  {
   "cell_type": "code",
   "execution_count": 29,
   "metadata": {},
   "outputs": [
    {
     "data": {
      "application/javascript": [
       "\n",
       "            setTimeout(function() {\n",
       "                var nbb_cell_id = 29;\n",
       "                var nbb_unformatted_code = \"%%run_pytest[clean] -qq\\n\\ndef test_A(dummy_input):\\n    assert solve_A(split_input(dummy_input)) == 11\";\n",
       "                var nbb_formatted_code = \"%%run_pytest[clean] -qq\\n\\ndef test_A(dummy_input):\\n    assert solve_A(split_input(dummy_input)) == 11\";\n",
       "                var nbb_cells = Jupyter.notebook.get_cells();\n",
       "                for (var i = 0; i < nbb_cells.length; ++i) {\n",
       "                    if (nbb_cells[i].input_prompt_number == nbb_cell_id) {\n",
       "                        if (nbb_cells[i].get_text() == nbb_unformatted_code) {\n",
       "                             nbb_cells[i].set_text(nbb_formatted_code);\n",
       "                        }\n",
       "                        break;\n",
       "                    }\n",
       "                }\n",
       "            }, 500);\n",
       "            "
      ],
      "text/plain": [
       "<IPython.core.display.Javascript object>"
      ]
     },
     "metadata": {},
     "output_type": "display_data"
    },
    {
     "name": "stdout",
     "output_type": "stream",
     "text": [
      ".                                                                                                                                                                                                                                      [100%]\n"
     ]
    },
    {
     "data": {
      "application/javascript": [
       "\n",
       "            setTimeout(function() {\n",
       "                var nbb_cell_id = 29;\n",
       "                var nbb_unformatted_code = \"%%run_pytest[clean] -qq\\n\\ndef test_A(dummy_input):\\n    assert solve_A(split_input(dummy_input)) == 11\";\n",
       "                var nbb_formatted_code = \"%%run_pytest[clean] -qq\\n\\ndef test_A(dummy_input):\\n    assert solve_A(split_input(dummy_input)) == 11\";\n",
       "                var nbb_cells = Jupyter.notebook.get_cells();\n",
       "                for (var i = 0; i < nbb_cells.length; ++i) {\n",
       "                    if (nbb_cells[i].input_prompt_number == nbb_cell_id) {\n",
       "                        if (nbb_cells[i].get_text() == nbb_unformatted_code) {\n",
       "                             nbb_cells[i].set_text(nbb_formatted_code);\n",
       "                        }\n",
       "                        break;\n",
       "                    }\n",
       "                }\n",
       "            }, 500);\n",
       "            "
      ],
      "text/plain": [
       "<IPython.core.display.Javascript object>"
      ]
     },
     "metadata": {},
     "output_type": "display_data"
    }
   ],
   "source": [
    "%%run_pytest[clean] -qq\n",
    "\n",
    "def test_A(dummy_input):\n",
    "    assert solve_A(split_input(dummy_input)) == 11"
   ]
  },
  {
   "cell_type": "markdown",
   "metadata": {},
   "source": [
    "#### OUTPUT"
   ]
  },
  {
   "cell_type": "code",
   "execution_count": 27,
   "metadata": {},
   "outputs": [
    {
     "name": "stdout",
     "output_type": "stream",
     "text": [
      "Finished 'solve_A' in 0.0030 secs\n"
     ]
    },
    {
     "data": {
      "text/plain": [
       "7120"
      ]
     },
     "execution_count": 27,
     "metadata": {},
     "output_type": "execute_result"
    },
    {
     "data": {
      "application/javascript": [
       "\n",
       "            setTimeout(function() {\n",
       "                var nbb_cell_id = 27;\n",
       "                var nbb_unformatted_code = \"solve_A(get_input())\";\n",
       "                var nbb_formatted_code = \"solve_A(get_input())\";\n",
       "                var nbb_cells = Jupyter.notebook.get_cells();\n",
       "                for (var i = 0; i < nbb_cells.length; ++i) {\n",
       "                    if (nbb_cells[i].input_prompt_number == nbb_cell_id) {\n",
       "                        if (nbb_cells[i].get_text() == nbb_unformatted_code) {\n",
       "                             nbb_cells[i].set_text(nbb_formatted_code);\n",
       "                        }\n",
       "                        break;\n",
       "                    }\n",
       "                }\n",
       "            }, 500);\n",
       "            "
      ],
      "text/plain": [
       "<IPython.core.display.Javascript object>"
      ]
     },
     "metadata": {},
     "output_type": "display_data"
    }
   ],
   "source": [
    "solve_A(get_input())"
   ]
  },
  {
   "cell_type": "markdown",
   "metadata": {},
   "source": [
    "## Solution B"
   ]
  },
  {
   "cell_type": "code",
   "execution_count": 35,
   "metadata": {},
   "outputs": [
    {
     "data": {
      "application/javascript": [
       "\n",
       "            setTimeout(function() {\n",
       "                var nbb_cell_id = 35;\n",
       "                var nbb_unformatted_code = \"def count_all(group):\\n    \\\"\\\"\\\"\\n    Per group, get the number of unique characters excl. whitespace\\n    \\\"\\\"\\\"\\n    # get all persons' responses per group\\n    response_list = re.findall(\\\"([^\\\\W]+)\\\", group)\\n    # Get the intersection of all responses\\n    common_questions = reduce(set.intersection, map(set, response_list))\\n    # Return the number of common questions\\n    return len(common_questions)\\n\\n@timer\\ndef solve_B(groups):\\n    \\\"\\\"\\\"\\n    IMPLEMENT ME\\n    \\\"\\\"\\\"\\n    all_per_group = map(count_all, groups)\\n    return sum(all_per_group)\";\n",
       "                var nbb_formatted_code = \"def count_all(group):\\n    \\\"\\\"\\\"\\n    Per group, get the number of unique characters excl. whitespace\\n    \\\"\\\"\\\"\\n    # get all persons' responses per group\\n    response_list = re.findall(\\\"([^\\\\W]+)\\\", group)\\n    # Get the intersection of all responses\\n    common_questions = reduce(set.intersection, map(set, response_list))\\n    # Return the number of common questions\\n    return len(common_questions)\\n\\n\\n@timer\\ndef solve_B(groups):\\n    \\\"\\\"\\\"\\n    IMPLEMENT ME\\n    \\\"\\\"\\\"\\n    all_per_group = map(count_all, groups)\\n    return sum(all_per_group)\";\n",
       "                var nbb_cells = Jupyter.notebook.get_cells();\n",
       "                for (var i = 0; i < nbb_cells.length; ++i) {\n",
       "                    if (nbb_cells[i].input_prompt_number == nbb_cell_id) {\n",
       "                        if (nbb_cells[i].get_text() == nbb_unformatted_code) {\n",
       "                             nbb_cells[i].set_text(nbb_formatted_code);\n",
       "                        }\n",
       "                        break;\n",
       "                    }\n",
       "                }\n",
       "            }, 500);\n",
       "            "
      ],
      "text/plain": [
       "<IPython.core.display.Javascript object>"
      ]
     },
     "metadata": {},
     "output_type": "display_data"
    }
   ],
   "source": [
    "def count_all(group):\n",
    "    \"\"\"\n",
    "    Per group:\n",
    "    1. Split the groups response into a list of peoples' responses\n",
    "    2. Calculate the set intersection over the peoples' responses\n",
    "    \n",
    "    Output: Return the length of the resulting set\n",
    "    \"\"\"\n",
    "    # get all persons' responses per group\n",
    "    response_list = re.findall(\"([^\\W]+)\", group)\n",
    "    # Get the intersection of all responses\n",
    "    common_questions = reduce(set.intersection, map(set, response_list))\n",
    "    # Return the number of common questions\n",
    "    return len(common_questions)\n",
    "\n",
    "@timer\n",
    "def solve_B(groups):\n",
    "    \"\"\"\n",
    "    input: A list of groups' responses\n",
    "    1. Determine the count of common questions within each group\n",
    "    \n",
    "    Output: The sum of each group's number of common questions\n",
    "    \"\"\"\n",
    "    all_per_group = map(count_all, groups)\n",
    "    return sum(all_per_group)\n"
   ]
  },
  {
   "cell_type": "markdown",
   "metadata": {},
   "source": [
    "#### Tests"
   ]
  },
  {
   "cell_type": "code",
   "execution_count": 36,
   "metadata": {},
   "outputs": [
    {
     "data": {
      "application/javascript": [
       "\n",
       "            setTimeout(function() {\n",
       "                var nbb_cell_id = 36;\n",
       "                var nbb_unformatted_code = \"%%run_pytest[clean] -qq\\n\\ndef test_B(dummy_input):\\n    assert solve_B(split_input(dummy_input)) == 6\";\n",
       "                var nbb_formatted_code = \"%%run_pytest[clean] -qq\\n\\ndef test_B(dummy_input):\\n    assert solve_B(split_input(dummy_input)) == 6\";\n",
       "                var nbb_cells = Jupyter.notebook.get_cells();\n",
       "                for (var i = 0; i < nbb_cells.length; ++i) {\n",
       "                    if (nbb_cells[i].input_prompt_number == nbb_cell_id) {\n",
       "                        if (nbb_cells[i].get_text() == nbb_unformatted_code) {\n",
       "                             nbb_cells[i].set_text(nbb_formatted_code);\n",
       "                        }\n",
       "                        break;\n",
       "                    }\n",
       "                }\n",
       "            }, 500);\n",
       "            "
      ],
      "text/plain": [
       "<IPython.core.display.Javascript object>"
      ]
     },
     "metadata": {},
     "output_type": "display_data"
    },
    {
     "name": "stdout",
     "output_type": "stream",
     "text": [
      ".                                                                                                                                                                                                                                      [100%]\n"
     ]
    },
    {
     "data": {
      "application/javascript": [
       "\n",
       "            setTimeout(function() {\n",
       "                var nbb_cell_id = 36;\n",
       "                var nbb_unformatted_code = \"%%run_pytest[clean] -qq\\n\\ndef test_B(dummy_input):\\n    assert solve_B(split_input(dummy_input)) == 6\";\n",
       "                var nbb_formatted_code = \"%%run_pytest[clean] -qq\\n\\ndef test_B(dummy_input):\\n    assert solve_B(split_input(dummy_input)) == 6\";\n",
       "                var nbb_cells = Jupyter.notebook.get_cells();\n",
       "                for (var i = 0; i < nbb_cells.length; ++i) {\n",
       "                    if (nbb_cells[i].input_prompt_number == nbb_cell_id) {\n",
       "                        if (nbb_cells[i].get_text() == nbb_unformatted_code) {\n",
       "                             nbb_cells[i].set_text(nbb_formatted_code);\n",
       "                        }\n",
       "                        break;\n",
       "                    }\n",
       "                }\n",
       "            }, 500);\n",
       "            "
      ],
      "text/plain": [
       "<IPython.core.display.Javascript object>"
      ]
     },
     "metadata": {},
     "output_type": "display_data"
    }
   ],
   "source": [
    "%%run_pytest[clean] -qq\n",
    "\n",
    "def test_B(dummy_input):\n",
    "    assert solve_B(split_input(dummy_input)) == 6"
   ]
  },
  {
   "cell_type": "markdown",
   "metadata": {},
   "source": [
    "#### OUTPUT"
   ]
  },
  {
   "cell_type": "code",
   "execution_count": 37,
   "metadata": {},
   "outputs": [
    {
     "name": "stdout",
     "output_type": "stream",
     "text": [
      "Finished 'solve_B' in 0.0034 secs\n"
     ]
    },
    {
     "data": {
      "text/plain": [
       "3570"
      ]
     },
     "execution_count": 37,
     "metadata": {},
     "output_type": "execute_result"
    },
    {
     "data": {
      "application/javascript": [
       "\n",
       "            setTimeout(function() {\n",
       "                var nbb_cell_id = 37;\n",
       "                var nbb_unformatted_code = \"solve_B(get_input())\";\n",
       "                var nbb_formatted_code = \"solve_B(get_input())\";\n",
       "                var nbb_cells = Jupyter.notebook.get_cells();\n",
       "                for (var i = 0; i < nbb_cells.length; ++i) {\n",
       "                    if (nbb_cells[i].input_prompt_number == nbb_cell_id) {\n",
       "                        if (nbb_cells[i].get_text() == nbb_unformatted_code) {\n",
       "                             nbb_cells[i].set_text(nbb_formatted_code);\n",
       "                        }\n",
       "                        break;\n",
       "                    }\n",
       "                }\n",
       "            }, 500);\n",
       "            "
      ],
      "text/plain": [
       "<IPython.core.display.Javascript object>"
      ]
     },
     "metadata": {},
     "output_type": "display_data"
    }
   ],
   "source": [
    "solve_B(get_input())"
   ]
  }
 ],
 "metadata": {
  "kernelspec": {
   "display_name": "Python [conda env:aoc20_36] *",
   "language": "python",
   "name": "conda-env-aoc20_36-py"
  },
  "language_info": {
   "codemirror_mode": {
    "name": "ipython",
    "version": 3
   },
   "file_extension": ".py",
   "mimetype": "text/x-python",
   "name": "python",
   "nbconvert_exporter": "python",
   "pygments_lexer": "ipython3",
   "version": "3.6.12"
  }
 },
 "nbformat": 4,
 "nbformat_minor": 4
}
